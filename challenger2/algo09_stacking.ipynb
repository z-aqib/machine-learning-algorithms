{
 "cells": [
  {
   "cell_type": "markdown",
   "id": "de03d0ed-dcd3-48e5-8c5f-e6fae9d475bf",
   "metadata": {
    "papermill": {
     "duration": 0.013014,
     "end_time": "2024-11-07T20:19:46.538794",
     "exception": false,
     "start_time": "2024-11-07T20:19:46.525780",
     "status": "completed"
    },
    "tags": []
   },
   "source": [
    "# Importing Libraries\n",
    "\n",
    "\n",
    "\n",
    "in this part we will install all the necessary libraries on command prompt and then import the necessary functions from those libraries. "
   ]
  },
  {
   "cell_type": "code",
   "execution_count": null,
   "id": "bd54b756",
   "metadata": {
    "execution": {
     "iopub.execute_input": "2024-12-01T19:06:51.028290Z",
     "iopub.status.busy": "2024-12-01T19:06:51.027871Z",
     "iopub.status.idle": "2024-12-01T19:06:52.711447Z",
     "shell.execute_reply": "2024-12-01T19:06:52.710290Z",
     "shell.execute_reply.started": "2024-12-01T19:06:51.028227Z"
    },
    "papermill": {
     "duration": 5.853121,
     "end_time": "2024-11-07T20:19:52.405091",
     "exception": false,
     "start_time": "2024-11-07T20:19:46.551970",
     "status": "completed"
    },
    "tags": [],
    "trusted": true
   },
   "outputs": [],
   "source": [
    "# importing all the necessary libraries\n",
    "\n",
    "\n",
    "\n",
    "import pandas as pd\n",
    "\n",
    "\n",
    "\n",
    "\n",
    "\n",
    "\n",
    "\n",
    "from numpy import mean\n",
    "\n",
    "\n",
    "\n",
    "import numpy as np\n",
    "\n",
    "\n",
    "\n",
    "import time\n",
    "\n",
    "\n",
    "\n",
    "\n",
    "\n",
    "\n",
    "\n",
    "# step 1: preprocessing\n",
    "\n",
    "\n",
    "\n",
    "from sklearn.impute import SimpleImputer # import some strategic imputer to fill in any missing values using mean\n",
    "\n",
    "\n",
    "\n",
    "from sklearn.preprocessing import MinMaxScaler, StandardScaler, MaxAbsScaler, RobustScaler, Normalizer # scale all the values to one range to avoid any biasness (this bias is seen in mostly naive bayes and knn etc)\n",
    "\n",
    "\n",
    "\n",
    "\n",
    "\n",
    "\n",
    "\n",
    "from sklearn.impute import KNNImputer # import some strategic imputer to fill missing values using KNN (finds the nearest neighbour and fills it with that value)\n",
    "\n",
    "\n",
    "\n",
    "\n",
    "\n",
    "\n",
    "\n",
    "from sklearn.feature_selection import SequentialFeatureSelector, SelectKBest, f_classif, VarianceThreshold\n",
    "\n",
    "\n",
    "\n",
    "from sklearn.feature_selection import f_regression\n",
    "\n",
    "\n",
    "\n",
    "from sklearn.decomposition import PCA\n",
    "\n",
    "\n",
    "\n",
    "from sklearn.compose import ColumnTransformer\n",
    "\n",
    "\n",
    "\n",
    "from sklearn.preprocessing import PolynomialFeatures, OneHotEncoder\n",
    "\n",
    "\n",
    "\n",
    "from sklearn.pipeline import Pipeline\n",
    "\n",
    "\n",
    "\n",
    "from sklearn.linear_model import Ridge, Lasso, LinearRegression\n",
    "\n",
    "\n",
    "\n",
    "\n",
    "\n",
    "\n",
    "\n",
    "# step 2: data division\n",
    "\n",
    "\n",
    "\n",
    "from sklearn.model_selection import train_test_split, RepeatedKFold, cross_val_score, GridSearchCV, ParameterGrid # to divide the code into train/test using a specific percentage or with/without replacement\n",
    "\n",
    "\n",
    "\n",
    "\n",
    "\n",
    "\n",
    "\n",
    "# step 3: model\n",
    "\n",
    "\n",
    "\n",
    "from xgboost import XGBRegressor\n",
    "\n",
    "from sklearn.tree import DecisionTreeRegressor\n",
    "\n",
    "from sklearn.ensemble import RandomForestRegressor, StackingRegressor\n",
    "\n",
    "from sklearn.ensemble import GradientBoostingRegressor\n",
    "\n",
    "from sklearn.ensemble import AdaBoostRegressor\n",
    "\n",
    "from sklearn.pipeline import Pipeline\n",
    "\n",
    "from sklearn.neighbors import KNeighborsRegressor\n",
    "\n",
    "\n",
    "\n",
    "\n",
    "\n",
    "# step 4: displaying accuracy\n",
    "\n",
    "\n",
    "\n",
    "from sklearn.metrics import roc_auc_score, accuracy_score # to display the accuracy of our tree\n",
    "\n",
    "\n",
    "\n",
    "from sklearn.metrics import mean_squared_error, r2_score, mean_absolute_error, make_scorer\n",
    "\n",
    "\n",
    "\n",
    "\n",
    "\n",
    "\n",
    "\n",
    "# step 5: warning filter\n",
    "\n",
    "\n",
    "\n",
    "import warnings\n",
    "\n",
    "\n",
    "\n",
    "warnings.filterwarnings('ignore')\n"
   ]
  },
  {
   "cell_type": "code",
   "execution_count": null,
   "id": "18014263",
   "metadata": {
    "execution": {
     "iopub.execute_input": "2024-12-01T19:06:52.713508Z",
     "iopub.status.busy": "2024-12-01T19:06:52.713075Z",
     "iopub.status.idle": "2024-12-01T19:06:52.718724Z",
     "shell.execute_reply": "2024-12-01T19:06:52.717648Z",
     "shell.execute_reply.started": "2024-12-01T19:06:52.713477Z"
    },
    "trusted": true
   },
   "outputs": [],
   "source": [
    "from datetime import datetime\n",
    "\n",
    "\n",
    "\n",
    "\n",
    "\n",
    "\n",
    "\n",
    "# Function to get current date and time as a string\n",
    "\n",
    "\n",
    "\n",
    "def get_current_datetime():\n",
    "\n",
    "\n",
    "\n",
    "    return datetime.now().strftime(\"%Y-%m-%d %H:%M:%S\")\n"
   ]
  },
  {
   "cell_type": "markdown",
   "id": "3912ca3f",
   "metadata": {
    "papermill": {
     "duration": 0.011237,
     "end_time": "2024-11-07T20:19:52.458899",
     "exception": false,
     "start_time": "2024-11-07T20:19:52.447662",
     "status": "completed"
    },
    "tags": []
   },
   "source": [
    "# Data Loading\n",
    "\n",
    "\n",
    "\n",
    "data shall be loaded into variables as data sets using pandas and csv readers. they will be checked to see if they are loaded properly and will be loaded as 2 sets: train and test as per given in the kaggle data"
   ]
  },
  {
   "cell_type": "code",
   "execution_count": null,
   "id": "d9125e82",
   "metadata": {
    "execution": {
     "iopub.execute_input": "2024-12-01T19:06:52.720595Z",
     "iopub.status.busy": "2024-12-01T19:06:52.720151Z",
     "iopub.status.idle": "2024-12-01T19:07:07.559696Z",
     "shell.execute_reply": "2024-12-01T19:07:07.558325Z",
     "shell.execute_reply.started": "2024-12-01T19:06:52.720527Z"
    },
    "papermill": {
     "duration": 4.591761,
     "end_time": "2024-11-07T20:19:57.062353",
     "exception": false,
     "start_time": "2024-11-07T20:19:52.470592",
     "status": "completed"
    },
    "tags": [],
    "trusted": true
   },
   "outputs": [],
   "source": [
    "# lets load the training data set\n",
    "\n",
    "\n",
    "\n",
    "# train_data = pd.read_csv(r\"/kaggle/input/challenge-2/train/train.csv\")\n",
    "\n",
    "\n",
    "\n",
    "train_data = pd.read_csv(r\"/kaggle/input/challenge2/train.csv\")\n",
    "\n",
    "\n",
    "\n",
    "# lets also check it by getting the first few rows of the data, there should be x1 - x78 and one target variable Y\n",
    "\n",
    "\n",
    "\n",
    "train_data.head() \n"
   ]
  },
  {
   "cell_type": "code",
   "execution_count": null,
   "id": "01f55297",
   "metadata": {
    "execution": {
     "iopub.execute_input": "2024-12-01T19:07:07.562379Z",
     "iopub.status.busy": "2024-12-01T19:07:07.562028Z",
     "iopub.status.idle": "2024-12-01T19:07:15.143189Z",
     "shell.execute_reply": "2024-12-01T19:07:15.141967Z",
     "shell.execute_reply.started": "2024-12-01T19:07:07.562346Z"
    },
    "papermill": {
     "duration": 1.948205,
     "end_time": "2024-11-07T20:19:59.023969",
     "exception": false,
     "start_time": "2024-11-07T20:19:57.075764",
     "status": "completed"
    },
    "tags": [],
    "trusted": true
   },
   "outputs": [],
   "source": [
    "# lets load the test data\n",
    "\n",
    "\n",
    "\n",
    "# test_data = pd.read_csv(r\"/kaggle/input/challenge-2/test/test.csv\")\n",
    "\n",
    "\n",
    "\n",
    "test_data = pd.read_csv(r\"/kaggle/input/challenge2/test.csv\")\n",
    "\n",
    "\n",
    "\n",
    "# check if the data has been loaded by getting the first 5 rows - there should be x1 - x78 and no target variable Y as this is test data\n",
    "\n",
    "\n",
    "\n",
    "test_data.head() \n"
   ]
  },
  {
   "cell_type": "markdown",
   "id": "9db89cc8",
   "metadata": {
    "papermill": {
     "duration": 0.012664,
     "end_time": "2024-11-07T20:19:59.050712",
     "exception": false,
     "start_time": "2024-11-07T20:19:59.038048",
     "status": "completed"
    },
    "tags": []
   },
   "source": [
    "# Data Preprocessing\n",
    "\n",
    "\n",
    "\n",
    "before we start processing this data and using algorithms, we will fix this data first, this is called data preprocessing"
   ]
  },
  {
   "cell_type": "markdown",
   "id": "46a83e6e",
   "metadata": {},
   "source": [
    "## split data into categorical and numerical\n",
    "\n",
    "\n",
    "\n",
    "categorical will have one-hot and simple imputer of most frequent while numerical will have simple mean imputer and minmax scaler"
   ]
  },
  {
   "cell_type": "code",
   "execution_count": null,
   "id": "306cc606",
   "metadata": {
    "execution": {
     "iopub.execute_input": "2024-12-01T19:07:15.144879Z",
     "iopub.status.busy": "2024-12-01T19:07:15.144517Z",
     "iopub.status.idle": "2024-12-01T19:07:15.447512Z",
     "shell.execute_reply": "2024-12-01T19:07:15.446497Z",
     "shell.execute_reply.started": "2024-12-01T19:07:15.144848Z"
    },
    "trusted": true
   },
   "outputs": [],
   "source": [
    "categorical_cols = train_data.select_dtypes(include=[\"object\"]).columns\n",
    "\n",
    "\n",
    "\n",
    "numerical_cols = train_data.select_dtypes(exclude=[\"object\"]).drop(columns=['price_doc']).columns\n"
   ]
  },
  {
   "cell_type": "code",
   "execution_count": null,
   "id": "1e90a6a2",
   "metadata": {
    "execution": {
     "iopub.execute_input": "2024-12-01T19:07:15.449326Z",
     "iopub.status.busy": "2024-12-01T19:07:15.448919Z",
     "iopub.status.idle": "2024-12-01T19:07:15.455011Z",
     "shell.execute_reply": "2024-12-01T19:07:15.453867Z",
     "shell.execute_reply.started": "2024-12-01T19:07:15.449284Z"
    },
    "trusted": true
   },
   "outputs": [],
   "source": [
    "# num_transformer = Pipeline(steps=[\n",
    "\n",
    "\n",
    "\n",
    "#     (\"imputer\", SimpleImputer(strategy=\"median\")),\n",
    "\n",
    "\n",
    "\n",
    "#     (\"scaler\", StandardScaler())\n",
    "\n",
    "\n",
    "\n",
    "# ])\n",
    "\n",
    "\n",
    "\n",
    "\n",
    "\n",
    "\n",
    "\n",
    "# cat_transformer = Pipeline(steps=[\n",
    "\n",
    "\n",
    "\n",
    "#     (\"imputer\", SimpleImputer(strategy=\"most_frequent\")),\n",
    "\n",
    "\n",
    "\n",
    "#     (\"onehot\", OneHotEncoder(handle_unknown=\"ignore\"))\n",
    "\n",
    "\n",
    "\n",
    "# ])\n"
   ]
  },
  {
   "cell_type": "code",
   "execution_count": null,
   "id": "d0e20cc8",
   "metadata": {
    "execution": {
     "iopub.execute_input": "2024-12-01T19:07:15.457120Z",
     "iopub.status.busy": "2024-12-01T19:07:15.456553Z",
     "iopub.status.idle": "2024-12-01T19:07:15.468028Z",
     "shell.execute_reply": "2024-12-01T19:07:15.466951Z",
     "shell.execute_reply.started": "2024-12-01T19:07:15.457073Z"
    },
    "trusted": true
   },
   "outputs": [],
   "source": [
    "# # Column transformer for preprocessing\n",
    "\n",
    "\n",
    "\n",
    "# preprocessor = ColumnTransformer(\n",
    "\n",
    "\n",
    "\n",
    "#     transformers=[\n",
    "\n",
    "\n",
    "\n",
    "#         (\"num\", num_transformer, numerical_cols), \n",
    "\n",
    "\n",
    "\n",
    "#         (\"cat\", cat_transformer, categorical_cols)\n",
    "\n",
    "\n",
    "\n",
    "#     ]\n",
    "\n",
    "\n",
    "\n",
    "# )\n"
   ]
  },
  {
   "cell_type": "code",
   "execution_count": null,
   "id": "bb84955c-dca0-4b3b-a031-3fb7c21580ef",
   "metadata": {
    "execution": {
     "iopub.execute_input": "2024-12-01T19:07:15.470212Z",
     "iopub.status.busy": "2024-12-01T19:07:15.469750Z",
     "iopub.status.idle": "2024-12-01T19:07:17.269148Z",
     "shell.execute_reply": "2024-12-01T19:07:17.267972Z",
     "shell.execute_reply.started": "2024-12-01T19:07:15.470169Z"
    },
    "trusted": true
   },
   "outputs": [],
   "source": [
    "num_imputer = SimpleImputer(strategy=\"mean\")\n",
    "\n",
    "\n",
    "\n",
    "train_data[numerical_cols] = num_imputer.fit_transform(train_data[numerical_cols])\n",
    "\n",
    "\n",
    "\n",
    "test_data[numerical_cols] = num_imputer.transform(test_data[numerical_cols])\n",
    "\n",
    "\n",
    "\n",
    "\n",
    "\n",
    "\n",
    "\n",
    "cat_imputer = SimpleImputer(strategy=\"most_frequent\")\n",
    "\n",
    "\n",
    "\n",
    "train_data[categorical_cols] = cat_imputer.fit_transform(train_data[categorical_cols])\n",
    "\n",
    "\n",
    "\n",
    "test_data[categorical_cols] = cat_imputer.transform(test_data[categorical_cols])\n"
   ]
  },
  {
   "cell_type": "code",
   "execution_count": null,
   "id": "b5830e49-c60a-459a-98b9-f15d14a0ac88",
   "metadata": {
    "execution": {
     "iopub.execute_input": "2024-12-01T19:07:17.270790Z",
     "iopub.status.busy": "2024-12-01T19:07:17.270447Z",
     "iopub.status.idle": "2024-12-01T19:07:20.000692Z",
     "shell.execute_reply": "2024-12-01T19:07:19.999291Z",
     "shell.execute_reply.started": "2024-12-01T19:07:17.270759Z"
    },
    "trusted": true
   },
   "outputs": [],
   "source": [
    "scaler = RobustScaler()\n",
    "\n",
    "\n",
    "\n",
    "train_data[numerical_cols] = scaler.fit_transform(train_data[numerical_cols])\n",
    "\n",
    "\n",
    "\n",
    "test_data[numerical_cols] = scaler.transform(test_data[numerical_cols])\n"
   ]
  },
  {
   "cell_type": "code",
   "execution_count": null,
   "id": "d6133d33-89e9-45e9-aa9e-3ecdcc642c2a",
   "metadata": {
    "execution": {
     "iopub.execute_input": "2024-12-01T19:07:20.005495Z",
     "iopub.status.busy": "2024-12-01T19:07:20.005135Z",
     "iopub.status.idle": "2024-12-01T19:07:22.126277Z",
     "shell.execute_reply": "2024-12-01T19:07:22.125083Z",
     "shell.execute_reply.started": "2024-12-01T19:07:20.005461Z"
    },
    "trusted": true
   },
   "outputs": [],
   "source": [
    "train_data = pd.get_dummies(train_data, columns=categorical_cols, drop_first=False)\n",
    "\n",
    "\n",
    "\n",
    "test_data = pd.get_dummies(test_data, columns=categorical_cols, drop_first=False)\n",
    "\n",
    "\n",
    "\n",
    "# Align the test data with the training data columns\n",
    "\n",
    "\n",
    "\n",
    "test_data = test_data.reindex(columns=train_data.columns, fill_value=0)\n",
    "\n",
    "\n",
    "\n",
    "\n",
    "\n",
    "\n",
    "\n",
    "test_data = test_data.drop(columns=['price_doc'], errors=\"ignore\")\n"
   ]
  },
  {
   "cell_type": "markdown",
   "id": "2a5e67cf",
   "metadata": {},
   "source": [
    "## correlation matrix\n",
    "\n",
    "\n",
    "\n",
    "i tried getting the correlation matrix but apparently a 2000 columns matrix is very computationally expensive as it performs pairs for all. so dont run it. it takes too long and then fails. i ran for 5 minutes. "
   ]
  },
  {
   "cell_type": "code",
   "execution_count": null,
   "id": "aae908d1",
   "metadata": {
    "execution": {
     "iopub.execute_input": "2024-12-01T19:07:22.127890Z",
     "iopub.status.busy": "2024-12-01T19:07:22.127504Z",
     "iopub.status.idle": "2024-12-01T19:07:22.132878Z",
     "shell.execute_reply": "2024-12-01T19:07:22.131536Z",
     "shell.execute_reply.started": "2024-12-01T19:07:22.127828Z"
    },
    "trusted": true
   },
   "outputs": [],
   "source": [
    "# # DONT RUN\n",
    "\n",
    "\n",
    "\n",
    "# corr_matrix = train_data.corr()\n",
    "\n",
    "\n",
    "\n",
    "# print(corr_matrix)\n"
   ]
  },
  {
   "cell_type": "markdown",
   "id": "463d5ca5",
   "metadata": {},
   "source": [
    "# PCA\n",
    "\n",
    "\n",
    "\n",
    "principal component analysis is applied"
   ]
  },
  {
   "cell_type": "code",
   "execution_count": null,
   "id": "68ef094f",
   "metadata": {
    "execution": {
     "iopub.execute_input": "2024-12-01T19:07:22.134783Z",
     "iopub.status.busy": "2024-12-01T19:07:22.134445Z",
     "iopub.status.idle": "2024-12-01T19:07:22.151628Z",
     "shell.execute_reply": "2024-12-01T19:07:22.150423Z",
     "shell.execute_reply.started": "2024-12-01T19:07:22.134751Z"
    },
    "trusted": true
   },
   "outputs": [],
   "source": [
    "# # -------------------------- case  --------------------------\n",
    "\n",
    "\n",
    "\n",
    "# pca = PCA(n_components=33)                                 \n",
    "\n",
    "\n",
    "\n",
    "# X = pca.fit_transform(X)\n",
    "\n",
    "\n",
    "\n",
    "# test_data_processed = pca.transform(test_data_processed)\n"
   ]
  },
  {
   "cell_type": "markdown",
   "id": "2bd65ed6",
   "metadata": {
    "papermill": {
     "duration": 0.012565,
     "end_time": "2024-11-07T20:19:59.480848",
     "exception": false,
     "start_time": "2024-11-07T20:19:59.468283",
     "status": "completed"
    },
    "tags": []
   },
   "source": [
    "## Data Splitting - festures and targets\n",
    "\n",
    "\n",
    "\n",
    "the data in train_data set is of x1 - x78 columns (79 variables) and one target variable (Y). we must split that data so that we can perform data preprocessing on the features variables (will be referred to as X)."
   ]
  },
  {
   "cell_type": "code",
   "execution_count": null,
   "id": "565fb08f",
   "metadata": {
    "execution": {
     "iopub.execute_input": "2024-12-01T19:07:22.153434Z",
     "iopub.status.busy": "2024-12-01T19:07:22.153064Z",
     "iopub.status.idle": "2024-12-01T19:07:22.480256Z",
     "shell.execute_reply": "2024-12-01T19:07:22.479182Z",
     "shell.execute_reply.started": "2024-12-01T19:07:22.153403Z"
    },
    "papermill": {
     "duration": 0.123675,
     "end_time": "2024-11-07T20:19:59.617410",
     "exception": false,
     "start_time": "2024-11-07T20:19:59.493735",
     "status": "completed"
    },
    "tags": [],
    "trusted": true
   },
   "outputs": [],
   "source": [
    "# so in X, it is ALL the columns EXCEPT the last column known as 'Y' (we can confirm this using the train_data.head() we did earlier) so we must get all columns and DROP only the 'y' column\n",
    "\n",
    "\n",
    "\n",
    "X = train_data.drop(columns=['price_doc'])\n",
    "\n",
    "\n",
    "\n",
    "X # lets display X and see what it is now\n"
   ]
  },
  {
   "cell_type": "code",
   "execution_count": null,
   "id": "c5fd0e61",
   "metadata": {
    "execution": {
     "iopub.execute_input": "2024-12-01T19:07:22.481900Z",
     "iopub.status.busy": "2024-12-01T19:07:22.481527Z",
     "iopub.status.idle": "2024-12-01T19:07:22.490940Z",
     "shell.execute_reply": "2024-12-01T19:07:22.489717Z",
     "shell.execute_reply.started": "2024-12-01T19:07:22.481867Z"
    },
    "papermill": {
     "duration": 0.023643,
     "end_time": "2024-11-07T20:19:59.654979",
     "exception": false,
     "start_time": "2024-11-07T20:19:59.631336",
     "status": "completed"
    },
    "tags": [],
    "trusted": true
   },
   "outputs": [],
   "source": [
    "# so as per our X output, we can see that number of columns in train_data is 79 and number of columns in X is 78 meaning we have successfully performed our removal of target variable\n",
    "\n",
    "\n",
    "\n",
    "# now to get the target variable alone, we can just get it alone,\n",
    "\n",
    "\n",
    "\n",
    "Y = train_data['price_doc']\n",
    "\n",
    "\n",
    "\n",
    "Y # lets see what it is\n",
    "\n",
    "\n",
    "\n",
    "# as per our Y output, we can see it is of one column and 246k rows which means we have successfully extracted the target variable column\n"
   ]
  },
  {
   "cell_type": "markdown",
   "id": "b6e9cfd9",
   "metadata": {
    "papermill": {
     "duration": 0.013362,
     "end_time": "2024-11-07T20:20:00.756855",
     "exception": false,
     "start_time": "2024-11-07T20:20:00.743493",
     "status": "completed"
    },
    "tags": []
   },
   "source": [
    "# Filters\n",
    "\n",
    "\n",
    "\n",
    "there are two types of filters to filter out columns/features:\n",
    "\n",
    "\n",
    "\n",
    "- variance filter (a column which has same values throughout the column like all are sunny)\n",
    "\n",
    "\n",
    "\n",
    "- correlation filter (two columns which are same like weight in kg and weight in pounds)"
   ]
  },
  {
   "cell_type": "code",
   "execution_count": null,
   "id": "5934b338",
   "metadata": {
    "execution": {
     "iopub.execute_input": "2024-12-01T19:07:22.492513Z",
     "iopub.status.busy": "2024-12-01T19:07:22.492208Z",
     "iopub.status.idle": "2024-12-01T19:07:22.510142Z",
     "shell.execute_reply": "2024-12-01T19:07:22.508901Z",
     "shell.execute_reply.started": "2024-12-01T19:07:22.492484Z"
    },
    "papermill": {
     "duration": 0.02154,
     "end_time": "2024-11-07T20:20:00.791959",
     "exception": false,
     "start_time": "2024-11-07T20:20:00.770419",
     "status": "completed"
    },
    "tags": [],
    "trusted": true
   },
   "outputs": [],
   "source": [
    "# print(\"X : \", X.shape)\n",
    "\n",
    "\n",
    "\n",
    "# print(\"test data : \", test_data_processed.shape)\n"
   ]
  },
  {
   "cell_type": "code",
   "execution_count": null,
   "id": "f9c6b8a2",
   "metadata": {
    "execution": {
     "iopub.execute_input": "2024-12-01T19:07:22.511967Z",
     "iopub.status.busy": "2024-12-01T19:07:22.511508Z",
     "iopub.status.idle": "2024-12-01T19:07:22.524754Z",
     "shell.execute_reply": "2024-12-01T19:07:22.523654Z",
     "shell.execute_reply.started": "2024-12-01T19:07:22.511924Z"
    },
    "papermill": {
     "duration": 0.021917,
     "end_time": "2024-11-07T20:20:00.827296",
     "exception": false,
     "start_time": "2024-11-07T20:20:00.805379",
     "status": "completed"
    },
    "tags": [],
    "trusted": true
   },
   "outputs": [],
   "source": [
    "# variance filter\n",
    "\n",
    "\n",
    "\n",
    "# ----------------------------- case  -----------------------------\n",
    "\n",
    "\n",
    "\n",
    "# variance_filter = VarianceThreshold(threshold=0.001)  # Adjust the threshold if needed\n",
    "\n",
    "\n",
    "\n",
    "# X = variance_filter.fit_transform(X)\n",
    "\n",
    "\n",
    "\n",
    "# test_data_processed = variance_filter.fit_transform(test_data_processed)\n",
    "\n",
    "\n",
    "\n",
    "X.shape\n"
   ]
  },
  {
   "cell_type": "code",
   "execution_count": null,
   "id": "f1604caf",
   "metadata": {
    "execution": {
     "iopub.execute_input": "2024-12-01T19:07:22.526517Z",
     "iopub.status.busy": "2024-12-01T19:07:22.526139Z",
     "iopub.status.idle": "2024-12-01T19:07:22.539031Z",
     "shell.execute_reply": "2024-12-01T19:07:22.537596Z",
     "shell.execute_reply.started": "2024-12-01T19:07:22.526484Z"
    },
    "papermill": {
     "duration": 0.026133,
     "end_time": "2024-11-07T20:20:00.868012",
     "exception": false,
     "start_time": "2024-11-07T20:20:00.841879",
     "status": "completed"
    },
    "tags": [],
    "trusted": true
   },
   "outputs": [],
   "source": [
    "# test_data_processed.shape\n"
   ]
  },
  {
   "cell_type": "code",
   "execution_count": null,
   "id": "dd97f036",
   "metadata": {
    "execution": {
     "iopub.execute_input": "2024-12-01T19:07:22.541142Z",
     "iopub.status.busy": "2024-12-01T19:07:22.540670Z",
     "iopub.status.idle": "2024-12-01T19:07:22.553904Z",
     "shell.execute_reply": "2024-12-01T19:07:22.552644Z",
     "shell.execute_reply.started": "2024-12-01T19:07:22.541093Z"
    },
    "papermill": {
     "duration": 0.023607,
     "end_time": "2024-11-07T20:20:00.905745",
     "exception": false,
     "start_time": "2024-11-07T20:20:00.882138",
     "status": "completed"
    },
    "tags": [],
    "trusted": true
   },
   "outputs": [],
   "source": [
    "# # correlation filter\n",
    "\n",
    "\n",
    "\n",
    "# # ----------------------------- case  -----------------------------\n",
    "\n",
    "\n",
    "\n",
    "# corr_matrix = pd.DataFrame(X).corr().abs()\n",
    "\n",
    "\n",
    "\n",
    "# upper_tri = corr_matrix.where(np.triu(np.ones(corr_matrix.shape), k=1).astype(bool))\n",
    "\n",
    "\n",
    "\n",
    "# to_drop = [column for column in upper_tri.columns if any(upper_tri[column] > 0.9)]\n",
    "\n",
    "\n",
    "\n",
    "# X = pd.DataFrame(X).drop(columns=to_drop)\n",
    "\n",
    "\n",
    "\n",
    "# test_data_processed = pd.DataFrame(test_data_processed).drop(columns=to_drop)\n",
    "\n",
    "\n",
    "\n",
    "X.shape\n"
   ]
  },
  {
   "cell_type": "code",
   "execution_count": null,
   "id": "d523de93",
   "metadata": {
    "execution": {
     "iopub.execute_input": "2024-12-01T19:07:22.555957Z",
     "iopub.status.busy": "2024-12-01T19:07:22.555517Z",
     "iopub.status.idle": "2024-12-01T19:07:22.563258Z",
     "shell.execute_reply": "2024-12-01T19:07:22.562141Z",
     "shell.execute_reply.started": "2024-12-01T19:07:22.555905Z"
    },
    "papermill": {
     "duration": 0.023492,
     "end_time": "2024-11-07T20:20:00.943356",
     "exception": false,
     "start_time": "2024-11-07T20:20:00.919864",
     "status": "completed"
    },
    "tags": [],
    "trusted": true
   },
   "outputs": [],
   "source": [
    "# test_data_processed.shape\n"
   ]
  },
  {
   "cell_type": "markdown",
   "id": "5edcb49b",
   "metadata": {
    "papermill": {
     "duration": 0.016785,
     "end_time": "2024-11-07T20:20:00.974594",
     "exception": false,
     "start_time": "2024-11-07T20:20:00.957809",
     "status": "completed"
    },
    "tags": []
   },
   "source": [
    "## Data Splitting - train and validate\n",
    "\n",
    "\n",
    "\n",
    "now our test_data set is of rows with NO target variable whereas the train_data set is WITH target variable.\n",
    "\n",
    "\n",
    "\n",
    "our rules in machine learning is that we must train half or 70% of the data and then we must check its accuracy using the remaining half or 30% of the data - we can only check accuracy IF we have the answers i.e. the target variable. \n",
    "\n",
    "\n",
    "\n",
    "So, what we need to do is, is split the train_data set into 2, by a 70% and 30% ratio. we train the model using the 70% and then test the model using the 30% and then use that model to predict the test_data set."
   ]
  },
  {
   "cell_type": "code",
   "execution_count": null,
   "id": "237c64fd",
   "metadata": {
    "execution": {
     "iopub.execute_input": "2024-12-01T19:07:22.564947Z",
     "iopub.status.busy": "2024-12-01T19:07:22.564633Z",
     "iopub.status.idle": "2024-12-01T19:07:23.695090Z",
     "shell.execute_reply": "2024-12-01T19:07:23.694082Z",
     "shell.execute_reply.started": "2024-12-01T19:07:22.564917Z"
    },
    "papermill": {
     "duration": 0.273955,
     "end_time": "2024-11-07T20:20:01.264394",
     "exception": false,
     "start_time": "2024-11-07T20:20:00.990439",
     "status": "completed"
    },
    "tags": [],
    "trusted": true
   },
   "outputs": [],
   "source": [
    "# holdout method\n",
    "\n",
    "\n",
    "\n",
    "trainX, testX, trainY, testY = train_test_split(X, Y, test_size=0.3, random_state=2)\n"
   ]
  },
  {
   "cell_type": "markdown",
   "id": "b1485955",
   "metadata": {
    "papermill": {
     "duration": 0.013949,
     "end_time": "2024-11-07T20:20:01.292747",
     "exception": false,
     "start_time": "2024-11-07T20:20:01.278798",
     "status": "completed"
    },
    "tags": []
   },
   "source": [
    "# functions\n",
    "\n",
    "\n",
    "\n",
    "here we have defined functions like forward-backward selection, kbest selection & algorithm feature importance"
   ]
  },
  {
   "cell_type": "code",
   "execution_count": null,
   "id": "836da9a8",
   "metadata": {
    "execution": {
     "iopub.execute_input": "2024-12-01T19:07:23.696936Z",
     "iopub.status.busy": "2024-12-01T19:07:23.696509Z",
     "iopub.status.idle": "2024-12-01T19:07:23.704973Z",
     "shell.execute_reply": "2024-12-01T19:07:23.703889Z",
     "shell.execute_reply.started": "2024-12-01T19:07:23.696901Z"
    },
    "papermill": {
     "duration": 0.023729,
     "end_time": "2024-11-07T20:20:01.330428",
     "exception": false,
     "start_time": "2024-11-07T20:20:01.306699",
     "status": "completed"
    },
    "tags": [],
    "trusted": true
   },
   "outputs": [],
   "source": [
    "# forward backward selection\n",
    "\n",
    "\n",
    "\n",
    "def fbselection(direction, sample_model, features, X, trainX, trainY, testX, test_data_processed):\n",
    "\n",
    "\n",
    "\n",
    "    print(\"starting\")\n",
    "\n",
    "\n",
    "\n",
    "    selection = SequentialFeatureSelector(sample_model, direction=direction, n_features_to_select=features, scoring='roc_auc')\n",
    "\n",
    "\n",
    "\n",
    "    return modelSelector(sample_model, selection, X, trainX, trainY, testX, test_data_processed)\n",
    "\n",
    "\n",
    "\n",
    "\n",
    "\n",
    "\n",
    "\n",
    "def modelSelector(sample_model, selection, X, trainX, trainY, testX, test_data_processed):\n",
    "\n",
    "\n",
    "\n",
    "    print(\"start extracting\")\n",
    "\n",
    "\n",
    "\n",
    "    trainX = selection.fit_transform(trainX, trainY)\n",
    "\n",
    "\n",
    "\n",
    "    print(\"extracted, transforming\")\n",
    "\n",
    "\n",
    "\n",
    "    testX = selection.transform(testX)                                  # Ensure the test set is transformed similarly\n",
    "\n",
    "\n",
    "\n",
    "    test_data_processed = selection.transform(test_data_processed)      # test data is also transformed\n",
    "\n",
    "\n",
    "\n",
    "    X = selection.transform(X)                                          # full data transforming\n",
    "\n",
    "\n",
    "\n",
    "    print(\"transformed\")\n",
    "\n",
    "\n",
    "\n",
    "    return sample_model, X, trainX, trainY, testX, test_data_processed\n",
    "\n",
    "\n",
    "\n",
    "\n",
    "\n",
    "\n",
    "\n",
    "# kbest selection\n",
    "\n",
    "\n",
    "\n",
    "def kbest(sample_model, features, X, trainX, trainY, testX, test_data_processed):\n",
    "\n",
    "\n",
    "\n",
    "    print(\"starting\")\n",
    "\n",
    "\n",
    "\n",
    "    selection = SelectKBest(score_func=f_regression, k=features)\n",
    "\n",
    "\n",
    "\n",
    "    return modelSelector(sample_model, selection, X, trainX, trainY, testX, test_data_processed)\n"
   ]
  },
  {
   "cell_type": "code",
   "execution_count": null,
   "id": "0a0bc955",
   "metadata": {
    "execution": {
     "iopub.execute_input": "2024-12-01T19:07:23.707340Z",
     "iopub.status.busy": "2024-12-01T19:07:23.706833Z",
     "iopub.status.idle": "2024-12-01T19:07:23.721993Z",
     "shell.execute_reply": "2024-12-01T19:07:23.720873Z",
     "shell.execute_reply.started": "2024-12-01T19:07:23.707294Z"
    },
    "papermill": {
     "duration": 0.025235,
     "end_time": "2024-11-07T20:20:01.370030",
     "exception": false,
     "start_time": "2024-11-07T20:20:01.344795",
     "status": "completed"
    },
    "tags": [],
    "trusted": true
   },
   "outputs": [],
   "source": [
    "# feature importance function\n",
    "\n",
    "\n",
    "\n",
    "def featureImportance(sample_model, features, X, trainX, trainY, testX, test_data_processed):\n",
    "\n",
    "\n",
    "\n",
    "    print(\"fitting\")\n",
    "\n",
    "\n",
    "\n",
    "    \n",
    "\n",
    "\n",
    "\n",
    "    # fit the model\n",
    "\n",
    "\n",
    "\n",
    "    sample_model.fit(trainX, trainY)\n",
    "\n",
    "\n",
    "\n",
    "\n",
    "\n",
    "\n",
    "\n",
    "    print(\"extracting features\")\n",
    "\n",
    "\n",
    "\n",
    "\n",
    "\n",
    "\n",
    "\n",
    "    # extract all the feature names from data\n",
    "\n",
    "\n",
    "\n",
    "    importances = sample_model.feature_importances_\n",
    "\n",
    "\n",
    "\n",
    "    feature_names = train_data.drop(columns=['price_doc']).columns\n",
    "\n",
    "\n",
    "\n",
    "    print(feature_names)\n",
    "\n",
    "\n",
    "\n",
    "\n",
    "\n",
    "\n",
    "\n",
    "    # sort with respect to importance\n",
    "\n",
    "\n",
    "\n",
    "    feature_importance_df = pd.DataFrame({\n",
    "\n",
    "\n",
    "\n",
    "        'Feature': feature_names,\n",
    "\n",
    "\n",
    "\n",
    "        'Importance': importances\n",
    "\n",
    "\n",
    "\n",
    "    }).sort_values(by='Importance', ascending=False)\n",
    "\n",
    "\n",
    "\n",
    "\n",
    "\n",
    "\n",
    "\n",
    "    # extract the top ones\n",
    "\n",
    "\n",
    "\n",
    "    top_features = feature_importance_df['Feature'].head(features).values\n",
    "\n",
    "\n",
    "\n",
    "    print(top_features)\n",
    "\n",
    "\n",
    "\n",
    "\n",
    "\n",
    "\n",
    "\n",
    "    # change all data according to the top ones we have selected\n",
    "\n",
    "\n",
    "\n",
    "    trainX = pd.DataFrame(trainX, columns=feature_names)[top_features]\n",
    "\n",
    "\n",
    "\n",
    "    testX = pd.DataFrame(testX, columns=feature_names)[top_features]\n",
    "\n",
    "\n",
    "\n",
    "    X = pd.DataFrame(X, columns=feature_names)[top_features]\n",
    "\n",
    "\n",
    "\n",
    "    test_data_processed = pd.DataFrame(test_data_processed, columns=feature_names)[top_features]\n",
    "\n",
    "\n",
    "\n",
    "\n",
    "\n",
    "\n",
    "\n",
    "    print(\"features extracted\")\n",
    "\n",
    "\n",
    "\n",
    "    \n",
    "\n",
    "\n",
    "\n",
    "    # retrain the model\n",
    "\n",
    "\n",
    "\n",
    "    sample_model.fit(trainX, trainY)\n",
    "\n",
    "\n",
    "\n",
    "\n",
    "\n",
    "\n",
    "\n",
    "    print(\"features trained\")\n",
    "\n",
    "\n",
    "\n",
    "    \n",
    "\n",
    "\n",
    "\n",
    "    return sample_model, X, trainX, trainY, testX, test_data_processed\n"
   ]
  },
  {
   "cell_type": "markdown",
   "id": "fc6047d2",
   "metadata": {
    "papermill": {
     "duration": 0.013797,
     "end_time": "2024-11-07T20:20:01.398362",
     "exception": false,
     "start_time": "2024-11-07T20:20:01.384565",
     "status": "completed"
    },
    "tags": []
   },
   "source": [
    "## model intialization\n",
    "\n",
    "\n",
    "\n",
    "here model is intialized"
   ]
  },
  {
   "cell_type": "code",
   "execution_count": null,
   "id": "6d91ebe1-d23c-4c37-ae8c-a4b785ce484d",
   "metadata": {
    "execution": {
     "iopub.execute_input": "2024-12-01T19:07:23.723951Z",
     "iopub.status.busy": "2024-12-01T19:07:23.723491Z",
     "iopub.status.idle": "2024-12-01T19:07:23.741375Z",
     "shell.execute_reply": "2024-12-01T19:07:23.740053Z",
     "shell.execute_reply.started": "2024-12-01T19:07:23.723906Z"
    },
    "trusted": true
   },
   "outputs": [],
   "source": [
    "class VerboseAdaBoostRegressor(AdaBoostRegressor):\n",
    "\n",
    "    def _boost(self, iboost, X, y, sample_weight, random_state):\n",
    "\n",
    "        print(f\"Training estimator {iboost + 1}/{self.n_estimators}\")\n",
    "\n",
    "        return super()._boost(iboost, X, y, sample_weight, random_state)\n"
   ]
  },
  {
   "cell_type": "code",
   "execution_count": null,
   "id": "511dc0e2",
   "metadata": {
    "execution": {
     "iopub.execute_input": "2024-12-01T19:07:23.743328Z",
     "iopub.status.busy": "2024-12-01T19:07:23.742886Z",
     "iopub.status.idle": "2024-12-01T19:07:23.755212Z",
     "shell.execute_reply": "2024-12-01T19:07:23.754105Z",
     "shell.execute_reply.started": "2024-12-01T19:07:23.743274Z"
    },
    "papermill": {
     "duration": 0.021268,
     "end_time": "2024-11-07T20:20:01.433590",
     "exception": false,
     "start_time": "2024-11-07T20:20:01.412322",
     "status": "completed"
    },
    "tags": [],
    "trusted": true
   },
   "outputs": [],
   "source": [
    "# declare the model here\n",
    "meta_regressor = LinearRegression()\n",
    "model = StackingRegressor( \n",
    "    estimators= [\n",
    "        ('rf', RandomForestRegressor(n_estimators=200, max_depth=20, min_samples_split=5, min_samples_leaf=2, max_features='sqrt', bootstrap=True, random_state=42, n_jobs=-1)),\n",
    "        ('ridge', Ridge(alpha=10.0, solver='saga', tol=1e-4, max_iter=10000, random_state=42))\n",
    "    ], \n",
    "    final_estimator=meta_regressor, \n",
    "    passthrough=False, n_jobs=-1, verbose=2\n",
    ")\n"
   ]
  },
  {
   "cell_type": "code",
   "execution_count": null,
   "id": "585f7723",
   "metadata": {
    "execution": {
     "iopub.execute_input": "2024-12-01T19:07:23.757295Z",
     "iopub.status.busy": "2024-12-01T19:07:23.756858Z",
     "iopub.status.idle": "2024-12-01T19:07:23.773389Z",
     "shell.execute_reply": "2024-12-01T19:07:23.772269Z",
     "shell.execute_reply.started": "2024-12-01T19:07:23.757247Z"
    },
    "papermill": {
     "duration": 0.02329,
     "end_time": "2024-11-07T20:20:14.141486",
     "exception": false,
     "start_time": "2024-11-07T20:20:14.118196",
     "status": "completed"
    },
    "tags": [],
    "trusted": true
   },
   "outputs": [],
   "source": [
    "print(\"X shape -> \", X.shape)\n",
    "\n",
    "\n",
    "\n",
    "print(\"trainX shape -> \", trainX.shape)\n",
    "\n",
    "\n",
    "\n",
    "print(\"testX shape -> \", testX.shape)\n",
    "\n",
    "\n",
    "\n",
    "print(\"test_data_processed shape -> \", test_data.shape)\n"
   ]
  },
  {
   "cell_type": "markdown",
   "id": "34c9426d",
   "metadata": {},
   "source": [
    "# feature selection\n",
    "\n",
    "\n",
    "\n",
    "here we will apply feature selection and feature importance"
   ]
  },
  {
   "cell_type": "code",
   "execution_count": null,
   "id": "b543f060",
   "metadata": {
    "execution": {
     "iopub.execute_input": "2024-12-01T19:07:23.775546Z",
     "iopub.status.busy": "2024-12-01T19:07:23.775105Z",
     "iopub.status.idle": "2024-12-01T19:07:32.733748Z",
     "shell.execute_reply": "2024-12-01T19:07:32.732554Z",
     "shell.execute_reply.started": "2024-12-01T19:07:23.775499Z"
    },
    "trusted": true
   },
   "outputs": [],
   "source": [
    "# Feature selection\n",
    "\n",
    "\n",
    "\n",
    "m, X, trainX, trainY, testX, test_data = kbest(\n",
    "\n",
    "\n",
    "\n",
    "    None, 200, X, trainX, trainY, testX, test_data\n",
    "\n",
    "\n",
    "\n",
    ")\n"
   ]
  },
  {
   "cell_type": "code",
   "execution_count": null,
   "id": "aabea5ef",
   "metadata": {
    "execution": {
     "iopub.execute_input": "2024-12-01T19:07:32.735461Z",
     "iopub.status.busy": "2024-12-01T19:07:32.735026Z",
     "iopub.status.idle": "2024-12-01T19:07:32.741420Z",
     "shell.execute_reply": "2024-12-01T19:07:32.740245Z",
     "shell.execute_reply.started": "2024-12-01T19:07:32.735411Z"
    },
    "trusted": true
   },
   "outputs": [],
   "source": [
    "print(\"X shape -> \", X.shape)\n",
    "\n",
    "\n",
    "\n",
    "print(\"trainX shape -> \", trainX.shape)\n",
    "\n",
    "\n",
    "\n",
    "print(\"testX shape -> \", testX.shape)\n",
    "\n",
    "\n",
    "\n",
    "print(\"test_data_processed shape -> \", test_data.shape)\n"
   ]
  },
  {
   "cell_type": "markdown",
   "id": "58edd65e",
   "metadata": {},
   "source": [
    "# grid search"
   ]
  },
  {
   "cell_type": "code",
   "execution_count": null,
   "id": "61b8b917",
   "metadata": {
    "execution": {
     "iopub.execute_input": "2024-12-01T19:07:32.748795Z",
     "iopub.status.busy": "2024-12-01T19:07:32.748410Z",
     "iopub.status.idle": "2024-12-01T19:07:32.756448Z",
     "shell.execute_reply": "2024-12-01T19:07:32.755263Z",
     "shell.execute_reply.started": "2024-12-01T19:07:32.748762Z"
    },
    "trusted": true
   },
   "outputs": [],
   "source": [
    "def gridsearch(param_grid, model, scorer, trainX, trainY):\n",
    "\n",
    "\n",
    "\n",
    "    print(\"starting grid search\")\n",
    "\n",
    "\n",
    "\n",
    "\n",
    "\n",
    "\n",
    "\n",
    "    # intialize grid search\n",
    "\n",
    "\n",
    "\n",
    "    grid_search = GridSearchCV(estimator=model, param_grid=param_grid, cv=3, scoring=scorer, verbose=3)\n",
    "\n",
    "\n",
    "\n",
    "    print(\"grid search is intialized\")\n",
    "\n",
    "\n",
    "\n",
    "\n",
    "\n",
    "\n",
    "\n",
    "    # fit the model\n",
    "\n",
    "\n",
    "\n",
    "    grid_search.fit(trainX, trainY)\n",
    "\n",
    "\n",
    "\n",
    "    print(\"grid search fitting completed\")\n",
    "\n",
    "\n",
    "\n",
    "\n",
    "\n",
    "\n",
    "\n",
    "    # display the best model grid search found\n",
    "\n",
    "\n",
    "\n",
    "    best_model = grid_search.best_estimator_\n",
    "\n",
    "\n",
    "\n",
    "    print(best_model)\n",
    "\n",
    "\n",
    "\n",
    "\n",
    "\n",
    "\n",
    "\n",
    "    # display the best parameters of the best model\n",
    "\n",
    "\n",
    "\n",
    "    best_parameters = grid_search.best_params_\n",
    "\n",
    "\n",
    "\n",
    "    print(best_parameters)\n",
    "\n",
    "\n",
    "\n",
    "\n",
    "\n",
    "\n",
    "\n",
    "    # display the best score of the best model\n",
    "\n",
    "\n",
    "\n",
    "    print(\"Best cross-validated score:\", grid_search.best_score_)\n",
    "\n",
    "\n",
    "\n",
    "\n",
    "\n",
    "\n",
    "\n",
    "    # assign the best model our model\n",
    "\n",
    "\n",
    "\n",
    "    model = best_model\n",
    "\n",
    "\n",
    "\n",
    "    print(\"model assigned, grid search completed\")\n",
    "\n",
    "\n",
    "\n",
    "\n",
    "\n",
    "\n",
    "\n",
    "    return model\n"
   ]
  },
  {
   "cell_type": "code",
   "execution_count": null,
   "id": "8896c271",
   "metadata": {
    "execution": {
     "iopub.execute_input": "2024-12-01T19:07:32.758385Z",
     "iopub.status.busy": "2024-12-01T19:07:32.757955Z",
     "iopub.status.idle": "2024-12-01T19:07:32.775795Z",
     "shell.execute_reply": "2024-12-01T19:07:32.774607Z",
     "shell.execute_reply.started": "2024-12-01T19:07:32.758340Z"
    },
    "trusted": true
   },
   "outputs": [],
   "source": [
    "# # Define a scoring metric (e.g., negative mean squared error)\n",
    "\n",
    "\n",
    "\n",
    "# scorer = make_scorer(mean_squared_error, greater_is_better=False)\n"
   ]
  },
  {
   "cell_type": "code",
   "execution_count": null,
   "id": "58ba6d7b",
   "metadata": {
    "execution": {
     "iopub.execute_input": "2024-12-01T19:07:32.777609Z",
     "iopub.status.busy": "2024-12-01T19:07:32.777230Z",
     "iopub.status.idle": "2024-12-01T19:07:32.788307Z",
     "shell.execute_reply": "2024-12-01T19:07:32.787091Z",
     "shell.execute_reply.started": "2024-12-01T19:07:32.777559Z"
    },
    "trusted": true
   },
   "outputs": [],
   "source": [
    "# # define hyper parameters of grid\n",
    "\n",
    "\n",
    "\n",
    "# param_grid = {\n",
    "\n",
    "\n",
    "\n",
    "#     'estimators': [10, 100, 200, 500, 1000, 2000, 3000], \n",
    "\n",
    "\n",
    "\n",
    "#     'learning_rate': [0.0001, 0.001, 0.01, 0.05, 0.1, 0.5],\n",
    "\n",
    "\n",
    "\n",
    "#     'max_depth': [1, 2, 3, 4, 5, 6, 7, 8, 9, 10]\n",
    "\n",
    "\n",
    "\n",
    "# }\n"
   ]
  },
  {
   "cell_type": "code",
   "execution_count": null,
   "id": "f13000df",
   "metadata": {
    "execution": {
     "iopub.execute_input": "2024-12-01T19:07:32.790203Z",
     "iopub.status.busy": "2024-12-01T19:07:32.789760Z",
     "iopub.status.idle": "2024-12-01T19:07:32.801151Z",
     "shell.execute_reply": "2024-12-01T19:07:32.800104Z",
     "shell.execute_reply.started": "2024-12-01T19:07:32.790153Z"
    },
    "trusted": true
   },
   "outputs": [],
   "source": [
    "# sample from train_data\n",
    "\n",
    "\n",
    "\n",
    "# sample_train = train_data.sample(frac=0.5)\n",
    "\n",
    "\n",
    "\n",
    "# sample_X = sample_train.drop('price_doc', axis=1) \n",
    "\n",
    "\n",
    "\n",
    "# sample_Y = sample_train['price_doc']\n"
   ]
  },
  {
   "cell_type": "code",
   "execution_count": null,
   "id": "b969d8af",
   "metadata": {
    "execution": {
     "iopub.execute_input": "2024-12-01T19:07:32.803303Z",
     "iopub.status.busy": "2024-12-01T19:07:32.802862Z",
     "iopub.status.idle": "2024-12-01T19:07:32.814976Z",
     "shell.execute_reply": "2024-12-01T19:07:32.813427Z",
     "shell.execute_reply.started": "2024-12-01T19:07:32.803257Z"
    },
    "trusted": true
   },
   "outputs": [],
   "source": [
    "# model = gridsearch(param_grid, model, scorer, trainX, trainY)\n"
   ]
  },
  {
   "cell_type": "markdown",
   "id": "df4c4143",
   "metadata": {
    "papermill": {
     "duration": 0.014144,
     "end_time": "2024-11-07T20:20:14.233534",
     "exception": false,
     "start_time": "2024-11-07T20:20:14.219390",
     "status": "completed"
    },
    "tags": []
   },
   "source": [
    "## model running\n",
    "\n",
    "\n",
    "\n",
    "here we run the model"
   ]
  },
  {
   "cell_type": "code",
   "execution_count": null,
   "id": "829d7189",
   "metadata": {
    "execution": {
     "iopub.execute_input": "2024-12-01T19:07:32.816844Z",
     "iopub.status.busy": "2024-12-01T19:07:32.816391Z",
     "iopub.status.idle": "2024-12-01T19:07:32.831314Z",
     "shell.execute_reply": "2024-12-01T19:07:32.830192Z",
     "shell.execute_reply.started": "2024-12-01T19:07:32.816797Z"
    },
    "trusted": true
   },
   "outputs": [],
   "source": [
    "from datetime import datetime\n",
    "\n",
    "\n",
    "\n",
    "\n",
    "\n",
    "\n",
    "\n",
    "def get_current_datetime():\n",
    "\n",
    "\n",
    "\n",
    "    return datetime.now().strftime(\"%Y-%m-%d %H:%M:%S\")\n"
   ]
  },
  {
   "cell_type": "code",
   "execution_count": null,
   "id": "abb74356",
   "metadata": {
    "execution": {
     "iopub.execute_input": "2024-12-01T19:07:32.833130Z",
     "iopub.status.busy": "2024-12-01T19:07:32.832701Z",
     "iopub.status.idle": "2024-12-01T19:07:32.845902Z",
     "shell.execute_reply": "2024-12-01T19:07:32.844681Z",
     "shell.execute_reply.started": "2024-12-01T19:07:32.833082Z"
    },
    "trusted": true
   },
   "outputs": [],
   "source": [
    "# compute this predictions metrics\n",
    "\n",
    "\n",
    "\n",
    "def metrics(y_pred, testY):\n",
    "\n",
    "\n",
    "\n",
    "    print(\"starting to compute metrics\")\n",
    "\n",
    "\n",
    "\n",
    "    \n",
    "\n",
    "\n",
    "\n",
    "    # display the mean squared error of this prediction\n",
    "\n",
    "\n",
    "\n",
    "    mse = mean_squared_error(testY, y_pred)\n",
    "\n",
    "\n",
    "\n",
    "    print(\"Mean squared error: %.2f\" % mse, \"   \")\n",
    "\n",
    "\n",
    "\n",
    "\n",
    "\n",
    "\n",
    "\n",
    "    # display the root mean squared error\n",
    "\n",
    "\n",
    "\n",
    "    rmse = np.sqrt(mse)  # Root Mean Squared Error\n",
    "\n",
    "\n",
    "\n",
    "    print(\"Root Mean squared error: %.2f\" % rmse, \"   \")\n",
    "\n",
    "\n",
    "\n",
    "\n",
    "\n",
    "\n",
    "\n",
    "    # display the mean absolute error of this prediction\n",
    "\n",
    "\n",
    "\n",
    "    mae = mean_absolute_error(testY, y_pred)\n",
    "\n",
    "\n",
    "\n",
    "    print(\"Mean absolute error: %.2f\" % mae, \"   \")\n",
    "\n",
    "\n",
    "\n",
    "\n",
    "\n",
    "\n",
    "\n",
    "    # display the coeffeicient of determination of this preduction\n",
    "\n",
    "\n",
    "\n",
    "    r2_Score = r2_score(testY, y_pred)\n",
    "\n",
    "\n",
    "\n",
    "    print(\"Coefficient of determination: %.2f\" % r2_Score, \"    \")\n",
    "\n",
    "\n",
    "\n",
    "    \n",
    "\n",
    "\n",
    "\n",
    "    return rmse\n"
   ]
  },
  {
   "cell_type": "code",
   "execution_count": null,
   "id": "e2bacd3a",
   "metadata": {
    "execution": {
     "iopub.execute_input": "2024-12-01T19:07:32.847817Z",
     "iopub.status.busy": "2024-12-01T19:07:32.847359Z",
     "iopub.status.idle": "2024-12-01T19:07:32.864425Z",
     "shell.execute_reply": "2024-12-01T19:07:32.863372Z",
     "shell.execute_reply.started": "2024-12-01T19:07:32.847771Z"
    },
    "trusted": true
   },
   "outputs": [],
   "source": [
    "def run_model(model, trainX, trainY, testX, testY):\n",
    "\n",
    "\n",
    "\n",
    "    print(\"training model \", get_current_datetime())\n",
    "\n",
    "\n",
    "\n",
    "    model.fit(trainX, trainY)\n",
    "\n",
    "\n",
    "\n",
    "    print(\"computing score \", get_current_datetime())\n",
    "\n",
    "\n",
    "\n",
    "    print(\"model score: \", model.score(trainX, trainY) , get_current_datetime())\n",
    "\n",
    "\n",
    "\n",
    "    y_pred = model.predict(testX)\n",
    "\n",
    "\n",
    "\n",
    "    rmse = metrics(y_pred, testY)\n",
    "\n",
    "\n",
    "\n",
    "    return model, rmse\n"
   ]
  },
  {
   "cell_type": "code",
   "execution_count": null,
   "id": "b3e82977",
   "metadata": {
    "execution": {
     "iopub.execute_input": "2024-12-01T19:07:32.866312Z",
     "iopub.status.busy": "2024-12-01T19:07:32.865869Z",
     "iopub.status.idle": "2024-12-01T19:07:32.877174Z",
     "shell.execute_reply": "2024-12-01T19:07:32.875976Z",
     "shell.execute_reply.started": "2024-12-01T19:07:32.866255Z"
    },
    "trusted": true
   },
   "outputs": [],
   "source": [
    "def createFile(model, X, Y, test_data, file_name):\n",
    "\n",
    "\n",
    "\n",
    "    print(\"fitting on X Y \", get_current_datetime())\n",
    "\n",
    "\n",
    "\n",
    "    model.fit(X, Y)\n",
    "\n",
    "\n",
    "\n",
    "\n",
    "\n",
    "\n",
    "\n",
    "    print(\"scoring on X Y \", get_current_datetime())\n",
    "\n",
    "\n",
    "\n",
    "    score = model.score(X, Y)\n",
    "\n",
    "\n",
    "\n",
    "    print(\"model test score: \", score, \"    \")\n",
    "\n",
    "\n",
    "\n",
    "\n",
    "\n",
    "\n",
    "\n",
    "    print(\"predicting on test \", get_current_datetime())\n",
    "\n",
    "\n",
    "\n",
    "    test_prediction = model.predict(test_data)\n",
    "\n",
    "\n",
    "\n",
    "    print(test_prediction)\n",
    "\n",
    "\n",
    "\n",
    "\n",
    "\n",
    "\n",
    "\n",
    "    print(\"getting sample submission \", get_current_datetime())\n",
    "\n",
    "\n",
    "\n",
    "    sample_data = pd.read_csv(r\"/kaggle/input/challenge2/sample_submission.csv\")\n",
    "\n",
    "\n",
    "\n",
    "    sample_data['price_doc'] = test_prediction\n",
    "\n",
    "\n",
    "\n",
    "\n",
    "\n",
    "\n",
    "\n",
    "    print(\"Saving submission \", get_current_datetime())\n",
    "\n",
    "\n",
    "\n",
    "    # Ensure the path ends with a backslash\n",
    "\n",
    "\n",
    "\n",
    "    base_path = r\"/kaggle/working/\"\n",
    "\n",
    "\n",
    "\n",
    "    full_path = base_path + file_name\n",
    "\n",
    "\n",
    "\n",
    "    sample_data.to_csv(full_path, index=False)\n",
    "\n",
    "\n",
    "\n",
    "    print(f\"File saved at: {full_path}\")\n"
   ]
  },
  {
   "cell_type": "code",
   "execution_count": null,
   "id": "85abfd51",
   "metadata": {
    "execution": {
     "iopub.execute_input": "2024-12-01T19:07:32.879179Z",
     "iopub.status.busy": "2024-12-01T19:07:32.878805Z",
     "iopub.status.idle": "2024-12-01T19:07:32.894999Z",
     "shell.execute_reply": "2024-12-01T19:07:32.893927Z",
     "shell.execute_reply.started": "2024-12-01T19:07:32.879148Z"
    },
    "trusted": true
   },
   "outputs": [],
   "source": [
    "def create_submission(model, trainX, trainY, testX, testY, X, Y, test_data, file_name):\n",
    "\n",
    "\n",
    "\n",
    "    model, rmse = run_model(model, trainX, trainY, testX, testY)\n",
    "\n",
    "\n",
    "\n",
    "    createFile(model, X, Y, test_data, file_name)\n"
   ]
  },
  {
   "cell_type": "code",
   "execution_count": null,
   "id": "e2ea7f5f",
   "metadata": {
    "execution": {
     "iopub.execute_input": "2024-12-01T19:07:32.896717Z",
     "iopub.status.busy": "2024-12-01T19:07:32.896220Z",
     "iopub.status.idle": "2024-12-01T19:09:24.482486Z",
     "shell.execute_reply": "2024-12-01T19:09:24.481135Z",
     "shell.execute_reply.started": "2024-12-01T19:07:32.896677Z"
    },
    "trusted": true
   },
   "outputs": [],
   "source": [
    "create_submission(model, trainX, trainY, testX, testY, X, Y, test_data, \"stacking1.csv\")\n"
   ]
  },
  {
   "cell_type": "code",
   "execution_count": null,
   "id": "5f374035",
   "metadata": {
    "execution": {
     "iopub.execute_input": "2024-12-01T19:09:24.485074Z",
     "iopub.status.busy": "2024-12-01T19:09:24.484582Z",
     "iopub.status.idle": "2024-12-01T19:09:24.499830Z",
     "shell.execute_reply": "2024-12-01T19:09:24.498747Z",
     "shell.execute_reply.started": "2024-12-01T19:09:24.485008Z"
    },
    "papermill": {
     "duration": 0.053693,
     "end_time": "2024-11-07T21:46:14.588137",
     "exception": false,
     "start_time": "2024-11-07T21:46:14.534444",
     "status": "completed"
    },
    "tags": [],
    "trusted": true
   },
   "outputs": [],
   "source": [
    "model\n"
   ]
  }
 ],
 "metadata": {
  "kaggle": {
   "accelerator": "none",
   "dataSources": [
    {
     "datasetId": 6034234,
     "sourceId": 9837068,
     "sourceType": "datasetVersion"
    },
    {
     "datasetId": 6034286,
     "sourceId": 9837128,
     "sourceType": "datasetVersion"
    },
    {
     "datasetId": 6164648,
     "sourceId": 10013045,
     "sourceType": "datasetVersion"
    },
    {
     "datasetId": 6179183,
     "sourceId": 10032577,
     "sourceType": "datasetVersion"
    }
   ],
   "dockerImageVersionId": 30786,
   "isGpuEnabled": false,
   "isInternetEnabled": false,
   "language": "python",
   "sourceType": "notebook"
  },
  "kernelspec": {
   "display_name": "Python 3",
   "language": "python",
   "name": "python3"
  },
  "language_info": {
   "codemirror_mode": {
    "name": "ipython",
    "version": 3
   },
   "file_extension": ".py",
   "mimetype": "text/x-python",
   "name": "python",
   "nbconvert_exporter": "python",
   "pygments_lexer": "ipython3",
   "version": "3.10.14"
  },
  "papermill": {
   "default_parameters": {},
   "duration": 5193.546342,
   "end_time": "2024-11-07T21:46:17.332142",
   "environment_variables": {},
   "exception": null,
   "input_path": "__notebook__.ipynb",
   "output_path": "__notebook__.ipynb",
   "parameters": {},
   "start_time": "2024-11-07T20:19:43.785800",
   "version": "2.6.0"
  }
 },
 "nbformat": 4,
 "nbformat_minor": 5
}
