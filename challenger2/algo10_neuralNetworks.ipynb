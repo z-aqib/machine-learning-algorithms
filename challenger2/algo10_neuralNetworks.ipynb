{
 "cells": [
  {
   "cell_type": "markdown",
   "id": "8a654c39-212d-4c33-86f9-2884b1bc22c6",
   "metadata": {
    "papermill": {
     "duration": 0.013014,
     "end_time": "2024-11-07T20:19:46.538794",
     "exception": false,
     "start_time": "2024-11-07T20:19:46.525780",
     "status": "completed"
    },
    "tags": []
   },
   "source": [
    "# Importing Libraries\n",
    "\n",
    "in this part we will install all the necessary libraries on command prompt and then import the necessary functions from those libraries. "
   ]
  },
  {
   "cell_type": "code",
   "execution_count": null,
   "id": "bd54b756",
   "metadata": {
    "execution": {
     "iopub.execute_input": "2024-11-30T16:03:57.666559Z",
     "iopub.status.busy": "2024-11-30T16:03:57.665984Z",
     "iopub.status.idle": "2024-11-30T16:03:57.677486Z",
     "shell.execute_reply": "2024-11-30T16:03:57.675922Z",
     "shell.execute_reply.started": "2024-11-30T16:03:57.666506Z"
    },
    "papermill": {
     "duration": 5.853121,
     "end_time": "2024-11-07T20:19:52.405091",
     "exception": false,
     "start_time": "2024-11-07T20:19:46.551970",
     "status": "completed"
    },
    "tags": [],
    "trusted": true
   },
   "outputs": [],
   "source": [
    "# importing all the necessary libraries\n",
    "\n",
    "import pandas as pd\n",
    "\n",
    "\n",
    "\n",
    "from numpy import mean\n",
    "\n",
    "import numpy as np\n",
    "\n",
    "import time\n",
    "\n",
    "\n",
    "\n",
    "# step 1: preprocessing\n",
    "\n",
    "from sklearn.impute import SimpleImputer # import some strategic imputer to fill in any missing values using mean\n",
    "\n",
    "from sklearn.preprocessing import MinMaxScaler, StandardScaler, MaxAbsScaler, RobustScaler, Normalizer # scale all the values to one range to avoid any biasness (this bias is seen in mostly naive bayes and knn etc)\n",
    "\n",
    "\n",
    "\n",
    "from sklearn.impute import KNNImputer # import some strategic imputer to fill missing values using KNN (finds the nearest neighbour and fills it with that value)\n",
    "\n",
    "\n",
    "\n",
    "from sklearn.feature_selection import SequentialFeatureSelector, SelectKBest, f_classif, VarianceThreshold\n",
    "\n",
    "\n",
    "\n",
    "from sklearn.decomposition import PCA\n",
    "\n",
    "from sklearn.compose import ColumnTransformer\n",
    "\n",
    "from sklearn.preprocessing import PolynomialFeatures, OneHotEncoder\n",
    "\n",
    "from sklearn.pipeline import Pipeline\n",
    "\n",
    "from sklearn.linear_model import Ridge, Lasso\n",
    "\n",
    "\n",
    "\n",
    "# step 2: data division\n",
    "\n",
    "from sklearn.model_selection import train_test_split, RepeatedKFold, cross_val_score, GridSearchCV, ParameterGrid # to divide the code into train/test using a specific percentage or with/without replacement\n",
    "\n",
    "\n",
    "\n",
    "# step 3: model\n",
    "\n",
    "from tensorflow.keras.models import Sequential\n",
    "\n",
    "from tensorflow.keras.layers import Dense, BatchNormalization, Dropout\n",
    "\n",
    "from tensorflow.keras.optimizers import Adam\n",
    "\n",
    "from tensorflow.keras.callbacks import ReduceLROnPlateau, EarlyStopping\n",
    "from tensorflow.keras.regularizers import l2\n",
    "\n",
    "from xgboost import XGBRegressor\n",
    "\n",
    "\n",
    "\n",
    "# step 4: displaying accuracy\n",
    "\n",
    "from sklearn.metrics import roc_auc_score, accuracy_score # to display the accuracy of our tree\n",
    "\n",
    "from sklearn.metrics import mean_squared_error, r2_score, mean_absolute_error, make_scorer\n",
    "\n",
    "\n",
    "\n",
    "# step 5: warning filter\n",
    "\n",
    "import warnings\n",
    "\n",
    "warnings.filterwarnings('ignore')\n"
   ]
  },
  {
   "cell_type": "markdown",
   "id": "3912ca3f",
   "metadata": {
    "papermill": {
     "duration": 0.011237,
     "end_time": "2024-11-07T20:19:52.458899",
     "exception": false,
     "start_time": "2024-11-07T20:19:52.447662",
     "status": "completed"
    },
    "tags": []
   },
   "source": [
    "# Data Loading\n",
    "\n",
    "data shall be loaded into variables as data sets using pandas and csv readers. they will be checked to see if they are loaded properly and will be loaded as 2 sets: train and test as per given in the kaggle data"
   ]
  },
  {
   "cell_type": "code",
   "execution_count": null,
   "id": "d9125e82",
   "metadata": {
    "execution": {
     "iopub.execute_input": "2024-11-30T16:03:57.685423Z",
     "iopub.status.busy": "2024-11-30T16:03:57.684177Z",
     "iopub.status.idle": "2024-11-30T16:04:07.788737Z",
     "shell.execute_reply": "2024-11-30T16:04:07.787625Z",
     "shell.execute_reply.started": "2024-11-30T16:03:57.685329Z"
    },
    "papermill": {
     "duration": 4.591761,
     "end_time": "2024-11-07T20:19:57.062353",
     "exception": false,
     "start_time": "2024-11-07T20:19:52.470592",
     "status": "completed"
    },
    "tags": [],
    "trusted": true
   },
   "outputs": [],
   "source": [
    "# lets load the training data set\n",
    "\n",
    "# train_data = pd.read_csv(r\"D:\\Users\\DELL\\OneDrive - Institute of Business Administration\\IBA\\sem5\\machine learning\\ipynb notebooks\\challenger2\\iml-fall-2024-challenge-2\\train\\train.csv\")\n",
    "train_data = pd.read_csv(r\"/kaggle/input/challenge2/train.csv\")\n",
    "\n",
    "\n",
    "# lets also check it by getting the first few rows of the data, there should be x1 - x78 and one target variable Y\n",
    "\n",
    "train_data.head() \n"
   ]
  },
  {
   "cell_type": "code",
   "execution_count": null,
   "id": "01f55297",
   "metadata": {
    "execution": {
     "iopub.execute_input": "2024-11-30T16:04:07.791550Z",
     "iopub.status.busy": "2024-11-30T16:04:07.790998Z",
     "iopub.status.idle": "2024-11-30T16:04:11.882338Z",
     "shell.execute_reply": "2024-11-30T16:04:11.881088Z",
     "shell.execute_reply.started": "2024-11-30T16:04:07.791485Z"
    },
    "papermill": {
     "duration": 1.948205,
     "end_time": "2024-11-07T20:19:59.023969",
     "exception": false,
     "start_time": "2024-11-07T20:19:57.075764",
     "status": "completed"
    },
    "tags": [],
    "trusted": true
   },
   "outputs": [],
   "source": [
    "# lets load the test data\n",
    "\n",
    "# test_data = pd.read_csv(r\"D:\\Users\\DELL\\OneDrive - Institute of Business Administration\\IBA\\sem5\\machine learning\\ipynb notebooks\\challenger2\\iml-fall-2024-challenge-2\\test\\test.csv\")\n",
    "test_data = pd.read_csv(r\"/kaggle/input/challenge2/test.csv\")\n",
    "\n",
    "\n",
    "# check if the data has been loaded by getting the first 5 rows - there should be x1 - x78 and no target variable Y as this is test data\n",
    "\n",
    "test_data.head() \n"
   ]
  },
  {
   "cell_type": "markdown",
   "id": "9db89cc8",
   "metadata": {
    "papermill": {
     "duration": 0.012664,
     "end_time": "2024-11-07T20:19:59.050712",
     "exception": false,
     "start_time": "2024-11-07T20:19:59.038048",
     "status": "completed"
    },
    "tags": []
   },
   "source": [
    "# Data Preprocessing\n",
    "\n",
    "before we start processing this data and using algorithms, we will fix this data first, this is called data preprocessing"
   ]
  },
  {
   "cell_type": "markdown",
   "id": "46a83e6e",
   "metadata": {},
   "source": [
    "## split data into categorical and numerical\n",
    "\n",
    "categorical will have one-hot and simple imputer of most frequent while numerical will have simple mean imputer and minmax scaler"
   ]
  },
  {
   "cell_type": "code",
   "execution_count": null,
   "id": "2dcb8e15",
   "metadata": {},
   "outputs": [],
   "source": []
  },
  {
   "cell_type": "code",
   "execution_count": null,
   "id": "306cc606",
   "metadata": {
    "execution": {
     "iopub.execute_input": "2024-11-30T16:04:11.884635Z",
     "iopub.status.busy": "2024-11-30T16:04:11.884072Z",
     "iopub.status.idle": "2024-11-30T16:04:12.201491Z",
     "shell.execute_reply": "2024-11-30T16:04:12.200194Z",
     "shell.execute_reply.started": "2024-11-30T16:04:11.884579Z"
    },
    "trusted": true
   },
   "outputs": [],
   "source": [
    "categorical_cols = train_data.select_dtypes(include=[\"object\"]).columns\n",
    "\n",
    "numerical_cols = train_data.select_dtypes(exclude=[\"object\"]).drop(columns=['price_doc']).columns\n"
   ]
  },
  {
   "cell_type": "code",
   "execution_count": null,
   "id": "1e90a6a2",
   "metadata": {
    "execution": {
     "iopub.execute_input": "2024-11-30T16:04:12.204708Z",
     "iopub.status.busy": "2024-11-30T16:04:12.204298Z",
     "iopub.status.idle": "2024-11-30T16:04:12.209675Z",
     "shell.execute_reply": "2024-11-30T16:04:12.208502Z",
     "shell.execute_reply.started": "2024-11-30T16:04:12.204674Z"
    },
    "trusted": true
   },
   "outputs": [],
   "source": [
    "# num_transformer = Pipeline(steps=[\n",
    "\n",
    "#     (\"imputer\", SimpleImputer(strategy=\"mean\")),\n",
    "\n",
    "#     (\"scaler\", StandardScaler())\n",
    "\n",
    "# ])\n",
    "\n",
    "# cat_transformer = Pipeline(steps=[\n",
    "\n",
    "#     (\"imputer\", SimpleImputer(strategy=\"most_frequent\")),\n",
    "\n",
    "#     (\"onehot\", OneHotEncoder(handle_unknown=\"ignore\"))\n",
    "\n",
    "# ])\n"
   ]
  },
  {
   "cell_type": "code",
   "execution_count": null,
   "id": "d0e20cc8",
   "metadata": {
    "execution": {
     "iopub.execute_input": "2024-11-30T16:04:12.211764Z",
     "iopub.status.busy": "2024-11-30T16:04:12.211253Z",
     "iopub.status.idle": "2024-11-30T16:04:12.224264Z",
     "shell.execute_reply": "2024-11-30T16:04:12.223251Z",
     "shell.execute_reply.started": "2024-11-30T16:04:12.211695Z"
    },
    "trusted": true
   },
   "outputs": [],
   "source": [
    "# # Column transformer for preprocessing\n",
    "\n",
    "# preprocessor = ColumnTransformer(\n",
    "\n",
    "#     transformers=[\n",
    "\n",
    "#         (\"num\", num_transformer, numerical_cols),\n",
    "\n",
    "#         (\"cat\", cat_transformer, categorical_cols)\n",
    "\n",
    "#     ]\n",
    "\n",
    "# )\n"
   ]
  },
  {
   "cell_type": "code",
   "execution_count": null,
   "id": "0a38c843-2865-488c-9261-f5f22ce53e18",
   "metadata": {
    "execution": {
     "iopub.execute_input": "2024-11-30T16:04:12.226293Z",
     "iopub.status.busy": "2024-11-30T16:04:12.225844Z",
     "iopub.status.idle": "2024-11-30T16:04:21.648706Z",
     "shell.execute_reply": "2024-11-30T16:04:21.647496Z",
     "shell.execute_reply.started": "2024-11-30T16:04:12.226247Z"
    },
    "trusted": true
   },
   "outputs": [],
   "source": [
    "# num_imputer = SimpleImputer(strategy=\"median\")\n",
    "# train_data[numerical_cols] = num_imputer.fit_transform(train_data[numerical_cols])\n",
    "# test_data[numerical_cols] = num_imputer.transform(test_data[numerical_cols])\n",
    "\n",
    "# impute with fill median\n",
    "train_data[numerical_cols] = train_data[numerical_cols].fillna(train_data[numerical_cols].median())\n",
    "test_data[numerical_cols] = test_data[numerical_cols].fillna(test_data[numerical_cols].median())\n"
   ]
  },
  {
   "cell_type": "code",
   "execution_count": null,
   "id": "07277cba-aed6-450a-b890-8d84113193f5",
   "metadata": {
    "execution": {
     "iopub.execute_input": "2024-11-30T16:04:21.650333Z",
     "iopub.status.busy": "2024-11-30T16:04:21.650021Z",
     "iopub.status.idle": "2024-11-30T16:04:23.692029Z",
     "shell.execute_reply": "2024-11-30T16:04:23.690707Z",
     "shell.execute_reply.started": "2024-11-30T16:04:21.650303Z"
    },
    "trusted": true
   },
   "outputs": [],
   "source": [
    "scaler = StandardScaler()\n",
    "train_data[numerical_cols] = scaler.fit_transform(train_data[numerical_cols])\n",
    "test_data[numerical_cols] = scaler.transform(test_data[numerical_cols])\n"
   ]
  },
  {
   "cell_type": "code",
   "execution_count": null,
   "id": "a364ad27-45ff-4dd5-a078-3fccea10cbe5",
   "metadata": {
    "execution": {
     "iopub.execute_input": "2024-11-30T16:04:23.694148Z",
     "iopub.status.busy": "2024-11-30T16:04:23.693728Z",
     "iopub.status.idle": "2024-11-30T16:04:25.967511Z",
     "shell.execute_reply": "2024-11-30T16:04:25.966162Z",
     "shell.execute_reply.started": "2024-11-30T16:04:23.694102Z"
    },
    "trusted": true
   },
   "outputs": [],
   "source": [
    "train_data = pd.get_dummies(train_data, columns=categorical_cols, drop_first=True)\n",
    "test_data = pd.get_dummies(test_data, columns=categorical_cols, drop_first=True)\n",
    "test_data = test_data.reindex(columns=train_data.columns, fill_value=0)\n",
    "# test_data = test_data.drop(columns=['price_doc'], errors=\"ignore\")\n"
   ]
  },
  {
   "cell_type": "markdown",
   "id": "2a5e67cf",
   "metadata": {},
   "source": [
    "## correlation matrix\n",
    "\n",
    "i tried getting the correlation matrix but apparently a 2000 columns matrix is very computationally expensive as it performs pairs for all. so dont run it. it takes too long and then fails. i ran for 5 minutes. "
   ]
  },
  {
   "cell_type": "code",
   "execution_count": null,
   "id": "aae908d1",
   "metadata": {
    "execution": {
     "iopub.execute_input": "2024-11-30T16:04:25.969500Z",
     "iopub.status.busy": "2024-11-30T16:04:25.968981Z",
     "iopub.status.idle": "2024-11-30T16:04:25.974754Z",
     "shell.execute_reply": "2024-11-30T16:04:25.973522Z",
     "shell.execute_reply.started": "2024-11-30T16:04:25.969455Z"
    },
    "trusted": true
   },
   "outputs": [],
   "source": [
    "# # DONT RUN\n",
    "\n",
    "# corr_matrix = train_data.corr()\n",
    "\n",
    "# print(corr_matrix)\n"
   ]
  },
  {
   "cell_type": "markdown",
   "id": "037a68f3-381c-4da9-8f45-40930e5a58ad",
   "metadata": {},
   "source": [
    "# variance filter"
   ]
  },
  {
   "cell_type": "code",
   "execution_count": null,
   "id": "8d7b7227-5c42-4d9c-a2dd-ad95463febde",
   "metadata": {
    "execution": {
     "iopub.execute_input": "2024-11-30T16:04:25.979636Z",
     "iopub.status.busy": "2024-11-30T16:04:25.979220Z",
     "iopub.status.idle": "2024-11-30T16:04:26.232716Z",
     "shell.execute_reply": "2024-11-30T16:04:26.231282Z",
     "shell.execute_reply.started": "2024-11-30T16:04:25.979597Z"
    },
    "trusted": true
   },
   "outputs": [],
   "source": [
    "# train_features = train_data.drop(columns=['price_doc'])\n"
   ]
  },
  {
   "cell_type": "code",
   "execution_count": null,
   "id": "54e68310-6e94-46ae-b0ac-eb2731ec2fba",
   "metadata": {
    "execution": {
     "iopub.execute_input": "2024-11-30T16:04:26.234266Z",
     "iopub.status.busy": "2024-11-30T16:04:26.233920Z",
     "iopub.status.idle": "2024-11-30T16:04:28.705041Z",
     "shell.execute_reply": "2024-11-30T16:04:28.703856Z",
     "shell.execute_reply.started": "2024-11-30T16:04:26.234232Z"
    },
    "trusted": true
   },
   "outputs": [],
   "source": [
    "# feature_variances = train_features.var(axis=0)\n",
    "\n",
    "# print(feature_variances.describe())\n"
   ]
  },
  {
   "cell_type": "code",
   "execution_count": null,
   "id": "9c8e0818-1927-435a-aafa-80209bf44639",
   "metadata": {
    "execution": {
     "iopub.execute_input": "2024-11-30T16:04:28.707215Z",
     "iopub.status.busy": "2024-11-30T16:04:28.706700Z",
     "iopub.status.idle": "2024-11-30T16:04:37.783126Z",
     "shell.execute_reply": "2024-11-30T16:04:37.781945Z",
     "shell.execute_reply.started": "2024-11-30T16:04:28.707176Z"
    },
    "trusted": true
   },
   "outputs": [],
   "source": [
    "# from sklearn.feature_selection import VarianceThreshold\n",
    "\n",
    "\n",
    "\n",
    "# selector = VarianceThreshold(threshold=0.01) \n",
    "\n",
    "# train_features_reduced = selector.fit_transform(train_features)\n",
    "\n",
    "# print(train_features_reduced)\n",
    "\n",
    "# print(train_features_reduced.shape)\n",
    "\n",
    "\n",
    "\n",
    "# test_features = selector.transform(test_data)\n"
   ]
  },
  {
   "cell_type": "markdown",
   "id": "463d5ca5",
   "metadata": {},
   "source": [
    "# PCA\n",
    "\n",
    "principal component analysis is applied"
   ]
  },
  {
   "cell_type": "code",
   "execution_count": null,
   "id": "f5d5a983-6b3d-41fb-95c3-115ad34028c4",
   "metadata": {
    "execution": {
     "iopub.execute_input": "2024-11-30T16:04:37.785191Z",
     "iopub.status.busy": "2024-11-30T16:04:37.784840Z",
     "iopub.status.idle": "2024-11-30T16:04:43.659112Z",
     "shell.execute_reply": "2024-11-30T16:04:43.657653Z",
     "shell.execute_reply.started": "2024-11-30T16:04:37.785157Z"
    },
    "trusted": true
   },
   "outputs": [],
   "source": [
    "# # plot an elbow graph to find the optimal number of components\n",
    "\n",
    "# import matplotlib.pyplot as plt\n",
    "\n",
    "# from sklearn.decomposition import PCA\n",
    "\n",
    "\n",
    "\n",
    "# pca = PCA()\n",
    "\n",
    "# pca.fit(train_features_reduced)  # Fit PCA to your dataset\n",
    "\n",
    "\n",
    "\n",
    "# plt.plot(pca.explained_variance_ratio_)\n",
    "\n",
    "# plt.xlabel('number of components')\n",
    "\n",
    "# plt.ylabel('cumulative explained variance')\n",
    "\n",
    "# pca.explained_variance_ratio_.round(3)\n",
    "\n",
    "# cumulative_variance = np.cumsum(pca.explained_variance_ratio_)\n",
    "\n",
    "# print(\"Cumulative explained variance: \", cumulative_variance)\n",
    "\n",
    "# print(cumulative_variance)\n"
   ]
  },
  {
   "cell_type": "code",
   "execution_count": null,
   "id": "68ef094f",
   "metadata": {
    "execution": {
     "iopub.execute_input": "2024-11-30T16:04:43.661171Z",
     "iopub.status.busy": "2024-11-30T16:04:43.660638Z",
     "iopub.status.idle": "2024-11-30T16:07:32.463819Z",
     "shell.execute_reply": "2024-11-30T16:07:32.461340Z",
     "shell.execute_reply.started": "2024-11-30T16:04:43.661117Z"
    },
    "trusted": true
   },
   "outputs": [],
   "source": [
    "# print(\"Principal components shape:\", pca.components_.shape)\n",
    "\n",
    "# print(\"Principal components:\\n\", pca.components_)\n",
    "\n",
    "\n",
    "\n",
    "# # Preserve the target variable\n",
    "\n",
    "# train_copy = train_data.copy()  # Backup original data\n",
    "\n",
    "# test_copy = test_data.copy()\n",
    "\n",
    "\n",
    "\n",
    "# # Separate target variable and features\n",
    "\n",
    "# train_features = train_data.drop(columns=['price_doc'])  # Features for PCA\n",
    "\n",
    "# train_target = train_data['price_doc']                  # Target variable\n",
    "\n",
    "\n",
    "\n",
    "# test_features = test_data.drop(columns=['price_doc'])    # Features for PCA\n",
    "\n",
    "\n",
    "\n",
    "# # Apply PCA transformation\n",
    "\n",
    "# pca = PCA(n_components=0.95)\n",
    "\n",
    "# train_features_pca = pca.fit_transform(train_features)  # Fit and transform train data\n",
    "\n",
    "# print(\"train transformed\")\n",
    "\n",
    "# test_features_pca = pca.transform(test_features)        # Transform test data\n",
    "\n",
    "\n",
    "\n",
    "# print(train_features_pca.shape)\n",
    "\n",
    "# print(test_features_pca.shape)\n"
   ]
  },
  {
   "cell_type": "code",
   "execution_count": null,
   "id": "bf316fbe-90bc-4c76-9f2e-129c88ebaca2",
   "metadata": {
    "execution": {
     "iopub.execute_input": "2024-11-30T16:07:32.466348Z",
     "iopub.status.busy": "2024-11-30T16:07:32.465682Z",
     "iopub.status.idle": "2024-11-30T16:07:32.487769Z",
     "shell.execute_reply": "2024-11-30T16:07:32.486081Z",
     "shell.execute_reply.started": "2024-11-30T16:07:32.466275Z"
    },
    "trusted": true
   },
   "outputs": [],
   "source": [
    "# # Reconstruct train_data and test_data with PCA-transformed features and target variable\n",
    "\n",
    "# train_data = pd.DataFrame(train_features_pca)\n",
    "\n",
    "# train_data['price_doc'] = train_target.reset_index(drop=True)\n",
    "\n",
    "\n",
    "\n",
    "# test_data = pd.DataFrame(test_features_pca)\n",
    "\n",
    "# test_data['price_doc'] = test_copy['price_doc'].reset_index(drop=True)\n"
   ]
  },
  {
   "cell_type": "code",
   "execution_count": null,
   "id": "10c2b8f6-6552-46b9-b861-27aec3d43414",
   "metadata": {
    "execution": {
     "iopub.execute_input": "2024-11-30T16:07:32.491448Z",
     "iopub.status.busy": "2024-11-30T16:07:32.490424Z",
     "iopub.status.idle": "2024-11-30T16:07:32.509726Z",
     "shell.execute_reply": "2024-11-30T16:07:32.506457Z",
     "shell.execute_reply.started": "2024-11-30T16:07:32.491352Z"
    },
    "trusted": true
   },
   "outputs": [],
   "source": [
    "print(\"train shape: \", train_data.shape)\n",
    "\n",
    "print(\"test shape: \", test_data.shape)\n"
   ]
  },
  {
   "cell_type": "markdown",
   "id": "2bd65ed6",
   "metadata": {
    "papermill": {
     "duration": 0.012565,
     "end_time": "2024-11-07T20:19:59.480848",
     "exception": false,
     "start_time": "2024-11-07T20:19:59.468283",
     "status": "completed"
    },
    "tags": []
   },
   "source": [
    "## Data Splitting - festures and targets\n",
    "\n",
    "the data in train_data set is of x1 - x78 columns (79 variables) and one target variable (Y). we must split that data so that we can perform data preprocessing on the features variables (will be referred to as X)."
   ]
  },
  {
   "cell_type": "code",
   "execution_count": null,
   "id": "565fb08f",
   "metadata": {
    "execution": {
     "iopub.execute_input": "2024-11-30T16:07:32.513756Z",
     "iopub.status.busy": "2024-11-30T16:07:32.513087Z",
     "iopub.status.idle": "2024-11-30T16:07:32.680773Z",
     "shell.execute_reply": "2024-11-30T16:07:32.679383Z",
     "shell.execute_reply.started": "2024-11-30T16:07:32.513686Z"
    },
    "papermill": {
     "duration": 0.123675,
     "end_time": "2024-11-07T20:19:59.617410",
     "exception": false,
     "start_time": "2024-11-07T20:19:59.493735",
     "status": "completed"
    },
    "tags": [],
    "trusted": true
   },
   "outputs": [],
   "source": [
    "# so in X, it is ALL the columns EXCEPT the last column known as 'Y' (we can confirm this using the train_data.head() we did earlier) so we must get all columns and DROP only the 'y' column\n",
    "\n",
    "X = train_data.drop(columns=['price_doc'])\n",
    "\n",
    "X # lets display X and see what it is now\n"
   ]
  },
  {
   "cell_type": "code",
   "execution_count": null,
   "id": "c5fd0e61",
   "metadata": {
    "execution": {
     "iopub.execute_input": "2024-11-30T16:07:32.682641Z",
     "iopub.status.busy": "2024-11-30T16:07:32.682277Z",
     "iopub.status.idle": "2024-11-30T16:07:32.694428Z",
     "shell.execute_reply": "2024-11-30T16:07:32.692650Z",
     "shell.execute_reply.started": "2024-11-30T16:07:32.682608Z"
    },
    "papermill": {
     "duration": 0.023643,
     "end_time": "2024-11-07T20:19:59.654979",
     "exception": false,
     "start_time": "2024-11-07T20:19:59.631336",
     "status": "completed"
    },
    "tags": [],
    "trusted": true
   },
   "outputs": [],
   "source": [
    "# so as per our X output, we can see that number of columns in train_data is 79 and number of columns in X is 78 meaning we have successfully performed our removal of target variable\n",
    "\n",
    "# now to get the target variable alone, we can just get it alone,\n",
    "\n",
    "Y = train_data['price_doc']\n",
    "\n",
    "Y # lets see what it is\n",
    "\n",
    "# as per our Y output, we can see it is of one column and 246k rows which means we have successfully extracted the target variable column\n"
   ]
  },
  {
   "cell_type": "markdown",
   "id": "b6e9cfd9",
   "metadata": {
    "papermill": {
     "duration": 0.013362,
     "end_time": "2024-11-07T20:20:00.756855",
     "exception": false,
     "start_time": "2024-11-07T20:20:00.743493",
     "status": "completed"
    },
    "tags": []
   },
   "source": [
    "# Filters\n",
    "\n",
    "there are two types of filters to filter out columns/features:\n",
    "\n",
    "- variance filter (a column which has same values throughout the column like all are sunny)\n",
    "\n",
    "- correlation filter (two columns which are same like weight in kg and weight in pounds)"
   ]
  },
  {
   "cell_type": "code",
   "execution_count": null,
   "id": "5934b338",
   "metadata": {
    "execution": {
     "iopub.execute_input": "2024-11-30T16:07:32.696945Z",
     "iopub.status.busy": "2024-11-30T16:07:32.696326Z",
     "iopub.status.idle": "2024-11-30T16:07:32.708001Z",
     "shell.execute_reply": "2024-11-30T16:07:32.706579Z",
     "shell.execute_reply.started": "2024-11-30T16:07:32.696808Z"
    },
    "papermill": {
     "duration": 0.02154,
     "end_time": "2024-11-07T20:20:00.791959",
     "exception": false,
     "start_time": "2024-11-07T20:20:00.770419",
     "status": "completed"
    },
    "tags": [],
    "trusted": true
   },
   "outputs": [],
   "source": [
    "# print(\"X : \", X.shape)\n",
    "\n",
    "# print(\"test data : \", test_data_processed.shape)\n"
   ]
  },
  {
   "cell_type": "code",
   "execution_count": null,
   "id": "f9c6b8a2",
   "metadata": {
    "execution": {
     "iopub.execute_input": "2024-11-30T16:07:32.709964Z",
     "iopub.status.busy": "2024-11-30T16:07:32.709510Z",
     "iopub.status.idle": "2024-11-30T16:07:32.732016Z",
     "shell.execute_reply": "2024-11-30T16:07:32.730509Z",
     "shell.execute_reply.started": "2024-11-30T16:07:32.709928Z"
    },
    "papermill": {
     "duration": 0.021917,
     "end_time": "2024-11-07T20:20:00.827296",
     "exception": false,
     "start_time": "2024-11-07T20:20:00.805379",
     "status": "completed"
    },
    "tags": [],
    "trusted": true
   },
   "outputs": [],
   "source": [
    "# variance filter\n",
    "\n",
    "# ----------------------------- case  -----------------------------\n",
    "\n",
    "# variance_filter = VarianceThreshold(threshold=0.001)  # Adjust the threshold if needed\n",
    "\n",
    "# X = variance_filter.fit_transform(X)\n",
    "\n",
    "# test_data_processed = variance_filter.fit_transform(test_data_processed)\n",
    "\n",
    "X.shape\n"
   ]
  },
  {
   "cell_type": "code",
   "execution_count": null,
   "id": "f1604caf",
   "metadata": {
    "execution": {
     "iopub.execute_input": "2024-11-30T16:07:32.734028Z",
     "iopub.status.busy": "2024-11-30T16:07:32.733544Z",
     "iopub.status.idle": "2024-11-30T16:07:32.746370Z",
     "shell.execute_reply": "2024-11-30T16:07:32.745071Z",
     "shell.execute_reply.started": "2024-11-30T16:07:32.733991Z"
    },
    "papermill": {
     "duration": 0.026133,
     "end_time": "2024-11-07T20:20:00.868012",
     "exception": false,
     "start_time": "2024-11-07T20:20:00.841879",
     "status": "completed"
    },
    "tags": [],
    "trusted": true
   },
   "outputs": [],
   "source": [
    "# test_data_processed.shape\n"
   ]
  },
  {
   "cell_type": "code",
   "execution_count": null,
   "id": "dd97f036",
   "metadata": {
    "execution": {
     "iopub.execute_input": "2024-11-30T16:07:32.748627Z",
     "iopub.status.busy": "2024-11-30T16:07:32.748087Z",
     "iopub.status.idle": "2024-11-30T16:07:32.764176Z",
     "shell.execute_reply": "2024-11-30T16:07:32.762956Z",
     "shell.execute_reply.started": "2024-11-30T16:07:32.748575Z"
    },
    "papermill": {
     "duration": 0.023607,
     "end_time": "2024-11-07T20:20:00.905745",
     "exception": false,
     "start_time": "2024-11-07T20:20:00.882138",
     "status": "completed"
    },
    "tags": [],
    "trusted": true
   },
   "outputs": [],
   "source": [
    "# # correlation filter\n",
    "\n",
    "# # ----------------------------- case  -----------------------------\n",
    "\n",
    "# corr_matrix = pd.DataFrame(X).corr().abs()\n",
    "\n",
    "# upper_tri = corr_matrix.where(np.triu(np.ones(corr_matrix.shape), k=1).astype(bool))\n",
    "\n",
    "# to_drop = [column for column in upper_tri.columns if any(upper_tri[column] > 0.9)]\n",
    "\n",
    "# X = pd.DataFrame(X).drop(columns=to_drop)\n",
    "\n",
    "# test_data_processed = pd.DataFrame(test_data_processed).drop(columns=to_drop)\n",
    "\n",
    "X.shape\n"
   ]
  },
  {
   "cell_type": "code",
   "execution_count": null,
   "id": "d523de93",
   "metadata": {
    "execution": {
     "iopub.execute_input": "2024-11-30T16:07:32.766258Z",
     "iopub.status.busy": "2024-11-30T16:07:32.765879Z",
     "iopub.status.idle": "2024-11-30T16:07:32.779080Z",
     "shell.execute_reply": "2024-11-30T16:07:32.777832Z",
     "shell.execute_reply.started": "2024-11-30T16:07:32.766223Z"
    },
    "papermill": {
     "duration": 0.023492,
     "end_time": "2024-11-07T20:20:00.943356",
     "exception": false,
     "start_time": "2024-11-07T20:20:00.919864",
     "status": "completed"
    },
    "tags": [],
    "trusted": true
   },
   "outputs": [],
   "source": [
    "# test_data_processed.shape\n"
   ]
  },
  {
   "cell_type": "markdown",
   "id": "5edcb49b",
   "metadata": {
    "papermill": {
     "duration": 0.016785,
     "end_time": "2024-11-07T20:20:00.974594",
     "exception": false,
     "start_time": "2024-11-07T20:20:00.957809",
     "status": "completed"
    },
    "tags": []
   },
   "source": [
    "## Data Splitting - train and validate\n",
    "\n",
    "now our test_data set is of rows with NO target variable whereas the train_data set is WITH target variable.\n",
    "\n",
    "our rules in machine learning is that we must train half or 70% of the data and then we must check its accuracy using the remaining half or 30% of the data - we can only check accuracy IF we have the answers i.e. the target variable. \n",
    "\n",
    "So, what we need to do is, is split the train_data set into 2, by a 70% and 30% ratio. we train the model using the 70% and then test the model using the 30% and then use that model to predict the test_data set."
   ]
  },
  {
   "cell_type": "code",
   "execution_count": null,
   "id": "237c64fd",
   "metadata": {
    "execution": {
     "iopub.execute_input": "2024-11-30T16:07:32.781967Z",
     "iopub.status.busy": "2024-11-30T16:07:32.780824Z",
     "iopub.status.idle": "2024-11-30T16:07:33.105839Z",
     "shell.execute_reply": "2024-11-30T16:07:33.104708Z",
     "shell.execute_reply.started": "2024-11-30T16:07:32.781925Z"
    },
    "papermill": {
     "duration": 0.273955,
     "end_time": "2024-11-07T20:20:01.264394",
     "exception": false,
     "start_time": "2024-11-07T20:20:00.990439",
     "status": "completed"
    },
    "tags": [],
    "trusted": true
   },
   "outputs": [],
   "source": [
    "# holdout method\n",
    "\n",
    "trainX, testX, trainY, testY = train_test_split(X, Y, test_size=0.2, random_state=2)\n"
   ]
  },
  {
   "cell_type": "markdown",
   "id": "b1485955",
   "metadata": {
    "papermill": {
     "duration": 0.013949,
     "end_time": "2024-11-07T20:20:01.292747",
     "exception": false,
     "start_time": "2024-11-07T20:20:01.278798",
     "status": "completed"
    },
    "tags": []
   },
   "source": [
    "# functions\n",
    "\n",
    "here we have defined functions like forward-backward selection, kbest selection & algorithm feature importance"
   ]
  },
  {
   "cell_type": "code",
   "execution_count": null,
   "id": "836da9a8",
   "metadata": {
    "execution": {
     "iopub.execute_input": "2024-11-30T16:07:33.107508Z",
     "iopub.status.busy": "2024-11-30T16:07:33.107168Z",
     "iopub.status.idle": "2024-11-30T16:07:33.116332Z",
     "shell.execute_reply": "2024-11-30T16:07:33.114896Z",
     "shell.execute_reply.started": "2024-11-30T16:07:33.107473Z"
    },
    "papermill": {
     "duration": 0.023729,
     "end_time": "2024-11-07T20:20:01.330428",
     "exception": false,
     "start_time": "2024-11-07T20:20:01.306699",
     "status": "completed"
    },
    "tags": [],
    "trusted": true
   },
   "outputs": [],
   "source": [
    "# forward backward selection\n",
    "\n",
    "def fbselection(direction, sample_model, features, X, trainX, trainY, testX, test_data_processed):\n",
    "\n",
    "    print(\"starting\")\n",
    "\n",
    "    selection = SequentialFeatureSelector(sample_model, direction=direction, n_features_to_select=features, scoring='roc_auc')\n",
    "\n",
    "    return modelSelector(sample_model, selection, X, trainX, trainY, testX, test_data_processed)\n",
    "\n",
    "\n",
    "\n",
    "def modelSelector(sample_model, selection, X, trainX, trainY, testX, test_data_processed):\n",
    "\n",
    "    print(\"start extracting\")\n",
    "\n",
    "    trainX = selection.fit_transform(trainX, trainY)\n",
    "\n",
    "    print(\"extracted, transforming\")\n",
    "\n",
    "    testX = selection.transform(testX)                                  # Ensure the test set is transformed similarly\n",
    "\n",
    "    test_data_processed = selection.transform(test_data_processed)      # test data is also transformed\n",
    "\n",
    "    X = selection.transform(X)                                          # full data transforming\n",
    "\n",
    "    print(\"transformed\")\n",
    "\n",
    "    return sample_model, X, trainX, trainY, testX, test_data_processed\n",
    "\n",
    "\n",
    "\n",
    "# kbest selection\n",
    "\n",
    "def kbest(features, X, trainX, trainY, testX, test_data_processed):\n",
    "\n",
    "    print(\"starting\")\n",
    "\n",
    "    selection = SelectKBest(score_func=f_classif, k=features)\n",
    "\n",
    "    return modelSelector(None, selection, X, trainX, trainY, testX, test_data_processed)\n"
   ]
  },
  {
   "cell_type": "code",
   "execution_count": null,
   "id": "0a0bc955",
   "metadata": {
    "execution": {
     "iopub.execute_input": "2024-11-30T16:07:33.118758Z",
     "iopub.status.busy": "2024-11-30T16:07:33.117801Z",
     "iopub.status.idle": "2024-11-30T16:07:33.138167Z",
     "shell.execute_reply": "2024-11-30T16:07:33.136873Z",
     "shell.execute_reply.started": "2024-11-30T16:07:33.118697Z"
    },
    "papermill": {
     "duration": 0.025235,
     "end_time": "2024-11-07T20:20:01.370030",
     "exception": false,
     "start_time": "2024-11-07T20:20:01.344795",
     "status": "completed"
    },
    "tags": [],
    "trusted": true
   },
   "outputs": [],
   "source": [
    "# feature importance function\n",
    "\n",
    "def featureImportance(sample_model, features, X, trainX, trainY, testX, test_data_processed):\n",
    "\n",
    "    print(\"fitting\")\n",
    "\n",
    "    \n",
    "\n",
    "    # fit the model\n",
    "\n",
    "    sample_model.fit(trainX, trainY)\n",
    "\n",
    "\n",
    "\n",
    "    print(\"extracting features\")\n",
    "\n",
    "\n",
    "\n",
    "    # extract all the feature names from data\n",
    "\n",
    "    importances = sample_model.feature_importances_\n",
    "\n",
    "    feature_names = train_data_processed.drop(columns=['price_doc']).columns\n",
    "\n",
    "    print(feature_names)\n",
    "\n",
    "\n",
    "\n",
    "    # sort with respect to importance\n",
    "\n",
    "    feature_importance_df = pd.DataFrame({\n",
    "\n",
    "        'Feature': feature_names,\n",
    "\n",
    "        'Importance': importances\n",
    "\n",
    "    }).sort_values(by='Importance', ascending=False)\n",
    "\n",
    "\n",
    "\n",
    "    # extract the top ones\n",
    "\n",
    "    top_features = feature_importance_df['Feature'].head(features).values\n",
    "\n",
    "    print(top_features)\n",
    "\n",
    "\n",
    "\n",
    "    # change all data according to the top ones we have selected\n",
    "\n",
    "    trainX = pd.DataFrame(trainX, columns=feature_names)[top_features]\n",
    "\n",
    "    testX = pd.DataFrame(testX, columns=feature_names)[top_features]\n",
    "\n",
    "    X = pd.DataFrame(X, columns=feature_names)[top_features]\n",
    "\n",
    "    test_data_processed = pd.DataFrame(test_data_processed, columns=feature_names)[top_features]\n",
    "\n",
    "\n",
    "\n",
    "    print(\"features extracted\")\n",
    "\n",
    "    \n",
    "\n",
    "    # retrain the model\n",
    "\n",
    "    sample_model.fit(trainX, trainY)\n",
    "\n",
    "\n",
    "\n",
    "    print(\"features trained\")\n",
    "\n",
    "    \n",
    "\n",
    "    return sample_model, X, trainX, trainY, testX, test_data_processed\n"
   ]
  },
  {
   "cell_type": "markdown",
   "id": "fc6047d2",
   "metadata": {
    "papermill": {
     "duration": 0.013797,
     "end_time": "2024-11-07T20:20:01.398362",
     "exception": false,
     "start_time": "2024-11-07T20:20:01.384565",
     "status": "completed"
    },
    "tags": []
   },
   "source": [
    "## model intialization\n",
    "\n",
    "here model is intialized"
   ]
  },
  {
   "cell_type": "code",
   "execution_count": null,
   "id": "4e14b109",
   "metadata": {
    "execution": {
     "iopub.execute_input": "2024-11-30T16:07:33.140051Z",
     "iopub.status.busy": "2024-11-30T16:07:33.139648Z",
     "iopub.status.idle": "2024-11-30T16:07:33.162442Z",
     "shell.execute_reply": "2024-11-30T16:07:33.161053Z",
     "shell.execute_reply.started": "2024-11-30T16:07:33.140015Z"
    },
    "trusted": true
   },
   "outputs": [],
   "source": [
    "# trainX = preprocessor.fit_transform(trainX)\n",
    "\n",
    "# print(\"trainX completed\")\n",
    "\n",
    "# testX = preprocessor.transform(testX)\n",
    "\n",
    "# print(\"testX completed\")\n",
    "\n",
    "# test_data = preprocessor.transform(test_data)\n",
    "\n",
    "# print(\"test data completed\")\n",
    "\n",
    "# X = preprocessor.transform(X)\n",
    "\n",
    "# print(X.shape)\n"
   ]
  },
  {
   "cell_type": "code",
   "execution_count": null,
   "id": "f018f381",
   "metadata": {},
   "outputs": [],
   "source": [
    "xgb_model =  XGBRegressor( max_depth=19, learning_rate=0.006, n_estimators=2400, subsample=0.88, reg_lambda=0.15, reg_alpha=0.85, device = 'cuda', verbose = 2, tree_method = 'gpu_hist', predictor = 'gpu_predictor' )\n"
   ]
  },
  {
   "cell_type": "code",
   "execution_count": null,
   "id": "67fd5fc1-5ecf-4e30-8c95-68ae73a75475",
   "metadata": {
    "execution": {
     "iopub.execute_input": "2024-11-30T16:07:33.168557Z",
     "iopub.status.busy": "2024-11-30T16:07:33.168088Z",
     "iopub.status.idle": "2024-11-30T16:07:33.177499Z",
     "shell.execute_reply": "2024-11-30T16:07:33.176111Z",
     "shell.execute_reply.started": "2024-11-30T16:07:33.168517Z"
    },
    "trusted": true
   },
   "outputs": [],
   "source": [
    "# # apply feature selection here\n",
    "\n",
    "xgb_model, X, trainX, trainY, testX, test_data = featureImportance(xgb_model, 100, X, trainX, trainY, testX, test_data)\n"
   ]
  },
  {
   "cell_type": "code",
   "execution_count": null,
   "id": "dc13e847",
   "metadata": {
    "execution": {
     "iopub.execute_input": "2024-11-30T16:07:33.179473Z",
     "iopub.status.busy": "2024-11-30T16:07:33.179039Z",
     "iopub.status.idle": "2024-11-30T16:07:33.199182Z",
     "shell.execute_reply": "2024-11-30T16:07:33.197732Z",
     "shell.execute_reply.started": "2024-11-30T16:07:33.179424Z"
    },
    "trusted": true
   },
   "outputs": [],
   "source": [
    "# Build the Neural Network\n",
    "def build_nn(input_dim):\n",
    "    model = Sequential()\n",
    "    model.add(Dense(2048, activation=\"relu\", input_dim=input_dim))\n",
    "    model.add(BatchNormalization())\n",
    "    model.add(Dropout(0.5))\n",
    "    model.add(Dense(1024, activation=\"relu\"))\n",
    "    model.add(BatchNormalization())\n",
    "    model.add(Dropout(0.4))\n",
    "    model.add(Dense(512, activation=\"relu\"))\n",
    "    model.add(BatchNormalization())\n",
    "    model.add(Dropout(0.4))\n",
    "    model.add(Dense(256, activation=\"relu\"))\n",
    "    model.add(BatchNormalization())\n",
    "    model.add(Dropout(0.3))\n",
    "    model.add(Dense(128, activation=\"relu\"))\n",
    "    model.add(BatchNormalization())\n",
    "    model.add(Dropout(0.3))\n",
    "    model.add(Dense(64, activation=\"relu\"))\n",
    "    model.add(BatchNormalization())\n",
    "    model.add(Dropout(0.2))\n",
    "    model.add(Dense(32, activation=\"relu\"))\n",
    "    model.add(BatchNormalization())\n",
    "    model.add(Dropout(0.2))\n",
    "    model.add(Dense(16, activation=\"relu\"))\n",
    "    model.add(BatchNormalization())\n",
    "    model.add(Dropout(0.2))\n",
    "    model.add(Dense(8, activation=\"relu\"))\n",
    "    model.add(Dense(1))  # Output layer\n",
    "    model.compile(optimizer=Adam(learning_rate=0.0015), loss=\"mse\")\n",
    "    return model\n"
   ]
  },
  {
   "cell_type": "code",
   "execution_count": null,
   "id": "ee3a4469",
   "metadata": {
    "execution": {
     "iopub.execute_input": "2024-11-30T16:18:49.634712Z",
     "iopub.status.busy": "2024-11-30T16:18:49.634041Z",
     "iopub.status.idle": "2024-11-30T16:23:48.846777Z",
     "shell.execute_reply": "2024-11-30T16:23:48.844965Z",
     "shell.execute_reply.started": "2024-11-30T16:18:49.634664Z"
    },
    "trusted": true
   },
   "outputs": [],
   "source": [
    "# Initialize the model\n",
    "\n",
    "nn_model = build_nn(trainX.shape[1])\n",
    "\n",
    "\n",
    "\n",
    "# Define callbacks\n",
    "lr_scheduler = ReduceLROnPlateau(monitor=\"val_loss\", factor=0.3, patience=3, verbose=1)\n",
    "early_stopping = EarlyStopping(monitor=\"val_loss\", patience=6, restore_best_weights=True, verbose=1)\n",
    "\n",
    "# Train the model\n",
    "nn_model = nn_model.fit(\n",
    "    trainX, trainY,\n",
    "    validation_data=(testX, testY),\n",
    "    epochs=250,\n",
    "    batch_size=64,\n",
    "    verbose=2,\n",
    "    callbacks=[lr_scheduler, early_stopping]\n",
    ")\n"
   ]
  },
  {
   "cell_type": "code",
   "execution_count": null,
   "id": "c712ede6-3f86-4fa7-9d43-25d2b25ffe59",
   "metadata": {
    "execution": {
     "iopub.execute_input": "2024-11-30T16:23:48.850282Z",
     "iopub.status.busy": "2024-11-30T16:23:48.849743Z",
     "iopub.status.idle": "2024-11-30T16:23:52.553713Z",
     "shell.execute_reply": "2024-11-30T16:23:52.552476Z",
     "shell.execute_reply.started": "2024-11-30T16:23:48.850228Z"
    },
    "trusted": true
   },
   "outputs": [],
   "source": [
    "y_pred_scaled = nn_model.predict(testX).flatten()\n",
    "\n",
    "y_pred = y_pred_scaled\n"
   ]
  },
  {
   "cell_type": "code",
   "execution_count": null,
   "id": "273b1c50-6178-43c3-96a0-48ae37215c0d",
   "metadata": {
    "execution": {
     "iopub.execute_input": "2024-11-30T16:23:52.555946Z",
     "iopub.status.busy": "2024-11-30T16:23:52.555486Z",
     "iopub.status.idle": "2024-11-30T16:23:52.561171Z",
     "shell.execute_reply": "2024-11-30T16:23:52.559981Z",
     "shell.execute_reply.started": "2024-11-30T16:23:52.555907Z"
    },
    "trusted": true
   },
   "outputs": [],
   "source": [
    "# apply feature selection here\n",
    "\n",
    "# nn_model, X, trainX, trainY, testX, test_data = featureImportance(nn_model, 100, X, trainX, trainY, testX, test_data)\n"
   ]
  },
  {
   "cell_type": "code",
   "execution_count": null,
   "id": "585f7723",
   "metadata": {
    "execution": {
     "iopub.execute_input": "2024-11-30T16:23:52.565214Z",
     "iopub.status.busy": "2024-11-30T16:23:52.564702Z",
     "iopub.status.idle": "2024-11-30T16:23:52.580229Z",
     "shell.execute_reply": "2024-11-30T16:23:52.578929Z",
     "shell.execute_reply.started": "2024-11-30T16:23:52.565160Z"
    },
    "papermill": {
     "duration": 0.02329,
     "end_time": "2024-11-07T20:20:14.141486",
     "exception": false,
     "start_time": "2024-11-07T20:20:14.118196",
     "status": "completed"
    },
    "tags": [],
    "trusted": true
   },
   "outputs": [],
   "source": [
    "print(\"X shape -> \", X.shape)\n",
    "\n",
    "print(\"trainX shape -> \", trainX.shape)\n",
    "\n",
    "print(\"testX shape -> \", testX.shape)\n",
    "\n",
    "print(\"test_data_processed shape -> \", test_data.shape)\n"
   ]
  },
  {
   "cell_type": "markdown",
   "id": "df4c4143",
   "metadata": {
    "papermill": {
     "duration": 0.014144,
     "end_time": "2024-11-07T20:20:14.233534",
     "exception": false,
     "start_time": "2024-11-07T20:20:14.219390",
     "status": "completed"
    },
    "tags": []
   },
   "source": [
    "## model running\n",
    "\n",
    "here we run the model"
   ]
  },
  {
   "cell_type": "code",
   "execution_count": null,
   "id": "62d5bab5",
   "metadata": {
    "execution": {
     "iopub.execute_input": "2024-11-30T16:23:52.582057Z",
     "iopub.status.busy": "2024-11-30T16:23:52.581676Z",
     "iopub.status.idle": "2024-11-30T16:23:55.945855Z",
     "shell.execute_reply": "2024-11-30T16:23:55.944473Z",
     "shell.execute_reply.started": "2024-11-30T16:23:52.582019Z"
    },
    "trusted": true
   },
   "outputs": [],
   "source": [
    "y_pred_scaled = nn_model.predict(testX).flatten()\n",
    "\n",
    "y_pred = y_pred_scaled\n"
   ]
  },
  {
   "cell_type": "code",
   "execution_count": null,
   "id": "63d8dfdb-4037-45e3-a316-c241b614eb3a",
   "metadata": {
    "execution": {
     "iopub.execute_input": "2024-11-30T16:23:55.948089Z",
     "iopub.status.busy": "2024-11-30T16:23:55.947589Z",
     "iopub.status.idle": "2024-11-30T16:23:55.958713Z",
     "shell.execute_reply": "2024-11-30T16:23:55.957214Z",
     "shell.execute_reply.started": "2024-11-30T16:23:55.948038Z"
    },
    "trusted": true
   },
   "outputs": [],
   "source": [
    "# display the mean squared error of this prediction\n",
    "\n",
    "mse = mean_squared_error(testY, y_pred)\n",
    "\n",
    "print(\"Mean squared error: %.2f\" % mse, \"   \")\n",
    "\n",
    "\n",
    "\n",
    "    # display the root mean squared error\n",
    "\n",
    "rmse = np.sqrt(mse)  # Root Mean Squared Error\n",
    "\n",
    "print(\"Root Mean squared error: %.2f\" % rmse, \"   \")\n"
   ]
  },
  {
   "cell_type": "code",
   "execution_count": null,
   "id": "cad49c9d",
   "metadata": {
    "execution": {
     "iopub.execute_input": "2024-11-30T16:23:55.961027Z",
     "iopub.status.busy": "2024-11-30T16:23:55.960529Z",
     "iopub.status.idle": "2024-11-30T16:24:09.132771Z",
     "shell.execute_reply": "2024-11-30T16:24:09.131354Z",
     "shell.execute_reply.started": "2024-11-30T16:23:55.960990Z"
    },
    "papermill": {
     "duration": 1652.161599,
     "end_time": "2024-11-07T20:47:46.409387",
     "exception": false,
     "start_time": "2024-11-07T20:20:14.247788",
     "status": "completed"
    },
    "tags": [],
    "trusted": true
   },
   "outputs": [],
   "source": [
    "# fit the model\n",
    "\n",
    "nn_model.fit(trainX, trainY)\n"
   ]
  },
  {
   "cell_type": "code",
   "execution_count": null,
   "id": "329dff96",
   "metadata": {
    "execution": {
     "iopub.execute_input": "2024-11-30T16:24:09.134952Z",
     "iopub.status.busy": "2024-11-30T16:24:09.134601Z",
     "iopub.status.idle": "2024-11-30T16:24:09.139904Z",
     "shell.execute_reply": "2024-11-30T16:24:09.138617Z",
     "shell.execute_reply.started": "2024-11-30T16:24:09.134919Z"
    },
    "trusted": true
   },
   "outputs": [],
   "source": [
    "# display information regarding the regression\n",
    "\n",
    "# print(\"model score: \", nn_model.score(trainX, trainY))\n",
    "\n",
    "# print(\"model coefficient: \", model.coef_)\n",
    "\n",
    "# print(\"model intercept: \", model.intercept_)\n"
   ]
  },
  {
   "cell_type": "code",
   "execution_count": null,
   "id": "01ee7e3b",
   "metadata": {
    "execution": {
     "iopub.execute_input": "2024-11-30T16:24:09.141522Z",
     "iopub.status.busy": "2024-11-30T16:24:09.141123Z",
     "iopub.status.idle": "2024-11-30T16:24:09.159956Z",
     "shell.execute_reply": "2024-11-30T16:24:09.158568Z",
     "shell.execute_reply.started": "2024-11-30T16:24:09.141482Z"
    },
    "trusted": true
   },
   "outputs": [],
   "source": [
    "# compute this predictions metrics\n",
    "\n",
    "def metrics(y_pred, testY):\n",
    "\n",
    "    print(\"starting to compute metrics\")\n",
    "\n",
    "    \n",
    "\n",
    "    # # display the accuracy of this prediction\n",
    "\n",
    "    # accuracy = accuracy_score(testY, y_pred)\n",
    "\n",
    "    # print(\"model accuracy = \", accuracy, \"   \")\n",
    "\n",
    "\n",
    "\n",
    "    # # now lets calculate the ROC AUC score according to this prediction\n",
    "\n",
    "    # roc_score = roc_auc_score(testY, y_pred)\n",
    "\n",
    "    # print(\"roc score = \", roc_score, \"   \")\n",
    "\n",
    "\n",
    "\n",
    "    # display the mean squared error of this prediction\n",
    "\n",
    "    mse = mean_squared_error(testY, y_pred)\n",
    "\n",
    "    print(\"Mean squared error: %.2f\" % mse, \"   \")\n",
    "\n",
    "\n",
    "\n",
    "    # display the root mean squared error\n",
    "\n",
    "    rmse = np.sqrt(mse)  # Root Mean Squared Error\n",
    "\n",
    "    print(\"Root Mean squared error: %.2f\" % rmse, \"   \")\n",
    "\n",
    "\n",
    "\n",
    "    # display the mean absolute error of this prediction\n",
    "\n",
    "    mae = mean_absolute_error(testY, y_pred)\n",
    "\n",
    "    print(\"Mean absolute error: %.2f\" % mae, \"   \")\n",
    "\n",
    "\n",
    "\n",
    "    # display the coeffeicient of determination of this preduction\n",
    "\n",
    "    r2_Score = r2_score(testY, y_pred)\n",
    "\n",
    "    print(\"Coefficient of determination: %.2f\" % r2_Score, \"    \")\n"
   ]
  },
  {
   "cell_type": "code",
   "execution_count": null,
   "id": "8275492e",
   "metadata": {
    "execution": {
     "iopub.execute_input": "2024-11-30T16:24:09.164169Z",
     "iopub.status.busy": "2024-11-30T16:24:09.163293Z",
     "iopub.status.idle": "2024-11-30T16:24:12.470007Z",
     "shell.execute_reply": "2024-11-30T16:24:12.468728Z",
     "shell.execute_reply.started": "2024-11-30T16:24:09.164128Z"
    },
    "trusted": true
   },
   "outputs": [],
   "source": [
    "# predict using this model USING PREDICT\n",
    "\n",
    "y_pred = nn_model.predict(testX)\n",
    "\n",
    "print(\"successfully predicted\")\n",
    "\n",
    "metrics(y_pred, testY)\n"
   ]
  },
  {
   "cell_type": "code",
   "execution_count": null,
   "id": "f8ee212f",
   "metadata": {
    "execution": {
     "iopub.execute_input": "2024-11-30T16:24:12.472508Z",
     "iopub.status.busy": "2024-11-30T16:24:12.471964Z",
     "iopub.status.idle": "2024-11-30T16:24:12.478991Z",
     "shell.execute_reply": "2024-11-30T16:24:12.477395Z",
     "shell.execute_reply.started": "2024-11-30T16:24:12.472454Z"
    },
    "trusted": true
   },
   "outputs": [],
   "source": [
    "# # predict using thus model USING PREDICTPROBA\n",
    "\n",
    "# y_pred_proba = model.predict_proba(testX)[:, 1]\n",
    "\n",
    "# print(\"successfully predicted\")\n",
    "\n",
    "# metrics(y_pred_proba, testY)\n"
   ]
  },
  {
   "cell_type": "markdown",
   "id": "937ae370",
   "metadata": {
    "papermill": {
     "duration": 0.019827,
     "end_time": "2024-11-07T20:55:49.286324",
     "exception": false,
     "start_time": "2024-11-07T20:55:49.266497",
     "status": "completed"
    },
    "tags": []
   },
   "source": [
    "## predict for test dataset\n",
    "\n",
    "fit the model and predict for test dataset"
   ]
  },
  {
   "cell_type": "code",
   "execution_count": null,
   "id": "8f6eb5c2",
   "metadata": {
    "execution": {
     "iopub.execute_input": "2024-11-30T16:24:12.481331Z",
     "iopub.status.busy": "2024-11-30T16:24:12.480900Z",
     "iopub.status.idle": "2024-11-30T16:24:30.510994Z",
     "shell.execute_reply": "2024-11-30T16:24:30.509667Z",
     "shell.execute_reply.started": "2024-11-30T16:24:12.481258Z"
    },
    "papermill": {
     "duration": 2249.874308,
     "end_time": "2024-11-07T21:33:19.180774",
     "exception": false,
     "start_time": "2024-11-07T20:55:49.306466",
     "status": "completed"
    },
    "tags": [],
    "trusted": true
   },
   "outputs": [],
   "source": [
    "nn_model.fit(X, Y)\n"
   ]
  },
  {
   "cell_type": "code",
   "execution_count": null,
   "id": "f18c11b3",
   "metadata": {
    "execution": {
     "iopub.execute_input": "2024-11-30T16:24:30.513200Z",
     "iopub.status.busy": "2024-11-30T16:24:30.512818Z",
     "iopub.status.idle": "2024-11-30T16:24:30.518592Z",
     "shell.execute_reply": "2024-11-30T16:24:30.516996Z",
     "shell.execute_reply.started": "2024-11-30T16:24:30.513163Z"
    },
    "trusted": true
   },
   "outputs": [],
   "source": [
    "# display information regarding the regression\n",
    "\n",
    "# print(\"model score: \", nn_model.score(X, Y), \"    \")\n",
    "\n",
    "# print(\"model coefficient: \", model.coef_)\n",
    "\n",
    "# print(\"model intercept: \", model.intercept_)\n"
   ]
  },
  {
   "cell_type": "code",
   "execution_count": null,
   "id": "1b4242b6-8581-4ea2-b379-984be4f079af",
   "metadata": {
    "execution": {
     "iopub.execute_input": "2024-11-30T17:10:40.740692Z",
     "iopub.status.busy": "2024-11-30T17:10:40.739281Z",
     "iopub.status.idle": "2024-11-30T17:10:40.749257Z",
     "shell.execute_reply": "2024-11-30T17:10:40.747817Z",
     "shell.execute_reply.started": "2024-11-30T17:10:40.740618Z"
    },
    "trusted": true
   },
   "outputs": [],
   "source": [
    "X.columns\n"
   ]
  },
  {
   "cell_type": "code",
   "execution_count": null,
   "id": "7b2c464c-c7da-4cf3-b102-43544981ccb6",
   "metadata": {
    "execution": {
     "iopub.execute_input": "2024-11-30T17:10:18.345310Z",
     "iopub.status.busy": "2024-11-30T17:10:18.342321Z",
     "iopub.status.idle": "2024-11-30T17:10:18.359709Z",
     "shell.execute_reply": "2024-11-30T17:10:18.358095Z",
     "shell.execute_reply.started": "2024-11-30T17:10:18.345240Z"
    },
    "trusted": true
   },
   "outputs": [],
   "source": [
    "test_data.columns\n"
   ]
  },
  {
   "cell_type": "code",
   "execution_count": null,
   "id": "e9c93967",
   "metadata": {
    "execution": {
     "iopub.execute_input": "2024-11-30T17:11:14.851723Z",
     "iopub.status.busy": "2024-11-30T17:11:14.851152Z",
     "iopub.status.idle": "2024-11-30T17:11:19.878060Z",
     "shell.execute_reply": "2024-11-30T17:11:19.876458Z",
     "shell.execute_reply.started": "2024-11-30T17:11:14.851677Z"
    },
    "papermill": {
     "duration": 774.78282,
     "end_time": "2024-11-07T21:46:13.986713",
     "exception": false,
     "start_time": "2024-11-07T21:33:19.203893",
     "status": "completed"
    },
    "tags": [],
    "trusted": true
   },
   "outputs": [],
   "source": [
    "y_test_pred_scaled = nn_model.predict(test_data.drop(columns=['price_doc'])).flatten()\n",
    "\n",
    "y_test_pred = y_test_pred_scaled\n"
   ]
  },
  {
   "cell_type": "markdown",
   "id": "98c8bfcf",
   "metadata": {
    "papermill": {
     "duration": 0.02242,
     "end_time": "2024-11-07T21:46:14.032429",
     "exception": false,
     "start_time": "2024-11-07T21:46:14.010009",
     "status": "completed"
    },
    "tags": []
   },
   "source": [
    "## write into csv\n",
    "\n",
    "now we write the predictions into the csv file"
   ]
  },
  {
   "cell_type": "code",
   "execution_count": null,
   "id": "e0573bfc",
   "metadata": {
    "execution": {
     "iopub.execute_input": "2024-11-30T17:13:19.611157Z",
     "iopub.status.busy": "2024-11-30T17:13:19.610622Z",
     "iopub.status.idle": "2024-11-30T17:13:19.899162Z",
     "shell.execute_reply": "2024-11-30T17:13:19.897641Z",
     "shell.execute_reply.started": "2024-11-30T17:13:19.611114Z"
    },
    "papermill": {
     "duration": 0.455346,
     "end_time": "2024-11-07T21:46:14.510398",
     "exception": false,
     "start_time": "2024-11-07T21:46:14.055052",
     "status": "completed"
    },
    "tags": [],
    "trusted": true
   },
   "outputs": [],
   "source": [
    "# sample_data = pd.read_csv(r\"D:\\Users\\DELL\\OneDrive - Institute of Business Administration\\IBA\\sem5\\machine learning\\ipynb notebooks\\challenger2\\iml-fall-2024-challenge-2\\sample_submission.csv\")\n",
    "sample_data = pd.read_csv(r\"/kaggle/input/challenge2/sample_submission.csv\")\n",
    "\n",
    "\n",
    "sample_data['price_doc'] = y_test_pred\n",
    "\n",
    "# sample_data = sample_data[]\n",
    "\n",
    "\n",
    "\n",
    "# sample_data.to_csv(r\"D:\\Users\\DELL\\OneDrive - Institute of Business Administration\\IBA\\sem5\\machine learning\\ipynb notebooks\\challenger2\\iml-fall-2024-challenge-2\\lasso1.csv\", index=False)\n",
    "sample_data.to_csv(r\"/kaggle/working/neuralnetwork1.csv\")\n",
    "sample_data\n"
   ]
  },
  {
   "cell_type": "code",
   "execution_count": null,
   "id": "b809270f-fe48-4fe3-9067-c4c8e946ee1c",
   "metadata": {
    "execution": {
     "iopub.execute_input": "2024-11-30T17:13:26.945129Z",
     "iopub.status.busy": "2024-11-30T17:13:26.944699Z",
     "iopub.status.idle": "2024-11-30T17:13:26.953230Z",
     "shell.execute_reply": "2024-11-30T17:13:26.951844Z",
     "shell.execute_reply.started": "2024-11-30T17:13:26.945092Z"
    },
    "papermill": {
     "duration": 0.053693,
     "end_time": "2024-11-07T21:46:14.588137",
     "exception": false,
     "start_time": "2024-11-07T21:46:14.534444",
     "status": "completed"
    },
    "tags": [],
    "trusted": true
   },
   "outputs": [],
   "source": [
    "nn_model\n"
   ]
  }
 ],
 "metadata": {
  "kaggle": {
   "accelerator": "none",
   "dataSources": [
    {
     "datasetId": 6034234,
     "sourceId": 9837068,
     "sourceType": "datasetVersion"
    },
    {
     "datasetId": 6034286,
     "sourceId": 9837128,
     "sourceType": "datasetVersion"
    },
    {
     "datasetId": 6164648,
     "sourceId": 10013045,
     "sourceType": "datasetVersion"
    }
   ],
   "dockerImageVersionId": 30786,
   "isGpuEnabled": false,
   "isInternetEnabled": true,
   "language": "python",
   "sourceType": "notebook"
  },
  "kernelspec": {
   "display_name": "Python 3",
   "language": "python",
   "name": "python3"
  },
  "language_info": {
   "codemirror_mode": {
    "name": "ipython",
    "version": 3
   },
   "file_extension": ".py",
   "mimetype": "text/x-python",
   "name": "python",
   "nbconvert_exporter": "python",
   "pygments_lexer": "ipython3",
   "version": "3.12.7"
  },
  "papermill": {
   "default_parameters": {},
   "duration": 5193.546342,
   "end_time": "2024-11-07T21:46:17.332142",
   "environment_variables": {},
   "exception": null,
   "input_path": "__notebook__.ipynb",
   "output_path": "__notebook__.ipynb",
   "parameters": {},
   "start_time": "2024-11-07T20:19:43.785800",
   "version": "2.6.0"
  }
 },
 "nbformat": 4,
 "nbformat_minor": 5
}
