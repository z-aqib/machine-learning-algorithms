{
 "cells": [
  {
   "cell_type": "markdown",
   "id": "fd67a471-fbf2-4cee-9b17-65cc82d7886f",
   "metadata": {
    "papermill": {
     "duration": 0.013014,
     "end_time": "2024-11-07T20:19:46.538794",
     "exception": false,
     "start_time": "2024-11-07T20:19:46.525780",
     "status": "completed"
    },
    "tags": []
   },
   "source": [
    "# Importing Libraries\n",
    "\n",
    "\n",
    "\n",
    "in this part we will install all the necessary libraries on command prompt and then import the necessary functions from those libraries. "
   ]
  },
  {
   "cell_type": "code",
   "execution_count": null,
   "id": "bd54b756",
   "metadata": {
    "execution": {
     "iopub.execute_input": "2024-11-27T21:17:41.256135Z",
     "iopub.status.busy": "2024-11-27T21:17:41.255492Z",
     "iopub.status.idle": "2024-11-27T21:17:41.269999Z",
     "shell.execute_reply": "2024-11-27T21:17:41.268522Z",
     "shell.execute_reply.started": "2024-11-27T21:17:41.256074Z"
    },
    "papermill": {
     "duration": 5.853121,
     "end_time": "2024-11-07T20:19:52.405091",
     "exception": false,
     "start_time": "2024-11-07T20:19:46.551970",
     "status": "completed"
    },
    "tags": [],
    "trusted": true
   },
   "outputs": [],
   "source": [
    "# importing all the necessary libraries\n",
    "\n",
    "\n",
    "\n",
    "import pandas as pd\n",
    "\n",
    "\n",
    "\n",
    "\n",
    "\n",
    "\n",
    "\n",
    "from numpy import mean\n",
    "\n",
    "\n",
    "\n",
    "import numpy as np\n",
    "\n",
    "\n",
    "\n",
    "import time\n",
    "\n",
    "\n",
    "\n",
    "\n",
    "\n",
    "\n",
    "\n",
    "# step 1: preprocessing\n",
    "\n",
    "\n",
    "\n",
    "from sklearn.impute import SimpleImputer # import some strategic imputer to fill in any missing values using mean\n",
    "\n",
    "\n",
    "\n",
    "from sklearn.preprocessing import MinMaxScaler, StandardScaler, MaxAbsScaler, RobustScaler, Normalizer # scale all the values to one range to avoid any biasness (this bias is seen in mostly naive bayes and knn etc)\n",
    "\n",
    "\n",
    "\n",
    "\n",
    "\n",
    "\n",
    "\n",
    "from sklearn.impute import KNNImputer # import some strategic imputer to fill missing values using KNN (finds the nearest neighbour and fills it with that value)\n",
    "\n",
    "\n",
    "\n",
    "\n",
    "\n",
    "\n",
    "\n",
    "from sklearn.feature_selection import SequentialFeatureSelector, SelectKBest, f_classif, VarianceThreshold, f_regression\n",
    "\n",
    "\n",
    "\n",
    "\n",
    "\n",
    "\n",
    "\n",
    "from sklearn.decomposition import PCA\n",
    "\n",
    "\n",
    "\n",
    "from sklearn.compose import ColumnTransformer\n",
    "\n",
    "\n",
    "\n",
    "from sklearn.preprocessing import PolynomialFeatures, OneHotEncoder\n",
    "\n",
    "\n",
    "\n",
    "from sklearn.pipeline import Pipeline\n",
    "\n",
    "\n",
    "\n",
    "from sklearn.linear_model import Ridge, Lasso\n",
    "\n",
    "\n",
    "\n",
    "\n",
    "\n",
    "\n",
    "\n",
    "# step 2: data division\n",
    "\n",
    "\n",
    "\n",
    "from sklearn.model_selection import train_test_split, RepeatedKFold, cross_val_score, GridSearchCV, ParameterGrid # to divide the code into train/test using a specific percentage or with/without replacement\n",
    "\n",
    "\n",
    "\n",
    "\n",
    "\n",
    "\n",
    "\n",
    "# step 3: model\n",
    "\n",
    "\n",
    "\n",
    "from sklearn.ensemble import GradientBoostingRegressor, AdaBoostRegressor\n",
    "from sklearn.feature_selection import SelectFromModel\n",
    "from sklearn.pipeline import make_pipeline\n",
    "from sklearn.ensemble import RandomForestRegressor\n",
    "from sklearn.tree import DecisionTreeRegressor\n",
    "\n",
    "\n",
    "\n",
    "\n",
    "# step 4: displaying accuracy\n",
    "\n",
    "\n",
    "\n",
    "from sklearn.metrics import roc_auc_score, accuracy_score # to display the accuracy of our tree\n",
    "\n",
    "\n",
    "\n",
    "from sklearn.metrics import mean_squared_error, r2_score, mean_absolute_error, make_scorer\n",
    "\n",
    "\n",
    "\n",
    "\n",
    "\n",
    "\n",
    "\n",
    "# step 5: warning filter\n",
    "\n",
    "\n",
    "\n",
    "import warnings\n",
    "\n",
    "\n",
    "\n",
    "warnings.filterwarnings('ignore')"
   ]
  },
  {
   "cell_type": "code",
   "execution_count": null,
   "id": "e46341fe",
   "metadata": {
    "execution": {
     "iopub.execute_input": "2024-11-27T21:17:41.272818Z",
     "iopub.status.busy": "2024-11-27T21:17:41.272333Z",
     "iopub.status.idle": "2024-11-27T21:17:41.294959Z",
     "shell.execute_reply": "2024-11-27T21:17:41.293645Z",
     "shell.execute_reply.started": "2024-11-27T21:17:41.272779Z"
    },
    "trusted": true
   },
   "outputs": [],
   "source": [
    "import sklearn\n",
    "\n",
    "\n",
    "\n",
    "print(sklearn.__version__)"
   ]
  },
  {
   "cell_type": "code",
   "execution_count": null,
   "id": "890faf0a",
   "metadata": {
    "execution": {
     "iopub.execute_input": "2024-11-27T21:17:41.297957Z",
     "iopub.status.busy": "2024-11-27T21:17:41.297363Z",
     "iopub.status.idle": "2024-11-27T21:17:41.313154Z",
     "shell.execute_reply": "2024-11-27T21:17:41.311592Z",
     "shell.execute_reply.started": "2024-11-27T21:17:41.297891Z"
    },
    "trusted": true
   },
   "outputs": [],
   "source": [
    "# pip install --upgrade scikit-learn"
   ]
  },
  {
   "cell_type": "markdown",
   "id": "3912ca3f",
   "metadata": {
    "papermill": {
     "duration": 0.011237,
     "end_time": "2024-11-07T20:19:52.458899",
     "exception": false,
     "start_time": "2024-11-07T20:19:52.447662",
     "status": "completed"
    },
    "tags": []
   },
   "source": [
    "# Data Loading\n",
    "\n",
    "\n",
    "\n",
    "data shall be loaded into variables as data sets using pandas and csv readers. they will be checked to see if they are loaded properly and will be loaded as 2 sets: train and test as per given in the kaggle data"
   ]
  },
  {
   "cell_type": "code",
   "execution_count": null,
   "id": "d9125e82",
   "metadata": {
    "execution": {
     "iopub.execute_input": "2024-11-27T21:17:41.334779Z",
     "iopub.status.busy": "2024-11-27T21:17:41.334209Z",
     "iopub.status.idle": "2024-11-27T21:17:53.286284Z",
     "shell.execute_reply": "2024-11-27T21:17:53.285123Z",
     "shell.execute_reply.started": "2024-11-27T21:17:41.334722Z"
    },
    "papermill": {
     "duration": 4.591761,
     "end_time": "2024-11-07T20:19:57.062353",
     "exception": false,
     "start_time": "2024-11-07T20:19:52.470592",
     "status": "completed"
    },
    "tags": [],
    "trusted": true
   },
   "outputs": [],
   "source": [
    "# lets load the training data set\n",
    "\n",
    "\n",
    "\n",
    "# train_data = pd.read_csv(r\"/kaggle/input/challenge-2/train/train.csv\")\n",
    "train_data = pd.read_csv(r\"D:\\Users\\DELL\\OneDrive - Institute of Business Administration\\IBA\\sem5\\machine learning\\ipynb notebooks\\challenger2\\iml-fall-2024-challenge-2\\train\\train.csv\")\n",
    "\n",
    "\n",
    "\n",
    "\n",
    "\n",
    "\n",
    "# lets also check it by getting the first few rows of the data, there should be x1 - x78 and one target variable Y\n",
    "\n",
    "\n",
    "\n",
    "train_data.head() "
   ]
  },
  {
   "cell_type": "code",
   "execution_count": null,
   "id": "01f55297",
   "metadata": {
    "execution": {
     "iopub.execute_input": "2024-11-27T21:17:53.288506Z",
     "iopub.status.busy": "2024-11-27T21:17:53.288000Z",
     "iopub.status.idle": "2024-11-27T21:17:57.512130Z",
     "shell.execute_reply": "2024-11-27T21:17:57.510843Z",
     "shell.execute_reply.started": "2024-11-27T21:17:53.288452Z"
    },
    "papermill": {
     "duration": 1.948205,
     "end_time": "2024-11-07T20:19:59.023969",
     "exception": false,
     "start_time": "2024-11-07T20:19:57.075764",
     "status": "completed"
    },
    "tags": [],
    "trusted": true
   },
   "outputs": [],
   "source": [
    "# lets load the test data\n",
    "\n",
    "\n",
    "\n",
    "# test_data = pd.read_csv(r\"/kaggle/input/challenge-2/test/test.csv\")\n",
    "test_data = pd.read_csv(r\"D:\\Users\\DELL\\OneDrive - Institute of Business Administration\\IBA\\sem5\\machine learning\\ipynb notebooks\\challenger2\\iml-fall-2024-challenge-2\\test\\test.csv\")\n",
    "\n",
    "\n",
    "\n",
    "\n",
    "# check if the data has been loaded by getting the first 5 rows - there should be x1 - x78 and no target variable Y as this is test data\n",
    "\n",
    "\n",
    "\n",
    "test_data.head() "
   ]
  },
  {
   "cell_type": "markdown",
   "id": "9db89cc8",
   "metadata": {
    "papermill": {
     "duration": 0.012664,
     "end_time": "2024-11-07T20:19:59.050712",
     "exception": false,
     "start_time": "2024-11-07T20:19:59.038048",
     "status": "completed"
    },
    "tags": []
   },
   "source": [
    "# Data Preprocessing\n",
    "\n",
    "\n",
    "\n",
    "before we start processing this data and using algorithms, we will fix this data first, this is called data preprocessing"
   ]
  },
  {
   "cell_type": "markdown",
   "id": "46a83e6e",
   "metadata": {},
   "source": [
    "## split data into categorical and numerical\n",
    "\n",
    "\n",
    "\n",
    "categorical will have one-hot and simple imputer of most frequent while numerical will have simple mean imputer and minmax scaler"
   ]
  },
  {
   "cell_type": "code",
   "execution_count": null,
   "id": "306cc606",
   "metadata": {
    "execution": {
     "iopub.execute_input": "2024-11-27T21:17:57.514180Z",
     "iopub.status.busy": "2024-11-27T21:17:57.513696Z",
     "iopub.status.idle": "2024-11-27T21:17:57.805976Z",
     "shell.execute_reply": "2024-11-27T21:17:57.804976Z",
     "shell.execute_reply.started": "2024-11-27T21:17:57.514129Z"
    },
    "trusted": true
   },
   "outputs": [],
   "source": [
    "categorical_cols = train_data.select_dtypes(include=[\"object\"]).columns\n",
    "\n",
    "\n",
    "\n",
    "numerical_cols = train_data.select_dtypes(exclude=[\"object\"]).drop(columns=['price_doc']).columns"
   ]
  },
  {
   "cell_type": "markdown",
   "id": "068886a2-5354-46a9-afb1-ce5995ac6bfc",
   "metadata": {},
   "source": []
  },
  {
   "cell_type": "markdown",
   "id": "a3d3b9f4-49f7-4c84-931e-dff9c756dd75",
   "metadata": {},
   "source": [
    "# Imputers"
   ]
  },
  {
   "cell_type": "code",
   "execution_count": null,
   "id": "6b8f1a00-39b3-4207-9f2b-5ad588eded07",
   "metadata": {
    "execution": {
     "iopub.execute_input": "2024-11-27T21:17:57.807567Z",
     "iopub.status.busy": "2024-11-27T21:17:57.807199Z",
     "iopub.status.idle": "2024-11-27T21:17:59.465126Z",
     "shell.execute_reply": "2024-11-27T21:17:59.463754Z",
     "shell.execute_reply.started": "2024-11-27T21:17:57.807531Z"
    },
    "trusted": true
   },
   "outputs": [],
   "source": [
    "num_imputer = SimpleImputer(strategy=\"mean\")\n",
    "\n",
    "train_data[numerical_cols] = num_imputer.fit_transform(train_data[numerical_cols])\n",
    "\n",
    "test_data[numerical_cols] = num_imputer.transform(test_data[numerical_cols])\n",
    "\n",
    "\n",
    "\n",
    "cat_imputer = SimpleImputer(strategy=\"most_frequent\")\n",
    "\n",
    "train_data[categorical_cols] = cat_imputer.fit_transform(train_data[categorical_cols])\n",
    "\n",
    "test_data[categorical_cols] = cat_imputer.transform(test_data[categorical_cols])"
   ]
  },
  {
   "cell_type": "markdown",
   "id": "f1be982f-df0e-481d-a8ce-9c1cee449a56",
   "metadata": {},
   "source": [
    "# Scaler"
   ]
  },
  {
   "cell_type": "code",
   "execution_count": null,
   "id": "ce83d8bf-4f13-4063-be48-43b1e3fce721",
   "metadata": {
    "execution": {
     "iopub.execute_input": "2024-11-27T21:17:59.466804Z",
     "iopub.status.busy": "2024-11-27T21:17:59.466416Z",
     "iopub.status.idle": "2024-11-27T21:18:01.317818Z",
     "shell.execute_reply": "2024-11-27T21:18:01.316469Z",
     "shell.execute_reply.started": "2024-11-27T21:17:59.466767Z"
    },
    "trusted": true
   },
   "outputs": [],
   "source": [
    "scaler = MinMaxScaler()\n",
    "\n",
    "train_data[numerical_cols] = scaler.fit_transform(train_data[numerical_cols])\n",
    "\n",
    "test_data[numerical_cols] = scaler.transform(test_data[numerical_cols])"
   ]
  },
  {
   "cell_type": "markdown",
   "id": "47600083-8cb3-455a-98fd-c65c7d1841d7",
   "metadata": {},
   "source": [
    "# One hot"
   ]
  },
  {
   "cell_type": "code",
   "execution_count": null,
   "id": "1e90a6a2",
   "metadata": {
    "execution": {
     "iopub.execute_input": "2024-11-27T21:18:01.321907Z",
     "iopub.status.busy": "2024-11-27T21:18:01.321483Z",
     "iopub.status.idle": "2024-11-27T21:18:03.814326Z",
     "shell.execute_reply": "2024-11-27T21:18:03.813148Z",
     "shell.execute_reply.started": "2024-11-27T21:18:01.321868Z"
    },
    "trusted": true
   },
   "outputs": [],
   "source": [
    "train_data = pd.get_dummies(train_data, columns=categorical_cols, drop_first=True)\n",
    "\n",
    "test_data = pd.get_dummies(test_data, columns=categorical_cols, drop_first=True)\n",
    "\n",
    "# Align the test data with the training data columns\n",
    "\n",
    "test_data = test_data.reindex(columns=train_data.columns, fill_value=0)\n",
    "\n",
    "\n",
    "\n",
    "test_data = test_data.drop(columns=['price_doc'], errors=\"ignore\")"
   ]
  },
  {
   "cell_type": "markdown",
   "id": "2a5e67cf",
   "metadata": {},
   "source": [
    "## correlation matrix\n",
    "\n",
    "\n",
    "\n",
    "i tried getting the correlation matrix but apparently a 2000 columns matrix is very computationally expensive as it performs pairs for all. so dont run it. it takes too long and then fails. i ran for 5 minutes. "
   ]
  },
  {
   "cell_type": "code",
   "execution_count": null,
   "id": "aae908d1",
   "metadata": {
    "execution": {
     "iopub.execute_input": "2024-11-27T21:18:03.816170Z",
     "iopub.status.busy": "2024-11-27T21:18:03.815816Z",
     "iopub.status.idle": "2024-11-27T21:18:03.820808Z",
     "shell.execute_reply": "2024-11-27T21:18:03.819600Z",
     "shell.execute_reply.started": "2024-11-27T21:18:03.816136Z"
    },
    "trusted": true
   },
   "outputs": [],
   "source": [
    "# # DONT RUN\n",
    "\n",
    "\n",
    "\n",
    "# corr_matrix = train_data.corr()\n",
    "\n",
    "\n",
    "\n",
    "# print(corr_matrix)"
   ]
  },
  {
   "cell_type": "markdown",
   "id": "463d5ca5",
   "metadata": {},
   "source": [
    "# PCA\n",
    "\n",
    "\n",
    "\n",
    "principal component analysis is applied"
   ]
  },
  {
   "cell_type": "code",
   "execution_count": null,
   "id": "68ef094f",
   "metadata": {
    "execution": {
     "iopub.execute_input": "2024-11-27T21:18:03.823625Z",
     "iopub.status.busy": "2024-11-27T21:18:03.822485Z",
     "iopub.status.idle": "2024-11-27T21:18:03.834949Z",
     "shell.execute_reply": "2024-11-27T21:18:03.833866Z",
     "shell.execute_reply.started": "2024-11-27T21:18:03.823571Z"
    },
    "trusted": true
   },
   "outputs": [],
   "source": [
    "# # -------------------------- case  --------------------------\n",
    "\n",
    "\n",
    "\n",
    "# pca = PCA(n_components=33)                                 \n",
    "\n",
    "\n",
    "\n",
    "# X = pca.fit_transform(X)\n",
    "\n",
    "\n",
    "\n",
    "# test_data_processed = pca.transform(test_data_processed)"
   ]
  },
  {
   "cell_type": "markdown",
   "id": "2bd65ed6",
   "metadata": {
    "papermill": {
     "duration": 0.012565,
     "end_time": "2024-11-07T20:19:59.480848",
     "exception": false,
     "start_time": "2024-11-07T20:19:59.468283",
     "status": "completed"
    },
    "tags": []
   },
   "source": [
    "## Data Splitting - festures and targets\n",
    "\n",
    "\n",
    "\n",
    "the data in train_data set is of x1 - x78 columns (79 variables) and one target variable (Y). we must split that data so that we can perform data preprocessing on the features variables (will be referred to as X)."
   ]
  },
  {
   "cell_type": "code",
   "execution_count": null,
   "id": "565fb08f",
   "metadata": {
    "execution": {
     "iopub.execute_input": "2024-11-27T21:18:03.836560Z",
     "iopub.status.busy": "2024-11-27T21:18:03.836209Z",
     "iopub.status.idle": "2024-11-27T21:18:04.126260Z",
     "shell.execute_reply": "2024-11-27T21:18:04.124988Z",
     "shell.execute_reply.started": "2024-11-27T21:18:03.836527Z"
    },
    "papermill": {
     "duration": 0.123675,
     "end_time": "2024-11-07T20:19:59.617410",
     "exception": false,
     "start_time": "2024-11-07T20:19:59.493735",
     "status": "completed"
    },
    "tags": [],
    "trusted": true
   },
   "outputs": [],
   "source": [
    "# so in X, it is ALL the columns EXCEPT the last column known as 'Y' (we can confirm this using the train_data.head() we did earlier) so we must get all columns and DROP only the 'y' column\n",
    "\n",
    "\n",
    "\n",
    "X = train_data.drop(columns=['price_doc'])\n",
    "\n",
    "\n",
    "\n",
    "X # lets display X and see what it is now"
   ]
  },
  {
   "cell_type": "code",
   "execution_count": null,
   "id": "c5fd0e61",
   "metadata": {
    "execution": {
     "iopub.execute_input": "2024-11-27T21:18:04.128037Z",
     "iopub.status.busy": "2024-11-27T21:18:04.127646Z",
     "iopub.status.idle": "2024-11-27T21:18:04.138786Z",
     "shell.execute_reply": "2024-11-27T21:18:04.137458Z",
     "shell.execute_reply.started": "2024-11-27T21:18:04.128002Z"
    },
    "papermill": {
     "duration": 0.023643,
     "end_time": "2024-11-07T20:19:59.654979",
     "exception": false,
     "start_time": "2024-11-07T20:19:59.631336",
     "status": "completed"
    },
    "tags": [],
    "trusted": true
   },
   "outputs": [],
   "source": [
    "# so as per our X output, we can see that number of columns in train_data is 79 and number of columns in X is 78 meaning we have successfully performed our removal of target variable\n",
    "\n",
    "\n",
    "\n",
    "# now to get the target variable alone, we can just get it alone,\n",
    "\n",
    "\n",
    "\n",
    "Y = train_data['price_doc']\n",
    "\n",
    "\n",
    "\n",
    "Y # lets see what it is\n",
    "\n",
    "\n",
    "\n",
    "# as per our Y output, we can see it is of one column and 246k rows which means we have successfully extracted the target variable column"
   ]
  },
  {
   "cell_type": "markdown",
   "id": "b6e9cfd9",
   "metadata": {
    "papermill": {
     "duration": 0.013362,
     "end_time": "2024-11-07T20:20:00.756855",
     "exception": false,
     "start_time": "2024-11-07T20:20:00.743493",
     "status": "completed"
    },
    "tags": []
   },
   "source": [
    "# Filters\n",
    "\n",
    "\n",
    "\n",
    "there are two types of filters to filter out columns/features:\n",
    "\n",
    "\n",
    "\n",
    "- variance filter (a column which has same values throughout the column like all are sunny)\n",
    "\n",
    "\n",
    "\n",
    "- correlation filter (two columns which are same like weight in kg and weight in pounds)"
   ]
  },
  {
   "cell_type": "code",
   "execution_count": null,
   "id": "5934b338",
   "metadata": {
    "execution": {
     "iopub.execute_input": "2024-11-27T21:18:04.140647Z",
     "iopub.status.busy": "2024-11-27T21:18:04.140258Z",
     "iopub.status.idle": "2024-11-27T21:18:04.151614Z",
     "shell.execute_reply": "2024-11-27T21:18:04.150496Z",
     "shell.execute_reply.started": "2024-11-27T21:18:04.140600Z"
    },
    "papermill": {
     "duration": 0.02154,
     "end_time": "2024-11-07T20:20:00.791959",
     "exception": false,
     "start_time": "2024-11-07T20:20:00.770419",
     "status": "completed"
    },
    "tags": [],
    "trusted": true
   },
   "outputs": [],
   "source": [
    "# print(\"X : \", X.shape)\n",
    "\n",
    "\n",
    "\n",
    "# print(\"test data : \", test_data_processed.shape)"
   ]
  },
  {
   "cell_type": "code",
   "execution_count": null,
   "id": "f9c6b8a2",
   "metadata": {
    "execution": {
     "iopub.execute_input": "2024-11-27T21:18:04.153537Z",
     "iopub.status.busy": "2024-11-27T21:18:04.153141Z",
     "iopub.status.idle": "2024-11-27T21:18:04.174798Z",
     "shell.execute_reply": "2024-11-27T21:18:04.173642Z",
     "shell.execute_reply.started": "2024-11-27T21:18:04.153501Z"
    },
    "papermill": {
     "duration": 0.021917,
     "end_time": "2024-11-07T20:20:00.827296",
     "exception": false,
     "start_time": "2024-11-07T20:20:00.805379",
     "status": "completed"
    },
    "tags": [],
    "trusted": true
   },
   "outputs": [],
   "source": [
    "# variance filter\n",
    "\n",
    "\n",
    "\n",
    "# ----------------------------- case  -----------------------------\n",
    "\n",
    "\n",
    "\n",
    "# variance_filter = VarianceThreshold(threshold=0.001)  # Adjust the threshold if needed\n",
    "\n",
    "\n",
    "\n",
    "# X = variance_filter.fit_transform(X)\n",
    "\n",
    "\n",
    "\n",
    "# test_data_processed = variance_filter.fit_transform(test_data_processed)\n",
    "\n",
    "\n",
    "\n",
    "X.shape"
   ]
  },
  {
   "cell_type": "code",
   "execution_count": null,
   "id": "f1604caf",
   "metadata": {
    "execution": {
     "iopub.execute_input": "2024-11-27T21:18:04.176710Z",
     "iopub.status.busy": "2024-11-27T21:18:04.176222Z",
     "iopub.status.idle": "2024-11-27T21:18:04.187235Z",
     "shell.execute_reply": "2024-11-27T21:18:04.185888Z",
     "shell.execute_reply.started": "2024-11-27T21:18:04.176672Z"
    },
    "papermill": {
     "duration": 0.026133,
     "end_time": "2024-11-07T20:20:00.868012",
     "exception": false,
     "start_time": "2024-11-07T20:20:00.841879",
     "status": "completed"
    },
    "tags": [],
    "trusted": true
   },
   "outputs": [],
   "source": [
    "# test_data_processed.shape"
   ]
  },
  {
   "cell_type": "code",
   "execution_count": null,
   "id": "dd97f036",
   "metadata": {
    "execution": {
     "iopub.execute_input": "2024-11-27T21:18:04.189604Z",
     "iopub.status.busy": "2024-11-27T21:18:04.189021Z",
     "iopub.status.idle": "2024-11-27T21:18:04.202454Z",
     "shell.execute_reply": "2024-11-27T21:18:04.201189Z",
     "shell.execute_reply.started": "2024-11-27T21:18:04.189496Z"
    },
    "papermill": {
     "duration": 0.023607,
     "end_time": "2024-11-07T20:20:00.905745",
     "exception": false,
     "start_time": "2024-11-07T20:20:00.882138",
     "status": "completed"
    },
    "tags": [],
    "trusted": true
   },
   "outputs": [],
   "source": [
    "# # correlation filter\n",
    "\n",
    "\n",
    "\n",
    "# # ----------------------------- case  -----------------------------\n",
    "\n",
    "\n",
    "\n",
    "# corr_matrix = pd.DataFrame(X).corr().abs()\n",
    "\n",
    "\n",
    "\n",
    "# upper_tri = corr_matrix.where(np.triu(np.ones(corr_matrix.shape), k=1).astype(bool))\n",
    "\n",
    "\n",
    "\n",
    "# to_drop = [column for column in upper_tri.columns if any(upper_tri[column] > 0.9)]\n",
    "\n",
    "\n",
    "\n",
    "# X = pd.DataFrame(X).drop(columns=to_drop)\n",
    "\n",
    "\n",
    "\n",
    "# test_data_processed = pd.DataFrame(test_data_processed).drop(columns=to_drop)\n",
    "\n",
    "\n",
    "\n",
    "X.shape"
   ]
  },
  {
   "cell_type": "code",
   "execution_count": null,
   "id": "d523de93",
   "metadata": {
    "execution": {
     "iopub.execute_input": "2024-11-27T21:18:04.204369Z",
     "iopub.status.busy": "2024-11-27T21:18:04.203945Z",
     "iopub.status.idle": "2024-11-27T21:18:04.215290Z",
     "shell.execute_reply": "2024-11-27T21:18:04.213745Z",
     "shell.execute_reply.started": "2024-11-27T21:18:04.204332Z"
    },
    "papermill": {
     "duration": 0.023492,
     "end_time": "2024-11-07T20:20:00.943356",
     "exception": false,
     "start_time": "2024-11-07T20:20:00.919864",
     "status": "completed"
    },
    "tags": [],
    "trusted": true
   },
   "outputs": [],
   "source": [
    "# test_data_processed.shape"
   ]
  },
  {
   "cell_type": "markdown",
   "id": "5edcb49b",
   "metadata": {
    "papermill": {
     "duration": 0.016785,
     "end_time": "2024-11-07T20:20:00.974594",
     "exception": false,
     "start_time": "2024-11-07T20:20:00.957809",
     "status": "completed"
    },
    "tags": []
   },
   "source": [
    "## Data Splitting - train and validate\n",
    "\n",
    "\n",
    "\n",
    "now our test_data set is of rows with NO target variable whereas the train_data set is WITH target variable.\n",
    "\n",
    "\n",
    "\n",
    "our rules in machine learning is that we must train half or 70% of the data and then we must check its accuracy using the remaining half or 30% of the data - we can only check accuracy IF we have the answers i.e. the target variable. \n",
    "\n",
    "\n",
    "\n",
    "So, what we need to do is, is split the train_data set into 2, by a 70% and 30% ratio. we train the model using the 70% and then test the model using the 30% and then use that model to predict the test_data set."
   ]
  },
  {
   "cell_type": "code",
   "execution_count": null,
   "id": "237c64fd",
   "metadata": {
    "execution": {
     "iopub.execute_input": "2024-11-27T21:18:04.217714Z",
     "iopub.status.busy": "2024-11-27T21:18:04.217138Z",
     "iopub.status.idle": "2024-11-27T21:18:05.295213Z",
     "shell.execute_reply": "2024-11-27T21:18:05.293766Z",
     "shell.execute_reply.started": "2024-11-27T21:18:04.217650Z"
    },
    "papermill": {
     "duration": 0.273955,
     "end_time": "2024-11-07T20:20:01.264394",
     "exception": false,
     "start_time": "2024-11-07T20:20:00.990439",
     "status": "completed"
    },
    "tags": [],
    "trusted": true
   },
   "outputs": [],
   "source": [
    "# holdout method\n",
    "\n",
    "\n",
    "\n",
    "trainX, testX, trainY, testY = train_test_split(X, Y, test_size=0.3, random_state=2)"
   ]
  },
  {
   "cell_type": "markdown",
   "id": "b1485955",
   "metadata": {
    "papermill": {
     "duration": 0.013949,
     "end_time": "2024-11-07T20:20:01.292747",
     "exception": false,
     "start_time": "2024-11-07T20:20:01.278798",
     "status": "completed"
    },
    "tags": []
   },
   "source": [
    "# functions\n",
    "\n",
    "\n",
    "\n",
    "here we have defined functions like forward-backward selection, kbest selection & algorithm feature importance"
   ]
  },
  {
   "cell_type": "code",
   "execution_count": null,
   "id": "836da9a8",
   "metadata": {
    "execution": {
     "iopub.execute_input": "2024-11-27T21:18:05.296913Z",
     "iopub.status.busy": "2024-11-27T21:18:05.296362Z",
     "iopub.status.idle": "2024-11-27T21:18:05.308622Z",
     "shell.execute_reply": "2024-11-27T21:18:05.307131Z",
     "shell.execute_reply.started": "2024-11-27T21:18:05.296866Z"
    },
    "papermill": {
     "duration": 0.023729,
     "end_time": "2024-11-07T20:20:01.330428",
     "exception": false,
     "start_time": "2024-11-07T20:20:01.306699",
     "status": "completed"
    },
    "tags": [],
    "trusted": true
   },
   "outputs": [],
   "source": [
    "# forward backward selection\n",
    "\n",
    "\n",
    "\n",
    "def fbselection(direction, sample_model, features, X, trainX, trainY, testX, test_data_processed):\n",
    "\n",
    "\n",
    "\n",
    "    print(\"starting\")\n",
    "\n",
    "\n",
    "\n",
    "    selection = SequentialFeatureSelector(sample_model, direction=direction, n_features_to_select=features, scoring='roc_auc')\n",
    "\n",
    "\n",
    "\n",
    "    return modelSelector(sample_model, selection, X, trainX, trainY, testX, test_data_processed)\n",
    "\n",
    "\n",
    "\n",
    "\n",
    "\n",
    "\n",
    "\n",
    "def modelSelector(sample_model, selection, X, trainX, trainY, testX, test_data_processed):\n",
    "\n",
    "\n",
    "\n",
    "    print(\"start extracting\")\n",
    "\n",
    "\n",
    "\n",
    "    trainX = selection.fit_transform(trainX, trainY)\n",
    "\n",
    "\n",
    "\n",
    "    print(\"extracted, transforming\")\n",
    "\n",
    "\n",
    "\n",
    "    testX = selection.transform(testX)                                  # Ensure the test set is transformed similarly\n",
    "\n",
    "\n",
    "\n",
    "    test_data_processed = selection.transform(test_data_processed)      # test data is also transformed\n",
    "\n",
    "\n",
    "\n",
    "    X = selection.transform(X)                                          # full data transforming\n",
    "\n",
    "\n",
    "\n",
    "    print(\"transformed\")\n",
    "\n",
    "\n",
    "\n",
    "    return sample_model, X, trainX, trainY, testX, test_data_processed\n",
    "\n",
    "\n",
    "\n",
    "\n",
    "\n",
    "\n",
    "\n",
    "# kbest selection\n",
    "\n",
    "\n",
    "\n",
    "def kbest(sample_model, features, X, trainX, trainY, testX, test_data_processed):\n",
    "\n",
    "\n",
    "\n",
    "    print(\"starting\")\n",
    "\n",
    "\n",
    "\n",
    "    selection = SelectKBest(score_func=f_regression, k=features)\n",
    "\n",
    "\n",
    "\n",
    "    return modelSelector(sample_model, selection, X, trainX, trainY, testX, test_data_processed)"
   ]
  },
  {
   "cell_type": "code",
   "execution_count": null,
   "id": "0a0bc955",
   "metadata": {
    "execution": {
     "iopub.execute_input": "2024-11-27T21:18:05.310305Z",
     "iopub.status.busy": "2024-11-27T21:18:05.309964Z",
     "iopub.status.idle": "2024-11-27T21:18:05.329794Z",
     "shell.execute_reply": "2024-11-27T21:18:05.328366Z",
     "shell.execute_reply.started": "2024-11-27T21:18:05.310272Z"
    },
    "papermill": {
     "duration": 0.025235,
     "end_time": "2024-11-07T20:20:01.370030",
     "exception": false,
     "start_time": "2024-11-07T20:20:01.344795",
     "status": "completed"
    },
    "tags": [],
    "trusted": true
   },
   "outputs": [],
   "source": [
    "# feature importance function\n",
    "\n",
    "\n",
    "\n",
    "def featureImportance(sample_model, features, X, trainX, trainY, testX, test_data_processed):\n",
    "\n",
    "\n",
    "\n",
    "    print(\"fitting\")\n",
    "\n",
    "\n",
    "\n",
    "    \n",
    "\n",
    "\n",
    "\n",
    "    # fit the model\n",
    "\n",
    "\n",
    "\n",
    "    sample_model.fit(trainX, trainY)\n",
    "\n",
    "\n",
    "\n",
    "\n",
    "\n",
    "\n",
    "\n",
    "    print(\"extracting features\")\n",
    "\n",
    "\n",
    "\n",
    "\n",
    "\n",
    "\n",
    "\n",
    "    # extract all the feature names from data\n",
    "\n",
    "\n",
    "\n",
    "    importances = sample_model.feature_importances_\n",
    "\n",
    "\n",
    "\n",
    "    feature_names = train_data.drop(columns=['Y']).columns\n",
    "\n",
    "\n",
    "\n",
    "    print(feature_names)\n",
    "\n",
    "\n",
    "\n",
    "\n",
    "\n",
    "\n",
    "\n",
    "    # sort with respect to importance\n",
    "\n",
    "\n",
    "\n",
    "    feature_importance_df = pd.DataFrame({\n",
    "\n",
    "\n",
    "\n",
    "        'Feature': feature_names,\n",
    "\n",
    "\n",
    "\n",
    "        'Importance': importances\n",
    "\n",
    "\n",
    "\n",
    "    }).sort_values(by='Importance', ascending=False)\n",
    "\n",
    "\n",
    "\n",
    "\n",
    "\n",
    "\n",
    "\n",
    "    # extract the top ones\n",
    "\n",
    "\n",
    "\n",
    "    top_features = feature_importance_df['Feature'].head(features).values\n",
    "\n",
    "\n",
    "\n",
    "    print(top_features)\n",
    "\n",
    "\n",
    "\n",
    "\n",
    "\n",
    "\n",
    "\n",
    "    # change all data according to the top ones we have selected\n",
    "\n",
    "\n",
    "\n",
    "    trainX = pd.DataFrame(trainX, columns=feature_names)[top_features]\n",
    "\n",
    "\n",
    "\n",
    "    testX = pd.DataFrame(testX, columns=feature_names)[top_features]\n",
    "\n",
    "\n",
    "\n",
    "    X = pd.DataFrame(X, columns=feature_names)[top_features]\n",
    "\n",
    "\n",
    "\n",
    "    test_data_processed = pd.DataFrame(test_data_processed, columns=feature_names)[top_features]\n",
    "\n",
    "\n",
    "\n",
    "\n",
    "\n",
    "\n",
    "\n",
    "    print(\"features extracted\")\n",
    "\n",
    "\n",
    "\n",
    "    \n",
    "\n",
    "\n",
    "\n",
    "    # retrain the model\n",
    "\n",
    "\n",
    "\n",
    "    sample_model.fit(trainX, trainY)\n",
    "\n",
    "\n",
    "\n",
    "\n",
    "\n",
    "\n",
    "\n",
    "    print(\"features trained\")\n",
    "\n",
    "\n",
    "\n",
    "    \n",
    "\n",
    "\n",
    "\n",
    "    return sample_model, X, trainX, trainY, testX, test_data_processed"
   ]
  },
  {
   "cell_type": "markdown",
   "id": "fc6047d2",
   "metadata": {
    "papermill": {
     "duration": 0.013797,
     "end_time": "2024-11-07T20:20:01.398362",
     "exception": false,
     "start_time": "2024-11-07T20:20:01.384565",
     "status": "completed"
    },
    "tags": []
   },
   "source": [
    "## model intialization\n",
    "\n",
    "\n",
    "\n",
    "here model is intialized"
   ]
  },
  {
   "cell_type": "code",
   "execution_count": null,
   "id": "511dc0e2",
   "metadata": {
    "execution": {
     "iopub.execute_input": "2024-11-27T21:18:05.331661Z",
     "iopub.status.busy": "2024-11-27T21:18:05.331268Z",
     "iopub.status.idle": "2024-11-27T21:18:05.352174Z",
     "shell.execute_reply": "2024-11-27T21:18:05.350927Z",
     "shell.execute_reply.started": "2024-11-27T21:18:05.331620Z"
    },
    "papermill": {
     "duration": 0.021268,
     "end_time": "2024-11-07T20:20:01.433590",
     "exception": false,
     "start_time": "2024-11-07T20:20:01.412322",
     "status": "completed"
    },
    "tags": [],
    "trusted": true
   },
   "outputs": [],
   "source": [
    "model = AdaBoostRegressor(\n",
    "    base_estimator=None,  # DecisionTreeRegressor by default\n",
    "    n_estimators=50,\n",
    "    learning_rate=1.0\n",
    ")"
   ]
  },
  {
   "cell_type": "code",
   "execution_count": null,
   "id": "585f7723",
   "metadata": {
    "execution": {
     "iopub.execute_input": "2024-11-27T21:18:05.353589Z",
     "iopub.status.busy": "2024-11-27T21:18:05.353220Z",
     "iopub.status.idle": "2024-11-27T21:18:05.367475Z",
     "shell.execute_reply": "2024-11-27T21:18:05.366253Z",
     "shell.execute_reply.started": "2024-11-27T21:18:05.353554Z"
    },
    "papermill": {
     "duration": 0.02329,
     "end_time": "2024-11-07T20:20:14.141486",
     "exception": false,
     "start_time": "2024-11-07T20:20:14.118196",
     "status": "completed"
    },
    "tags": [],
    "trusted": true
   },
   "outputs": [],
   "source": [
    "print(\"X shape -> \", X.shape)\n",
    "\n",
    "\n",
    "\n",
    "print(\"trainX shape -> \", trainX.shape)\n",
    "\n",
    "\n",
    "\n",
    "print(\"testX shape -> \", testX.shape)\n",
    "\n",
    "\n",
    "\n",
    "print(\"test_data_processed shape -> \", test_data.shape)"
   ]
  },
  {
   "cell_type": "markdown",
   "id": "34c9426d",
   "metadata": {},
   "source": [
    "# feature selection\n",
    "\n",
    "\n",
    "\n",
    "here we will apply feature selection and feature importance"
   ]
  },
  {
   "cell_type": "code",
   "execution_count": null,
   "id": "f9831392",
   "metadata": {
    "execution": {
     "iopub.execute_input": "2024-11-27T21:18:05.369096Z",
     "iopub.status.busy": "2024-11-27T21:18:05.368749Z",
     "iopub.status.idle": "2024-11-27T21:18:05.384237Z",
     "shell.execute_reply": "2024-11-27T21:18:05.383056Z",
     "shell.execute_reply.started": "2024-11-27T21:18:05.369063Z"
    },
    "trusted": true
   },
   "outputs": [],
   "source": [
    "# from scipy.sparse import isspmatrix_csr\n",
    "\n",
    "\n",
    "\n",
    "# for name, data in [(\"X\", X), (\"trainX\", trainX), (\"trainY\", trainY), (\"testX\", testX), (\"test_data\", test_data)]:\n",
    "\n",
    "\n",
    "\n",
    "#     assert not isspmatrix_csr(data), f\"{name} is now a csr_matrix!\""
   ]
  },
  {
   "cell_type": "code",
   "execution_count": null,
   "id": "8e26330a",
   "metadata": {
    "execution": {
     "iopub.execute_input": "2024-11-27T21:18:05.386573Z",
     "iopub.status.busy": "2024-11-27T21:18:05.386105Z",
     "iopub.status.idle": "2024-11-27T21:18:05.409338Z",
     "shell.execute_reply": "2024-11-27T21:18:05.408170Z",
     "shell.execute_reply.started": "2024-11-27T21:18:05.386533Z"
    },
    "trusted": true
   },
   "outputs": [],
   "source": [
    "model"
   ]
  },
  {
   "cell_type": "code",
   "execution_count": null,
   "id": "b543f060",
   "metadata": {
    "execution": {
     "iopub.execute_input": "2024-11-27T21:18:05.411243Z",
     "iopub.status.busy": "2024-11-27T21:18:05.410885Z",
     "iopub.status.idle": "2024-11-27T21:18:05.423841Z",
     "shell.execute_reply": "2024-11-27T21:18:05.422374Z",
     "shell.execute_reply.started": "2024-11-27T21:18:05.411207Z"
    },
    "trusted": true
   },
   "outputs": [],
   "source": [
    "# apply feature selection here\n",
    "\n",
    "\n",
    "\n",
    "# model, X, trainX, trainY, testX, test_data = kbest(model, 200, X, trainX, trainY, testX, test_data)"
   ]
  },
  {
   "cell_type": "code",
   "execution_count": null,
   "id": "5fc618ef",
   "metadata": {
    "execution": {
     "iopub.execute_input": "2024-11-27T21:18:05.429302Z",
     "iopub.status.busy": "2024-11-27T21:18:05.428865Z",
     "iopub.status.idle": "2024-11-27T21:18:05.443756Z",
     "shell.execute_reply": "2024-11-27T21:18:05.442565Z",
     "shell.execute_reply.started": "2024-11-27T21:18:05.429265Z"
    },
    "trusted": true
   },
   "outputs": [],
   "source": [
    "model"
   ]
  },
  {
   "cell_type": "markdown",
   "id": "58edd65e",
   "metadata": {},
   "source": [
    "# grid search"
   ]
  },
  {
   "cell_type": "code",
   "execution_count": null,
   "id": "61b8b917",
   "metadata": {
    "execution": {
     "iopub.execute_input": "2024-11-27T21:18:05.446032Z",
     "iopub.status.busy": "2024-11-27T21:18:05.445560Z",
     "iopub.status.idle": "2024-11-27T21:18:05.457526Z",
     "shell.execute_reply": "2024-11-27T21:18:05.456243Z",
     "shell.execute_reply.started": "2024-11-27T21:18:05.445980Z"
    },
    "trusted": true
   },
   "outputs": [],
   "source": [
    "def gridsearch(param_grid, model, scorer, trainX, trainY):\n",
    "\n",
    "\n",
    "\n",
    "    print(\"starting grid search\")\n",
    "\n",
    "\n",
    "\n",
    "\n",
    "\n",
    "\n",
    "\n",
    "    # intialize grid search\n",
    "\n",
    "\n",
    "\n",
    "    grid_search = GridSearchCV(estimator=model, param_grid=param_grid, cv=3, scoring=scorer, verbose=3, n_jobs=-1)\n",
    "\n",
    "\n",
    "\n",
    "    print(\"grid search is intialized\")\n",
    "\n",
    "\n",
    "\n",
    "\n",
    "\n",
    "\n",
    "\n",
    "    # fit the model\n",
    "\n",
    "\n",
    "\n",
    "    grid_search.fit(trainX, trainY)\n",
    "\n",
    "\n",
    "\n",
    "    print(\"grid search fitting completed\")\n",
    "\n",
    "\n",
    "\n",
    "\n",
    "\n",
    "\n",
    "\n",
    "    # display the best model grid search found\n",
    "\n",
    "\n",
    "\n",
    "    best_model = grid_search.best_estimator_\n",
    "\n",
    "\n",
    "\n",
    "    print(best_model)\n",
    "\n",
    "\n",
    "\n",
    "\n",
    "\n",
    "\n",
    "\n",
    "    # display the best parameters of the best model\n",
    "\n",
    "\n",
    "\n",
    "    best_parameters = grid_search.best_params_\n",
    "\n",
    "\n",
    "\n",
    "    print(best_parameters)\n",
    "\n",
    "\n",
    "\n",
    "\n",
    "\n",
    "\n",
    "\n",
    "    # display the best score of the best model\n",
    "\n",
    "\n",
    "\n",
    "    print(\"Best cross-validated score:\", grid_search.best_score_)\n",
    "\n",
    "\n",
    "\n",
    "\n",
    "\n",
    "\n",
    "\n",
    "    # assign the best model our model\n",
    "\n",
    "\n",
    "\n",
    "    model = best_model\n",
    "\n",
    "\n",
    "\n",
    "    print(\"model assigned, grid search completed\")\n",
    "\n",
    "\n",
    "\n",
    "\n",
    "\n",
    "\n",
    "\n",
    "    return model"
   ]
  },
  {
   "cell_type": "code",
   "execution_count": null,
   "id": "8896c271",
   "metadata": {
    "execution": {
     "iopub.execute_input": "2024-11-27T21:18:05.459803Z",
     "iopub.status.busy": "2024-11-27T21:18:05.459220Z",
     "iopub.status.idle": "2024-11-27T21:18:05.472655Z",
     "shell.execute_reply": "2024-11-27T21:18:05.471523Z",
     "shell.execute_reply.started": "2024-11-27T21:18:05.459754Z"
    },
    "trusted": true
   },
   "outputs": [],
   "source": [
    "# Define a scoring metric (e.g., negative mean squared error)\n",
    "\n",
    "\n",
    "\n",
    "# scorer = make_scorer(mean_squared_error, greater_is_better=False)"
   ]
  },
  {
   "cell_type": "code",
   "execution_count": null,
   "id": "58ba6d7b",
   "metadata": {
    "execution": {
     "iopub.execute_input": "2024-11-27T21:18:05.474345Z",
     "iopub.status.busy": "2024-11-27T21:18:05.473971Z",
     "iopub.status.idle": "2024-11-27T21:18:05.485795Z",
     "shell.execute_reply": "2024-11-27T21:18:05.484498Z",
     "shell.execute_reply.started": "2024-11-27T21:18:05.474309Z"
    },
    "trusted": true
   },
   "outputs": [],
   "source": [
    "# define hyper parameters of grid\n",
    "# param_grid = {\n",
    "#     'max_depth': [ 1, 2, 3, 4, 5 ]\n",
    "# }"
   ]
  },
  {
   "cell_type": "code",
   "execution_count": null,
   "id": "b969d8af",
   "metadata": {
    "execution": {
     "iopub.execute_input": "2024-11-27T21:18:05.487851Z",
     "iopub.status.busy": "2024-11-27T21:18:05.487496Z",
     "iopub.status.idle": "2024-11-27T21:18:05.503990Z",
     "shell.execute_reply": "2024-11-27T21:18:05.502754Z",
     "shell.execute_reply.started": "2024-11-27T21:18:05.487817Z"
    },
    "trusted": true
   },
   "outputs": [],
   "source": [
    "# model = gridsearch(param_grid, model, scorer, trainX, trainY)"
   ]
  },
  {
   "cell_type": "markdown",
   "id": "ca514b89",
   "metadata": {},
   "source": [
    "# sampling data\n",
    "\n",
    "\n",
    "\n",
    "we do this when dataset is too big and model is too slow. this model took 10hours to just train on train data and then after 1 hour of predicting on testX, it failed. kernel crashed. hence this doesnt work on full data.     \n",
    "\n",
    "\n",
    "\n",
    "However, we can achieve this model by taking 10% sample, train a model, predict, find its MSE. then repeat n times and pick the model with the smallest MSE. "
   ]
  },
  {
   "cell_type": "code",
   "execution_count": null,
   "id": "6e31a8c7",
   "metadata": {
    "execution": {
     "iopub.execute_input": "2024-11-27T21:18:05.505862Z",
     "iopub.status.busy": "2024-11-27T21:18:05.505358Z",
     "iopub.status.idle": "2024-11-27T21:18:05.520079Z",
     "shell.execute_reply": "2024-11-27T21:18:05.518629Z",
     "shell.execute_reply.started": "2024-11-27T21:18:05.505800Z"
    },
    "trusted": true
   },
   "outputs": [],
   "source": [
    "print(\"X shape -> \", X.shape)\n",
    "\n",
    "\n",
    "\n",
    "print(\"trainX shape -> \", trainX.shape)\n",
    "\n",
    "\n",
    "\n",
    "print(\"testX shape -> \", testX.shape)\n",
    "\n",
    "\n",
    "\n",
    "print(\"test_data_processed shape -> \", test_data.shape)"
   ]
  },
  {
   "cell_type": "code",
   "execution_count": null,
   "id": "b9759821",
   "metadata": {
    "execution": {
     "iopub.execute_input": "2024-11-27T21:18:05.521870Z",
     "iopub.status.busy": "2024-11-27T21:18:05.521462Z",
     "iopub.status.idle": "2024-11-27T21:18:05.536426Z",
     "shell.execute_reply": "2024-11-27T21:18:05.535277Z",
     "shell.execute_reply.started": "2024-11-27T21:18:05.521831Z"
    },
    "trusted": true
   },
   "outputs": [],
   "source": [
    "model"
   ]
  },
  {
   "cell_type": "code",
   "execution_count": null,
   "id": "7ac72a30",
   "metadata": {
    "execution": {
     "iopub.execute_input": "2024-11-27T21:18:05.537972Z",
     "iopub.status.busy": "2024-11-27T21:18:05.537662Z",
     "iopub.status.idle": "2024-11-27T21:18:05.548965Z",
     "shell.execute_reply": "2024-11-27T21:18:05.547762Z",
     "shell.execute_reply.started": "2024-11-27T21:18:05.537943Z"
    },
    "trusted": true
   },
   "outputs": [],
   "source": [
    "# trainX = preprocessor.fit_transform(trainX)\n",
    "\n",
    "\n",
    "\n",
    "# print(trainX.shape)\n",
    "\n",
    "\n",
    "\n",
    "# testX = preprocessor.transform(testX)\n",
    "\n",
    "\n",
    "\n",
    "# print(testX.shape)\n",
    "\n",
    "\n",
    "\n",
    "# test_data = preprocessor.transform(test_data)\n",
    "\n",
    "\n",
    "\n",
    "# print(test_data.shape)\n",
    "\n",
    "\n",
    "\n",
    "# X = preprocessor.transform(X)\n",
    "\n",
    "\n",
    "\n",
    "# print(X.shape)"
   ]
  },
  {
   "cell_type": "markdown",
   "id": "df4c4143",
   "metadata": {
    "papermill": {
     "duration": 0.014144,
     "end_time": "2024-11-07T20:20:14.233534",
     "exception": false,
     "start_time": "2024-11-07T20:20:14.219390",
     "status": "completed"
    },
    "tags": []
   },
   "source": [
    "## model running\n",
    "\n",
    "\n",
    "\n",
    "here we run the model"
   ]
  },
  {
   "cell_type": "code",
   "execution_count": null,
   "id": "11ff3e85",
   "metadata": {},
   "outputs": [],
   "source": [
    "from datetime import datetime\n",
    "\n",
    "def get_current_datetime():\n",
    "    return datetime.now().strftime(\"%Y-%m-%d %H:%M:%S\")"
   ]
  },
  {
   "cell_type": "code",
   "execution_count": null,
   "id": "a87f40e8",
   "metadata": {},
   "outputs": [],
   "source": [
    "# compute this predictions metrics\n",
    "def metrics(y_pred, testY):\n",
    "    print(\"starting to compute metrics\")\n",
    "    \n",
    "    # display the mean squared error of this prediction\n",
    "    mse = mean_squared_error(testY, y_pred)\n",
    "    print(\"Mean squared error: %.2f\" % mse, \"   \")\n",
    "\n",
    "    # display the root mean squared error\n",
    "    rmse = np.sqrt(mse)  # Root Mean Squared Error\n",
    "    print(\"Root Mean squared error: %.2f\" % rmse, \"   \")\n",
    "\n",
    "    # display the mean absolute error of this prediction\n",
    "    mae = mean_absolute_error(testY, y_pred)\n",
    "    print(\"Mean absolute error: %.2f\" % mae, \"   \")\n",
    "\n",
    "    # display the coeffeicient of determination of this preduction\n",
    "    r2_Score = r2_score(testY, y_pred)\n",
    "    print(\"Coefficient of determination: %.2f\" % r2_Score, \"    \")\n",
    "    \n",
    "    return rmse"
   ]
  },
  {
   "cell_type": "code",
   "execution_count": null,
   "id": "9b884273",
   "metadata": {},
   "outputs": [],
   "source": [
    "def run_model(model, trainX, trainY, testX, testY):\n",
    "    print(\"training model\", get_current_datetime())\n",
    "    model.fit(trainX, trainY)\n",
    "    print(\"computing score\", get_current_datetime())\n",
    "    print(\"model score: \", model.score(trainX, trainY))\n",
    "    y_pred = model.predict(testX)\n",
    "    rmse = metrics(y_pred, testY)\n",
    "    return model, rmse"
   ]
  },
  {
   "cell_type": "code",
   "execution_count": null,
   "id": "9dfc36f9",
   "metadata": {},
   "outputs": [],
   "source": [
    "def createFile(model, X, Y, test_data, file_name):\n",
    "    print(\"fitting on X Y \", get_current_datetime())\n",
    "    model.fit(X, Y)\n",
    "\n",
    "    print(\"scoring on X Y \", get_current_datetime())\n",
    "    score = model.score(X, Y)\n",
    "    print(\"model test score: \", score, \"    \")\n",
    "\n",
    "    print(\"predicting on test \", get_current_datetime())\n",
    "    test_prediction = model.predict(test_data)\n",
    "    print(test_prediction)\n",
    "\n",
    "    print(\"getting sample submission \", get_current_datetime())\n",
    "    sample_data = pd.read_csv(r\"D:\\Users\\DELL\\OneDrive - Institute of Business Administration\\IBA\\sem5\\machine learning\\ipynb notebooks\\challenger2\\iml-fall-2024-challenge-2\\sample_submission.csv\")\n",
    "    sample_data['price_doc'] = test_prediction\n",
    "\n",
    "    print(\"Saving submission \", get_current_datetime())\n",
    "    # Ensure the path ends with a backslash\n",
    "    base_path = r\"D:\\Users\\DELL\\OneDrive - Institute of Business Administration\\IBA\\sem5\\machine learning\\ipynb notebooks\\challenger2\\iml-fall-2024-challenge-2\\\\\"\n",
    "    full_path = base_path + file_name\n",
    "    sample_data.to_csv(full_path, index=False)\n",
    "    print(f\"File saved at: {full_path}\")"
   ]
  },
  {
   "cell_type": "code",
   "execution_count": null,
   "id": "f30a17aa",
   "metadata": {},
   "outputs": [],
   "source": [
    "def create_submission(model, trainX, trainY, testX, testY, X, Y, test_data, file_name):\n",
    "    model, rmse = run_model(model, trainX, trainY, testX, testY)\n",
    "    createFile(model, X, Y, test_data, file_name)"
   ]
  },
  {
   "cell_type": "code",
   "execution_count": null,
   "id": "dee8b316",
   "metadata": {},
   "outputs": [],
   "source": [
    "# case 1\n",
    "model = AdaBoostRegressor(\n",
    "    base_estimator=None,  # DecisionTreeRegressor by default\n",
    "    n_estimators=50,\n",
    "    learning_rate=1.0\n",
    ")\n",
    "\n",
    "create_submission(model, trainX, trainY, testX, testY, X, Y, test_data, \"aboost1.csv\")\n",
    "model"
   ]
  },
  {
   "cell_type": "code",
   "execution_count": null,
   "id": "a1702bc8-49ad-498d-b593-d54f811d9992",
   "metadata": {
    "execution": {
     "iopub.execute_input": "2024-11-27T21:20:09.799538Z",
     "iopub.status.busy": "2024-11-27T21:20:09.799077Z",
     "iopub.status.idle": "2024-11-27T21:20:09.807994Z",
     "shell.execute_reply": "2024-11-27T21:20:09.806935Z",
     "shell.execute_reply.started": "2024-11-27T21:20:09.799489Z"
    },
    "papermill": {
     "duration": 0.053693,
     "end_time": "2024-11-07T21:46:14.588137",
     "exception": false,
     "start_time": "2024-11-07T21:46:14.534444",
     "status": "completed"
    },
    "tags": [],
    "trusted": true
   },
   "outputs": [],
   "source": [
    "# case 2\n",
    "model = AdaBoostRegressor(\n",
    "    base_estimator=DecisionTreeRegressor(max_depth=3),\n",
    "    n_estimators=100,\n",
    "    learning_rate=0.5\n",
    ")\n",
    "create_submission(model, trainX, trainY, testX, testY, X, Y, test_data, \"aboost2.csv\")\n",
    "model"
   ]
  },
  {
   "cell_type": "code",
   "execution_count": null,
   "id": "68ed56fd",
   "metadata": {},
   "outputs": [],
   "source": [
    "# case 3\n",
    "model = AdaBoostRegressor(\n",
    "    base_estimator=DecisionTreeRegressor(max_depth=2),\n",
    "    n_estimators=200,\n",
    "    learning_rate=0.1\n",
    ")\n",
    "\n",
    "create_submission(model, trainX, trainY, testX, testY, X, Y, test_data, \"aboost3.csv\")\n",
    "model"
   ]
  },
  {
   "cell_type": "code",
   "execution_count": null,
   "id": "be937f5b",
   "metadata": {},
   "outputs": [],
   "source": [
    "# case 4\n",
    "model = AdaBoostRegressor(\n",
    "    base_estimator=DecisionTreeRegressor(max_depth=10),\n",
    "    n_estimators=50,\n",
    "    learning_rate=1.0\n",
    ")\n",
    "\n",
    "create_submission(model, trainX, trainY, testX, testY, X, Y, test_data, \"aboost4.csv\")\n",
    "model"
   ]
  },
  {
   "cell_type": "code",
   "execution_count": null,
   "id": "766db70a",
   "metadata": {},
   "outputs": [],
   "source": [
    "# case 5\n",
    "model = AdaBoostRegressor(\n",
    "    base_estimator=DecisionTreeRegressor(max_depth=3),\n",
    "    n_estimators=500,\n",
    "    learning_rate=0.5\n",
    ")\n",
    "\n",
    "create_submission(model, trainX, trainY, testX, testY, X, Y, test_data, \"aboost5.csv\")\n",
    "model"
   ]
  },
  {
   "cell_type": "code",
   "execution_count": null,
   "id": "19831eab",
   "metadata": {},
   "outputs": [],
   "source": [
    "# case 6\n",
    "model = AdaBoostRegressor(\n",
    "    base_estimator=RandomForestRegressor(n_estimators=10, max_depth=3),\n",
    "    n_estimators=100,\n",
    "    learning_rate=0.8\n",
    ")\n",
    "\n",
    "create_submission(model, trainX, trainY, testX, testY, X, Y, test_data, \"aboost6.csv\")\n",
    "model"
   ]
  },
  {
   "cell_type": "code",
   "execution_count": null,
   "id": "36aa9b33",
   "metadata": {},
   "outputs": [],
   "source": [
    "# case 7\n",
    "model = AdaBoostRegressor(\n",
    "    base_estimator=DecisionTreeRegressor(max_depth=4),\n",
    "    n_estimators=1000,\n",
    "    learning_rate=0.05\n",
    ")\n",
    "\n",
    "create_submission(model, trainX, trainY, testX, testY, X, Y, test_data, \"aboost7.csv\")\n",
    "model"
   ]
  },
  {
   "cell_type": "code",
   "execution_count": null,
   "id": "a8aa66ce",
   "metadata": {},
   "outputs": [],
   "source": [
    "# case 8\n",
    "model = AdaBoostRegressor(\n",
    "    base_estimator=DecisionTreeRegressor(max_depth=3),\n",
    "    n_estimators=100,\n",
    "    learning_rate=0.5,\n",
    "    algorithm='SAMME.R'  # Use the real AdaBoost algorithm with weighted residuals\n",
    ")\n",
    "create_submission(model, trainX, trainY, testX, testY, X, Y, test_data, \"aboost8.csv\")\n",
    "model"
   ]
  },
  {
   "cell_type": "code",
   "execution_count": null,
   "id": "b0229f77",
   "metadata": {},
   "outputs": [],
   "source": [
    "# case 9\n",
    "model = make_pipeline(\n",
    "    SelectFromModel(RandomForestRegressor(n_estimators=10)),\n",
    "    AdaBoostRegressor(base_estimator=DecisionTreeRegressor(max_depth=3), n_estimators=100, learning_rate=0.5)\n",
    ")\n",
    "create_submission(model, trainX, trainY, testX, testY, X, Y, test_data, \"aboost9.csv\")\n",
    "model"
   ]
  }
 ],
 "metadata": {
  "kaggle": {
   "accelerator": "none",
   "dataSources": [
    {
     "datasetId": 6034234,
     "sourceId": 9837068,
     "sourceType": "datasetVersion"
    },
    {
     "datasetId": 6034286,
     "sourceId": 9837128,
     "sourceType": "datasetVersion"
    },
    {
     "datasetId": 6164648,
     "sourceId": 10013045,
     "sourceType": "datasetVersion"
    },
    {
     "datasetId": 6179183,
     "sourceId": 10032577,
     "sourceType": "datasetVersion"
    }
   ],
   "dockerImageVersionId": 30786,
   "isGpuEnabled": false,
   "isInternetEnabled": false,
   "language": "python",
   "sourceType": "notebook"
  },
  "kernelspec": {
   "display_name": "Python 3",
   "language": "python",
   "name": "python3"
  },
  "language_info": {
   "codemirror_mode": {
    "name": "ipython",
    "version": 3
   },
   "file_extension": ".py",
   "mimetype": "text/x-python",
   "name": "python",
   "nbconvert_exporter": "python",
   "pygments_lexer": "ipython3",
   "version": "3.12.7"
  },
  "papermill": {
   "default_parameters": {},
   "duration": 5193.546342,
   "end_time": "2024-11-07T21:46:17.332142",
   "environment_variables": {},
   "exception": null,
   "input_path": "__notebook__.ipynb",
   "output_path": "__notebook__.ipynb",
   "parameters": {},
   "start_time": "2024-11-07T20:19:43.785800",
   "version": "2.6.0"
  }
 },
 "nbformat": 4,
 "nbformat_minor": 5
}
