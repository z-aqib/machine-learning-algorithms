{
 "cells": [
  {
   "cell_type": "markdown",
   "id": "fd67a471-fbf2-4cee-9b17-65cc82d7886f",
   "metadata": {
    "papermill": {
     "duration": 0.013014,
     "end_time": "2024-11-07T20:19:46.538794",
     "exception": false,
     "start_time": "2024-11-07T20:19:46.525780",
     "status": "completed"
    },
    "tags": []
   },
   "source": [
    "# Importing Libraries\n",
    "\n",
    "\n",
    "\n",
    "in this part we will install all the necessary libraries on command prompt and then import the necessary functions from those libraries. "
   ]
  },
  {
   "cell_type": "code",
   "execution_count": null,
   "id": "bd54b756",
   "metadata": {
    "execution": {
     "iopub.execute_input": "2024-11-27T19:44:50.560871Z",
     "iopub.status.busy": "2024-11-27T19:44:50.560395Z",
     "iopub.status.idle": "2024-11-27T19:44:54.078152Z",
     "shell.execute_reply": "2024-11-27T19:44:54.076975Z",
     "shell.execute_reply.started": "2024-11-27T19:44:50.560833Z"
    },
    "papermill": {
     "duration": 5.853121,
     "end_time": "2024-11-07T20:19:52.405091",
     "exception": false,
     "start_time": "2024-11-07T20:19:46.551970",
     "status": "completed"
    },
    "tags": [],
    "trusted": true
   },
   "outputs": [],
   "source": [
    "# importing all the necessary libraries\n",
    "\n",
    "\n",
    "\n",
    "import pandas as pd\n",
    "\n",
    "\n",
    "\n",
    "\n",
    "\n",
    "\n",
    "\n",
    "from numpy import mean\n",
    "\n",
    "\n",
    "\n",
    "import numpy as np\n",
    "\n",
    "\n",
    "\n",
    "import time\n",
    "\n",
    "\n",
    "\n",
    "\n",
    "\n",
    "\n",
    "\n",
    "# step 1: preprocessing\n",
    "\n",
    "\n",
    "\n",
    "from sklearn.impute import SimpleImputer # import some strategic imputer to fill in any missing values using mean\n",
    "\n",
    "\n",
    "\n",
    "from sklearn.preprocessing import MinMaxScaler, StandardScaler, MaxAbsScaler, RobustScaler, Normalizer # scale all the values to one range to avoid any biasness (this bias is seen in mostly naive bayes and knn etc)\n",
    "\n",
    "\n",
    "\n",
    "\n",
    "\n",
    "\n",
    "\n",
    "from sklearn.impute import KNNImputer # import some strategic imputer to fill missing values using KNN (finds the nearest neighbour and fills it with that value)\n",
    "\n",
    "\n",
    "\n",
    "\n",
    "\n",
    "\n",
    "\n",
    "from sklearn.feature_selection import SequentialFeatureSelector, SelectKBest, f_classif, VarianceThreshold, f_regression\n",
    "\n",
    "\n",
    "\n",
    "\n",
    "\n",
    "\n",
    "\n",
    "from sklearn.decomposition import PCA\n",
    "\n",
    "\n",
    "\n",
    "from sklearn.compose import ColumnTransformer\n",
    "\n",
    "\n",
    "\n",
    "from sklearn.preprocessing import PolynomialFeatures, OneHotEncoder\n",
    "\n",
    "\n",
    "\n",
    "from sklearn.pipeline import Pipeline\n",
    "\n",
    "\n",
    "\n",
    "from sklearn.linear_model import Ridge, Lasso\n",
    "\n",
    "\n",
    "\n",
    "\n",
    "\n",
    "\n",
    "\n",
    "# step 2: data division\n",
    "\n",
    "\n",
    "\n",
    "from sklearn.model_selection import train_test_split, RepeatedKFold, cross_val_score, GridSearchCV, ParameterGrid # to divide the code into train/test using a specific percentage or with/without replacement\n",
    "\n",
    "\n",
    "\n",
    "\n",
    "\n",
    "\n",
    "\n",
    "# step 3: model\n",
    "\n",
    "from sklearn.ensemble import AdaBoostRegressor\n",
    "\n",
    "\n",
    "\n",
    "\n",
    "\n",
    "\n",
    "\n",
    "# step 4: displaying accuracy\n",
    "\n",
    "\n",
    "\n",
    "from sklearn.metrics import roc_auc_score, accuracy_score # to display the accuracy of our tree\n",
    "\n",
    "\n",
    "\n",
    "from sklearn.metrics import mean_squared_error, r2_score, mean_absolute_error, make_scorer\n",
    "\n",
    "\n",
    "\n",
    "\n",
    "\n",
    "\n",
    "\n",
    "# step 5: warning filter\n",
    "\n",
    "\n",
    "\n",
    "import warnings\n",
    "\n",
    "\n",
    "\n",
    "warnings.filterwarnings('ignore')"
   ]
  },
  {
   "cell_type": "code",
   "execution_count": null,
   "id": "e46341fe",
   "metadata": {
    "execution": {
     "iopub.execute_input": "2024-11-27T19:44:54.080450Z",
     "iopub.status.busy": "2024-11-27T19:44:54.079995Z",
     "iopub.status.idle": "2024-11-27T19:44:54.086708Z",
     "shell.execute_reply": "2024-11-27T19:44:54.084837Z",
     "shell.execute_reply.started": "2024-11-27T19:44:54.080420Z"
    },
    "trusted": true
   },
   "outputs": [],
   "source": [
    "import sklearn\n",
    "\n",
    "\n",
    "\n",
    "print(sklearn.__version__)"
   ]
  },
  {
   "cell_type": "code",
   "execution_count": null,
   "id": "890faf0a",
   "metadata": {
    "execution": {
     "iopub.execute_input": "2024-11-27T19:44:54.088315Z",
     "iopub.status.busy": "2024-11-27T19:44:54.087918Z",
     "iopub.status.idle": "2024-11-27T19:44:54.109224Z",
     "shell.execute_reply": "2024-11-27T19:44:54.108058Z",
     "shell.execute_reply.started": "2024-11-27T19:44:54.088282Z"
    },
    "trusted": true
   },
   "outputs": [],
   "source": [
    "# pip install --upgrade scikit-learn"
   ]
  },
  {
   "cell_type": "markdown",
   "id": "dc12b233",
   "metadata": {},
   "source": [
    "# Important Functions"
   ]
  },
  {
   "cell_type": "code",
   "execution_count": null,
   "id": "af66d720",
   "metadata": {
    "execution": {
     "iopub.execute_input": "2024-11-27T19:44:54.112681Z",
     "iopub.status.busy": "2024-11-27T19:44:54.112191Z",
     "iopub.status.idle": "2024-11-27T19:44:54.126669Z",
     "shell.execute_reply": "2024-11-27T19:44:54.125050Z",
     "shell.execute_reply.started": "2024-11-27T19:44:54.112632Z"
    },
    "trusted": true
   },
   "outputs": [],
   "source": [
    "# compute this predictions metrics\n",
    "\n",
    "\n",
    "\n",
    "def metrics(y_pred, testY):\n",
    "\n",
    "\n",
    "\n",
    "    print(\"starting to compute metrics\")\n",
    "\n",
    "\n",
    "\n",
    "    \n",
    "\n",
    "\n",
    "\n",
    "    # # display the accuracy of this prediction\n",
    "\n",
    "\n",
    "\n",
    "    # accuracy = accuracy_score(testY, y_pred)\n",
    "\n",
    "\n",
    "\n",
    "    # print(\"model accuracy = \", accuracy, \"   \")\n",
    "\n",
    "\n",
    "\n",
    "\n",
    "\n",
    "\n",
    "\n",
    "    # # now lets calculate the ROC AUC score according to this prediction\n",
    "\n",
    "\n",
    "\n",
    "    # roc_score = roc_auc_score(testY, y_pred)\n",
    "\n",
    "\n",
    "\n",
    "    # print(\"roc score = \", roc_score, \"   \")\n",
    "\n",
    "\n",
    "\n",
    "\n",
    "\n",
    "\n",
    "\n",
    "    # display the mean squared error of this prediction\n",
    "\n",
    "\n",
    "\n",
    "    mse = mean_squared_error(testY, y_pred)\n",
    "\n",
    "\n",
    "\n",
    "    print(\"Mean squared error: %.2f\" % mse, \"   \")\n",
    "\n",
    "\n",
    "\n",
    "\n",
    "\n",
    "\n",
    "\n",
    "    # display the root mean squared error\n",
    "\n",
    "\n",
    "\n",
    "    rmse = np.sqrt(mse)  # Root Mean Squared Error\n",
    "\n",
    "\n",
    "\n",
    "    print(\"Root Mean squared error: %.2f\" % rmse, \"   \")\n",
    "\n",
    "\n",
    "\n",
    "\n",
    "\n",
    "\n",
    "\n",
    "    # display the mean absolute error of this prediction\n",
    "\n",
    "\n",
    "\n",
    "    mae = mean_absolute_error(testY, y_pred)\n",
    "\n",
    "\n",
    "\n",
    "    print(\"Mean absolute error: %.2f\" % mae, \"   \")\n",
    "\n",
    "\n",
    "\n",
    "\n",
    "\n",
    "\n",
    "\n",
    "    # display the coeffeicient of determination of this preduction\n",
    "\n",
    "\n",
    "\n",
    "    r2_Score = r2_score(testY, y_pred)\n",
    "\n",
    "\n",
    "\n",
    "    print(\"Coefficient of determination: %.2f\" % r2_Score, \"    \")"
   ]
  },
  {
   "cell_type": "markdown",
   "id": "3912ca3f",
   "metadata": {
    "papermill": {
     "duration": 0.011237,
     "end_time": "2024-11-07T20:19:52.458899",
     "exception": false,
     "start_time": "2024-11-07T20:19:52.447662",
     "status": "completed"
    },
    "tags": []
   },
   "source": [
    "# Data Loading\n",
    "\n",
    "\n",
    "\n",
    "data shall be loaded into variables as data sets using pandas and csv readers. they will be checked to see if they are loaded properly and will be loaded as 2 sets: train and test as per given in the kaggle data"
   ]
  },
  {
   "cell_type": "code",
   "execution_count": null,
   "id": "d9125e82",
   "metadata": {
    "execution": {
     "iopub.execute_input": "2024-11-27T19:44:54.128375Z",
     "iopub.status.busy": "2024-11-27T19:44:54.128000Z",
     "iopub.status.idle": "2024-11-27T19:45:10.659370Z",
     "shell.execute_reply": "2024-11-27T19:45:10.658365Z",
     "shell.execute_reply.started": "2024-11-27T19:44:54.128341Z"
    },
    "papermill": {
     "duration": 4.591761,
     "end_time": "2024-11-07T20:19:57.062353",
     "exception": false,
     "start_time": "2024-11-07T20:19:52.470592",
     "status": "completed"
    },
    "tags": [],
    "trusted": true
   },
   "outputs": [],
   "source": [
    "# lets load the training data set\n",
    "\n",
    "\n",
    "\n",
    "# train_data = pd.read_csv(r\"/kaggle/input/challenge-2/train/train.csv\")\n",
    "train_data = pd.read_csv(r\"D:\\Users\\DELL\\OneDrive - Institute of Business Administration\\IBA\\sem5\\machine learning\\ipynb notebooks\\challenger2\\iml-fall-2024-challenge-2\\train\\train.csv\")\n",
    "\n",
    "\n",
    "\n",
    "\n",
    "\n",
    "\n",
    "# lets also check it by getting the first few rows of the data, there should be x1 - x78 and one target variable Y\n",
    "\n",
    "\n",
    "\n",
    "train_data.head() "
   ]
  },
  {
   "cell_type": "code",
   "execution_count": null,
   "id": "01f55297",
   "metadata": {
    "execution": {
     "iopub.execute_input": "2024-11-27T19:45:10.661209Z",
     "iopub.status.busy": "2024-11-27T19:45:10.660862Z",
     "iopub.status.idle": "2024-11-27T19:45:16.924667Z",
     "shell.execute_reply": "2024-11-27T19:45:16.923386Z",
     "shell.execute_reply.started": "2024-11-27T19:45:10.661178Z"
    },
    "papermill": {
     "duration": 1.948205,
     "end_time": "2024-11-07T20:19:59.023969",
     "exception": false,
     "start_time": "2024-11-07T20:19:57.075764",
     "status": "completed"
    },
    "tags": [],
    "trusted": true
   },
   "outputs": [],
   "source": [
    "# lets load the test data\n",
    "\n",
    "\n",
    "\n",
    "# test_data = pd.read_csv(r\"/kaggle/input/challenge-2/test/test.csv\")\n",
    "test_data = pd.read_csv(r\"D:\\Users\\DELL\\OneDrive - Institute of Business Administration\\IBA\\sem5\\machine learning\\ipynb notebooks\\challenger2\\iml-fall-2024-challenge-2\\test\\test.csv\")\n",
    "\n",
    "\n",
    "\n",
    "\n",
    "# check if the data has been loaded by getting the first 5 rows - there should be x1 - x78 and no target variable Y as this is test data\n",
    "\n",
    "\n",
    "\n",
    "test_data.head() "
   ]
  },
  {
   "cell_type": "markdown",
   "id": "9db89cc8",
   "metadata": {
    "papermill": {
     "duration": 0.012664,
     "end_time": "2024-11-07T20:19:59.050712",
     "exception": false,
     "start_time": "2024-11-07T20:19:59.038048",
     "status": "completed"
    },
    "tags": []
   },
   "source": [
    "# Data Preprocessing\n",
    "\n",
    "\n",
    "\n",
    "before we start processing this data and using algorithms, we will fix this data first, this is called data preprocessing"
   ]
  },
  {
   "cell_type": "markdown",
   "id": "46a83e6e",
   "metadata": {},
   "source": [
    "## split data into categorical and numerical\n",
    "\n",
    "\n",
    "\n",
    "categorical will have one-hot and simple imputer of most frequent while numerical will have simple mean imputer and minmax scaler"
   ]
  },
  {
   "cell_type": "code",
   "execution_count": null,
   "id": "306cc606",
   "metadata": {
    "execution": {
     "iopub.execute_input": "2024-11-27T19:45:16.926779Z",
     "iopub.status.busy": "2024-11-27T19:45:16.926325Z",
     "iopub.status.idle": "2024-11-27T19:45:17.242948Z",
     "shell.execute_reply": "2024-11-27T19:45:17.241624Z",
     "shell.execute_reply.started": "2024-11-27T19:45:16.926729Z"
    },
    "trusted": true
   },
   "outputs": [],
   "source": [
    "categorical_cols = train_data.select_dtypes(include=[\"object\"]).columns\n",
    "\n",
    "\n",
    "\n",
    "numerical_cols = train_data.select_dtypes(exclude=[\"object\"]).drop(columns=['price_doc']).columns"
   ]
  },
  {
   "cell_type": "markdown",
   "id": "068886a2-5354-46a9-afb1-ce5995ac6bfc",
   "metadata": {},
   "source": []
  },
  {
   "cell_type": "markdown",
   "id": "a3d3b9f4-49f7-4c84-931e-dff9c756dd75",
   "metadata": {},
   "source": [
    "# Imputers"
   ]
  },
  {
   "cell_type": "code",
   "execution_count": null,
   "id": "6b8f1a00-39b3-4207-9f2b-5ad588eded07",
   "metadata": {
    "execution": {
     "iopub.execute_input": "2024-11-27T19:45:17.244953Z",
     "iopub.status.busy": "2024-11-27T19:45:17.244546Z",
     "iopub.status.idle": "2024-11-27T19:45:19.059374Z",
     "shell.execute_reply": "2024-11-27T19:45:19.058264Z",
     "shell.execute_reply.started": "2024-11-27T19:45:17.244898Z"
    },
    "trusted": true
   },
   "outputs": [],
   "source": [
    "num_imputer = SimpleImputer(strategy=\"mean\")\n",
    "\n",
    "train_data[numerical_cols] = num_imputer.fit_transform(train_data[numerical_cols])\n",
    "\n",
    "test_data[numerical_cols] = num_imputer.transform(test_data[numerical_cols])\n",
    "\n",
    "\n",
    "\n",
    "cat_imputer = SimpleImputer(strategy=\"most_frequent\")\n",
    "\n",
    "train_data[categorical_cols] = cat_imputer.fit_transform(train_data[categorical_cols])\n",
    "\n",
    "test_data[categorical_cols] = cat_imputer.transform(test_data[categorical_cols])"
   ]
  },
  {
   "cell_type": "markdown",
   "id": "f1be982f-df0e-481d-a8ce-9c1cee449a56",
   "metadata": {},
   "source": [
    "# Scaler"
   ]
  },
  {
   "cell_type": "code",
   "execution_count": null,
   "id": "ce83d8bf-4f13-4063-be48-43b1e3fce721",
   "metadata": {
    "execution": {
     "iopub.execute_input": "2024-11-27T19:45:19.061194Z",
     "iopub.status.busy": "2024-11-27T19:45:19.060786Z",
     "iopub.status.idle": "2024-11-27T19:45:20.684828Z",
     "shell.execute_reply": "2024-11-27T19:45:20.683719Z",
     "shell.execute_reply.started": "2024-11-27T19:45:19.061160Z"
    },
    "trusted": true
   },
   "outputs": [],
   "source": [
    "scaler = MinMaxScaler()\n",
    "\n",
    "train_data[numerical_cols] = scaler.fit_transform(train_data[numerical_cols])\n",
    "\n",
    "test_data[numerical_cols] = scaler.transform(test_data[numerical_cols])"
   ]
  },
  {
   "cell_type": "markdown",
   "id": "47600083-8cb3-455a-98fd-c65c7d1841d7",
   "metadata": {},
   "source": [
    "# One hot"
   ]
  },
  {
   "cell_type": "code",
   "execution_count": null,
   "id": "1e90a6a2",
   "metadata": {
    "execution": {
     "iopub.execute_input": "2024-11-27T19:45:20.689742Z",
     "iopub.status.busy": "2024-11-27T19:45:20.689364Z",
     "iopub.status.idle": "2024-11-27T19:45:23.000910Z",
     "shell.execute_reply": "2024-11-27T19:45:22.999765Z",
     "shell.execute_reply.started": "2024-11-27T19:45:20.689707Z"
    },
    "trusted": true
   },
   "outputs": [],
   "source": [
    "train_data = pd.get_dummies(train_data, columns=categorical_cols, drop_first=True)\n",
    "\n",
    "test_data = pd.get_dummies(test_data, columns=categorical_cols, drop_first=True)\n",
    "\n",
    "# Align the test data with the training data columns\n",
    "\n",
    "test_data = test_data.reindex(columns=train_data.columns, fill_value=0)\n",
    "\n",
    "\n",
    "\n",
    "test_data = test_data.drop(columns=['price_doc'], errors=\"ignore\")"
   ]
  },
  {
   "cell_type": "markdown",
   "id": "2a5e67cf",
   "metadata": {},
   "source": [
    "## correlation matrix\n",
    "\n",
    "\n",
    "\n",
    "i tried getting the correlation matrix but apparently a 2000 columns matrix is very computationally expensive as it performs pairs for all. so dont run it. it takes too long and then fails. i ran for 5 minutes. "
   ]
  },
  {
   "cell_type": "code",
   "execution_count": null,
   "id": "aae908d1",
   "metadata": {
    "execution": {
     "iopub.execute_input": "2024-11-27T19:45:23.002674Z",
     "iopub.status.busy": "2024-11-27T19:45:23.002346Z",
     "iopub.status.idle": "2024-11-27T19:45:23.007490Z",
     "shell.execute_reply": "2024-11-27T19:45:23.006311Z",
     "shell.execute_reply.started": "2024-11-27T19:45:23.002643Z"
    },
    "trusted": true
   },
   "outputs": [],
   "source": [
    "# # DONT RUN\n",
    "\n",
    "\n",
    "\n",
    "# corr_matrix = train_data.corr()\n",
    "\n",
    "\n",
    "\n",
    "# print(corr_matrix)"
   ]
  },
  {
   "cell_type": "markdown",
   "id": "463d5ca5",
   "metadata": {},
   "source": [
    "# PCA\n",
    "\n",
    "\n",
    "\n",
    "principal component analysis is applied"
   ]
  },
  {
   "cell_type": "code",
   "execution_count": null,
   "id": "68ef094f",
   "metadata": {
    "execution": {
     "iopub.execute_input": "2024-11-27T19:45:23.010052Z",
     "iopub.status.busy": "2024-11-27T19:45:23.008975Z",
     "iopub.status.idle": "2024-11-27T19:45:23.024564Z",
     "shell.execute_reply": "2024-11-27T19:45:23.023407Z",
     "shell.execute_reply.started": "2024-11-27T19:45:23.010002Z"
    },
    "trusted": true
   },
   "outputs": [],
   "source": [
    "# # -------------------------- case  --------------------------\n",
    "\n",
    "\n",
    "\n",
    "# pca = PCA(n_components=33)                                 \n",
    "\n",
    "\n",
    "\n",
    "# X = pca.fit_transform(X)\n",
    "\n",
    "\n",
    "\n",
    "# test_data_processed = pca.transform(test_data_processed)"
   ]
  },
  {
   "cell_type": "markdown",
   "id": "2bd65ed6",
   "metadata": {
    "papermill": {
     "duration": 0.012565,
     "end_time": "2024-11-07T20:19:59.480848",
     "exception": false,
     "start_time": "2024-11-07T20:19:59.468283",
     "status": "completed"
    },
    "tags": []
   },
   "source": [
    "## Data Splitting - festures and targets\n",
    "\n",
    "\n",
    "\n",
    "the data in train_data set is of x1 - x78 columns (79 variables) and one target variable (Y). we must split that data so that we can perform data preprocessing on the features variables (will be referred to as X)."
   ]
  },
  {
   "cell_type": "code",
   "execution_count": null,
   "id": "565fb08f",
   "metadata": {
    "execution": {
     "iopub.execute_input": "2024-11-27T19:45:23.026096Z",
     "iopub.status.busy": "2024-11-27T19:45:23.025760Z",
     "iopub.status.idle": "2024-11-27T19:45:23.338712Z",
     "shell.execute_reply": "2024-11-27T19:45:23.337610Z",
     "shell.execute_reply.started": "2024-11-27T19:45:23.026065Z"
    },
    "papermill": {
     "duration": 0.123675,
     "end_time": "2024-11-07T20:19:59.617410",
     "exception": false,
     "start_time": "2024-11-07T20:19:59.493735",
     "status": "completed"
    },
    "tags": [],
    "trusted": true
   },
   "outputs": [],
   "source": [
    "# so in X, it is ALL the columns EXCEPT the last column known as 'Y' (we can confirm this using the train_data.head() we did earlier) so we must get all columns and DROP only the 'y' column\n",
    "\n",
    "\n",
    "\n",
    "X = train_data.drop(columns=['price_doc'])\n",
    "\n",
    "\n",
    "\n",
    "X # lets display X and see what it is now"
   ]
  },
  {
   "cell_type": "code",
   "execution_count": null,
   "id": "c5fd0e61",
   "metadata": {
    "execution": {
     "iopub.execute_input": "2024-11-27T19:45:23.340443Z",
     "iopub.status.busy": "2024-11-27T19:45:23.340123Z",
     "iopub.status.idle": "2024-11-27T19:45:23.349894Z",
     "shell.execute_reply": "2024-11-27T19:45:23.348767Z",
     "shell.execute_reply.started": "2024-11-27T19:45:23.340413Z"
    },
    "papermill": {
     "duration": 0.023643,
     "end_time": "2024-11-07T20:19:59.654979",
     "exception": false,
     "start_time": "2024-11-07T20:19:59.631336",
     "status": "completed"
    },
    "tags": [],
    "trusted": true
   },
   "outputs": [],
   "source": [
    "# so as per our X output, we can see that number of columns in train_data is 79 and number of columns in X is 78 meaning we have successfully performed our removal of target variable\n",
    "\n",
    "\n",
    "\n",
    "# now to get the target variable alone, we can just get it alone,\n",
    "\n",
    "\n",
    "\n",
    "Y = train_data['price_doc']\n",
    "\n",
    "\n",
    "\n",
    "Y # lets see what it is\n",
    "\n",
    "\n",
    "\n",
    "# as per our Y output, we can see it is of one column and 246k rows which means we have successfully extracted the target variable column"
   ]
  },
  {
   "cell_type": "markdown",
   "id": "b6e9cfd9",
   "metadata": {
    "papermill": {
     "duration": 0.013362,
     "end_time": "2024-11-07T20:20:00.756855",
     "exception": false,
     "start_time": "2024-11-07T20:20:00.743493",
     "status": "completed"
    },
    "tags": []
   },
   "source": [
    "# Filters\n",
    "\n",
    "\n",
    "\n",
    "there are two types of filters to filter out columns/features:\n",
    "\n",
    "\n",
    "\n",
    "- variance filter (a column which has same values throughout the column like all are sunny)\n",
    "\n",
    "\n",
    "\n",
    "- correlation filter (two columns which are same like weight in kg and weight in pounds)"
   ]
  },
  {
   "cell_type": "code",
   "execution_count": null,
   "id": "5934b338",
   "metadata": {
    "execution": {
     "iopub.execute_input": "2024-11-27T19:45:23.352205Z",
     "iopub.status.busy": "2024-11-27T19:45:23.351722Z",
     "iopub.status.idle": "2024-11-27T19:45:23.363582Z",
     "shell.execute_reply": "2024-11-27T19:45:23.362438Z",
     "shell.execute_reply.started": "2024-11-27T19:45:23.352156Z"
    },
    "papermill": {
     "duration": 0.02154,
     "end_time": "2024-11-07T20:20:00.791959",
     "exception": false,
     "start_time": "2024-11-07T20:20:00.770419",
     "status": "completed"
    },
    "tags": [],
    "trusted": true
   },
   "outputs": [],
   "source": [
    "# print(\"X : \", X.shape)\n",
    "\n",
    "\n",
    "\n",
    "# print(\"test data : \", test_data_processed.shape)"
   ]
  },
  {
   "cell_type": "code",
   "execution_count": null,
   "id": "f9c6b8a2",
   "metadata": {
    "execution": {
     "iopub.execute_input": "2024-11-27T19:45:23.365865Z",
     "iopub.status.busy": "2024-11-27T19:45:23.365398Z",
     "iopub.status.idle": "2024-11-27T19:45:23.389296Z",
     "shell.execute_reply": "2024-11-27T19:45:23.388062Z",
     "shell.execute_reply.started": "2024-11-27T19:45:23.365829Z"
    },
    "papermill": {
     "duration": 0.021917,
     "end_time": "2024-11-07T20:20:00.827296",
     "exception": false,
     "start_time": "2024-11-07T20:20:00.805379",
     "status": "completed"
    },
    "tags": [],
    "trusted": true
   },
   "outputs": [],
   "source": [
    "# variance filter\n",
    "\n",
    "\n",
    "\n",
    "# ----------------------------- case  -----------------------------\n",
    "\n",
    "\n",
    "\n",
    "# variance_filter = VarianceThreshold(threshold=0.001)  # Adjust the threshold if needed\n",
    "\n",
    "\n",
    "\n",
    "# X = variance_filter.fit_transform(X)\n",
    "\n",
    "\n",
    "\n",
    "# test_data_processed = variance_filter.fit_transform(test_data_processed)\n",
    "\n",
    "\n",
    "\n",
    "X.shape"
   ]
  },
  {
   "cell_type": "code",
   "execution_count": null,
   "id": "f1604caf",
   "metadata": {
    "execution": {
     "iopub.execute_input": "2024-11-27T19:45:23.390826Z",
     "iopub.status.busy": "2024-11-27T19:45:23.390491Z",
     "iopub.status.idle": "2024-11-27T19:45:23.406393Z",
     "shell.execute_reply": "2024-11-27T19:45:23.405042Z",
     "shell.execute_reply.started": "2024-11-27T19:45:23.390793Z"
    },
    "papermill": {
     "duration": 0.026133,
     "end_time": "2024-11-07T20:20:00.868012",
     "exception": false,
     "start_time": "2024-11-07T20:20:00.841879",
     "status": "completed"
    },
    "tags": [],
    "trusted": true
   },
   "outputs": [],
   "source": [
    "# test_data_processed.shape"
   ]
  },
  {
   "cell_type": "code",
   "execution_count": null,
   "id": "dd97f036",
   "metadata": {
    "execution": {
     "iopub.execute_input": "2024-11-27T19:45:23.408528Z",
     "iopub.status.busy": "2024-11-27T19:45:23.408165Z",
     "iopub.status.idle": "2024-11-27T19:45:23.426194Z",
     "shell.execute_reply": "2024-11-27T19:45:23.424817Z",
     "shell.execute_reply.started": "2024-11-27T19:45:23.408494Z"
    },
    "papermill": {
     "duration": 0.023607,
     "end_time": "2024-11-07T20:20:00.905745",
     "exception": false,
     "start_time": "2024-11-07T20:20:00.882138",
     "status": "completed"
    },
    "tags": [],
    "trusted": true
   },
   "outputs": [],
   "source": [
    "# # correlation filter\n",
    "\n",
    "\n",
    "\n",
    "# # ----------------------------- case  -----------------------------\n",
    "\n",
    "\n",
    "\n",
    "# corr_matrix = pd.DataFrame(X).corr().abs()\n",
    "\n",
    "\n",
    "\n",
    "# upper_tri = corr_matrix.where(np.triu(np.ones(corr_matrix.shape), k=1).astype(bool))\n",
    "\n",
    "\n",
    "\n",
    "# to_drop = [column for column in upper_tri.columns if any(upper_tri[column] > 0.9)]\n",
    "\n",
    "\n",
    "\n",
    "# X = pd.DataFrame(X).drop(columns=to_drop)\n",
    "\n",
    "\n",
    "\n",
    "# test_data_processed = pd.DataFrame(test_data_processed).drop(columns=to_drop)\n",
    "\n",
    "\n",
    "\n",
    "X.shape"
   ]
  },
  {
   "cell_type": "code",
   "execution_count": null,
   "id": "d523de93",
   "metadata": {
    "execution": {
     "iopub.execute_input": "2024-11-27T19:45:23.428000Z",
     "iopub.status.busy": "2024-11-27T19:45:23.427551Z",
     "iopub.status.idle": "2024-11-27T19:45:23.446258Z",
     "shell.execute_reply": "2024-11-27T19:45:23.445055Z",
     "shell.execute_reply.started": "2024-11-27T19:45:23.427965Z"
    },
    "papermill": {
     "duration": 0.023492,
     "end_time": "2024-11-07T20:20:00.943356",
     "exception": false,
     "start_time": "2024-11-07T20:20:00.919864",
     "status": "completed"
    },
    "tags": [],
    "trusted": true
   },
   "outputs": [],
   "source": [
    "# test_data_processed.shape"
   ]
  },
  {
   "cell_type": "markdown",
   "id": "5edcb49b",
   "metadata": {
    "papermill": {
     "duration": 0.016785,
     "end_time": "2024-11-07T20:20:00.974594",
     "exception": false,
     "start_time": "2024-11-07T20:20:00.957809",
     "status": "completed"
    },
    "tags": []
   },
   "source": [
    "## Data Splitting - train and validate\n",
    "\n",
    "\n",
    "\n",
    "now our test_data set is of rows with NO target variable whereas the train_data set is WITH target variable.\n",
    "\n",
    "\n",
    "\n",
    "our rules in machine learning is that we must train half or 70% of the data and then we must check its accuracy using the remaining half or 30% of the data - we can only check accuracy IF we have the answers i.e. the target variable. \n",
    "\n",
    "\n",
    "\n",
    "So, what we need to do is, is split the train_data set into 2, by a 70% and 30% ratio. we train the model using the 70% and then test the model using the 30% and then use that model to predict the test_data set."
   ]
  },
  {
   "cell_type": "code",
   "execution_count": null,
   "id": "237c64fd",
   "metadata": {
    "execution": {
     "iopub.execute_input": "2024-11-27T19:45:23.448324Z",
     "iopub.status.busy": "2024-11-27T19:45:23.447860Z",
     "iopub.status.idle": "2024-11-27T19:45:24.598462Z",
     "shell.execute_reply": "2024-11-27T19:45:24.597206Z",
     "shell.execute_reply.started": "2024-11-27T19:45:23.448268Z"
    },
    "papermill": {
     "duration": 0.273955,
     "end_time": "2024-11-07T20:20:01.264394",
     "exception": false,
     "start_time": "2024-11-07T20:20:00.990439",
     "status": "completed"
    },
    "tags": [],
    "trusted": true
   },
   "outputs": [],
   "source": [
    "# holdout method\n",
    "\n",
    "\n",
    "\n",
    "trainX, testX, trainY, testY = train_test_split(X, Y, test_size=0.3, random_state=2)"
   ]
  },
  {
   "cell_type": "markdown",
   "id": "b1485955",
   "metadata": {
    "papermill": {
     "duration": 0.013949,
     "end_time": "2024-11-07T20:20:01.292747",
     "exception": false,
     "start_time": "2024-11-07T20:20:01.278798",
     "status": "completed"
    },
    "tags": []
   },
   "source": [
    "# functions\n",
    "\n",
    "\n",
    "\n",
    "here we have defined functions like forward-backward selection, kbest selection & algorithm feature importance"
   ]
  },
  {
   "cell_type": "code",
   "execution_count": null,
   "id": "836da9a8",
   "metadata": {
    "execution": {
     "iopub.execute_input": "2024-11-27T19:45:24.599964Z",
     "iopub.status.busy": "2024-11-27T19:45:24.599639Z",
     "iopub.status.idle": "2024-11-27T19:45:24.608708Z",
     "shell.execute_reply": "2024-11-27T19:45:24.607353Z",
     "shell.execute_reply.started": "2024-11-27T19:45:24.599913Z"
    },
    "papermill": {
     "duration": 0.023729,
     "end_time": "2024-11-07T20:20:01.330428",
     "exception": false,
     "start_time": "2024-11-07T20:20:01.306699",
     "status": "completed"
    },
    "tags": [],
    "trusted": true
   },
   "outputs": [],
   "source": [
    "# forward backward selection\n",
    "\n",
    "\n",
    "\n",
    "def fbselection(direction, sample_model, features, X, trainX, trainY, testX, test_data_processed):\n",
    "\n",
    "\n",
    "\n",
    "    print(\"starting\")\n",
    "\n",
    "\n",
    "\n",
    "    selection = SequentialFeatureSelector(sample_model, direction=direction, n_features_to_select=features, scoring='roc_auc')\n",
    "\n",
    "\n",
    "\n",
    "    return modelSelector(sample_model, selection, X, trainX, trainY, testX, test_data_processed)\n",
    "\n",
    "\n",
    "\n",
    "\n",
    "\n",
    "\n",
    "\n",
    "def modelSelector(sample_model, selection, X, trainX, trainY, testX, test_data_processed):\n",
    "\n",
    "\n",
    "\n",
    "    print(\"start extracting\")\n",
    "\n",
    "\n",
    "\n",
    "    trainX = selection.fit_transform(trainX, trainY)\n",
    "\n",
    "\n",
    "\n",
    "    print(\"extracted, transforming\")\n",
    "\n",
    "\n",
    "\n",
    "    testX = selection.transform(testX)                                  # Ensure the test set is transformed similarly\n",
    "\n",
    "\n",
    "\n",
    "    test_data_processed = selection.transform(test_data_processed)      # test data is also transformed\n",
    "\n",
    "\n",
    "\n",
    "    X = selection.transform(X)                                          # full data transforming\n",
    "\n",
    "\n",
    "\n",
    "    print(\"transformed\")\n",
    "\n",
    "\n",
    "\n",
    "    return sample_model, X, trainX, trainY, testX, test_data_processed\n",
    "\n",
    "\n",
    "\n",
    "\n",
    "\n",
    "\n",
    "\n",
    "# kbest selection\n",
    "\n",
    "\n",
    "\n",
    "def kbest(sample_model, features, X, trainX, trainY, testX, test_data_processed):\n",
    "\n",
    "\n",
    "\n",
    "    print(\"starting\")\n",
    "\n",
    "\n",
    "\n",
    "    selection = SelectKBest(score_func=f_regression, k=features)\n",
    "\n",
    "\n",
    "\n",
    "    return modelSelector(sample_model, selection, X, trainX, trainY, testX, test_data_processed)"
   ]
  },
  {
   "cell_type": "code",
   "execution_count": null,
   "id": "0a0bc955",
   "metadata": {
    "execution": {
     "iopub.execute_input": "2024-11-27T19:45:24.610680Z",
     "iopub.status.busy": "2024-11-27T19:45:24.610247Z",
     "iopub.status.idle": "2024-11-27T19:45:24.630035Z",
     "shell.execute_reply": "2024-11-27T19:45:24.628425Z",
     "shell.execute_reply.started": "2024-11-27T19:45:24.610621Z"
    },
    "papermill": {
     "duration": 0.025235,
     "end_time": "2024-11-07T20:20:01.370030",
     "exception": false,
     "start_time": "2024-11-07T20:20:01.344795",
     "status": "completed"
    },
    "tags": [],
    "trusted": true
   },
   "outputs": [],
   "source": [
    "# feature importance function\n",
    "\n",
    "\n",
    "\n",
    "def featureImportance(sample_model, features, X, trainX, trainY, testX, test_data_processed):\n",
    "\n",
    "\n",
    "\n",
    "    print(\"fitting\")\n",
    "\n",
    "\n",
    "\n",
    "    \n",
    "\n",
    "\n",
    "\n",
    "    # fit the model\n",
    "\n",
    "\n",
    "\n",
    "    sample_model.fit(trainX, trainY)\n",
    "\n",
    "\n",
    "\n",
    "\n",
    "\n",
    "\n",
    "\n",
    "    print(\"extracting features\")\n",
    "\n",
    "\n",
    "\n",
    "\n",
    "\n",
    "\n",
    "\n",
    "    # extract all the feature names from data\n",
    "\n",
    "\n",
    "\n",
    "    importances = sample_model.feature_importances_\n",
    "\n",
    "\n",
    "\n",
    "    feature_names = train_data.drop(columns=['Y']).columns\n",
    "\n",
    "\n",
    "\n",
    "    print(feature_names)\n",
    "\n",
    "\n",
    "\n",
    "\n",
    "\n",
    "\n",
    "\n",
    "    # sort with respect to importance\n",
    "\n",
    "\n",
    "\n",
    "    feature_importance_df = pd.DataFrame({\n",
    "\n",
    "\n",
    "\n",
    "        'Feature': feature_names,\n",
    "\n",
    "\n",
    "\n",
    "        'Importance': importances\n",
    "\n",
    "\n",
    "\n",
    "    }).sort_values(by='Importance', ascending=False)\n",
    "\n",
    "\n",
    "\n",
    "\n",
    "\n",
    "\n",
    "\n",
    "    # extract the top ones\n",
    "\n",
    "\n",
    "\n",
    "    top_features = feature_importance_df['Feature'].head(features).values\n",
    "\n",
    "\n",
    "\n",
    "    print(top_features)\n",
    "\n",
    "\n",
    "\n",
    "\n",
    "\n",
    "\n",
    "\n",
    "    # change all data according to the top ones we have selected\n",
    "\n",
    "\n",
    "\n",
    "    trainX = pd.DataFrame(trainX, columns=feature_names)[top_features]\n",
    "\n",
    "\n",
    "\n",
    "    testX = pd.DataFrame(testX, columns=feature_names)[top_features]\n",
    "\n",
    "\n",
    "\n",
    "    X = pd.DataFrame(X, columns=feature_names)[top_features]\n",
    "\n",
    "\n",
    "\n",
    "    test_data_processed = pd.DataFrame(test_data_processed, columns=feature_names)[top_features]\n",
    "\n",
    "\n",
    "\n",
    "\n",
    "\n",
    "\n",
    "\n",
    "    print(\"features extracted\")\n",
    "\n",
    "\n",
    "\n",
    "    \n",
    "\n",
    "\n",
    "\n",
    "    # retrain the model\n",
    "\n",
    "\n",
    "\n",
    "    sample_model.fit(trainX, trainY)\n",
    "\n",
    "\n",
    "\n",
    "\n",
    "\n",
    "\n",
    "\n",
    "    print(\"features trained\")\n",
    "\n",
    "\n",
    "\n",
    "    \n",
    "\n",
    "\n",
    "\n",
    "    return sample_model, X, trainX, trainY, testX, test_data_processed"
   ]
  },
  {
   "cell_type": "markdown",
   "id": "fc6047d2",
   "metadata": {
    "papermill": {
     "duration": 0.013797,
     "end_time": "2024-11-07T20:20:01.398362",
     "exception": false,
     "start_time": "2024-11-07T20:20:01.384565",
     "status": "completed"
    },
    "tags": []
   },
   "source": [
    "## model intialization\n",
    "\n",
    "\n",
    "\n",
    "here model is intialized"
   ]
  },
  {
   "cell_type": "code",
   "execution_count": null,
   "id": "511dc0e2",
   "metadata": {
    "execution": {
     "iopub.execute_input": "2024-11-27T19:45:24.631821Z",
     "iopub.status.busy": "2024-11-27T19:45:24.631414Z",
     "iopub.status.idle": "2024-11-27T19:45:24.649861Z",
     "shell.execute_reply": "2024-11-27T19:45:24.648461Z",
     "shell.execute_reply.started": "2024-11-27T19:45:24.631785Z"
    },
    "papermill": {
     "duration": 0.021268,
     "end_time": "2024-11-07T20:20:01.433590",
     "exception": false,
     "start_time": "2024-11-07T20:20:01.412322",
     "status": "completed"
    },
    "tags": [],
    "trusted": true
   },
   "outputs": [],
   "source": [
    "model = AdaBoostRegressor(n_estimators=100, estimator=DecisionTreeRegressor(max_depth=10 ,splitter='best',criterion='poisson', min_samples_leaf=5,min_samples_split=3))"
   ]
  },
  {
   "cell_type": "code",
   "execution_count": null,
   "id": "585f7723",
   "metadata": {
    "execution": {
     "iopub.execute_input": "2024-11-27T19:45:24.652019Z",
     "iopub.status.busy": "2024-11-27T19:45:24.651521Z",
     "iopub.status.idle": "2024-11-27T19:45:24.665774Z",
     "shell.execute_reply": "2024-11-27T19:45:24.664285Z",
     "shell.execute_reply.started": "2024-11-27T19:45:24.651970Z"
    },
    "papermill": {
     "duration": 0.02329,
     "end_time": "2024-11-07T20:20:14.141486",
     "exception": false,
     "start_time": "2024-11-07T20:20:14.118196",
     "status": "completed"
    },
    "tags": [],
    "trusted": true
   },
   "outputs": [],
   "source": [
    "print(\"X shape -> \", X.shape)\n",
    "\n",
    "\n",
    "\n",
    "print(\"trainX shape -> \", trainX.shape)\n",
    "\n",
    "\n",
    "\n",
    "print(\"testX shape -> \", testX.shape)\n",
    "\n",
    "\n",
    "\n",
    "print(\"test_data_processed shape -> \", test_data.shape)"
   ]
  },
  {
   "cell_type": "markdown",
   "id": "34c9426d",
   "metadata": {},
   "source": [
    "# feature selection\n",
    "\n",
    "\n",
    "\n",
    "here we will apply feature selection and feature importance"
   ]
  },
  {
   "cell_type": "code",
   "execution_count": null,
   "id": "8e26330a",
   "metadata": {
    "execution": {
     "iopub.execute_input": "2024-11-27T19:45:24.683181Z",
     "iopub.status.busy": "2024-11-27T19:45:24.682808Z",
     "iopub.status.idle": "2024-11-27T19:45:24.707280Z",
     "shell.execute_reply": "2024-11-27T19:45:24.706144Z",
     "shell.execute_reply.started": "2024-11-27T19:45:24.683146Z"
    },
    "trusted": true
   },
   "outputs": [],
   "source": [
    "model"
   ]
  },
  {
   "cell_type": "code",
   "execution_count": null,
   "id": "b543f060",
   "metadata": {
    "execution": {
     "iopub.execute_input": "2024-11-27T19:45:24.709284Z",
     "iopub.status.busy": "2024-11-27T19:45:24.708821Z",
     "iopub.status.idle": "2024-11-27T19:45:24.721150Z",
     "shell.execute_reply": "2024-11-27T19:45:24.719805Z",
     "shell.execute_reply.started": "2024-11-27T19:45:24.709236Z"
    },
    "trusted": true
   },
   "outputs": [],
   "source": [
    "# apply feature selection here\n",
    "\n",
    "\n",
    "\n",
    "model, X, trainX, trainY, testX, test_data = kbest(model, 70, X, trainX, trainY, testX, test_data)"
   ]
  },
  {
   "cell_type": "code",
   "execution_count": null,
   "id": "5fc618ef",
   "metadata": {
    "execution": {
     "iopub.execute_input": "2024-11-27T19:45:24.729363Z",
     "iopub.status.busy": "2024-11-27T19:45:24.728833Z",
     "iopub.status.idle": "2024-11-27T19:45:24.741596Z",
     "shell.execute_reply": "2024-11-27T19:45:24.740315Z",
     "shell.execute_reply.started": "2024-11-27T19:45:24.729302Z"
    },
    "trusted": true
   },
   "outputs": [],
   "source": [
    "model"
   ]
  },
  {
   "cell_type": "markdown",
   "id": "58edd65e",
   "metadata": {},
   "source": [
    "# grid search"
   ]
  },
  {
   "cell_type": "code",
   "execution_count": null,
   "id": "61b8b917",
   "metadata": {
    "execution": {
     "iopub.execute_input": "2024-11-27T19:45:24.743100Z",
     "iopub.status.busy": "2024-11-27T19:45:24.742722Z",
     "iopub.status.idle": "2024-11-27T19:45:24.754967Z",
     "shell.execute_reply": "2024-11-27T19:45:24.753793Z",
     "shell.execute_reply.started": "2024-11-27T19:45:24.743068Z"
    },
    "trusted": true
   },
   "outputs": [],
   "source": [
    "def gridsearch(param_grid, model, scorer, trainX, trainY):\n",
    "\n",
    "\n",
    "\n",
    "    print(\"starting grid search\")\n",
    "\n",
    "\n",
    "\n",
    "\n",
    "\n",
    "\n",
    "\n",
    "    # intialize grid search\n",
    "\n",
    "\n",
    "\n",
    "    grid_search = GridSearchCV(estimator=model, param_grid=param_grid, cv=3, scoring=scorer, verbose=3)\n",
    "\n",
    "\n",
    "\n",
    "    print(\"grid search is intialized\")\n",
    "\n",
    "\n",
    "\n",
    "\n",
    "\n",
    "\n",
    "\n",
    "    # fit the model\n",
    "\n",
    "\n",
    "\n",
    "    grid_search.fit(trainX, trainY)\n",
    "\n",
    "\n",
    "\n",
    "    print(\"grid search fitting completed\")\n",
    "\n",
    "\n",
    "\n",
    "\n",
    "\n",
    "\n",
    "\n",
    "    # display the best model grid search found\n",
    "\n",
    "\n",
    "\n",
    "    best_model = grid_search.best_estimator_\n",
    "\n",
    "\n",
    "\n",
    "    print(best_model)\n",
    "\n",
    "\n",
    "\n",
    "\n",
    "\n",
    "\n",
    "\n",
    "    # display the best parameters of the best model\n",
    "\n",
    "\n",
    "\n",
    "    best_parameters = grid_search.best_params_\n",
    "\n",
    "\n",
    "\n",
    "    print(best_parameters)\n",
    "\n",
    "\n",
    "\n",
    "\n",
    "\n",
    "\n",
    "\n",
    "    # display the best score of the best model\n",
    "\n",
    "\n",
    "\n",
    "    print(\"Best cross-validated score:\", grid_search.best_score_)\n",
    "\n",
    "\n",
    "\n",
    "\n",
    "\n",
    "\n",
    "\n",
    "    # assign the best model our model\n",
    "\n",
    "\n",
    "\n",
    "    model = best_model\n",
    "\n",
    "\n",
    "\n",
    "    print(\"model assigned, grid search completed\")\n",
    "\n",
    "\n",
    "\n",
    "\n",
    "\n",
    "\n",
    "\n",
    "    return model"
   ]
  },
  {
   "cell_type": "code",
   "execution_count": null,
   "id": "8896c271",
   "metadata": {
    "execution": {
     "iopub.execute_input": "2024-11-27T19:45:24.757521Z",
     "iopub.status.busy": "2024-11-27T19:45:24.756814Z",
     "iopub.status.idle": "2024-11-27T19:45:24.770429Z",
     "shell.execute_reply": "2024-11-27T19:45:24.769142Z",
     "shell.execute_reply.started": "2024-11-27T19:45:24.757465Z"
    },
    "trusted": true
   },
   "outputs": [],
   "source": [
    "# Define a scoring metric (e.g., negative mean squared error)\n",
    "# scorer = make_scorer(mean_squared_error, greater_is_better=False)"
   ]
  },
  {
   "cell_type": "code",
   "execution_count": null,
   "id": "58ba6d7b",
   "metadata": {
    "execution": {
     "iopub.execute_input": "2024-11-27T19:45:24.772489Z",
     "iopub.status.busy": "2024-11-27T19:45:24.771996Z",
     "iopub.status.idle": "2024-11-27T19:45:24.784443Z",
     "shell.execute_reply": "2024-11-27T19:45:24.783097Z",
     "shell.execute_reply.started": "2024-11-27T19:45:24.772441Z"
    },
    "trusted": true
   },
   "outputs": [],
   "source": [
    "# define hyper parameters of grid\n",
    "# param_grid = {\n",
    "#     'learning_rate': [ 0.001, 0.01, 0.05 ]\n",
    "# }"
   ]
  },
  {
   "cell_type": "code",
   "execution_count": null,
   "id": "b969d8af",
   "metadata": {
    "execution": {
     "iopub.execute_input": "2024-11-27T19:45:24.786292Z",
     "iopub.status.busy": "2024-11-27T19:45:24.785881Z"
    },
    "trusted": true
   },
   "outputs": [],
   "source": [
    "# model = gridsearch(param_grid, model, scorer, trainX, trainY)"
   ]
  },
  {
   "cell_type": "markdown",
   "id": "ca514b89",
   "metadata": {},
   "source": [
    "# sampling data\n",
    "\n",
    "\n",
    "\n",
    "we do this when dataset is too big and model is too slow. this model took 10hours to just train on train data and then after 1 hour of predicting on testX, it failed. kernel crashed. hence this doesnt work on full data.     \n",
    "\n",
    "\n",
    "\n",
    "However, we can achieve this model by taking 10% sample, train a model, predict, find its MSE. then repeat n times and pick the model with the smallest MSE. "
   ]
  },
  {
   "cell_type": "code",
   "execution_count": null,
   "id": "6e31a8c7",
   "metadata": {
    "trusted": true
   },
   "outputs": [],
   "source": [
    "print(\"X shape -> \", X.shape)\n",
    "\n",
    "\n",
    "\n",
    "print(\"trainX shape -> \", trainX.shape)\n",
    "\n",
    "\n",
    "\n",
    "print(\"testX shape -> \", testX.shape)\n",
    "\n",
    "\n",
    "\n",
    "print(\"test_data_processed shape -> \", test_data.shape)"
   ]
  },
  {
   "cell_type": "code",
   "execution_count": null,
   "id": "b9759821",
   "metadata": {
    "trusted": true
   },
   "outputs": [],
   "source": [
    "model"
   ]
  },
  {
   "cell_type": "code",
   "execution_count": null,
   "id": "7ac72a30",
   "metadata": {
    "trusted": true
   },
   "outputs": [],
   "source": [
    "# trainX = preprocessor.fit_transform(trainX)\n",
    "\n",
    "\n",
    "\n",
    "# print(trainX.shape)\n",
    "\n",
    "\n",
    "\n",
    "# testX = preprocessor.transform(testX)\n",
    "\n",
    "\n",
    "\n",
    "# print(testX.shape)\n",
    "\n",
    "\n",
    "\n",
    "# test_data = preprocessor.transform(test_data)\n",
    "\n",
    "\n",
    "\n",
    "# print(test_data.shape)\n",
    "\n",
    "\n",
    "\n",
    "# X = preprocessor.transform(X)\n",
    "\n",
    "\n",
    "\n",
    "# print(X.shape)"
   ]
  },
  {
   "cell_type": "markdown",
   "id": "df4c4143",
   "metadata": {
    "papermill": {
     "duration": 0.014144,
     "end_time": "2024-11-07T20:20:14.233534",
     "exception": false,
     "start_time": "2024-11-07T20:20:14.219390",
     "status": "completed"
    },
    "tags": []
   },
   "source": [
    "## model running\n",
    "\n",
    "\n",
    "\n",
    "here we run the model"
   ]
  },
  {
   "cell_type": "code",
   "execution_count": null,
   "id": "cad49c9d",
   "metadata": {
    "papermill": {
     "duration": 1652.161599,
     "end_time": "2024-11-07T20:47:46.409387",
     "exception": false,
     "start_time": "2024-11-07T20:20:14.247788",
     "status": "completed"
    },
    "tags": [],
    "trusted": true
   },
   "outputs": [],
   "source": [
    "# fit the model\n",
    "\n",
    "\n",
    "\n",
    "model.fit(trainX, trainY)"
   ]
  },
  {
   "cell_type": "code",
   "execution_count": null,
   "id": "329dff96",
   "metadata": {
    "trusted": true
   },
   "outputs": [],
   "source": [
    "# display information regarding the regression\n",
    "\n",
    "\n",
    "\n",
    "print(\"model score: \", model.score(trainX, trainY))\n",
    "\n",
    "\n",
    "\n",
    "# print(\"model coefficient: \", model.coef_)\n",
    "\n",
    "\n",
    "\n",
    "# print(\"model intercept: \", model.intercept_)   "
   ]
  },
  {
   "cell_type": "code",
   "execution_count": null,
   "id": "8275492e",
   "metadata": {
    "trusted": true
   },
   "outputs": [],
   "source": [
    "# predict using this model USING PREDICT\n",
    "\n",
    "\n",
    "\n",
    "y_pred = model.predict(testX)\n",
    "\n",
    "\n",
    "\n",
    "print(\"successfully predicted\")\n",
    "\n",
    "\n",
    "\n",
    "metrics(y_pred, testY)"
   ]
  },
  {
   "cell_type": "code",
   "execution_count": null,
   "id": "f8ee212f",
   "metadata": {
    "trusted": true
   },
   "outputs": [],
   "source": [
    "# # predict using thus model USING PREDICTPROBA\n",
    "\n",
    "\n",
    "\n",
    "# y_pred_proba = model.predict_proba(testX)[:, 1]\n",
    "\n",
    "\n",
    "\n",
    "# print(\"successfully predicted\")\n",
    "\n",
    "\n",
    "\n",
    "# metrics(y_pred_proba, testY)"
   ]
  },
  {
   "cell_type": "markdown",
   "id": "937ae370",
   "metadata": {
    "papermill": {
     "duration": 0.019827,
     "end_time": "2024-11-07T20:55:49.286324",
     "exception": false,
     "start_time": "2024-11-07T20:55:49.266497",
     "status": "completed"
    },
    "tags": []
   },
   "source": [
    "## predict for test dataset\n",
    "\n",
    "\n",
    "\n",
    "fit the model and predict for test dataset"
   ]
  },
  {
   "cell_type": "code",
   "execution_count": null,
   "id": "8f6eb5c2",
   "metadata": {
    "papermill": {
     "duration": 2249.874308,
     "end_time": "2024-11-07T21:33:19.180774",
     "exception": false,
     "start_time": "2024-11-07T20:55:49.306466",
     "status": "completed"
    },
    "tags": [],
    "trusted": true
   },
   "outputs": [],
   "source": [
    "model.fit(X, Y)"
   ]
  },
  {
   "cell_type": "code",
   "execution_count": null,
   "id": "f18c11b3",
   "metadata": {
    "trusted": true
   },
   "outputs": [],
   "source": [
    "# display information regarding the regression\n",
    "\n",
    "\n",
    "\n",
    "print(\"model score: \", model.score(X, Y), \"    \")\n",
    "\n",
    "\n",
    "\n",
    "# print(\"model coefficient: \", model.coef_)\n",
    "\n",
    "\n",
    "\n",
    "# print(\"model intercept: \", model.intercept_)"
   ]
  },
  {
   "cell_type": "code",
   "execution_count": null,
   "id": "e9c93967",
   "metadata": {
    "papermill": {
     "duration": 774.78282,
     "end_time": "2024-11-07T21:46:13.986713",
     "exception": false,
     "start_time": "2024-11-07T21:33:19.203893",
     "status": "completed"
    },
    "tags": [],
    "trusted": true
   },
   "outputs": [],
   "source": [
    "test_prediction = model.predict(test_data)\n",
    "\n",
    "\n",
    "\n",
    "\n",
    "\n",
    "\n",
    "\n",
    "# test_prediction=test_prediction[:, 1]\n",
    "\n",
    "\n",
    "\n",
    "\n",
    "\n",
    "\n",
    "\n",
    "print(test_prediction)"
   ]
  },
  {
   "cell_type": "markdown",
   "id": "98c8bfcf",
   "metadata": {
    "papermill": {
     "duration": 0.02242,
     "end_time": "2024-11-07T21:46:14.032429",
     "exception": false,
     "start_time": "2024-11-07T21:46:14.010009",
     "status": "completed"
    },
    "tags": []
   },
   "source": [
    "## write into csv\n",
    "\n",
    "\n",
    "\n",
    "now we write the predictions into the csv file"
   ]
  },
  {
   "cell_type": "code",
   "execution_count": null,
   "id": "e0573bfc",
   "metadata": {
    "papermill": {
     "duration": 0.455346,
     "end_time": "2024-11-07T21:46:14.510398",
     "exception": false,
     "start_time": "2024-11-07T21:46:14.055052",
     "status": "completed"
    },
    "tags": [],
    "trusted": true
   },
   "outputs": [],
   "source": [
    "# sample_data = pd.read_csv(r\"/kaggle/input/challenge-2/sample_submission.csv\")\n",
    "sample_data = pd.read_csv(r\"D:\\Users\\DELL\\OneDrive - Institute of Business Administration\\IBA\\sem5\\machine learning\\ipynb notebooks\\challenger2\\iml-fall-2024-challenge-2\\sample_submission.csv\")\n",
    "\n",
    "\n",
    "\n",
    "\n",
    "\n",
    "\n",
    "sample_data['price_doc'] = test_prediction\n",
    "\n",
    "\n",
    "\n",
    "sample_data\n",
    "\n",
    "\n",
    "\n",
    "\n",
    "\n",
    "\n",
    "\n",
    "# sample_data.to_csv(r\"/kaggle/working/ada1.csv\", index=False)\n",
    "sample_data.to_csv(r\"D:\\Users\\DELL\\OneDrive - Institute of Business Administration\\IBA\\sem5\\machine learning\\ipynb notebooks\\challenger2\\iml-fall-2024-challenge-2\\ada1.csv\", index=False)\n",
    "\n",
    "\n",
    "sample_data"
   ]
  },
  {
   "cell_type": "code",
   "execution_count": null,
   "id": "a1702bc8-49ad-498d-b593-d54f811d9992",
   "metadata": {
    "papermill": {
     "duration": 0.053693,
     "end_time": "2024-11-07T21:46:14.588137",
     "exception": false,
     "start_time": "2024-11-07T21:46:14.534444",
     "status": "completed"
    },
    "tags": [],
    "trusted": true
   },
   "outputs": [],
   "source": [
    "model"
   ]
  }
 ],
 "metadata": {
  "kaggle": {
   "accelerator": "none",
   "dataSources": [
    {
     "datasetId": 6034234,
     "sourceId": 9837068,
     "sourceType": "datasetVersion"
    },
    {
     "datasetId": 6034286,
     "sourceId": 9837128,
     "sourceType": "datasetVersion"
    },
    {
     "datasetId": 6164648,
     "sourceId": 10013045,
     "sourceType": "datasetVersion"
    },
    {
     "datasetId": 6179183,
     "sourceId": 10032577,
     "sourceType": "datasetVersion"
    }
   ],
   "dockerImageVersionId": 30786,
   "isGpuEnabled": false,
   "isInternetEnabled": false,
   "language": "python",
   "sourceType": "notebook"
  },
  "kernelspec": {
   "display_name": "Python 3",
   "language": "python",
   "name": "python3"
  },
  "language_info": {
   "codemirror_mode": {
    "name": "ipython",
    "version": 3
   },
   "file_extension": ".py",
   "mimetype": "text/x-python",
   "name": "python",
   "nbconvert_exporter": "python",
   "pygments_lexer": "ipython3",
   "version": "3.12.7"
  },
  "papermill": {
   "default_parameters": {},
   "duration": 5193.546342,
   "end_time": "2024-11-07T21:46:17.332142",
   "environment_variables": {},
   "exception": null,
   "input_path": "__notebook__.ipynb",
   "output_path": "__notebook__.ipynb",
   "parameters": {},
   "start_time": "2024-11-07T20:19:43.785800",
   "version": "2.6.0"
  }
 },
 "nbformat": 4,
 "nbformat_minor": 5
}
