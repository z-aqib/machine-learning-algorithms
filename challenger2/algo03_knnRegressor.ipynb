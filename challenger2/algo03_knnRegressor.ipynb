{
 "cells": [
  {
   "cell_type": "markdown",
   "id": "fd67a471-fbf2-4cee-9b17-65cc82d7886f",
   "metadata": {
    "papermill": {
     "duration": 0.013014,
     "end_time": "2024-11-07T20:19:46.538794",
     "exception": false,
     "start_time": "2024-11-07T20:19:46.525780",
     "status": "completed"
    },
    "tags": []
   },
   "source": [
    "# Importing Libraries\n",
    "\n",
    "\n",
    "\n",
    "in this part we will install all the necessary libraries on command prompt and then import the necessary functions from those libraries. "
   ]
  },
  {
   "cell_type": "code",
   "execution_count": 4,
   "id": "bd54b756",
   "metadata": {
    "execution": {
     "iopub.execute_input": "2024-11-30T21:55:03.096464Z",
     "iopub.status.busy": "2024-11-30T21:55:03.096054Z",
     "iopub.status.idle": "2024-11-30T21:55:03.107578Z",
     "shell.execute_reply": "2024-11-30T21:55:03.106011Z",
     "shell.execute_reply.started": "2024-11-30T21:55:03.096432Z"
    },
    "papermill": {
     "duration": 5.853121,
     "end_time": "2024-11-07T20:19:52.405091",
     "exception": false,
     "start_time": "2024-11-07T20:19:46.551970",
     "status": "completed"
    },
    "tags": [],
    "trusted": true
   },
   "outputs": [],
   "source": [
    "# importing all the necessary libraries\n",
    "\n",
    "\n",
    "\n",
    "import pandas as pd\n",
    "\n",
    "\n",
    "\n",
    "\n",
    "\n",
    "\n",
    "\n",
    "from numpy import mean\n",
    "\n",
    "\n",
    "\n",
    "import numpy as np\n",
    "\n",
    "\n",
    "\n",
    "import time\n",
    "\n",
    "\n",
    "\n",
    "\n",
    "\n",
    "\n",
    "\n",
    "# step 1: preprocessing\n",
    "\n",
    "\n",
    "\n",
    "from sklearn.impute import SimpleImputer # import some strategic imputer to fill in any missing values using mean\n",
    "\n",
    "\n",
    "\n",
    "from sklearn.preprocessing import MinMaxScaler, StandardScaler, MaxAbsScaler, RobustScaler, Normalizer # scale all the values to one range to avoid any biasness (this bias is seen in mostly naive bayes and knn etc)\n",
    "\n",
    "\n",
    "\n",
    "\n",
    "\n",
    "\n",
    "\n",
    "from sklearn.impute import KNNImputer # import some strategic imputer to fill missing values using KNN (finds the nearest neighbour and fills it with that value)\n",
    "\n",
    "\n",
    "\n",
    "\n",
    "\n",
    "\n",
    "\n",
    "from sklearn.feature_selection import SequentialFeatureSelector, SelectKBest, f_classif, VarianceThreshold, f_regression\n",
    "\n",
    "\n",
    "\n",
    "\n",
    "\n",
    "\n",
    "\n",
    "from sklearn.decomposition import PCA\n",
    "\n",
    "\n",
    "\n",
    "from sklearn.compose import ColumnTransformer\n",
    "\n",
    "\n",
    "\n",
    "from sklearn.preprocessing import PolynomialFeatures, OneHotEncoder\n",
    "\n",
    "\n",
    "\n",
    "from sklearn.pipeline import Pipeline\n",
    "\n",
    "\n",
    "\n",
    "from sklearn.linear_model import Ridge, Lasso\n",
    "\n",
    "\n",
    "\n",
    "\n",
    "\n",
    "\n",
    "\n",
    "# step 2: data division\n",
    "\n",
    "\n",
    "\n",
    "from sklearn.model_selection import train_test_split, RepeatedKFold, cross_val_score, GridSearchCV, ParameterGrid # to divide the code into train/test using a specific percentage or with/without replacement\n",
    "\n",
    "\n",
    "\n",
    "\n",
    "\n",
    "\n",
    "\n",
    "# step 3: model\n",
    "\n",
    "\n",
    "\n",
    "from sklearn.linear_model import LinearRegression\n",
    "\n",
    "\n",
    "\n",
    "from sklearn.neighbors import KNeighborsRegressor\n",
    "\n",
    "\n",
    "\n",
    "\n",
    "\n",
    "\n",
    "\n",
    "# step 4: displaying accuracy\n",
    "\n",
    "\n",
    "\n",
    "from sklearn.metrics import roc_auc_score, accuracy_score # to display the accuracy of our tree\n",
    "\n",
    "\n",
    "\n",
    "from sklearn.metrics import mean_squared_error, r2_score, mean_absolute_error, make_scorer\n",
    "\n",
    "\n",
    "\n",
    "\n",
    "\n",
    "\n",
    "\n",
    "# step 5: warning filter\n",
    "\n",
    "\n",
    "\n",
    "import warnings\n",
    "\n",
    "\n",
    "\n",
    "warnings.filterwarnings('ignore')\n"
   ]
  },
  {
   "cell_type": "code",
   "execution_count": 5,
   "id": "e46341fe",
   "metadata": {
    "execution": {
     "iopub.execute_input": "2024-11-30T21:55:03.109907Z",
     "iopub.status.busy": "2024-11-30T21:55:03.109546Z",
     "iopub.status.idle": "2024-11-30T21:55:03.128730Z",
     "shell.execute_reply": "2024-11-30T21:55:03.127390Z",
     "shell.execute_reply.started": "2024-11-30T21:55:03.109872Z"
    },
    "trusted": true
   },
   "outputs": [
    {
     "name": "stdout",
     "output_type": "stream",
     "text": [
      "1.5.2\n"
     ]
    }
   ],
   "source": [
    "import sklearn\n",
    "\n",
    "\n",
    "\n",
    "print(sklearn.__version__)\n"
   ]
  },
  {
   "cell_type": "code",
   "execution_count": 6,
   "id": "890faf0a",
   "metadata": {
    "execution": {
     "iopub.execute_input": "2024-11-30T21:55:03.130415Z",
     "iopub.status.busy": "2024-11-30T21:55:03.130070Z",
     "iopub.status.idle": "2024-11-30T21:55:03.146306Z",
     "shell.execute_reply": "2024-11-30T21:55:03.144705Z",
     "shell.execute_reply.started": "2024-11-30T21:55:03.130382Z"
    },
    "trusted": true
   },
   "outputs": [],
   "source": [
    "# pip install --upgrade scikit-learn\n"
   ]
  },
  {
   "cell_type": "markdown",
   "id": "dc12b233",
   "metadata": {},
   "source": [
    "# Important Functions"
   ]
  },
  {
   "cell_type": "code",
   "execution_count": 7,
   "id": "af66d720",
   "metadata": {
    "execution": {
     "iopub.execute_input": "2024-11-30T21:55:03.149605Z",
     "iopub.status.busy": "2024-11-30T21:55:03.148770Z",
     "iopub.status.idle": "2024-11-30T21:55:03.163557Z",
     "shell.execute_reply": "2024-11-30T21:55:03.162442Z",
     "shell.execute_reply.started": "2024-11-30T21:55:03.149545Z"
    },
    "trusted": true
   },
   "outputs": [],
   "source": [
    "# compute this predictions metrics\n",
    "\n",
    "\n",
    "\n",
    "def metrics(y_pred, testY):\n",
    "\n",
    "\n",
    "\n",
    "    print(\"starting to compute metrics\")\n",
    "\n",
    "\n",
    "\n",
    "    \n",
    "\n",
    "\n",
    "\n",
    "    # # display the accuracy of this prediction\n",
    "\n",
    "\n",
    "\n",
    "    # accuracy = accuracy_score(testY, y_pred)\n",
    "\n",
    "\n",
    "\n",
    "    # print(\"model accuracy = \", accuracy, \"   \")\n",
    "\n",
    "\n",
    "\n",
    "\n",
    "\n",
    "\n",
    "\n",
    "    # # now lets calculate the ROC AUC score according to this prediction\n",
    "\n",
    "\n",
    "\n",
    "    # roc_score = roc_auc_score(testY, y_pred)\n",
    "\n",
    "\n",
    "\n",
    "    # print(\"roc score = \", roc_score, \"   \")\n",
    "\n",
    "\n",
    "\n",
    "\n",
    "\n",
    "\n",
    "\n",
    "    # display the mean squared error of this prediction\n",
    "\n",
    "\n",
    "\n",
    "    mse = mean_squared_error(testY, y_pred)\n",
    "\n",
    "\n",
    "\n",
    "    print(\"Mean squared error: %.2f\" % mse, \"   \")\n",
    "\n",
    "\n",
    "\n",
    "\n",
    "\n",
    "\n",
    "\n",
    "    # display the root mean squared error\n",
    "\n",
    "\n",
    "\n",
    "    rmse = np.sqrt(mse)  # Root Mean Squared Error\n",
    "\n",
    "\n",
    "\n",
    "    print(\"Root Mean squared error: %.2f\" % rmse, \"   \")\n",
    "\n",
    "\n",
    "\n",
    "\n",
    "\n",
    "\n",
    "\n",
    "    # display the mean absolute error of this prediction\n",
    "\n",
    "\n",
    "\n",
    "    mae = mean_absolute_error(testY, y_pred)\n",
    "\n",
    "\n",
    "\n",
    "    print(\"Mean absolute error: %.2f\" % mae, \"   \")\n",
    "\n",
    "\n",
    "\n",
    "\n",
    "\n",
    "\n",
    "\n",
    "    # display the coeffeicient of determination of this preduction\n",
    "\n",
    "\n",
    "\n",
    "    r2_Score = r2_score(testY, y_pred)\n",
    "\n",
    "\n",
    "\n",
    "    print(\"Coefficient of determination: %.2f\" % r2_Score, \"    \")\n"
   ]
  },
  {
   "cell_type": "markdown",
   "id": "3912ca3f",
   "metadata": {
    "papermill": {
     "duration": 0.011237,
     "end_time": "2024-11-07T20:19:52.458899",
     "exception": false,
     "start_time": "2024-11-07T20:19:52.447662",
     "status": "completed"
    },
    "tags": []
   },
   "source": [
    "# Data Loading\n",
    "\n",
    "\n",
    "\n",
    "data shall be loaded into variables as data sets using pandas and csv readers. they will be checked to see if they are loaded properly and will be loaded as 2 sets: train and test as per given in the kaggle data"
   ]
  },
  {
   "cell_type": "code",
   "execution_count": 8,
   "id": "d9125e82",
   "metadata": {
    "execution": {
     "iopub.execute_input": "2024-11-30T21:55:03.165989Z",
     "iopub.status.busy": "2024-11-30T21:55:03.165546Z",
     "iopub.status.idle": "2024-11-30T21:55:13.224391Z",
     "shell.execute_reply": "2024-11-30T21:55:13.223129Z",
     "shell.execute_reply.started": "2024-11-30T21:55:03.165902Z"
    },
    "papermill": {
     "duration": 4.591761,
     "end_time": "2024-11-07T20:19:57.062353",
     "exception": false,
     "start_time": "2024-11-07T20:19:52.470592",
     "status": "completed"
    },
    "tags": [],
    "trusted": true
   },
   "outputs": [
    {
     "data": {
      "text/html": [
       "<div>\n",
       "<style scoped>\n",
       "    .dataframe tbody tr th:only-of-type {\n",
       "        vertical-align: middle;\n",
       "    }\n",
       "\n",
       "    .dataframe tbody tr th {\n",
       "        vertical-align: top;\n",
       "    }\n",
       "\n",
       "    .dataframe thead th {\n",
       "        text-align: right;\n",
       "    }\n",
       "</style>\n",
       "<table border=\"1\" class=\"dataframe\">\n",
       "  <thead>\n",
       "    <tr style=\"text-align: right;\">\n",
       "      <th></th>\n",
       "      <th>full_sq</th>\n",
       "      <th>life_sq</th>\n",
       "      <th>floor</th>\n",
       "      <th>product_type</th>\n",
       "      <th>sub_area</th>\n",
       "      <th>area_m</th>\n",
       "      <th>raion_popul</th>\n",
       "      <th>green_zone_part</th>\n",
       "      <th>indust_part</th>\n",
       "      <th>children_preschool</th>\n",
       "      <th>...</th>\n",
       "      <th>cafe_count_5000_price_2500</th>\n",
       "      <th>cafe_count_5000_price_4000</th>\n",
       "      <th>cafe_count_5000_price_high</th>\n",
       "      <th>big_church_count_5000</th>\n",
       "      <th>church_count_5000</th>\n",
       "      <th>mosque_count_5000</th>\n",
       "      <th>leisure_count_5000</th>\n",
       "      <th>sport_count_5000</th>\n",
       "      <th>market_count_5000</th>\n",
       "      <th>price_doc</th>\n",
       "    </tr>\n",
       "  </thead>\n",
       "  <tbody>\n",
       "    <tr>\n",
       "      <th>0</th>\n",
       "      <td>43.0</td>\n",
       "      <td>27.0</td>\n",
       "      <td>4.0</td>\n",
       "      <td>Investment</td>\n",
       "      <td>Bibirevo</td>\n",
       "      <td>6407578.100</td>\n",
       "      <td>155572.0</td>\n",
       "      <td>0.189727</td>\n",
       "      <td>0.000070</td>\n",
       "      <td>9576.0</td>\n",
       "      <td>...</td>\n",
       "      <td>9.0</td>\n",
       "      <td>4.0</td>\n",
       "      <td>0.0</td>\n",
       "      <td>13.0</td>\n",
       "      <td>22.0</td>\n",
       "      <td>1.0</td>\n",
       "      <td>0.0</td>\n",
       "      <td>52.0</td>\n",
       "      <td>4.0</td>\n",
       "      <td>5850000.0</td>\n",
       "    </tr>\n",
       "    <tr>\n",
       "      <th>1</th>\n",
       "      <td>34.0</td>\n",
       "      <td>19.0</td>\n",
       "      <td>3.0</td>\n",
       "      <td>Investment</td>\n",
       "      <td>Nagatinskij Zaton</td>\n",
       "      <td>9589336.912</td>\n",
       "      <td>115352.0</td>\n",
       "      <td>0.372602</td>\n",
       "      <td>0.049637</td>\n",
       "      <td>6880.0</td>\n",
       "      <td>...</td>\n",
       "      <td>15.0</td>\n",
       "      <td>3.0</td>\n",
       "      <td>0.0</td>\n",
       "      <td>15.0</td>\n",
       "      <td>29.0</td>\n",
       "      <td>1.0</td>\n",
       "      <td>10.0</td>\n",
       "      <td>66.0</td>\n",
       "      <td>14.0</td>\n",
       "      <td>6000000.0</td>\n",
       "    </tr>\n",
       "    <tr>\n",
       "      <th>2</th>\n",
       "      <td>43.0</td>\n",
       "      <td>29.0</td>\n",
       "      <td>2.0</td>\n",
       "      <td>Investment</td>\n",
       "      <td>Tekstil'shhiki</td>\n",
       "      <td>4808269.831</td>\n",
       "      <td>101708.0</td>\n",
       "      <td>0.112560</td>\n",
       "      <td>0.118537</td>\n",
       "      <td>5879.0</td>\n",
       "      <td>...</td>\n",
       "      <td>10.0</td>\n",
       "      <td>3.0</td>\n",
       "      <td>0.0</td>\n",
       "      <td>11.0</td>\n",
       "      <td>27.0</td>\n",
       "      <td>0.0</td>\n",
       "      <td>4.0</td>\n",
       "      <td>67.0</td>\n",
       "      <td>10.0</td>\n",
       "      <td>5700000.0</td>\n",
       "    </tr>\n",
       "    <tr>\n",
       "      <th>3</th>\n",
       "      <td>77.0</td>\n",
       "      <td>77.0</td>\n",
       "      <td>4.0</td>\n",
       "      <td>Investment</td>\n",
       "      <td>Basmannoe</td>\n",
       "      <td>8398460.622</td>\n",
       "      <td>108171.0</td>\n",
       "      <td>0.015234</td>\n",
       "      <td>0.037316</td>\n",
       "      <td>5706.0</td>\n",
       "      <td>...</td>\n",
       "      <td>319.0</td>\n",
       "      <td>108.0</td>\n",
       "      <td>17.0</td>\n",
       "      <td>135.0</td>\n",
       "      <td>236.0</td>\n",
       "      <td>2.0</td>\n",
       "      <td>91.0</td>\n",
       "      <td>195.0</td>\n",
       "      <td>14.0</td>\n",
       "      <td>16331452.0</td>\n",
       "    </tr>\n",
       "    <tr>\n",
       "      <th>4</th>\n",
       "      <td>67.0</td>\n",
       "      <td>46.0</td>\n",
       "      <td>14.0</td>\n",
       "      <td>Investment</td>\n",
       "      <td>Nizhegorodskoe</td>\n",
       "      <td>7506452.020</td>\n",
       "      <td>43795.0</td>\n",
       "      <td>0.007670</td>\n",
       "      <td>0.486246</td>\n",
       "      <td>2418.0</td>\n",
       "      <td>...</td>\n",
       "      <td>62.0</td>\n",
       "      <td>14.0</td>\n",
       "      <td>1.0</td>\n",
       "      <td>53.0</td>\n",
       "      <td>78.0</td>\n",
       "      <td>1.0</td>\n",
       "      <td>20.0</td>\n",
       "      <td>113.0</td>\n",
       "      <td>17.0</td>\n",
       "      <td>9100000.0</td>\n",
       "    </tr>\n",
       "  </tbody>\n",
       "</table>\n",
       "<p>5 rows × 272 columns</p>\n",
       "</div>"
      ],
      "text/plain": [
       "   full_sq  life_sq  floor product_type           sub_area       area_m  \\\n",
       "0     43.0     27.0    4.0   Investment           Bibirevo  6407578.100   \n",
       "1     34.0     19.0    3.0   Investment  Nagatinskij Zaton  9589336.912   \n",
       "2     43.0     29.0    2.0   Investment     Tekstil'shhiki  4808269.831   \n",
       "3     77.0     77.0    4.0   Investment          Basmannoe  8398460.622   \n",
       "4     67.0     46.0   14.0   Investment     Nizhegorodskoe  7506452.020   \n",
       "\n",
       "   raion_popul  green_zone_part  indust_part  children_preschool  ...  \\\n",
       "0     155572.0         0.189727     0.000070              9576.0  ...   \n",
       "1     115352.0         0.372602     0.049637              6880.0  ...   \n",
       "2     101708.0         0.112560     0.118537              5879.0  ...   \n",
       "3     108171.0         0.015234     0.037316              5706.0  ...   \n",
       "4      43795.0         0.007670     0.486246              2418.0  ...   \n",
       "\n",
       "   cafe_count_5000_price_2500  cafe_count_5000_price_4000  \\\n",
       "0                         9.0                         4.0   \n",
       "1                        15.0                         3.0   \n",
       "2                        10.0                         3.0   \n",
       "3                       319.0                       108.0   \n",
       "4                        62.0                        14.0   \n",
       "\n",
       "   cafe_count_5000_price_high  big_church_count_5000  church_count_5000  \\\n",
       "0                         0.0                   13.0               22.0   \n",
       "1                         0.0                   15.0               29.0   \n",
       "2                         0.0                   11.0               27.0   \n",
       "3                        17.0                  135.0              236.0   \n",
       "4                         1.0                   53.0               78.0   \n",
       "\n",
       "   mosque_count_5000  leisure_count_5000  sport_count_5000 market_count_5000  \\\n",
       "0                1.0                 0.0              52.0               4.0   \n",
       "1                1.0                10.0              66.0              14.0   \n",
       "2                0.0                 4.0              67.0              10.0   \n",
       "3                2.0                91.0             195.0              14.0   \n",
       "4                1.0                20.0             113.0              17.0   \n",
       "\n",
       "    price_doc  \n",
       "0   5850000.0  \n",
       "1   6000000.0  \n",
       "2   5700000.0  \n",
       "3  16331452.0  \n",
       "4   9100000.0  \n",
       "\n",
       "[5 rows x 272 columns]"
      ]
     },
     "execution_count": 8,
     "metadata": {},
     "output_type": "execute_result"
    }
   ],
   "source": [
    "# lets load the training data set\n",
    "\n",
    "\n",
    "\n",
    "# train_data = pd.read_csv(r\"/kaggle/input/challenge2/train.csv\")\n",
    "train_data = pd.read_csv(r\"D:\\Users\\DELL\\OneDrive - Institute of Business Administration\\IBA\\sem5\\machine learning\\ipynb notebooks\\challenger2\\iml-fall-2024-challenge-2\\train\\train.csv\")\n",
    "\n",
    "\n",
    "\n",
    "\n",
    "\n",
    "\n",
    "# lets also check it by getting the first few rows of the data, there should be x1 - x78 and one target variable Y\n",
    "\n",
    "\n",
    "\n",
    "train_data.head() \n"
   ]
  },
  {
   "cell_type": "code",
   "execution_count": 9,
   "id": "01f55297",
   "metadata": {
    "execution": {
     "iopub.execute_input": "2024-11-30T21:55:13.226849Z",
     "iopub.status.busy": "2024-11-30T21:55:13.226430Z",
     "iopub.status.idle": "2024-11-30T21:55:17.361452Z",
     "shell.execute_reply": "2024-11-30T21:55:17.360257Z",
     "shell.execute_reply.started": "2024-11-30T21:55:13.226805Z"
    },
    "papermill": {
     "duration": 1.948205,
     "end_time": "2024-11-07T20:19:59.023969",
     "exception": false,
     "start_time": "2024-11-07T20:19:57.075764",
     "status": "completed"
    },
    "tags": [],
    "trusted": true
   },
   "outputs": [
    {
     "data": {
      "text/html": [
       "<div>\n",
       "<style scoped>\n",
       "    .dataframe tbody tr th:only-of-type {\n",
       "        vertical-align: middle;\n",
       "    }\n",
       "\n",
       "    .dataframe tbody tr th {\n",
       "        vertical-align: top;\n",
       "    }\n",
       "\n",
       "    .dataframe thead th {\n",
       "        text-align: right;\n",
       "    }\n",
       "</style>\n",
       "<table border=\"1\" class=\"dataframe\">\n",
       "  <thead>\n",
       "    <tr style=\"text-align: right;\">\n",
       "      <th></th>\n",
       "      <th>row ID</th>\n",
       "      <th>full_sq</th>\n",
       "      <th>life_sq</th>\n",
       "      <th>floor</th>\n",
       "      <th>product_type</th>\n",
       "      <th>sub_area</th>\n",
       "      <th>area_m</th>\n",
       "      <th>raion_popul</th>\n",
       "      <th>green_zone_part</th>\n",
       "      <th>indust_part</th>\n",
       "      <th>...</th>\n",
       "      <th>cafe_count_5000_price_1500</th>\n",
       "      <th>cafe_count_5000_price_2500</th>\n",
       "      <th>cafe_count_5000_price_4000</th>\n",
       "      <th>cafe_count_5000_price_high</th>\n",
       "      <th>big_church_count_5000</th>\n",
       "      <th>church_count_5000</th>\n",
       "      <th>mosque_count_5000</th>\n",
       "      <th>leisure_count_5000</th>\n",
       "      <th>sport_count_5000</th>\n",
       "      <th>market_count_5000</th>\n",
       "    </tr>\n",
       "  </thead>\n",
       "  <tbody>\n",
       "    <tr>\n",
       "      <th>0</th>\n",
       "      <td>Row3</td>\n",
       "      <td>89.0</td>\n",
       "      <td>50.0</td>\n",
       "      <td>9.0</td>\n",
       "      <td>Investment</td>\n",
       "      <td>Mitino</td>\n",
       "      <td>1.258354e+07</td>\n",
       "      <td>178473.0</td>\n",
       "      <td>0.194703</td>\n",
       "      <td>0.069753</td>\n",
       "      <td>...</td>\n",
       "      <td>15.0</td>\n",
       "      <td>11.0</td>\n",
       "      <td>2.0</td>\n",
       "      <td>1.0</td>\n",
       "      <td>4.0</td>\n",
       "      <td>4.0</td>\n",
       "      <td>0.0</td>\n",
       "      <td>0.0</td>\n",
       "      <td>26.0</td>\n",
       "      <td>3.0</td>\n",
       "    </tr>\n",
       "    <tr>\n",
       "      <th>1</th>\n",
       "      <td>Row6</td>\n",
       "      <td>25.0</td>\n",
       "      <td>14.0</td>\n",
       "      <td>10.0</td>\n",
       "      <td>Investment</td>\n",
       "      <td>Sokol'niki</td>\n",
       "      <td>1.032047e+07</td>\n",
       "      <td>57405.0</td>\n",
       "      <td>0.523439</td>\n",
       "      <td>0.042307</td>\n",
       "      <td>...</td>\n",
       "      <td>144.0</td>\n",
       "      <td>81.0</td>\n",
       "      <td>16.0</td>\n",
       "      <td>3.0</td>\n",
       "      <td>38.0</td>\n",
       "      <td>80.0</td>\n",
       "      <td>1.0</td>\n",
       "      <td>27.0</td>\n",
       "      <td>127.0</td>\n",
       "      <td>8.0</td>\n",
       "    </tr>\n",
       "    <tr>\n",
       "      <th>2</th>\n",
       "      <td>Row11</td>\n",
       "      <td>38.0</td>\n",
       "      <td>19.0</td>\n",
       "      <td>11.0</td>\n",
       "      <td>Investment</td>\n",
       "      <td>Zapadnoe Degunino</td>\n",
       "      <td>7.632940e+06</td>\n",
       "      <td>78810.0</td>\n",
       "      <td>0.051844</td>\n",
       "      <td>0.437885</td>\n",
       "      <td>...</td>\n",
       "      <td>39.0</td>\n",
       "      <td>8.0</td>\n",
       "      <td>3.0</td>\n",
       "      <td>0.0</td>\n",
       "      <td>10.0</td>\n",
       "      <td>9.0</td>\n",
       "      <td>0.0</td>\n",
       "      <td>0.0</td>\n",
       "      <td>35.0</td>\n",
       "      <td>4.0</td>\n",
       "    </tr>\n",
       "    <tr>\n",
       "      <th>3</th>\n",
       "      <td>Row12</td>\n",
       "      <td>43.0</td>\n",
       "      <td>28.0</td>\n",
       "      <td>4.0</td>\n",
       "      <td>Investment</td>\n",
       "      <td>Kuncevo</td>\n",
       "      <td>5.235177e+07</td>\n",
       "      <td>142462.0</td>\n",
       "      <td>0.070662</td>\n",
       "      <td>0.035145</td>\n",
       "      <td>...</td>\n",
       "      <td>21.0</td>\n",
       "      <td>13.0</td>\n",
       "      <td>9.0</td>\n",
       "      <td>1.0</td>\n",
       "      <td>7.0</td>\n",
       "      <td>15.0</td>\n",
       "      <td>0.0</td>\n",
       "      <td>2.0</td>\n",
       "      <td>47.0</td>\n",
       "      <td>0.0</td>\n",
       "    </tr>\n",
       "    <tr>\n",
       "      <th>4</th>\n",
       "      <td>Row14</td>\n",
       "      <td>31.0</td>\n",
       "      <td>21.0</td>\n",
       "      <td>3.0</td>\n",
       "      <td>Investment</td>\n",
       "      <td>Lefortovo</td>\n",
       "      <td>8.993640e+06</td>\n",
       "      <td>89971.0</td>\n",
       "      <td>0.066941</td>\n",
       "      <td>0.306977</td>\n",
       "      <td>...</td>\n",
       "      <td>205.0</td>\n",
       "      <td>88.0</td>\n",
       "      <td>19.0</td>\n",
       "      <td>2.0</td>\n",
       "      <td>63.0</td>\n",
       "      <td>100.0</td>\n",
       "      <td>0.0</td>\n",
       "      <td>28.0</td>\n",
       "      <td>132.0</td>\n",
       "      <td>14.0</td>\n",
       "    </tr>\n",
       "  </tbody>\n",
       "</table>\n",
       "<p>5 rows × 272 columns</p>\n",
       "</div>"
      ],
      "text/plain": [
       "  row ID  full_sq  life_sq  floor product_type           sub_area  \\\n",
       "0   Row3     89.0     50.0    9.0   Investment             Mitino   \n",
       "1   Row6     25.0     14.0   10.0   Investment         Sokol'niki   \n",
       "2  Row11     38.0     19.0   11.0   Investment  Zapadnoe Degunino   \n",
       "3  Row12     43.0     28.0    4.0   Investment            Kuncevo   \n",
       "4  Row14     31.0     21.0    3.0   Investment          Lefortovo   \n",
       "\n",
       "         area_m  raion_popul  green_zone_part  indust_part  ...  \\\n",
       "0  1.258354e+07     178473.0         0.194703     0.069753  ...   \n",
       "1  1.032047e+07      57405.0         0.523439     0.042307  ...   \n",
       "2  7.632940e+06      78810.0         0.051844     0.437885  ...   \n",
       "3  5.235177e+07     142462.0         0.070662     0.035145  ...   \n",
       "4  8.993640e+06      89971.0         0.066941     0.306977  ...   \n",
       "\n",
       "   cafe_count_5000_price_1500  cafe_count_5000_price_2500  \\\n",
       "0                        15.0                        11.0   \n",
       "1                       144.0                        81.0   \n",
       "2                        39.0                         8.0   \n",
       "3                        21.0                        13.0   \n",
       "4                       205.0                        88.0   \n",
       "\n",
       "   cafe_count_5000_price_4000  cafe_count_5000_price_high  \\\n",
       "0                         2.0                         1.0   \n",
       "1                        16.0                         3.0   \n",
       "2                         3.0                         0.0   \n",
       "3                         9.0                         1.0   \n",
       "4                        19.0                         2.0   \n",
       "\n",
       "   big_church_count_5000  church_count_5000  mosque_count_5000  \\\n",
       "0                    4.0                4.0                0.0   \n",
       "1                   38.0               80.0                1.0   \n",
       "2                   10.0                9.0                0.0   \n",
       "3                    7.0               15.0                0.0   \n",
       "4                   63.0              100.0                0.0   \n",
       "\n",
       "   leisure_count_5000  sport_count_5000 market_count_5000  \n",
       "0                 0.0              26.0               3.0  \n",
       "1                27.0             127.0               8.0  \n",
       "2                 0.0              35.0               4.0  \n",
       "3                 2.0              47.0               0.0  \n",
       "4                28.0             132.0              14.0  \n",
       "\n",
       "[5 rows x 272 columns]"
      ]
     },
     "execution_count": 9,
     "metadata": {},
     "output_type": "execute_result"
    }
   ],
   "source": [
    "# lets load the test data\n",
    "\n",
    "\n",
    "\n",
    "# test_data = pd.read_csv(r\"/kaggle/input/challenge2/test.csv\")\n",
    "test_data = pd.read_csv(r\"D:\\Users\\DELL\\OneDrive - Institute of Business Administration\\IBA\\sem5\\machine learning\\ipynb notebooks\\challenger2\\iml-fall-2024-challenge-2\\test\\test.csv\")\n",
    "\n",
    "\n",
    "\n",
    "\n",
    "# check if the data has been loaded by getting the first 5 rows - there should be x1 - x78 and no target variable Y as this is test data\n",
    "\n",
    "\n",
    "\n",
    "test_data.head() \n"
   ]
  },
  {
   "cell_type": "markdown",
   "id": "9db89cc8",
   "metadata": {
    "papermill": {
     "duration": 0.012664,
     "end_time": "2024-11-07T20:19:59.050712",
     "exception": false,
     "start_time": "2024-11-07T20:19:59.038048",
     "status": "completed"
    },
    "tags": []
   },
   "source": [
    "# Data Preprocessing\n",
    "\n",
    "\n",
    "\n",
    "before we start processing this data and using algorithms, we will fix this data first, this is called data preprocessing"
   ]
  },
  {
   "cell_type": "markdown",
   "id": "46a83e6e",
   "metadata": {},
   "source": [
    "## split data into categorical and numerical\n",
    "\n",
    "\n",
    "\n",
    "categorical will have one-hot and simple imputer of most frequent while numerical will have simple mean imputer and minmax scaler"
   ]
  },
  {
   "cell_type": "code",
   "execution_count": 10,
   "id": "306cc606",
   "metadata": {
    "execution": {
     "iopub.execute_input": "2024-11-30T21:55:17.363427Z",
     "iopub.status.busy": "2024-11-30T21:55:17.362961Z",
     "iopub.status.idle": "2024-11-30T21:55:17.678571Z",
     "shell.execute_reply": "2024-11-30T21:55:17.677549Z",
     "shell.execute_reply.started": "2024-11-30T21:55:17.363376Z"
    },
    "trusted": true
   },
   "outputs": [],
   "source": [
    "categorical_cols = train_data.select_dtypes(include=[\"object\"]).columns\n",
    "\n",
    "\n",
    "\n",
    "numerical_cols = train_data.select_dtypes(exclude=[\"object\"]).drop(columns=['price_doc']).columns\n"
   ]
  },
  {
   "cell_type": "markdown",
   "id": "a3d3b9f4-49f7-4c84-931e-dff9c756dd75",
   "metadata": {},
   "source": [
    "# Imputers"
   ]
  },
  {
   "cell_type": "code",
   "execution_count": 11,
   "id": "6b8f1a00-39b3-4207-9f2b-5ad588eded07",
   "metadata": {
    "execution": {
     "iopub.execute_input": "2024-11-30T21:55:17.680712Z",
     "iopub.status.busy": "2024-11-30T21:55:17.680246Z",
     "iopub.status.idle": "2024-11-30T21:55:19.320184Z",
     "shell.execute_reply": "2024-11-30T21:55:19.319019Z",
     "shell.execute_reply.started": "2024-11-30T21:55:17.680660Z"
    },
    "trusted": true
   },
   "outputs": [],
   "source": [
    "num_imputer = SimpleImputer(strategy=\"mean\")\n",
    "\n",
    "train_data[numerical_cols] = num_imputer.fit_transform(train_data[numerical_cols])\n",
    "\n",
    "test_data[numerical_cols] = num_imputer.transform(test_data[numerical_cols])\n",
    "\n",
    "\n",
    "\n",
    "cat_imputer = SimpleImputer(strategy=\"most_frequent\")\n",
    "\n",
    "train_data[categorical_cols] = cat_imputer.fit_transform(train_data[categorical_cols])\n",
    "\n",
    "test_data[categorical_cols] = cat_imputer.transform(test_data[categorical_cols])\n"
   ]
  },
  {
   "cell_type": "markdown",
   "id": "f1be982f-df0e-481d-a8ce-9c1cee449a56",
   "metadata": {},
   "source": [
    "# Scaler"
   ]
  },
  {
   "cell_type": "code",
   "execution_count": 12,
   "id": "ce83d8bf-4f13-4063-be48-43b1e3fce721",
   "metadata": {
    "execution": {
     "iopub.execute_input": "2024-11-30T21:55:19.324833Z",
     "iopub.status.busy": "2024-11-30T21:55:19.324352Z",
     "iopub.status.idle": "2024-11-30T21:55:21.016479Z",
     "shell.execute_reply": "2024-11-30T21:55:21.015171Z",
     "shell.execute_reply.started": "2024-11-30T21:55:19.324783Z"
    },
    "trusted": true
   },
   "outputs": [],
   "source": [
    "scaler = MinMaxScaler()\n",
    "\n",
    "train_data[numerical_cols] = scaler.fit_transform(train_data[numerical_cols])\n",
    "\n",
    "test_data[numerical_cols] = scaler.transform(test_data[numerical_cols])\n"
   ]
  },
  {
   "cell_type": "markdown",
   "id": "47600083-8cb3-455a-98fd-c65c7d1841d7",
   "metadata": {},
   "source": [
    "# One hot"
   ]
  },
  {
   "cell_type": "code",
   "execution_count": 13,
   "id": "1e90a6a2",
   "metadata": {
    "execution": {
     "iopub.execute_input": "2024-11-30T21:55:21.018190Z",
     "iopub.status.busy": "2024-11-30T21:55:21.017840Z",
     "iopub.status.idle": "2024-11-30T21:55:23.217235Z",
     "shell.execute_reply": "2024-11-30T21:55:23.215954Z",
     "shell.execute_reply.started": "2024-11-30T21:55:21.018157Z"
    },
    "trusted": true
   },
   "outputs": [],
   "source": [
    "train_data = pd.get_dummies(train_data, columns=categorical_cols, drop_first=True)\n",
    "\n",
    "test_data = pd.get_dummies(test_data, columns=categorical_cols, drop_first=True)\n",
    "\n",
    "# Align the test data with the training data columns\n",
    "\n",
    "test_data = test_data.reindex(columns=train_data.columns, fill_value=0)\n",
    "\n",
    "\n",
    "\n",
    "# test_data = test_data.drop(columns=['price_doc'], errors=\"ignore\")\n"
   ]
  },
  {
   "cell_type": "markdown",
   "id": "2a5e67cf",
   "metadata": {},
   "source": [
    "## correlation matrix\n",
    "\n",
    "\n",
    "\n",
    "i tried getting the correlation matrix but apparently a 2000 columns matrix is very computationally expensive as it performs pairs for all. so dont run it. it takes too long and then fails. i ran for 5 minutes. "
   ]
  },
  {
   "cell_type": "code",
   "execution_count": 14,
   "id": "aae908d1",
   "metadata": {
    "execution": {
     "iopub.execute_input": "2024-11-30T21:55:23.219285Z",
     "iopub.status.busy": "2024-11-30T21:55:23.218790Z",
     "iopub.status.idle": "2024-11-30T21:55:23.225080Z",
     "shell.execute_reply": "2024-11-30T21:55:23.223592Z",
     "shell.execute_reply.started": "2024-11-30T21:55:23.219235Z"
    },
    "trusted": true
   },
   "outputs": [],
   "source": [
    "# # DONT RUN\n",
    "\n",
    "\n",
    "\n",
    "# corr_matrix = train_data.corr()\n",
    "\n",
    "\n",
    "\n",
    "# print(corr_matrix)\n"
   ]
  },
  {
   "cell_type": "markdown",
   "id": "c03910cb-724e-4f5a-a137-be28e849f922",
   "metadata": {},
   "source": [
    "# variance filter"
   ]
  },
  {
   "cell_type": "code",
   "execution_count": 15,
   "id": "771d2d2d-e306-4fc0-8450-c170e18ec6c0",
   "metadata": {
    "execution": {
     "iopub.execute_input": "2024-11-30T21:55:23.227237Z",
     "iopub.status.busy": "2024-11-30T21:55:23.226786Z",
     "iopub.status.idle": "2024-11-30T21:55:23.506787Z",
     "shell.execute_reply": "2024-11-30T21:55:23.505457Z",
     "shell.execute_reply.started": "2024-11-30T21:55:23.227192Z"
    },
    "trusted": true
   },
   "outputs": [],
   "source": [
    "train_features = train_data.drop(columns=['price_doc'])\n"
   ]
  },
  {
   "cell_type": "code",
   "execution_count": 16,
   "id": "337a1094-c8fd-4c57-b49e-f41eab1eaf34",
   "metadata": {
    "execution": {
     "iopub.execute_input": "2024-11-30T21:55:23.508535Z",
     "iopub.status.busy": "2024-11-30T21:55:23.508196Z",
     "iopub.status.idle": "2024-11-30T21:55:26.012141Z",
     "shell.execute_reply": "2024-11-30T21:55:26.010850Z",
     "shell.execute_reply.started": "2024-11-30T21:55:23.508500Z"
    },
    "trusted": true
   },
   "outputs": [],
   "source": [
    "# feature_variances = train_features.var(axis=0)\n",
    "\n",
    "# print(feature_variances.describe())\n"
   ]
  },
  {
   "cell_type": "code",
   "execution_count": 17,
   "id": "08f2653b-eb69-4ec2-b3d3-288c710a9048",
   "metadata": {
    "execution": {
     "iopub.execute_input": "2024-11-30T21:55:26.013946Z",
     "iopub.status.busy": "2024-11-30T21:55:26.013568Z",
     "iopub.status.idle": "2024-11-30T21:55:34.971536Z",
     "shell.execute_reply": "2024-11-30T21:55:34.970395Z",
     "shell.execute_reply.started": "2024-11-30T21:55:26.013896Z"
    },
    "trusted": true
   },
   "outputs": [],
   "source": [
    "# from sklearn.feature_selection import VarianceThreshold\n",
    "\n",
    "\n",
    "\n",
    "# selector = VarianceThreshold(threshold=0.01) \n",
    "\n",
    "# train_features_reduced = selector.fit_transform(train_features)\n",
    "\n",
    "# print(train_features_reduced)\n",
    "\n",
    "# print(train_features_reduced.shape)\n",
    "\n",
    "\n",
    "\n",
    "# # test_features = selector.transform(test_data)\n"
   ]
  },
  {
   "cell_type": "markdown",
   "id": "463d5ca5",
   "metadata": {},
   "source": [
    "# PCA\n",
    "\n",
    "\n",
    "\n",
    "principal component analysis is applied"
   ]
  },
  {
   "cell_type": "code",
   "execution_count": null,
   "id": "68ef094f",
   "metadata": {
    "execution": {
     "iopub.execute_input": "2024-11-30T21:55:34.973662Z",
     "iopub.status.busy": "2024-11-30T21:55:34.973360Z",
     "iopub.status.idle": "2024-11-30T21:55:40.497334Z",
     "shell.execute_reply": "2024-11-30T21:55:40.495988Z",
     "shell.execute_reply.started": "2024-11-30T21:55:34.973634Z"
    },
    "trusted": true
   },
   "outputs": [],
   "source": [
    "# plot an elbow graph to find the optimal number of components\n",
    "\n",
    "import matplotlib.pyplot as plt\n",
    "\n",
    "from sklearn.decomposition import PCA\n",
    "\n",
    "\n",
    "\n",
    "pca = PCA()\n",
    "\n",
    "# pca.fit(train_features_reduced)  # Fit PCA to your dataset\n",
    "\n",
    "pca.fit(train_features)  # Fit PCA to your dataset\n",
    "\n",
    "\n",
    "plt.plot(pca.explained_variance_ratio_)\n",
    "\n",
    "plt.xlabel('number of components')\n",
    "\n",
    "plt.ylabel('cumulative explained variance')\n",
    "\n",
    "pca.explained_variance_ratio_.round(3)\n",
    "\n",
    "cumulative_variance = np.cumsum(pca.explained_variance_ratio_)\n",
    "\n",
    "print(\"Cumulative explained variance: \", cumulative_variance)\n",
    "\n",
    "print(cumulative_variance)\n"
   ]
  },
  {
   "cell_type": "code",
   "execution_count": null,
   "id": "53edcde7-4e54-4833-bba2-887a7e22a04a",
   "metadata": {
    "execution": {
     "iopub.execute_input": "2024-11-30T21:55:40.499049Z",
     "iopub.status.busy": "2024-11-30T21:55:40.498608Z",
     "iopub.status.idle": "2024-11-30T21:58:24.960145Z",
     "shell.execute_reply": "2024-11-30T21:58:24.957251Z",
     "shell.execute_reply.started": "2024-11-30T21:55:40.499015Z"
    },
    "trusted": true
   },
   "outputs": [
    {
     "name": "stdout",
     "output_type": "stream",
     "text": [
      "Principal components shape: (273, 273)\n",
      "Principal components:\n",
      " [[ 0.07067092  0.06255624  0.05795538 ... -0.0013048  -0.02192354\n",
      "   0.00626479]\n",
      " [ 0.01503391  0.0186232   0.00888305 ...  0.21805486 -0.1199798\n",
      "  -0.01965517]\n",
      " [-0.03492169 -0.02839623 -0.03369691 ...  0.09805785  0.04368432\n",
      "  -0.07355196]\n",
      " ...\n",
      " [ 0.01769799 -0.01281731 -0.03702912 ...  0.01295306  0.00314133\n",
      "  -0.00063403]\n",
      " [ 0.0250664  -0.02185359  0.0239796  ... -0.01585847 -0.00213079\n",
      "  -0.00751948]\n",
      " [ 0.06591924 -0.02307591  0.01634803 ... -0.00599596 -0.00419316\n",
      "  -0.00364232]]\n",
      "train transformed\n",
      "(181507, 267)\n",
      "(77789, 267)\n"
     ]
    }
   ],
   "source": [
    "print(\"Principal components shape:\", pca.components_.shape)\n",
    "\n",
    "print(\"Principal components:\\n\", pca.components_)\n",
    "\n",
    "\n",
    "\n",
    "# Preserve the target variable\n",
    "\n",
    "train_copy = train_data.copy()  # Backup original data\n",
    "\n",
    "test_copy = test_data.copy()\n",
    "\n",
    "\n",
    "\n",
    "# Separate target variable and features\n",
    "\n",
    "train_features = train_data.drop(columns=['price_doc'])  # Features for PCA\n",
    "\n",
    "train_target = train_data['price_doc']                  # Target variable\n",
    "\n",
    "\n",
    "\n",
    "test_features = test_data.drop(columns=['price_doc'])    # Features for PCA\n",
    "\n",
    "\n",
    "\n",
    "# Apply PCA transformation\n",
    "\n",
    "pca = PCA(n_components=0.95)\n",
    "\n",
    "train_features_pca = pca.fit_transform(train_features)  # Fit and transform train data\n",
    "\n",
    "print(\"train transformed\")\n",
    "\n",
    "test_features_pca = pca.transform(test_features)        # Transform test data\n",
    "\n",
    "\n",
    "\n",
    "print(train_features_pca.shape)\n",
    "\n",
    "print(test_features_pca.shape)\n"
   ]
  },
  {
   "cell_type": "code",
   "execution_count": null,
   "id": "851ba5e7-1090-4e3c-9b3e-632c3226e937",
   "metadata": {
    "execution": {
     "iopub.execute_input": "2024-11-30T21:58:24.962084Z",
     "iopub.status.busy": "2024-11-30T21:58:24.961616Z",
     "iopub.status.idle": "2024-11-30T21:58:24.980647Z",
     "shell.execute_reply": "2024-11-30T21:58:24.979039Z",
     "shell.execute_reply.started": "2024-11-30T21:58:24.962040Z"
    },
    "trusted": true
   },
   "outputs": [],
   "source": [
    "# Reconstruct train_data and test_data with PCA-transformed features and target variable\n",
    "\n",
    "train_data = pd.DataFrame(train_features_pca)\n",
    "\n",
    "train_data['price_doc'] = train_target.reset_index(drop=True)\n",
    "\n",
    "\n",
    "\n",
    "test_data = pd.DataFrame(test_features_pca)\n",
    "\n",
    "test_data['price_doc'] = test_copy['price_doc'].reset_index(drop=True)\n"
   ]
  },
  {
   "cell_type": "code",
   "execution_count": null,
   "id": "0d989b7a-a4d7-4a3a-a93e-58c815b484b5",
   "metadata": {
    "execution": {
     "iopub.execute_input": "2024-11-30T21:58:24.982906Z",
     "iopub.status.busy": "2024-11-30T21:58:24.982348Z",
     "iopub.status.idle": "2024-11-30T21:58:25.002037Z",
     "shell.execute_reply": "2024-11-30T21:58:24.997644Z",
     "shell.execute_reply.started": "2024-11-30T21:58:24.982841Z"
    },
    "trusted": true
   },
   "outputs": [
    {
     "name": "stdout",
     "output_type": "stream",
     "text": [
      "train shape:  (181507, 268)\n",
      "test shape:  (77789, 268)\n"
     ]
    }
   ],
   "source": [
    "print(\"train shape: \", train_data.shape)\n",
    "\n",
    "print(\"test shape: \", test_data.shape)\n"
   ]
  },
  {
   "cell_type": "markdown",
   "id": "2bd65ed6",
   "metadata": {
    "papermill": {
     "duration": 0.012565,
     "end_time": "2024-11-07T20:19:59.480848",
     "exception": false,
     "start_time": "2024-11-07T20:19:59.468283",
     "status": "completed"
    },
    "tags": []
   },
   "source": [
    "## Data Splitting - festures and targets\n",
    "\n",
    "\n",
    "\n",
    "the data in train_data set is of x1 - x78 columns (79 variables) and one target variable (Y). we must split that data so that we can perform data preprocessing on the features variables (will be referred to as X)."
   ]
  },
  {
   "cell_type": "code",
   "execution_count": null,
   "id": "565fb08f",
   "metadata": {
    "execution": {
     "iopub.execute_input": "2024-11-30T21:58:25.006872Z",
     "iopub.status.busy": "2024-11-30T21:58:25.006205Z",
     "iopub.status.idle": "2024-11-30T21:58:25.193866Z",
     "shell.execute_reply": "2024-11-30T21:58:25.192664Z",
     "shell.execute_reply.started": "2024-11-30T21:58:25.006810Z"
    },
    "papermill": {
     "duration": 0.123675,
     "end_time": "2024-11-07T20:19:59.617410",
     "exception": false,
     "start_time": "2024-11-07T20:19:59.493735",
     "status": "completed"
    },
    "tags": [],
    "trusted": true
   },
   "outputs": [
    {
     "data": {
      "text/html": [
       "<div>\n",
       "<style scoped>\n",
       "    .dataframe tbody tr th:only-of-type {\n",
       "        vertical-align: middle;\n",
       "    }\n",
       "\n",
       "    .dataframe tbody tr th {\n",
       "        vertical-align: top;\n",
       "    }\n",
       "\n",
       "    .dataframe thead th {\n",
       "        text-align: right;\n",
       "    }\n",
       "</style>\n",
       "<table border=\"1\" class=\"dataframe\">\n",
       "  <thead>\n",
       "    <tr style=\"text-align: right;\">\n",
       "      <th></th>\n",
       "      <th>0</th>\n",
       "      <th>1</th>\n",
       "      <th>2</th>\n",
       "      <th>3</th>\n",
       "      <th>4</th>\n",
       "      <th>5</th>\n",
       "      <th>6</th>\n",
       "      <th>7</th>\n",
       "      <th>8</th>\n",
       "      <th>9</th>\n",
       "      <th>...</th>\n",
       "      <th>257</th>\n",
       "      <th>258</th>\n",
       "      <th>259</th>\n",
       "      <th>260</th>\n",
       "      <th>261</th>\n",
       "      <th>262</th>\n",
       "      <th>263</th>\n",
       "      <th>264</th>\n",
       "      <th>265</th>\n",
       "      <th>266</th>\n",
       "    </tr>\n",
       "  </thead>\n",
       "  <tbody>\n",
       "    <tr>\n",
       "      <th>0</th>\n",
       "      <td>-1.102957</td>\n",
       "      <td>-0.830170</td>\n",
       "      <td>-1.205671</td>\n",
       "      <td>0.603018</td>\n",
       "      <td>0.683040</td>\n",
       "      <td>0.752873</td>\n",
       "      <td>0.069828</td>\n",
       "      <td>-0.576171</td>\n",
       "      <td>-0.076311</td>\n",
       "      <td>0.268685</td>\n",
       "      <td>...</td>\n",
       "      <td>0.001047</td>\n",
       "      <td>0.007192</td>\n",
       "      <td>-0.009072</td>\n",
       "      <td>-0.034419</td>\n",
       "      <td>0.039749</td>\n",
       "      <td>0.025798</td>\n",
       "      <td>-0.018959</td>\n",
       "      <td>0.013474</td>\n",
       "      <td>-0.012058</td>\n",
       "      <td>0.002513</td>\n",
       "    </tr>\n",
       "    <tr>\n",
       "      <th>1</th>\n",
       "      <td>-1.213449</td>\n",
       "      <td>-0.704121</td>\n",
       "      <td>-0.515383</td>\n",
       "      <td>0.144235</td>\n",
       "      <td>0.050278</td>\n",
       "      <td>0.310335</td>\n",
       "      <td>0.298051</td>\n",
       "      <td>0.219452</td>\n",
       "      <td>-0.011154</td>\n",
       "      <td>-0.215708</td>\n",
       "      <td>...</td>\n",
       "      <td>0.042235</td>\n",
       "      <td>-0.023780</td>\n",
       "      <td>-0.003765</td>\n",
       "      <td>-0.037508</td>\n",
       "      <td>-0.016068</td>\n",
       "      <td>0.011552</td>\n",
       "      <td>0.019169</td>\n",
       "      <td>0.016897</td>\n",
       "      <td>-0.027764</td>\n",
       "      <td>0.003545</td>\n",
       "    </tr>\n",
       "    <tr>\n",
       "      <th>2</th>\n",
       "      <td>-1.480295</td>\n",
       "      <td>-0.808837</td>\n",
       "      <td>-0.504437</td>\n",
       "      <td>-0.727048</td>\n",
       "      <td>-0.460042</td>\n",
       "      <td>-0.073171</td>\n",
       "      <td>0.043554</td>\n",
       "      <td>0.148689</td>\n",
       "      <td>-0.366601</td>\n",
       "      <td>-0.502495</td>\n",
       "      <td>...</td>\n",
       "      <td>-0.058897</td>\n",
       "      <td>-0.029940</td>\n",
       "      <td>-0.011633</td>\n",
       "      <td>0.014612</td>\n",
       "      <td>0.005689</td>\n",
       "      <td>0.018635</td>\n",
       "      <td>-0.005884</td>\n",
       "      <td>-0.006436</td>\n",
       "      <td>0.027017</td>\n",
       "      <td>0.009818</td>\n",
       "    </tr>\n",
       "    <tr>\n",
       "      <th>3</th>\n",
       "      <td>1.980825</td>\n",
       "      <td>-2.830914</td>\n",
       "      <td>1.731182</td>\n",
       "      <td>0.882518</td>\n",
       "      <td>-0.558550</td>\n",
       "      <td>0.226280</td>\n",
       "      <td>-0.268761</td>\n",
       "      <td>-0.775397</td>\n",
       "      <td>0.118198</td>\n",
       "      <td>-0.590821</td>\n",
       "      <td>...</td>\n",
       "      <td>0.013396</td>\n",
       "      <td>0.003379</td>\n",
       "      <td>-0.013542</td>\n",
       "      <td>0.011318</td>\n",
       "      <td>-0.029207</td>\n",
       "      <td>0.042276</td>\n",
       "      <td>0.019761</td>\n",
       "      <td>-0.034107</td>\n",
       "      <td>-0.014548</td>\n",
       "      <td>0.017342</td>\n",
       "    </tr>\n",
       "    <tr>\n",
       "      <th>4</th>\n",
       "      <td>-0.988652</td>\n",
       "      <td>-1.130559</td>\n",
       "      <td>0.721607</td>\n",
       "      <td>-1.446864</td>\n",
       "      <td>0.053415</td>\n",
       "      <td>-0.759862</td>\n",
       "      <td>0.858606</td>\n",
       "      <td>-0.386101</td>\n",
       "      <td>-0.377549</td>\n",
       "      <td>-0.691534</td>\n",
       "      <td>...</td>\n",
       "      <td>-0.077668</td>\n",
       "      <td>-0.029688</td>\n",
       "      <td>0.024411</td>\n",
       "      <td>0.016042</td>\n",
       "      <td>0.007934</td>\n",
       "      <td>0.024485</td>\n",
       "      <td>0.022745</td>\n",
       "      <td>0.001834</td>\n",
       "      <td>0.037514</td>\n",
       "      <td>-0.011376</td>\n",
       "    </tr>\n",
       "    <tr>\n",
       "      <th>...</th>\n",
       "      <td>...</td>\n",
       "      <td>...</td>\n",
       "      <td>...</td>\n",
       "      <td>...</td>\n",
       "      <td>...</td>\n",
       "      <td>...</td>\n",
       "      <td>...</td>\n",
       "      <td>...</td>\n",
       "      <td>...</td>\n",
       "      <td>...</td>\n",
       "      <td>...</td>\n",
       "      <td>...</td>\n",
       "      <td>...</td>\n",
       "      <td>...</td>\n",
       "      <td>...</td>\n",
       "      <td>...</td>\n",
       "      <td>...</td>\n",
       "      <td>...</td>\n",
       "      <td>...</td>\n",
       "      <td>...</td>\n",
       "      <td>...</td>\n",
       "    </tr>\n",
       "    <tr>\n",
       "      <th>181502</th>\n",
       "      <td>-0.233649</td>\n",
       "      <td>4.169748</td>\n",
       "      <td>0.567373</td>\n",
       "      <td>0.194047</td>\n",
       "      <td>-0.715809</td>\n",
       "      <td>0.415565</td>\n",
       "      <td>-0.282681</td>\n",
       "      <td>-0.222991</td>\n",
       "      <td>-0.273641</td>\n",
       "      <td>0.589468</td>\n",
       "      <td>...</td>\n",
       "      <td>0.022461</td>\n",
       "      <td>0.011688</td>\n",
       "      <td>0.002184</td>\n",
       "      <td>0.024548</td>\n",
       "      <td>-0.014988</td>\n",
       "      <td>0.007809</td>\n",
       "      <td>0.010926</td>\n",
       "      <td>-0.007896</td>\n",
       "      <td>0.012289</td>\n",
       "      <td>0.006662</td>\n",
       "    </tr>\n",
       "    <tr>\n",
       "      <th>181503</th>\n",
       "      <td>-0.233649</td>\n",
       "      <td>4.169748</td>\n",
       "      <td>0.567373</td>\n",
       "      <td>0.194047</td>\n",
       "      <td>-0.715809</td>\n",
       "      <td>0.415565</td>\n",
       "      <td>-0.282681</td>\n",
       "      <td>-0.222991</td>\n",
       "      <td>-0.273641</td>\n",
       "      <td>0.589468</td>\n",
       "      <td>...</td>\n",
       "      <td>0.022461</td>\n",
       "      <td>0.011688</td>\n",
       "      <td>0.002184</td>\n",
       "      <td>0.024548</td>\n",
       "      <td>-0.014988</td>\n",
       "      <td>0.007809</td>\n",
       "      <td>0.010926</td>\n",
       "      <td>-0.007896</td>\n",
       "      <td>0.012289</td>\n",
       "      <td>0.006662</td>\n",
       "    </tr>\n",
       "    <tr>\n",
       "      <th>181504</th>\n",
       "      <td>-0.233649</td>\n",
       "      <td>4.169748</td>\n",
       "      <td>0.567373</td>\n",
       "      <td>0.194047</td>\n",
       "      <td>-0.715809</td>\n",
       "      <td>0.415565</td>\n",
       "      <td>-0.282681</td>\n",
       "      <td>-0.222991</td>\n",
       "      <td>-0.273641</td>\n",
       "      <td>0.589468</td>\n",
       "      <td>...</td>\n",
       "      <td>0.022461</td>\n",
       "      <td>0.011688</td>\n",
       "      <td>0.002184</td>\n",
       "      <td>0.024548</td>\n",
       "      <td>-0.014988</td>\n",
       "      <td>0.007809</td>\n",
       "      <td>0.010926</td>\n",
       "      <td>-0.007896</td>\n",
       "      <td>0.012289</td>\n",
       "      <td>0.006662</td>\n",
       "    </tr>\n",
       "    <tr>\n",
       "      <th>181505</th>\n",
       "      <td>-0.233649</td>\n",
       "      <td>4.169748</td>\n",
       "      <td>0.567373</td>\n",
       "      <td>0.194047</td>\n",
       "      <td>-0.715809</td>\n",
       "      <td>0.415565</td>\n",
       "      <td>-0.282681</td>\n",
       "      <td>-0.222991</td>\n",
       "      <td>-0.273641</td>\n",
       "      <td>0.589468</td>\n",
       "      <td>...</td>\n",
       "      <td>0.022461</td>\n",
       "      <td>0.011688</td>\n",
       "      <td>0.002184</td>\n",
       "      <td>0.024548</td>\n",
       "      <td>-0.014988</td>\n",
       "      <td>0.007809</td>\n",
       "      <td>0.010926</td>\n",
       "      <td>-0.007896</td>\n",
       "      <td>0.012289</td>\n",
       "      <td>0.006662</td>\n",
       "    </tr>\n",
       "    <tr>\n",
       "      <th>181506</th>\n",
       "      <td>-0.233649</td>\n",
       "      <td>4.169748</td>\n",
       "      <td>0.567373</td>\n",
       "      <td>0.194047</td>\n",
       "      <td>-0.715809</td>\n",
       "      <td>0.415565</td>\n",
       "      <td>-0.282681</td>\n",
       "      <td>-0.222991</td>\n",
       "      <td>-0.273641</td>\n",
       "      <td>0.589468</td>\n",
       "      <td>...</td>\n",
       "      <td>0.022461</td>\n",
       "      <td>0.011688</td>\n",
       "      <td>0.002184</td>\n",
       "      <td>0.024548</td>\n",
       "      <td>-0.014988</td>\n",
       "      <td>0.007809</td>\n",
       "      <td>0.010926</td>\n",
       "      <td>-0.007896</td>\n",
       "      <td>0.012289</td>\n",
       "      <td>0.006662</td>\n",
       "    </tr>\n",
       "  </tbody>\n",
       "</table>\n",
       "<p>181507 rows × 267 columns</p>\n",
       "</div>"
      ],
      "text/plain": [
       "             0         1         2         3         4         5         6    \\\n",
       "0      -1.102957 -0.830170 -1.205671  0.603018  0.683040  0.752873  0.069828   \n",
       "1      -1.213449 -0.704121 -0.515383  0.144235  0.050278  0.310335  0.298051   \n",
       "2      -1.480295 -0.808837 -0.504437 -0.727048 -0.460042 -0.073171  0.043554   \n",
       "3       1.980825 -2.830914  1.731182  0.882518 -0.558550  0.226280 -0.268761   \n",
       "4      -0.988652 -1.130559  0.721607 -1.446864  0.053415 -0.759862  0.858606   \n",
       "...          ...       ...       ...       ...       ...       ...       ...   \n",
       "181502 -0.233649  4.169748  0.567373  0.194047 -0.715809  0.415565 -0.282681   \n",
       "181503 -0.233649  4.169748  0.567373  0.194047 -0.715809  0.415565 -0.282681   \n",
       "181504 -0.233649  4.169748  0.567373  0.194047 -0.715809  0.415565 -0.282681   \n",
       "181505 -0.233649  4.169748  0.567373  0.194047 -0.715809  0.415565 -0.282681   \n",
       "181506 -0.233649  4.169748  0.567373  0.194047 -0.715809  0.415565 -0.282681   \n",
       "\n",
       "             7         8         9    ...       257       258       259  \\\n",
       "0      -0.576171 -0.076311  0.268685  ...  0.001047  0.007192 -0.009072   \n",
       "1       0.219452 -0.011154 -0.215708  ...  0.042235 -0.023780 -0.003765   \n",
       "2       0.148689 -0.366601 -0.502495  ... -0.058897 -0.029940 -0.011633   \n",
       "3      -0.775397  0.118198 -0.590821  ...  0.013396  0.003379 -0.013542   \n",
       "4      -0.386101 -0.377549 -0.691534  ... -0.077668 -0.029688  0.024411   \n",
       "...          ...       ...       ...  ...       ...       ...       ...   \n",
       "181502 -0.222991 -0.273641  0.589468  ...  0.022461  0.011688  0.002184   \n",
       "181503 -0.222991 -0.273641  0.589468  ...  0.022461  0.011688  0.002184   \n",
       "181504 -0.222991 -0.273641  0.589468  ...  0.022461  0.011688  0.002184   \n",
       "181505 -0.222991 -0.273641  0.589468  ...  0.022461  0.011688  0.002184   \n",
       "181506 -0.222991 -0.273641  0.589468  ...  0.022461  0.011688  0.002184   \n",
       "\n",
       "             260       261       262       263       264       265       266  \n",
       "0      -0.034419  0.039749  0.025798 -0.018959  0.013474 -0.012058  0.002513  \n",
       "1      -0.037508 -0.016068  0.011552  0.019169  0.016897 -0.027764  0.003545  \n",
       "2       0.014612  0.005689  0.018635 -0.005884 -0.006436  0.027017  0.009818  \n",
       "3       0.011318 -0.029207  0.042276  0.019761 -0.034107 -0.014548  0.017342  \n",
       "4       0.016042  0.007934  0.024485  0.022745  0.001834  0.037514 -0.011376  \n",
       "...          ...       ...       ...       ...       ...       ...       ...  \n",
       "181502  0.024548 -0.014988  0.007809  0.010926 -0.007896  0.012289  0.006662  \n",
       "181503  0.024548 -0.014988  0.007809  0.010926 -0.007896  0.012289  0.006662  \n",
       "181504  0.024548 -0.014988  0.007809  0.010926 -0.007896  0.012289  0.006662  \n",
       "181505  0.024548 -0.014988  0.007809  0.010926 -0.007896  0.012289  0.006662  \n",
       "181506  0.024548 -0.014988  0.007809  0.010926 -0.007896  0.012289  0.006662  \n",
       "\n",
       "[181507 rows x 267 columns]"
      ]
     },
     "execution_count": 52,
     "metadata": {},
     "output_type": "execute_result"
    }
   ],
   "source": [
    "# so in X, it is ALL the columns EXCEPT the last column known as 'Y' (we can confirm this using the train_data.head() we did earlier) so we must get all columns and DROP only the 'y' column\n",
    "\n",
    "\n",
    "\n",
    "X = train_data.drop(columns=['price_doc'])\n",
    "\n",
    "\n",
    "\n",
    "X # lets display X and see what it is now\n"
   ]
  },
  {
   "cell_type": "code",
   "execution_count": null,
   "id": "c5fd0e61",
   "metadata": {
    "execution": {
     "iopub.execute_input": "2024-11-30T21:58:25.195487Z",
     "iopub.status.busy": "2024-11-30T21:58:25.195174Z",
     "iopub.status.idle": "2024-11-30T21:58:25.204559Z",
     "shell.execute_reply": "2024-11-30T21:58:25.203461Z",
     "shell.execute_reply.started": "2024-11-30T21:58:25.195457Z"
    },
    "papermill": {
     "duration": 0.023643,
     "end_time": "2024-11-07T20:19:59.654979",
     "exception": false,
     "start_time": "2024-11-07T20:19:59.631336",
     "status": "completed"
    },
    "tags": [],
    "trusted": true
   },
   "outputs": [
    {
     "data": {
      "text/plain": [
       "0          5850000.0\n",
       "1          6000000.0\n",
       "2          5700000.0\n",
       "3         16331452.0\n",
       "4          9100000.0\n",
       "             ...    \n",
       "181502     3480000.0\n",
       "181503     3480000.0\n",
       "181504     3480000.0\n",
       "181505     3480000.0\n",
       "181506     3480000.0\n",
       "Name: price_doc, Length: 181507, dtype: float64"
      ]
     },
     "execution_count": 53,
     "metadata": {},
     "output_type": "execute_result"
    }
   ],
   "source": [
    "# so as per our X output, we can see that number of columns in train_data is 79 and number of columns in X is 78 meaning we have successfully performed our removal of target variable\n",
    "\n",
    "\n",
    "\n",
    "# now to get the target variable alone, we can just get it alone,\n",
    "\n",
    "\n",
    "\n",
    "Y = train_data['price_doc']\n",
    "\n",
    "\n",
    "\n",
    "Y # lets see what it is\n",
    "\n",
    "\n",
    "\n",
    "# as per our Y output, we can see it is of one column and 246k rows which means we have successfully extracted the target variable column\n"
   ]
  },
  {
   "cell_type": "markdown",
   "id": "b6e9cfd9",
   "metadata": {
    "papermill": {
     "duration": 0.013362,
     "end_time": "2024-11-07T20:20:00.756855",
     "exception": false,
     "start_time": "2024-11-07T20:20:00.743493",
     "status": "completed"
    },
    "tags": []
   },
   "source": [
    "# Filters\n",
    "\n",
    "\n",
    "\n",
    "there are two types of filters to filter out columns/features:\n",
    "\n",
    "\n",
    "\n",
    "- variance filter (a column which has same values throughout the column like all are sunny)\n",
    "\n",
    "\n",
    "\n",
    "- correlation filter (two columns which are same like weight in kg and weight in pounds)"
   ]
  },
  {
   "cell_type": "code",
   "execution_count": null,
   "id": "5934b338",
   "metadata": {
    "execution": {
     "iopub.execute_input": "2024-11-30T21:58:25.206844Z",
     "iopub.status.busy": "2024-11-30T21:58:25.206382Z",
     "iopub.status.idle": "2024-11-30T21:58:25.218197Z",
     "shell.execute_reply": "2024-11-30T21:58:25.217155Z",
     "shell.execute_reply.started": "2024-11-30T21:58:25.206794Z"
    },
    "papermill": {
     "duration": 0.02154,
     "end_time": "2024-11-07T20:20:00.791959",
     "exception": false,
     "start_time": "2024-11-07T20:20:00.770419",
     "status": "completed"
    },
    "tags": [],
    "trusted": true
   },
   "outputs": [],
   "source": [
    "# print(\"X : \", X.shape)\n",
    "\n",
    "\n",
    "\n",
    "# print(\"test data : \", test_data_processed.shape)\n"
   ]
  },
  {
   "cell_type": "code",
   "execution_count": null,
   "id": "f9c6b8a2",
   "metadata": {
    "execution": {
     "iopub.execute_input": "2024-11-30T21:58:25.224297Z",
     "iopub.status.busy": "2024-11-30T21:58:25.223430Z",
     "iopub.status.idle": "2024-11-30T21:58:25.238225Z",
     "shell.execute_reply": "2024-11-30T21:58:25.237060Z",
     "shell.execute_reply.started": "2024-11-30T21:58:25.224253Z"
    },
    "papermill": {
     "duration": 0.021917,
     "end_time": "2024-11-07T20:20:00.827296",
     "exception": false,
     "start_time": "2024-11-07T20:20:00.805379",
     "status": "completed"
    },
    "tags": [],
    "trusted": true
   },
   "outputs": [
    {
     "data": {
      "text/plain": [
       "(181507, 267)"
      ]
     },
     "execution_count": 55,
     "metadata": {},
     "output_type": "execute_result"
    }
   ],
   "source": [
    "# variance filter\n",
    "\n",
    "\n",
    "\n",
    "# ----------------------------- case  -----------------------------\n",
    "\n",
    "\n",
    "\n",
    "# variance_filter = VarianceThreshold(threshold=0.001)  # Adjust the threshold if needed\n",
    "\n",
    "\n",
    "\n",
    "# X = variance_filter.fit_transform(X)\n",
    "\n",
    "\n",
    "\n",
    "# test_data_processed = variance_filter.fit_transform(test_data_processed)\n",
    "\n",
    "\n",
    "\n",
    "X.shape\n"
   ]
  },
  {
   "cell_type": "code",
   "execution_count": null,
   "id": "f1604caf",
   "metadata": {
    "execution": {
     "iopub.execute_input": "2024-11-30T21:58:25.239984Z",
     "iopub.status.busy": "2024-11-30T21:58:25.239494Z",
     "iopub.status.idle": "2024-11-30T21:58:25.253007Z",
     "shell.execute_reply": "2024-11-30T21:58:25.251558Z",
     "shell.execute_reply.started": "2024-11-30T21:58:25.239926Z"
    },
    "papermill": {
     "duration": 0.026133,
     "end_time": "2024-11-07T20:20:00.868012",
     "exception": false,
     "start_time": "2024-11-07T20:20:00.841879",
     "status": "completed"
    },
    "tags": [],
    "trusted": true
   },
   "outputs": [],
   "source": [
    "# test_data_processed.shape\n"
   ]
  },
  {
   "cell_type": "code",
   "execution_count": null,
   "id": "dd97f036",
   "metadata": {
    "execution": {
     "iopub.execute_input": "2024-11-30T21:58:25.255186Z",
     "iopub.status.busy": "2024-11-30T21:58:25.254682Z",
     "iopub.status.idle": "2024-11-30T21:58:25.267970Z",
     "shell.execute_reply": "2024-11-30T21:58:25.266733Z",
     "shell.execute_reply.started": "2024-11-30T21:58:25.255130Z"
    },
    "papermill": {
     "duration": 0.023607,
     "end_time": "2024-11-07T20:20:00.905745",
     "exception": false,
     "start_time": "2024-11-07T20:20:00.882138",
     "status": "completed"
    },
    "tags": [],
    "trusted": true
   },
   "outputs": [
    {
     "data": {
      "text/plain": [
       "(181507, 267)"
      ]
     },
     "execution_count": 57,
     "metadata": {},
     "output_type": "execute_result"
    }
   ],
   "source": [
    "# # correlation filter\n",
    "\n",
    "\n",
    "\n",
    "# # ----------------------------- case  -----------------------------\n",
    "\n",
    "\n",
    "\n",
    "# corr_matrix = pd.DataFrame(X).corr().abs()\n",
    "\n",
    "\n",
    "\n",
    "# upper_tri = corr_matrix.where(np.triu(np.ones(corr_matrix.shape), k=1).astype(bool))\n",
    "\n",
    "\n",
    "\n",
    "# to_drop = [column for column in upper_tri.columns if any(upper_tri[column] > 0.9)]\n",
    "\n",
    "\n",
    "\n",
    "# X = pd.DataFrame(X).drop(columns=to_drop)\n",
    "\n",
    "\n",
    "\n",
    "# test_data_processed = pd.DataFrame(test_data_processed).drop(columns=to_drop)\n",
    "\n",
    "\n",
    "\n",
    "X.shape\n"
   ]
  },
  {
   "cell_type": "code",
   "execution_count": null,
   "id": "d523de93",
   "metadata": {
    "execution": {
     "iopub.execute_input": "2024-11-30T21:58:25.269836Z",
     "iopub.status.busy": "2024-11-30T21:58:25.269412Z",
     "iopub.status.idle": "2024-11-30T21:58:25.278096Z",
     "shell.execute_reply": "2024-11-30T21:58:25.277021Z",
     "shell.execute_reply.started": "2024-11-30T21:58:25.269791Z"
    },
    "papermill": {
     "duration": 0.023492,
     "end_time": "2024-11-07T20:20:00.943356",
     "exception": false,
     "start_time": "2024-11-07T20:20:00.919864",
     "status": "completed"
    },
    "tags": [],
    "trusted": true
   },
   "outputs": [],
   "source": [
    "# test_data_processed.shape\n"
   ]
  },
  {
   "cell_type": "markdown",
   "id": "5edcb49b",
   "metadata": {
    "papermill": {
     "duration": 0.016785,
     "end_time": "2024-11-07T20:20:00.974594",
     "exception": false,
     "start_time": "2024-11-07T20:20:00.957809",
     "status": "completed"
    },
    "tags": []
   },
   "source": [
    "## Data Splitting - train and validate\n",
    "\n",
    "\n",
    "\n",
    "now our test_data set is of rows with NO target variable whereas the train_data set is WITH target variable.\n",
    "\n",
    "\n",
    "\n",
    "our rules in machine learning is that we must train half or 70% of the data and then we must check its accuracy using the remaining half or 30% of the data - we can only check accuracy IF we have the answers i.e. the target variable. \n",
    "\n",
    "\n",
    "\n",
    "So, what we need to do is, is split the train_data set into 2, by a 70% and 30% ratio. we train the model using the 70% and then test the model using the 30% and then use that model to predict the test_data set."
   ]
  },
  {
   "cell_type": "code",
   "execution_count": null,
   "id": "237c64fd",
   "metadata": {
    "execution": {
     "iopub.execute_input": "2024-11-30T21:58:25.280250Z",
     "iopub.status.busy": "2024-11-30T21:58:25.279716Z",
     "iopub.status.idle": "2024-11-30T21:58:25.680922Z",
     "shell.execute_reply": "2024-11-30T21:58:25.679884Z",
     "shell.execute_reply.started": "2024-11-30T21:58:25.280187Z"
    },
    "papermill": {
     "duration": 0.273955,
     "end_time": "2024-11-07T20:20:01.264394",
     "exception": false,
     "start_time": "2024-11-07T20:20:00.990439",
     "status": "completed"
    },
    "tags": [],
    "trusted": true
   },
   "outputs": [],
   "source": [
    "# holdout method\n",
    "\n",
    "\n",
    "\n",
    "trainX, testX, trainY, testY = train_test_split(X, Y, test_size=0.3, random_state=2)\n"
   ]
  },
  {
   "cell_type": "markdown",
   "id": "b1485955",
   "metadata": {
    "papermill": {
     "duration": 0.013949,
     "end_time": "2024-11-07T20:20:01.292747",
     "exception": false,
     "start_time": "2024-11-07T20:20:01.278798",
     "status": "completed"
    },
    "tags": []
   },
   "source": [
    "# functions\n",
    "\n",
    "\n",
    "\n",
    "here we have defined functions like forward-backward selection, kbest selection & algorithm feature importance"
   ]
  },
  {
   "cell_type": "code",
   "execution_count": null,
   "id": "836da9a8",
   "metadata": {
    "execution": {
     "iopub.execute_input": "2024-11-30T21:58:25.683138Z",
     "iopub.status.busy": "2024-11-30T21:58:25.682651Z",
     "iopub.status.idle": "2024-11-30T21:58:25.693490Z",
     "shell.execute_reply": "2024-11-30T21:58:25.692517Z",
     "shell.execute_reply.started": "2024-11-30T21:58:25.683089Z"
    },
    "papermill": {
     "duration": 0.023729,
     "end_time": "2024-11-07T20:20:01.330428",
     "exception": false,
     "start_time": "2024-11-07T20:20:01.306699",
     "status": "completed"
    },
    "tags": [],
    "trusted": true
   },
   "outputs": [],
   "source": [
    "# forward backward selection\n",
    "\n",
    "\n",
    "\n",
    "def fbselection(direction, sample_model, features, X, trainX, trainY, testX, test_data_processed):\n",
    "\n",
    "\n",
    "\n",
    "    print(\"starting\")\n",
    "\n",
    "\n",
    "\n",
    "    selection = SequentialFeatureSelector(sample_model, direction=direction, n_features_to_select=features, scoring='roc_auc')\n",
    "\n",
    "\n",
    "\n",
    "    return modelSelector(sample_model, selection, X, trainX, trainY, testX, test_data_processed)\n",
    "\n",
    "\n",
    "\n",
    "\n",
    "\n",
    "\n",
    "\n",
    "def modelSelector(sample_model, selection, X, trainX, trainY, testX, test_data_processed):\n",
    "\n",
    "\n",
    "\n",
    "    print(\"start extracting\")\n",
    "\n",
    "\n",
    "\n",
    "    trainX = selection.fit_transform(trainX, trainY)\n",
    "\n",
    "\n",
    "\n",
    "    print(\"extracted, transforming\")\n",
    "\n",
    "\n",
    "\n",
    "    testX = selection.transform(testX)                                  # Ensure the test set is transformed similarly\n",
    "\n",
    "\n",
    "\n",
    "    test_data_processed = selection.transform(test_data_processed)      # test data is also transformed\n",
    "\n",
    "\n",
    "\n",
    "    X = selection.transform(X)                                          # full data transforming\n",
    "\n",
    "\n",
    "\n",
    "    print(\"transformed\")\n",
    "\n",
    "\n",
    "\n",
    "    return sample_model, X, trainX, trainY, testX, test_data_processed\n",
    "\n",
    "\n",
    "\n",
    "\n",
    "\n",
    "\n",
    "\n",
    "# kbest selection\n",
    "\n",
    "\n",
    "\n",
    "def kbest(sample_model, features, X, trainX, trainY, testX, test_data_processed):\n",
    "\n",
    "\n",
    "\n",
    "    print(\"starting\")\n",
    "\n",
    "\n",
    "\n",
    "    selection = SelectKBest(score_func=f_regression, k=features)\n",
    "\n",
    "\n",
    "\n",
    "    return modelSelector(sample_model, selection, X, trainX, trainY, testX, test_data_processed)\n"
   ]
  },
  {
   "cell_type": "code",
   "execution_count": null,
   "id": "0a0bc955",
   "metadata": {
    "execution": {
     "iopub.execute_input": "2024-11-30T21:58:25.695201Z",
     "iopub.status.busy": "2024-11-30T21:58:25.694808Z",
     "iopub.status.idle": "2024-11-30T21:58:25.713074Z",
     "shell.execute_reply": "2024-11-30T21:58:25.711891Z",
     "shell.execute_reply.started": "2024-11-30T21:58:25.695170Z"
    },
    "papermill": {
     "duration": 0.025235,
     "end_time": "2024-11-07T20:20:01.370030",
     "exception": false,
     "start_time": "2024-11-07T20:20:01.344795",
     "status": "completed"
    },
    "tags": [],
    "trusted": true
   },
   "outputs": [],
   "source": [
    "# feature importance function\n",
    "\n",
    "\n",
    "\n",
    "def featureImportance(sample_model, features, X, trainX, trainY, testX, test_data_processed):\n",
    "\n",
    "\n",
    "\n",
    "    print(\"fitting\")\n",
    "\n",
    "\n",
    "\n",
    "    \n",
    "\n",
    "\n",
    "\n",
    "    # fit the model\n",
    "\n",
    "\n",
    "\n",
    "    sample_model.fit(trainX, trainY)\n",
    "\n",
    "\n",
    "\n",
    "\n",
    "\n",
    "\n",
    "\n",
    "    print(\"extracting features\")\n",
    "\n",
    "\n",
    "\n",
    "\n",
    "\n",
    "\n",
    "\n",
    "    # extract all the feature names from data\n",
    "\n",
    "\n",
    "\n",
    "    importances = sample_model.feature_importances_\n",
    "\n",
    "\n",
    "\n",
    "    feature_names = train_data.drop(columns=['Y']).columns\n",
    "\n",
    "\n",
    "\n",
    "    print(feature_names)\n",
    "\n",
    "\n",
    "\n",
    "\n",
    "\n",
    "\n",
    "\n",
    "    # sort with respect to importance\n",
    "\n",
    "\n",
    "\n",
    "    feature_importance_df = pd.DataFrame({\n",
    "\n",
    "\n",
    "\n",
    "        'Feature': feature_names,\n",
    "\n",
    "\n",
    "\n",
    "        'Importance': importances\n",
    "\n",
    "\n",
    "\n",
    "    }).sort_values(by='Importance', ascending=False)\n",
    "\n",
    "\n",
    "\n",
    "\n",
    "\n",
    "\n",
    "\n",
    "    # extract the top ones\n",
    "\n",
    "\n",
    "\n",
    "    top_features = feature_importance_df['Feature'].head(features).values\n",
    "\n",
    "\n",
    "\n",
    "    print(top_features)\n",
    "\n",
    "\n",
    "\n",
    "\n",
    "\n",
    "\n",
    "\n",
    "    # change all data according to the top ones we have selected\n",
    "\n",
    "\n",
    "\n",
    "    trainX = pd.DataFrame(trainX, columns=feature_names)[top_features]\n",
    "\n",
    "\n",
    "\n",
    "    testX = pd.DataFrame(testX, columns=feature_names)[top_features]\n",
    "\n",
    "\n",
    "\n",
    "    X = pd.DataFrame(X, columns=feature_names)[top_features]\n",
    "\n",
    "\n",
    "\n",
    "    test_data_processed = pd.DataFrame(test_data_processed, columns=feature_names)[top_features]\n",
    "\n",
    "\n",
    "\n",
    "\n",
    "\n",
    "\n",
    "\n",
    "    print(\"features extracted\")\n",
    "\n",
    "\n",
    "\n",
    "    \n",
    "\n",
    "\n",
    "\n",
    "    # retrain the model\n",
    "\n",
    "\n",
    "\n",
    "    sample_model.fit(trainX, trainY)\n",
    "\n",
    "\n",
    "\n",
    "\n",
    "\n",
    "\n",
    "\n",
    "    print(\"features trained\")\n",
    "\n",
    "\n",
    "\n",
    "    \n",
    "\n",
    "\n",
    "\n",
    "    return sample_model, X, trainX, trainY, testX, test_data_processed\n"
   ]
  },
  {
   "cell_type": "markdown",
   "id": "fc6047d2",
   "metadata": {
    "papermill": {
     "duration": 0.013797,
     "end_time": "2024-11-07T20:20:01.398362",
     "exception": false,
     "start_time": "2024-11-07T20:20:01.384565",
     "status": "completed"
    },
    "tags": []
   },
   "source": [
    "## model intialization\n",
    "\n",
    "\n",
    "\n",
    "here model is intialized"
   ]
  },
  {
   "cell_type": "code",
   "execution_count": null,
   "id": "511dc0e2",
   "metadata": {
    "execution": {
     "iopub.execute_input": "2024-11-30T21:58:25.715581Z",
     "iopub.status.busy": "2024-11-30T21:58:25.715131Z",
     "iopub.status.idle": "2024-11-30T21:58:25.731306Z",
     "shell.execute_reply": "2024-11-30T21:58:25.730193Z",
     "shell.execute_reply.started": "2024-11-30T21:58:25.715533Z"
    },
    "papermill": {
     "duration": 0.021268,
     "end_time": "2024-11-07T20:20:01.433590",
     "exception": false,
     "start_time": "2024-11-07T20:20:01.412322",
     "status": "completed"
    },
    "tags": [],
    "trusted": true
   },
   "outputs": [],
   "source": [
    "model = KNeighborsRegressor(\n",
    "\n",
    "    n_neighbors=67,             # Number of neighbors to consider\n",
    "\n",
    "    weights='distance',         # Weighting function ('uniform' or 'distance')\n",
    "\n",
    "    # algorithm='auto',          # Algorithm used to find neighbors ('auto', 'ball_tree', 'kd_tree', 'brute')\n",
    "\n",
    "    leaf_size=30,              # Leaf size for BallTree or KDTree\n",
    "\n",
    "    p=2,                       # Power parameter for Minkowski metric (1 for Manhattan, 2 for Euclidean)\n",
    "\n",
    "    metric='euclidean',        # Distance metric to use\n",
    "\n",
    "    n_jobs=-1                  # Number of parallel jobs (-1 for using all processors)\n",
    "\n",
    ")\n"
   ]
  },
  {
   "cell_type": "code",
   "execution_count": null,
   "id": "585f7723",
   "metadata": {
    "execution": {
     "iopub.execute_input": "2024-11-30T21:58:25.733031Z",
     "iopub.status.busy": "2024-11-30T21:58:25.732641Z",
     "iopub.status.idle": "2024-11-30T21:58:25.749909Z",
     "shell.execute_reply": "2024-11-30T21:58:25.748679Z",
     "shell.execute_reply.started": "2024-11-30T21:58:25.732976Z"
    },
    "papermill": {
     "duration": 0.02329,
     "end_time": "2024-11-07T20:20:14.141486",
     "exception": false,
     "start_time": "2024-11-07T20:20:14.118196",
     "status": "completed"
    },
    "tags": [],
    "trusted": true
   },
   "outputs": [
    {
     "name": "stdout",
     "output_type": "stream",
     "text": [
      "X shape ->  (181507, 267)\n",
      "trainX shape ->  (127054, 267)\n",
      "testX shape ->  (54453, 267)\n",
      "test_data_processed shape ->  (77789, 268)\n"
     ]
    }
   ],
   "source": [
    "print(\"X shape -> \", X.shape)\n",
    "\n",
    "\n",
    "\n",
    "print(\"trainX shape -> \", trainX.shape)\n",
    "\n",
    "\n",
    "\n",
    "print(\"testX shape -> \", testX.shape)\n",
    "\n",
    "\n",
    "\n",
    "print(\"test_data_processed shape -> \", test_data.shape)\n"
   ]
  },
  {
   "cell_type": "markdown",
   "id": "34c9426d",
   "metadata": {},
   "source": [
    "# feature selection\n",
    "\n",
    "\n",
    "\n",
    "here we will apply feature selection and feature importance"
   ]
  },
  {
   "cell_type": "code",
   "execution_count": null,
   "id": "f9831392",
   "metadata": {
    "execution": {
     "iopub.execute_input": "2024-11-30T21:58:25.751714Z",
     "iopub.status.busy": "2024-11-30T21:58:25.751319Z",
     "iopub.status.idle": "2024-11-30T21:58:25.762309Z",
     "shell.execute_reply": "2024-11-30T21:58:25.761139Z",
     "shell.execute_reply.started": "2024-11-30T21:58:25.751669Z"
    },
    "trusted": true
   },
   "outputs": [],
   "source": [
    "# from scipy.sparse import isspmatrix_csr\n",
    "\n",
    "\n",
    "\n",
    "# for name, data in [(\"X\", X), (\"trainX\", trainX), (\"trainY\", trainY), (\"testX\", testX), (\"test_data\", test_data)]:\n",
    "\n",
    "\n",
    "\n",
    "#     assert not isspmatrix_csr(data), f\"{name} is now a csr_matrix!\"\n"
   ]
  },
  {
   "cell_type": "code",
   "execution_count": null,
   "id": "8e26330a",
   "metadata": {
    "execution": {
     "iopub.execute_input": "2024-11-30T21:58:25.763977Z",
     "iopub.status.busy": "2024-11-30T21:58:25.763569Z",
     "iopub.status.idle": "2024-11-30T21:58:25.781388Z",
     "shell.execute_reply": "2024-11-30T21:58:25.780035Z",
     "shell.execute_reply.started": "2024-11-30T21:58:25.763910Z"
    },
    "trusted": true
   },
   "outputs": [
    {
     "data": {
      "text/html": [
       "<style>#sk-container-id-2 {color: black;background-color: white;}#sk-container-id-2 pre{padding: 0;}#sk-container-id-2 div.sk-toggleable {background-color: white;}#sk-container-id-2 label.sk-toggleable__label {cursor: pointer;display: block;width: 100%;margin-bottom: 0;padding: 0.3em;box-sizing: border-box;text-align: center;}#sk-container-id-2 label.sk-toggleable__label-arrow:before {content: \"▸\";float: left;margin-right: 0.25em;color: #696969;}#sk-container-id-2 label.sk-toggleable__label-arrow:hover:before {color: black;}#sk-container-id-2 div.sk-estimator:hover label.sk-toggleable__label-arrow:before {color: black;}#sk-container-id-2 div.sk-toggleable__content {max-height: 0;max-width: 0;overflow: hidden;text-align: left;background-color: #f0f8ff;}#sk-container-id-2 div.sk-toggleable__content pre {margin: 0.2em;color: black;border-radius: 0.25em;background-color: #f0f8ff;}#sk-container-id-2 input.sk-toggleable__control:checked~div.sk-toggleable__content {max-height: 200px;max-width: 100%;overflow: auto;}#sk-container-id-2 input.sk-toggleable__control:checked~label.sk-toggleable__label-arrow:before {content: \"▾\";}#sk-container-id-2 div.sk-estimator input.sk-toggleable__control:checked~label.sk-toggleable__label {background-color: #d4ebff;}#sk-container-id-2 div.sk-label input.sk-toggleable__control:checked~label.sk-toggleable__label {background-color: #d4ebff;}#sk-container-id-2 input.sk-hidden--visually {border: 0;clip: rect(1px 1px 1px 1px);clip: rect(1px, 1px, 1px, 1px);height: 1px;margin: -1px;overflow: hidden;padding: 0;position: absolute;width: 1px;}#sk-container-id-2 div.sk-estimator {font-family: monospace;background-color: #f0f8ff;border: 1px dotted black;border-radius: 0.25em;box-sizing: border-box;margin-bottom: 0.5em;}#sk-container-id-2 div.sk-estimator:hover {background-color: #d4ebff;}#sk-container-id-2 div.sk-parallel-item::after {content: \"\";width: 100%;border-bottom: 1px solid gray;flex-grow: 1;}#sk-container-id-2 div.sk-label:hover label.sk-toggleable__label {background-color: #d4ebff;}#sk-container-id-2 div.sk-serial::before {content: \"\";position: absolute;border-left: 1px solid gray;box-sizing: border-box;top: 0;bottom: 0;left: 50%;z-index: 0;}#sk-container-id-2 div.sk-serial {display: flex;flex-direction: column;align-items: center;background-color: white;padding-right: 0.2em;padding-left: 0.2em;position: relative;}#sk-container-id-2 div.sk-item {position: relative;z-index: 1;}#sk-container-id-2 div.sk-parallel {display: flex;align-items: stretch;justify-content: center;background-color: white;position: relative;}#sk-container-id-2 div.sk-item::before, #sk-container-id-2 div.sk-parallel-item::before {content: \"\";position: absolute;border-left: 1px solid gray;box-sizing: border-box;top: 0;bottom: 0;left: 50%;z-index: -1;}#sk-container-id-2 div.sk-parallel-item {display: flex;flex-direction: column;z-index: 1;position: relative;background-color: white;}#sk-container-id-2 div.sk-parallel-item:first-child::after {align-self: flex-end;width: 50%;}#sk-container-id-2 div.sk-parallel-item:last-child::after {align-self: flex-start;width: 50%;}#sk-container-id-2 div.sk-parallel-item:only-child::after {width: 0;}#sk-container-id-2 div.sk-dashed-wrapped {border: 1px dashed gray;margin: 0 0.4em 0.5em 0.4em;box-sizing: border-box;padding-bottom: 0.4em;background-color: white;}#sk-container-id-2 div.sk-label label {font-family: monospace;font-weight: bold;display: inline-block;line-height: 1.2em;}#sk-container-id-2 div.sk-label-container {text-align: center;}#sk-container-id-2 div.sk-container {/* jupyter's `normalize.less` sets `[hidden] { display: none; }` but bootstrap.min.css set `[hidden] { display: none !important; }` so we also need the `!important` here to be able to override the default hidden behavior on the sphinx rendered scikit-learn.org. See: https://github.com/scikit-learn/scikit-learn/issues/21755 */display: inline-block !important;position: relative;}#sk-container-id-2 div.sk-text-repr-fallback {display: none;}</style><div id=\"sk-container-id-2\" class=\"sk-top-container\"><div class=\"sk-text-repr-fallback\"><pre>KNeighborsRegressor(metric=&#x27;euclidean&#x27;, n_jobs=-1, n_neighbors=67,\n",
       "                    weights=&#x27;distance&#x27;)</pre><b>In a Jupyter environment, please rerun this cell to show the HTML representation or trust the notebook. <br />On GitHub, the HTML representation is unable to render, please try loading this page with nbviewer.org.</b></div><div class=\"sk-container\" hidden><div class=\"sk-item\"><div class=\"sk-estimator sk-toggleable\"><input class=\"sk-toggleable__control sk-hidden--visually\" id=\"sk-estimator-id-2\" type=\"checkbox\" checked><label for=\"sk-estimator-id-2\" class=\"sk-toggleable__label sk-toggleable__label-arrow\">KNeighborsRegressor</label><div class=\"sk-toggleable__content\"><pre>KNeighborsRegressor(metric=&#x27;euclidean&#x27;, n_jobs=-1, n_neighbors=67,\n",
       "                    weights=&#x27;distance&#x27;)</pre></div></div></div></div></div>"
      ],
      "text/plain": [
       "KNeighborsRegressor(metric='euclidean', n_jobs=-1, n_neighbors=67,\n",
       "                    weights='distance')"
      ]
     },
     "execution_count": 65,
     "metadata": {},
     "output_type": "execute_result"
    }
   ],
   "source": [
    "model\n"
   ]
  },
  {
   "cell_type": "code",
   "execution_count": null,
   "id": "b543f060",
   "metadata": {
    "execution": {
     "iopub.execute_input": "2024-11-30T21:58:25.783423Z",
     "iopub.status.busy": "2024-11-30T21:58:25.783027Z",
     "iopub.status.idle": "2024-11-30T21:58:25.793583Z",
     "shell.execute_reply": "2024-11-30T21:58:25.792330Z",
     "shell.execute_reply.started": "2024-11-30T21:58:25.783389Z"
    },
    "trusted": true
   },
   "outputs": [],
   "source": [
    "# apply feature selection here\n",
    "\n",
    "\n",
    "\n",
    "# model, X, trainX, trainY, testX, test_data = kbest(model, 200, X, trainX, trainY, testX, test_data)\n"
   ]
  },
  {
   "cell_type": "code",
   "execution_count": null,
   "id": "5fc618ef",
   "metadata": {
    "execution": {
     "iopub.execute_input": "2024-11-30T21:58:25.796285Z",
     "iopub.status.busy": "2024-11-30T21:58:25.795809Z",
     "iopub.status.idle": "2024-11-30T21:58:25.810201Z",
     "shell.execute_reply": "2024-11-30T21:58:25.808948Z",
     "shell.execute_reply.started": "2024-11-30T21:58:25.796227Z"
    },
    "trusted": true
   },
   "outputs": [
    {
     "data": {
      "text/html": [
       "<style>#sk-container-id-3 {color: black;background-color: white;}#sk-container-id-3 pre{padding: 0;}#sk-container-id-3 div.sk-toggleable {background-color: white;}#sk-container-id-3 label.sk-toggleable__label {cursor: pointer;display: block;width: 100%;margin-bottom: 0;padding: 0.3em;box-sizing: border-box;text-align: center;}#sk-container-id-3 label.sk-toggleable__label-arrow:before {content: \"▸\";float: left;margin-right: 0.25em;color: #696969;}#sk-container-id-3 label.sk-toggleable__label-arrow:hover:before {color: black;}#sk-container-id-3 div.sk-estimator:hover label.sk-toggleable__label-arrow:before {color: black;}#sk-container-id-3 div.sk-toggleable__content {max-height: 0;max-width: 0;overflow: hidden;text-align: left;background-color: #f0f8ff;}#sk-container-id-3 div.sk-toggleable__content pre {margin: 0.2em;color: black;border-radius: 0.25em;background-color: #f0f8ff;}#sk-container-id-3 input.sk-toggleable__control:checked~div.sk-toggleable__content {max-height: 200px;max-width: 100%;overflow: auto;}#sk-container-id-3 input.sk-toggleable__control:checked~label.sk-toggleable__label-arrow:before {content: \"▾\";}#sk-container-id-3 div.sk-estimator input.sk-toggleable__control:checked~label.sk-toggleable__label {background-color: #d4ebff;}#sk-container-id-3 div.sk-label input.sk-toggleable__control:checked~label.sk-toggleable__label {background-color: #d4ebff;}#sk-container-id-3 input.sk-hidden--visually {border: 0;clip: rect(1px 1px 1px 1px);clip: rect(1px, 1px, 1px, 1px);height: 1px;margin: -1px;overflow: hidden;padding: 0;position: absolute;width: 1px;}#sk-container-id-3 div.sk-estimator {font-family: monospace;background-color: #f0f8ff;border: 1px dotted black;border-radius: 0.25em;box-sizing: border-box;margin-bottom: 0.5em;}#sk-container-id-3 div.sk-estimator:hover {background-color: #d4ebff;}#sk-container-id-3 div.sk-parallel-item::after {content: \"\";width: 100%;border-bottom: 1px solid gray;flex-grow: 1;}#sk-container-id-3 div.sk-label:hover label.sk-toggleable__label {background-color: #d4ebff;}#sk-container-id-3 div.sk-serial::before {content: \"\";position: absolute;border-left: 1px solid gray;box-sizing: border-box;top: 0;bottom: 0;left: 50%;z-index: 0;}#sk-container-id-3 div.sk-serial {display: flex;flex-direction: column;align-items: center;background-color: white;padding-right: 0.2em;padding-left: 0.2em;position: relative;}#sk-container-id-3 div.sk-item {position: relative;z-index: 1;}#sk-container-id-3 div.sk-parallel {display: flex;align-items: stretch;justify-content: center;background-color: white;position: relative;}#sk-container-id-3 div.sk-item::before, #sk-container-id-3 div.sk-parallel-item::before {content: \"\";position: absolute;border-left: 1px solid gray;box-sizing: border-box;top: 0;bottom: 0;left: 50%;z-index: -1;}#sk-container-id-3 div.sk-parallel-item {display: flex;flex-direction: column;z-index: 1;position: relative;background-color: white;}#sk-container-id-3 div.sk-parallel-item:first-child::after {align-self: flex-end;width: 50%;}#sk-container-id-3 div.sk-parallel-item:last-child::after {align-self: flex-start;width: 50%;}#sk-container-id-3 div.sk-parallel-item:only-child::after {width: 0;}#sk-container-id-3 div.sk-dashed-wrapped {border: 1px dashed gray;margin: 0 0.4em 0.5em 0.4em;box-sizing: border-box;padding-bottom: 0.4em;background-color: white;}#sk-container-id-3 div.sk-label label {font-family: monospace;font-weight: bold;display: inline-block;line-height: 1.2em;}#sk-container-id-3 div.sk-label-container {text-align: center;}#sk-container-id-3 div.sk-container {/* jupyter's `normalize.less` sets `[hidden] { display: none; }` but bootstrap.min.css set `[hidden] { display: none !important; }` so we also need the `!important` here to be able to override the default hidden behavior on the sphinx rendered scikit-learn.org. See: https://github.com/scikit-learn/scikit-learn/issues/21755 */display: inline-block !important;position: relative;}#sk-container-id-3 div.sk-text-repr-fallback {display: none;}</style><div id=\"sk-container-id-3\" class=\"sk-top-container\"><div class=\"sk-text-repr-fallback\"><pre>KNeighborsRegressor(metric=&#x27;euclidean&#x27;, n_jobs=-1, n_neighbors=67,\n",
       "                    weights=&#x27;distance&#x27;)</pre><b>In a Jupyter environment, please rerun this cell to show the HTML representation or trust the notebook. <br />On GitHub, the HTML representation is unable to render, please try loading this page with nbviewer.org.</b></div><div class=\"sk-container\" hidden><div class=\"sk-item\"><div class=\"sk-estimator sk-toggleable\"><input class=\"sk-toggleable__control sk-hidden--visually\" id=\"sk-estimator-id-3\" type=\"checkbox\" checked><label for=\"sk-estimator-id-3\" class=\"sk-toggleable__label sk-toggleable__label-arrow\">KNeighborsRegressor</label><div class=\"sk-toggleable__content\"><pre>KNeighborsRegressor(metric=&#x27;euclidean&#x27;, n_jobs=-1, n_neighbors=67,\n",
       "                    weights=&#x27;distance&#x27;)</pre></div></div></div></div></div>"
      ],
      "text/plain": [
       "KNeighborsRegressor(metric='euclidean', n_jobs=-1, n_neighbors=67,\n",
       "                    weights='distance')"
      ]
     },
     "execution_count": 67,
     "metadata": {},
     "output_type": "execute_result"
    }
   ],
   "source": [
    "model\n"
   ]
  },
  {
   "cell_type": "markdown",
   "id": "58edd65e",
   "metadata": {},
   "source": [
    "# grid search"
   ]
  },
  {
   "cell_type": "code",
   "execution_count": null,
   "id": "61b8b917",
   "metadata": {
    "execution": {
     "iopub.execute_input": "2024-11-30T21:58:25.812149Z",
     "iopub.status.busy": "2024-11-30T21:58:25.811733Z",
     "iopub.status.idle": "2024-11-30T21:58:25.822516Z",
     "shell.execute_reply": "2024-11-30T21:58:25.821393Z",
     "shell.execute_reply.started": "2024-11-30T21:58:25.812116Z"
    },
    "trusted": true
   },
   "outputs": [],
   "source": [
    "def gridsearch(param_grid, model, scorer, trainX, trainY):\n",
    "\n",
    "\n",
    "\n",
    "    print(\"starting grid search\")\n",
    "\n",
    "\n",
    "\n",
    "\n",
    "\n",
    "\n",
    "\n",
    "    # intialize grid search\n",
    "\n",
    "\n",
    "\n",
    "    grid_search = GridSearchCV(estimator=model, param_grid=param_grid, cv=3, scoring=scorer, verbose=3)\n",
    "\n",
    "\n",
    "\n",
    "    print(\"grid search is intialized\")\n",
    "\n",
    "\n",
    "\n",
    "\n",
    "\n",
    "\n",
    "\n",
    "    # fit the model\n",
    "\n",
    "\n",
    "\n",
    "    grid_search.fit(trainX, trainY)\n",
    "\n",
    "\n",
    "\n",
    "    print(\"grid search fitting completed\")\n",
    "\n",
    "\n",
    "\n",
    "\n",
    "\n",
    "\n",
    "\n",
    "    # display the best model grid search found\n",
    "\n",
    "\n",
    "\n",
    "    best_model = grid_search.best_estimator_\n",
    "\n",
    "\n",
    "\n",
    "    print(best_model)\n",
    "\n",
    "\n",
    "\n",
    "\n",
    "\n",
    "\n",
    "\n",
    "    # display the best parameters of the best model\n",
    "\n",
    "\n",
    "\n",
    "    best_parameters = grid_search.best_params_\n",
    "\n",
    "\n",
    "\n",
    "    print(best_parameters)\n",
    "\n",
    "\n",
    "\n",
    "\n",
    "\n",
    "\n",
    "\n",
    "    # display the best score of the best model\n",
    "\n",
    "\n",
    "\n",
    "    print(\"Best cross-validated score:\", grid_search.best_score_)\n",
    "\n",
    "\n",
    "\n",
    "\n",
    "\n",
    "\n",
    "\n",
    "    # assign the best model our model\n",
    "\n",
    "\n",
    "\n",
    "    model = best_model\n",
    "\n",
    "\n",
    "\n",
    "    print(\"model assigned, grid search completed\")\n",
    "\n",
    "\n",
    "\n",
    "\n",
    "\n",
    "\n",
    "\n",
    "    return model\n"
   ]
  },
  {
   "cell_type": "code",
   "execution_count": null,
   "id": "8896c271",
   "metadata": {
    "execution": {
     "iopub.execute_input": "2024-11-30T21:58:25.824498Z",
     "iopub.status.busy": "2024-11-30T21:58:25.824112Z",
     "iopub.status.idle": "2024-11-30T21:58:25.841564Z",
     "shell.execute_reply": "2024-11-30T21:58:25.840219Z",
     "shell.execute_reply.started": "2024-11-30T21:58:25.824462Z"
    },
    "trusted": true
   },
   "outputs": [],
   "source": [
    "# Define a scoring metric (e.g., negative mean squared error)\n",
    "\n",
    "\n",
    "\n",
    "# scorer = make_scorer(mean_squared_error, greater_is_better=False)\n"
   ]
  },
  {
   "cell_type": "code",
   "execution_count": null,
   "id": "58ba6d7b",
   "metadata": {
    "execution": {
     "iopub.execute_input": "2024-11-30T21:58:25.843285Z",
     "iopub.status.busy": "2024-11-30T21:58:25.842914Z",
     "iopub.status.idle": "2024-11-30T21:58:25.857832Z",
     "shell.execute_reply": "2024-11-30T21:58:25.856607Z",
     "shell.execute_reply.started": "2024-11-30T21:58:25.843253Z"
    },
    "trusted": true
   },
   "outputs": [],
   "source": [
    "# define hyper parameters of grid\n",
    "\n",
    "\n",
    "\n",
    "# param_grid = {\n",
    "\n",
    "#     'algorithm': ['ball_tree', 'kd_tree', 'brute', 'auto']\n",
    "\n",
    "# }\n"
   ]
  },
  {
   "cell_type": "code",
   "execution_count": null,
   "id": "b969d8af",
   "metadata": {
    "execution": {
     "iopub.execute_input": "2024-11-30T21:58:25.859549Z",
     "iopub.status.busy": "2024-11-30T21:58:25.859199Z",
     "iopub.status.idle": "2024-11-30T21:58:25.875245Z",
     "shell.execute_reply": "2024-11-30T21:58:25.873990Z",
     "shell.execute_reply.started": "2024-11-30T21:58:25.859515Z"
    },
    "trusted": true
   },
   "outputs": [],
   "source": [
    "# model = gridsearch(param_grid, model, scorer, trainX, trainY)\n"
   ]
  },
  {
   "cell_type": "markdown",
   "id": "ca514b89",
   "metadata": {},
   "source": [
    "# sampling data\n",
    "\n",
    "\n",
    "\n",
    "we do this when dataset is too big and model is too slow. this model took 10hours to just train on train data and then after 1 hour of predicting on testX, it failed. kernel crashed. hence this doesnt work on full data.     \n",
    "\n",
    "\n",
    "\n",
    "However, we can achieve this model by taking 10% sample, train a model, predict, find its MSE. then repeat n times and pick the model with the smallest MSE. "
   ]
  },
  {
   "cell_type": "code",
   "execution_count": null,
   "id": "6e31a8c7",
   "metadata": {
    "execution": {
     "iopub.execute_input": "2024-11-30T21:58:25.877372Z",
     "iopub.status.busy": "2024-11-30T21:58:25.876850Z",
     "iopub.status.idle": "2024-11-30T21:58:25.890723Z",
     "shell.execute_reply": "2024-11-30T21:58:25.889632Z",
     "shell.execute_reply.started": "2024-11-30T21:58:25.877322Z"
    },
    "trusted": true
   },
   "outputs": [
    {
     "name": "stdout",
     "output_type": "stream",
     "text": [
      "X shape ->  (181507, 267)\n",
      "trainX shape ->  (127054, 267)\n",
      "testX shape ->  (54453, 267)\n",
      "test_data_processed shape ->  (77789, 268)\n"
     ]
    }
   ],
   "source": [
    "print(\"X shape -> \", X.shape)\n",
    "\n",
    "\n",
    "\n",
    "print(\"trainX shape -> \", trainX.shape)\n",
    "\n",
    "\n",
    "\n",
    "print(\"testX shape -> \", testX.shape)\n",
    "\n",
    "\n",
    "\n",
    "print(\"test_data_processed shape -> \", test_data.shape)\n"
   ]
  },
  {
   "cell_type": "code",
   "execution_count": null,
   "id": "b9759821",
   "metadata": {
    "execution": {
     "iopub.execute_input": "2024-11-30T21:58:25.892768Z",
     "iopub.status.busy": "2024-11-30T21:58:25.892316Z",
     "iopub.status.idle": "2024-11-30T21:58:25.906926Z",
     "shell.execute_reply": "2024-11-30T21:58:25.905618Z",
     "shell.execute_reply.started": "2024-11-30T21:58:25.892720Z"
    },
    "trusted": true
   },
   "outputs": [
    {
     "data": {
      "text/html": [
       "<style>#sk-container-id-4 {color: black;background-color: white;}#sk-container-id-4 pre{padding: 0;}#sk-container-id-4 div.sk-toggleable {background-color: white;}#sk-container-id-4 label.sk-toggleable__label {cursor: pointer;display: block;width: 100%;margin-bottom: 0;padding: 0.3em;box-sizing: border-box;text-align: center;}#sk-container-id-4 label.sk-toggleable__label-arrow:before {content: \"▸\";float: left;margin-right: 0.25em;color: #696969;}#sk-container-id-4 label.sk-toggleable__label-arrow:hover:before {color: black;}#sk-container-id-4 div.sk-estimator:hover label.sk-toggleable__label-arrow:before {color: black;}#sk-container-id-4 div.sk-toggleable__content {max-height: 0;max-width: 0;overflow: hidden;text-align: left;background-color: #f0f8ff;}#sk-container-id-4 div.sk-toggleable__content pre {margin: 0.2em;color: black;border-radius: 0.25em;background-color: #f0f8ff;}#sk-container-id-4 input.sk-toggleable__control:checked~div.sk-toggleable__content {max-height: 200px;max-width: 100%;overflow: auto;}#sk-container-id-4 input.sk-toggleable__control:checked~label.sk-toggleable__label-arrow:before {content: \"▾\";}#sk-container-id-4 div.sk-estimator input.sk-toggleable__control:checked~label.sk-toggleable__label {background-color: #d4ebff;}#sk-container-id-4 div.sk-label input.sk-toggleable__control:checked~label.sk-toggleable__label {background-color: #d4ebff;}#sk-container-id-4 input.sk-hidden--visually {border: 0;clip: rect(1px 1px 1px 1px);clip: rect(1px, 1px, 1px, 1px);height: 1px;margin: -1px;overflow: hidden;padding: 0;position: absolute;width: 1px;}#sk-container-id-4 div.sk-estimator {font-family: monospace;background-color: #f0f8ff;border: 1px dotted black;border-radius: 0.25em;box-sizing: border-box;margin-bottom: 0.5em;}#sk-container-id-4 div.sk-estimator:hover {background-color: #d4ebff;}#sk-container-id-4 div.sk-parallel-item::after {content: \"\";width: 100%;border-bottom: 1px solid gray;flex-grow: 1;}#sk-container-id-4 div.sk-label:hover label.sk-toggleable__label {background-color: #d4ebff;}#sk-container-id-4 div.sk-serial::before {content: \"\";position: absolute;border-left: 1px solid gray;box-sizing: border-box;top: 0;bottom: 0;left: 50%;z-index: 0;}#sk-container-id-4 div.sk-serial {display: flex;flex-direction: column;align-items: center;background-color: white;padding-right: 0.2em;padding-left: 0.2em;position: relative;}#sk-container-id-4 div.sk-item {position: relative;z-index: 1;}#sk-container-id-4 div.sk-parallel {display: flex;align-items: stretch;justify-content: center;background-color: white;position: relative;}#sk-container-id-4 div.sk-item::before, #sk-container-id-4 div.sk-parallel-item::before {content: \"\";position: absolute;border-left: 1px solid gray;box-sizing: border-box;top: 0;bottom: 0;left: 50%;z-index: -1;}#sk-container-id-4 div.sk-parallel-item {display: flex;flex-direction: column;z-index: 1;position: relative;background-color: white;}#sk-container-id-4 div.sk-parallel-item:first-child::after {align-self: flex-end;width: 50%;}#sk-container-id-4 div.sk-parallel-item:last-child::after {align-self: flex-start;width: 50%;}#sk-container-id-4 div.sk-parallel-item:only-child::after {width: 0;}#sk-container-id-4 div.sk-dashed-wrapped {border: 1px dashed gray;margin: 0 0.4em 0.5em 0.4em;box-sizing: border-box;padding-bottom: 0.4em;background-color: white;}#sk-container-id-4 div.sk-label label {font-family: monospace;font-weight: bold;display: inline-block;line-height: 1.2em;}#sk-container-id-4 div.sk-label-container {text-align: center;}#sk-container-id-4 div.sk-container {/* jupyter's `normalize.less` sets `[hidden] { display: none; }` but bootstrap.min.css set `[hidden] { display: none !important; }` so we also need the `!important` here to be able to override the default hidden behavior on the sphinx rendered scikit-learn.org. See: https://github.com/scikit-learn/scikit-learn/issues/21755 */display: inline-block !important;position: relative;}#sk-container-id-4 div.sk-text-repr-fallback {display: none;}</style><div id=\"sk-container-id-4\" class=\"sk-top-container\"><div class=\"sk-text-repr-fallback\"><pre>KNeighborsRegressor(metric=&#x27;euclidean&#x27;, n_jobs=-1, n_neighbors=67,\n",
       "                    weights=&#x27;distance&#x27;)</pre><b>In a Jupyter environment, please rerun this cell to show the HTML representation or trust the notebook. <br />On GitHub, the HTML representation is unable to render, please try loading this page with nbviewer.org.</b></div><div class=\"sk-container\" hidden><div class=\"sk-item\"><div class=\"sk-estimator sk-toggleable\"><input class=\"sk-toggleable__control sk-hidden--visually\" id=\"sk-estimator-id-4\" type=\"checkbox\" checked><label for=\"sk-estimator-id-4\" class=\"sk-toggleable__label sk-toggleable__label-arrow\">KNeighborsRegressor</label><div class=\"sk-toggleable__content\"><pre>KNeighborsRegressor(metric=&#x27;euclidean&#x27;, n_jobs=-1, n_neighbors=67,\n",
       "                    weights=&#x27;distance&#x27;)</pre></div></div></div></div></div>"
      ],
      "text/plain": [
       "KNeighborsRegressor(metric='euclidean', n_jobs=-1, n_neighbors=67,\n",
       "                    weights='distance')"
      ]
     },
     "execution_count": 73,
     "metadata": {},
     "output_type": "execute_result"
    }
   ],
   "source": [
    "model\n"
   ]
  },
  {
   "cell_type": "code",
   "execution_count": null,
   "id": "7ac72a30",
   "metadata": {
    "execution": {
     "iopub.execute_input": "2024-11-30T21:58:25.908659Z",
     "iopub.status.busy": "2024-11-30T21:58:25.908301Z",
     "iopub.status.idle": "2024-11-30T21:58:25.923630Z",
     "shell.execute_reply": "2024-11-30T21:58:25.922381Z",
     "shell.execute_reply.started": "2024-11-30T21:58:25.908614Z"
    },
    "trusted": true
   },
   "outputs": [],
   "source": [
    "# trainX = preprocessor.fit_transform(trainX)\n",
    "\n",
    "\n",
    "\n",
    "# print(trainX.shape)\n",
    "\n",
    "\n",
    "\n",
    "# testX = preprocessor.transform(testX)\n",
    "\n",
    "\n",
    "\n",
    "# print(testX.shape)\n",
    "\n",
    "\n",
    "\n",
    "# test_data = preprocessor.transform(test_data)\n",
    "\n",
    "\n",
    "\n",
    "# print(test_data.shape)\n",
    "\n",
    "\n",
    "\n",
    "# X = preprocessor.transform(X)\n",
    "\n",
    "\n",
    "\n",
    "# print(X.shape)\n"
   ]
  },
  {
   "cell_type": "markdown",
   "id": "df4c4143",
   "metadata": {
    "papermill": {
     "duration": 0.014144,
     "end_time": "2024-11-07T20:20:14.233534",
     "exception": false,
     "start_time": "2024-11-07T20:20:14.219390",
     "status": "completed"
    },
    "tags": []
   },
   "source": [
    "## model running\n",
    "\n",
    "\n",
    "\n",
    "here we run the model"
   ]
  },
  {
   "cell_type": "code",
   "execution_count": null,
   "id": "cad49c9d",
   "metadata": {
    "execution": {
     "iopub.execute_input": "2024-11-30T21:58:25.925491Z",
     "iopub.status.busy": "2024-11-30T21:58:25.925096Z",
     "iopub.status.idle": "2024-11-30T21:58:26.120157Z",
     "shell.execute_reply": "2024-11-30T21:58:26.119046Z",
     "shell.execute_reply.started": "2024-11-30T21:58:25.925440Z"
    },
    "papermill": {
     "duration": 1652.161599,
     "end_time": "2024-11-07T20:47:46.409387",
     "exception": false,
     "start_time": "2024-11-07T20:20:14.247788",
     "status": "completed"
    },
    "tags": [],
    "trusted": true
   },
   "outputs": [
    {
     "data": {
      "text/html": [
       "<style>#sk-container-id-5 {color: black;background-color: white;}#sk-container-id-5 pre{padding: 0;}#sk-container-id-5 div.sk-toggleable {background-color: white;}#sk-container-id-5 label.sk-toggleable__label {cursor: pointer;display: block;width: 100%;margin-bottom: 0;padding: 0.3em;box-sizing: border-box;text-align: center;}#sk-container-id-5 label.sk-toggleable__label-arrow:before {content: \"▸\";float: left;margin-right: 0.25em;color: #696969;}#sk-container-id-5 label.sk-toggleable__label-arrow:hover:before {color: black;}#sk-container-id-5 div.sk-estimator:hover label.sk-toggleable__label-arrow:before {color: black;}#sk-container-id-5 div.sk-toggleable__content {max-height: 0;max-width: 0;overflow: hidden;text-align: left;background-color: #f0f8ff;}#sk-container-id-5 div.sk-toggleable__content pre {margin: 0.2em;color: black;border-radius: 0.25em;background-color: #f0f8ff;}#sk-container-id-5 input.sk-toggleable__control:checked~div.sk-toggleable__content {max-height: 200px;max-width: 100%;overflow: auto;}#sk-container-id-5 input.sk-toggleable__control:checked~label.sk-toggleable__label-arrow:before {content: \"▾\";}#sk-container-id-5 div.sk-estimator input.sk-toggleable__control:checked~label.sk-toggleable__label {background-color: #d4ebff;}#sk-container-id-5 div.sk-label input.sk-toggleable__control:checked~label.sk-toggleable__label {background-color: #d4ebff;}#sk-container-id-5 input.sk-hidden--visually {border: 0;clip: rect(1px 1px 1px 1px);clip: rect(1px, 1px, 1px, 1px);height: 1px;margin: -1px;overflow: hidden;padding: 0;position: absolute;width: 1px;}#sk-container-id-5 div.sk-estimator {font-family: monospace;background-color: #f0f8ff;border: 1px dotted black;border-radius: 0.25em;box-sizing: border-box;margin-bottom: 0.5em;}#sk-container-id-5 div.sk-estimator:hover {background-color: #d4ebff;}#sk-container-id-5 div.sk-parallel-item::after {content: \"\";width: 100%;border-bottom: 1px solid gray;flex-grow: 1;}#sk-container-id-5 div.sk-label:hover label.sk-toggleable__label {background-color: #d4ebff;}#sk-container-id-5 div.sk-serial::before {content: \"\";position: absolute;border-left: 1px solid gray;box-sizing: border-box;top: 0;bottom: 0;left: 50%;z-index: 0;}#sk-container-id-5 div.sk-serial {display: flex;flex-direction: column;align-items: center;background-color: white;padding-right: 0.2em;padding-left: 0.2em;position: relative;}#sk-container-id-5 div.sk-item {position: relative;z-index: 1;}#sk-container-id-5 div.sk-parallel {display: flex;align-items: stretch;justify-content: center;background-color: white;position: relative;}#sk-container-id-5 div.sk-item::before, #sk-container-id-5 div.sk-parallel-item::before {content: \"\";position: absolute;border-left: 1px solid gray;box-sizing: border-box;top: 0;bottom: 0;left: 50%;z-index: -1;}#sk-container-id-5 div.sk-parallel-item {display: flex;flex-direction: column;z-index: 1;position: relative;background-color: white;}#sk-container-id-5 div.sk-parallel-item:first-child::after {align-self: flex-end;width: 50%;}#sk-container-id-5 div.sk-parallel-item:last-child::after {align-self: flex-start;width: 50%;}#sk-container-id-5 div.sk-parallel-item:only-child::after {width: 0;}#sk-container-id-5 div.sk-dashed-wrapped {border: 1px dashed gray;margin: 0 0.4em 0.5em 0.4em;box-sizing: border-box;padding-bottom: 0.4em;background-color: white;}#sk-container-id-5 div.sk-label label {font-family: monospace;font-weight: bold;display: inline-block;line-height: 1.2em;}#sk-container-id-5 div.sk-label-container {text-align: center;}#sk-container-id-5 div.sk-container {/* jupyter's `normalize.less` sets `[hidden] { display: none; }` but bootstrap.min.css set `[hidden] { display: none !important; }` so we also need the `!important` here to be able to override the default hidden behavior on the sphinx rendered scikit-learn.org. See: https://github.com/scikit-learn/scikit-learn/issues/21755 */display: inline-block !important;position: relative;}#sk-container-id-5 div.sk-text-repr-fallback {display: none;}</style><div id=\"sk-container-id-5\" class=\"sk-top-container\"><div class=\"sk-text-repr-fallback\"><pre>KNeighborsRegressor(metric=&#x27;euclidean&#x27;, n_jobs=-1, n_neighbors=67,\n",
       "                    weights=&#x27;distance&#x27;)</pre><b>In a Jupyter environment, please rerun this cell to show the HTML representation or trust the notebook. <br />On GitHub, the HTML representation is unable to render, please try loading this page with nbviewer.org.</b></div><div class=\"sk-container\" hidden><div class=\"sk-item\"><div class=\"sk-estimator sk-toggleable\"><input class=\"sk-toggleable__control sk-hidden--visually\" id=\"sk-estimator-id-5\" type=\"checkbox\" checked><label for=\"sk-estimator-id-5\" class=\"sk-toggleable__label sk-toggleable__label-arrow\">KNeighborsRegressor</label><div class=\"sk-toggleable__content\"><pre>KNeighborsRegressor(metric=&#x27;euclidean&#x27;, n_jobs=-1, n_neighbors=67,\n",
       "                    weights=&#x27;distance&#x27;)</pre></div></div></div></div></div>"
      ],
      "text/plain": [
       "KNeighborsRegressor(metric='euclidean', n_jobs=-1, n_neighbors=67,\n",
       "                    weights='distance')"
      ]
     },
     "execution_count": 75,
     "metadata": {},
     "output_type": "execute_result"
    }
   ],
   "source": [
    "# fit the model\n",
    "\n",
    "\n",
    "\n",
    "model.fit(trainX, trainY)\n"
   ]
  },
  {
   "cell_type": "code",
   "execution_count": null,
   "id": "329dff96",
   "metadata": {
    "execution": {
     "iopub.execute_input": "2024-11-30T21:58:26.122308Z",
     "iopub.status.busy": "2024-11-30T21:58:26.121988Z",
     "iopub.status.idle": "2024-11-30T22:01:15.604668Z",
     "shell.execute_reply": "2024-11-30T22:01:15.603342Z",
     "shell.execute_reply.started": "2024-11-30T21:58:26.122278Z"
    },
    "trusted": true
   },
   "outputs": [
    {
     "name": "stdout",
     "output_type": "stream",
     "text": [
      "model score:  0.9999985670685032\n"
     ]
    }
   ],
   "source": [
    "# display information regarding the regression\n",
    "\n",
    "\n",
    "\n",
    "print(\"model score: \", model.score(trainX, trainY))\n",
    "\n",
    "\n",
    "\n",
    "# print(\"model coefficient: \", model.coef_)\n",
    "\n",
    "\n",
    "\n",
    "# print(\"model intercept: \", model.intercept_)   \n"
   ]
  },
  {
   "cell_type": "code",
   "execution_count": null,
   "id": "8275492e",
   "metadata": {
    "execution": {
     "iopub.execute_input": "2024-11-30T22:01:15.606928Z",
     "iopub.status.busy": "2024-11-30T22:01:15.606441Z",
     "iopub.status.idle": "2024-11-30T22:02:27.408631Z",
     "shell.execute_reply": "2024-11-30T22:02:27.407392Z",
     "shell.execute_reply.started": "2024-11-30T22:01:15.606867Z"
    },
    "trusted": true
   },
   "outputs": [
    {
     "name": "stdout",
     "output_type": "stream",
     "text": [
      "successfully predicted\n",
      "starting to compute metrics\n",
      "Mean squared error: 167815929949379.91    \n",
      "Root Mean squared error: 12954378.79    \n",
      "Mean absolute error: 5813474.85    \n",
      "Coefficient of determination: 0.65     \n"
     ]
    }
   ],
   "source": [
    "# predict using this model USING PREDICT\n",
    "\n",
    "\n",
    "\n",
    "y_pred = model.predict(testX)\n",
    "\n",
    "\n",
    "\n",
    "print(\"successfully predicted\")\n",
    "\n",
    "\n",
    "\n",
    "metrics(y_pred, testY)\n"
   ]
  },
  {
   "cell_type": "code",
   "execution_count": null,
   "id": "f8ee212f",
   "metadata": {
    "execution": {
     "iopub.execute_input": "2024-11-30T22:02:27.410879Z",
     "iopub.status.busy": "2024-11-30T22:02:27.410409Z",
     "iopub.status.idle": "2024-11-30T22:02:27.416531Z",
     "shell.execute_reply": "2024-11-30T22:02:27.415352Z",
     "shell.execute_reply.started": "2024-11-30T22:02:27.410830Z"
    },
    "trusted": true
   },
   "outputs": [],
   "source": [
    "# # predict using thus model USING PREDICTPROBA\n",
    "\n",
    "\n",
    "\n",
    "# y_pred_proba = model.predict_proba(testX)[:, 1]\n",
    "\n",
    "\n",
    "\n",
    "# print(\"successfully predicted\")\n",
    "\n",
    "\n",
    "\n",
    "# metrics(y_pred_proba, testY)\n"
   ]
  },
  {
   "cell_type": "markdown",
   "id": "937ae370",
   "metadata": {
    "papermill": {
     "duration": 0.019827,
     "end_time": "2024-11-07T20:55:49.286324",
     "exception": false,
     "start_time": "2024-11-07T20:55:49.266497",
     "status": "completed"
    },
    "tags": []
   },
   "source": [
    "## predict for test dataset\n",
    "\n",
    "\n",
    "\n",
    "fit the model and predict for test dataset"
   ]
  },
  {
   "cell_type": "code",
   "execution_count": null,
   "id": "8f6eb5c2",
   "metadata": {
    "execution": {
     "iopub.execute_input": "2024-11-30T22:02:27.418514Z",
     "iopub.status.busy": "2024-11-30T22:02:27.418111Z",
     "iopub.status.idle": "2024-11-30T22:02:27.739064Z",
     "shell.execute_reply": "2024-11-30T22:02:27.737741Z",
     "shell.execute_reply.started": "2024-11-30T22:02:27.418471Z"
    },
    "papermill": {
     "duration": 2249.874308,
     "end_time": "2024-11-07T21:33:19.180774",
     "exception": false,
     "start_time": "2024-11-07T20:55:49.306466",
     "status": "completed"
    },
    "tags": [],
    "trusted": true
   },
   "outputs": [
    {
     "data": {
      "text/html": [
       "<style>#sk-container-id-6 {color: black;background-color: white;}#sk-container-id-6 pre{padding: 0;}#sk-container-id-6 div.sk-toggleable {background-color: white;}#sk-container-id-6 label.sk-toggleable__label {cursor: pointer;display: block;width: 100%;margin-bottom: 0;padding: 0.3em;box-sizing: border-box;text-align: center;}#sk-container-id-6 label.sk-toggleable__label-arrow:before {content: \"▸\";float: left;margin-right: 0.25em;color: #696969;}#sk-container-id-6 label.sk-toggleable__label-arrow:hover:before {color: black;}#sk-container-id-6 div.sk-estimator:hover label.sk-toggleable__label-arrow:before {color: black;}#sk-container-id-6 div.sk-toggleable__content {max-height: 0;max-width: 0;overflow: hidden;text-align: left;background-color: #f0f8ff;}#sk-container-id-6 div.sk-toggleable__content pre {margin: 0.2em;color: black;border-radius: 0.25em;background-color: #f0f8ff;}#sk-container-id-6 input.sk-toggleable__control:checked~div.sk-toggleable__content {max-height: 200px;max-width: 100%;overflow: auto;}#sk-container-id-6 input.sk-toggleable__control:checked~label.sk-toggleable__label-arrow:before {content: \"▾\";}#sk-container-id-6 div.sk-estimator input.sk-toggleable__control:checked~label.sk-toggleable__label {background-color: #d4ebff;}#sk-container-id-6 div.sk-label input.sk-toggleable__control:checked~label.sk-toggleable__label {background-color: #d4ebff;}#sk-container-id-6 input.sk-hidden--visually {border: 0;clip: rect(1px 1px 1px 1px);clip: rect(1px, 1px, 1px, 1px);height: 1px;margin: -1px;overflow: hidden;padding: 0;position: absolute;width: 1px;}#sk-container-id-6 div.sk-estimator {font-family: monospace;background-color: #f0f8ff;border: 1px dotted black;border-radius: 0.25em;box-sizing: border-box;margin-bottom: 0.5em;}#sk-container-id-6 div.sk-estimator:hover {background-color: #d4ebff;}#sk-container-id-6 div.sk-parallel-item::after {content: \"\";width: 100%;border-bottom: 1px solid gray;flex-grow: 1;}#sk-container-id-6 div.sk-label:hover label.sk-toggleable__label {background-color: #d4ebff;}#sk-container-id-6 div.sk-serial::before {content: \"\";position: absolute;border-left: 1px solid gray;box-sizing: border-box;top: 0;bottom: 0;left: 50%;z-index: 0;}#sk-container-id-6 div.sk-serial {display: flex;flex-direction: column;align-items: center;background-color: white;padding-right: 0.2em;padding-left: 0.2em;position: relative;}#sk-container-id-6 div.sk-item {position: relative;z-index: 1;}#sk-container-id-6 div.sk-parallel {display: flex;align-items: stretch;justify-content: center;background-color: white;position: relative;}#sk-container-id-6 div.sk-item::before, #sk-container-id-6 div.sk-parallel-item::before {content: \"\";position: absolute;border-left: 1px solid gray;box-sizing: border-box;top: 0;bottom: 0;left: 50%;z-index: -1;}#sk-container-id-6 div.sk-parallel-item {display: flex;flex-direction: column;z-index: 1;position: relative;background-color: white;}#sk-container-id-6 div.sk-parallel-item:first-child::after {align-self: flex-end;width: 50%;}#sk-container-id-6 div.sk-parallel-item:last-child::after {align-self: flex-start;width: 50%;}#sk-container-id-6 div.sk-parallel-item:only-child::after {width: 0;}#sk-container-id-6 div.sk-dashed-wrapped {border: 1px dashed gray;margin: 0 0.4em 0.5em 0.4em;box-sizing: border-box;padding-bottom: 0.4em;background-color: white;}#sk-container-id-6 div.sk-label label {font-family: monospace;font-weight: bold;display: inline-block;line-height: 1.2em;}#sk-container-id-6 div.sk-label-container {text-align: center;}#sk-container-id-6 div.sk-container {/* jupyter's `normalize.less` sets `[hidden] { display: none; }` but bootstrap.min.css set `[hidden] { display: none !important; }` so we also need the `!important` here to be able to override the default hidden behavior on the sphinx rendered scikit-learn.org. See: https://github.com/scikit-learn/scikit-learn/issues/21755 */display: inline-block !important;position: relative;}#sk-container-id-6 div.sk-text-repr-fallback {display: none;}</style><div id=\"sk-container-id-6\" class=\"sk-top-container\"><div class=\"sk-text-repr-fallback\"><pre>KNeighborsRegressor(metric=&#x27;euclidean&#x27;, n_jobs=-1, n_neighbors=67,\n",
       "                    weights=&#x27;distance&#x27;)</pre><b>In a Jupyter environment, please rerun this cell to show the HTML representation or trust the notebook. <br />On GitHub, the HTML representation is unable to render, please try loading this page with nbviewer.org.</b></div><div class=\"sk-container\" hidden><div class=\"sk-item\"><div class=\"sk-estimator sk-toggleable\"><input class=\"sk-toggleable__control sk-hidden--visually\" id=\"sk-estimator-id-6\" type=\"checkbox\" checked><label for=\"sk-estimator-id-6\" class=\"sk-toggleable__label sk-toggleable__label-arrow\">KNeighborsRegressor</label><div class=\"sk-toggleable__content\"><pre>KNeighborsRegressor(metric=&#x27;euclidean&#x27;, n_jobs=-1, n_neighbors=67,\n",
       "                    weights=&#x27;distance&#x27;)</pre></div></div></div></div></div>"
      ],
      "text/plain": [
       "KNeighborsRegressor(metric='euclidean', n_jobs=-1, n_neighbors=67,\n",
       "                    weights='distance')"
      ]
     },
     "execution_count": 79,
     "metadata": {},
     "output_type": "execute_result"
    }
   ],
   "source": [
    "model.fit(X, Y)\n"
   ]
  },
  {
   "cell_type": "code",
   "execution_count": null,
   "id": "f18c11b3",
   "metadata": {
    "execution": {
     "iopub.execute_input": "2024-11-30T22:02:27.741174Z",
     "iopub.status.busy": "2024-11-30T22:02:27.740692Z",
     "iopub.status.idle": "2024-11-30T22:08:07.273195Z",
     "shell.execute_reply": "2024-11-30T22:08:07.271921Z",
     "shell.execute_reply.started": "2024-11-30T22:02:27.741125Z"
    },
    "trusted": true
   },
   "outputs": [
    {
     "name": "stdout",
     "output_type": "stream",
     "text": [
      "model score:  0.9999973414753984     \n"
     ]
    }
   ],
   "source": [
    "# display information regarding the regression\n",
    "\n",
    "\n",
    "\n",
    "print(\"model score: \", model.score(X, Y), \"    \")\n",
    "\n",
    "\n",
    "\n",
    "# print(\"model coefficient: \", model.coef_)\n",
    "\n",
    "\n",
    "\n",
    "# print(\"model intercept: \", model.intercept_)\n"
   ]
  },
  {
   "cell_type": "code",
   "execution_count": null,
   "id": "e9c93967",
   "metadata": {
    "execution": {
     "iopub.execute_input": "2024-11-30T22:20:06.104279Z",
     "iopub.status.busy": "2024-11-30T22:20:06.103766Z",
     "iopub.status.idle": "2024-11-30T22:22:38.090374Z",
     "shell.execute_reply": "2024-11-30T22:22:38.089050Z",
     "shell.execute_reply.started": "2024-11-30T22:20:06.104238Z"
    },
    "papermill": {
     "duration": 774.78282,
     "end_time": "2024-11-07T21:46:13.986713",
     "exception": false,
     "start_time": "2024-11-07T21:33:19.203893",
     "status": "completed"
    },
    "tags": [],
    "trusted": true
   },
   "outputs": [
    {
     "name": "stdout",
     "output_type": "stream",
     "text": [
      "[10711637.17736433  6059099.56704214  5570780.55480924 ...\n",
      "  3480000.          3480000.          3480000.        ]\n"
     ]
    }
   ],
   "source": [
    "test_prediction = model.predict(test_data.drop(columns=['price_doc']))\n",
    "\n",
    "\n",
    "\n",
    "\n",
    "\n",
    "\n",
    "\n",
    "# test_prediction=test_prediction[:, 1]\n",
    "\n",
    "\n",
    "\n",
    "\n",
    "\n",
    "\n",
    "\n",
    "print(test_prediction)\n"
   ]
  },
  {
   "cell_type": "markdown",
   "id": "98c8bfcf",
   "metadata": {
    "papermill": {
     "duration": 0.02242,
     "end_time": "2024-11-07T21:46:14.032429",
     "exception": false,
     "start_time": "2024-11-07T21:46:14.010009",
     "status": "completed"
    },
    "tags": []
   },
   "source": [
    "## write into csv\n",
    "\n",
    "\n",
    "\n",
    "now we write the predictions into the csv file"
   ]
  },
  {
   "cell_type": "code",
   "execution_count": null,
   "id": "e0573bfc",
   "metadata": {
    "execution": {
     "iopub.execute_input": "2024-11-30T22:22:38.092739Z",
     "iopub.status.busy": "2024-11-30T22:22:38.092387Z",
     "iopub.status.idle": "2024-11-30T22:22:38.390230Z",
     "shell.execute_reply": "2024-11-30T22:22:38.388980Z",
     "shell.execute_reply.started": "2024-11-30T22:22:38.092707Z"
    },
    "papermill": {
     "duration": 0.455346,
     "end_time": "2024-11-07T21:46:14.510398",
     "exception": false,
     "start_time": "2024-11-07T21:46:14.055052",
     "status": "completed"
    },
    "tags": [],
    "trusted": true
   },
   "outputs": [
    {
     "data": {
      "text/html": [
       "<div>\n",
       "<style scoped>\n",
       "    .dataframe tbody tr th:only-of-type {\n",
       "        vertical-align: middle;\n",
       "    }\n",
       "\n",
       "    .dataframe tbody tr th {\n",
       "        vertical-align: top;\n",
       "    }\n",
       "\n",
       "    .dataframe thead th {\n",
       "        text-align: right;\n",
       "    }\n",
       "</style>\n",
       "<table border=\"1\" class=\"dataframe\">\n",
       "  <thead>\n",
       "    <tr style=\"text-align: right;\">\n",
       "      <th></th>\n",
       "      <th>row ID</th>\n",
       "      <th>price_doc</th>\n",
       "    </tr>\n",
       "  </thead>\n",
       "  <tbody>\n",
       "    <tr>\n",
       "      <th>0</th>\n",
       "      <td>Row3</td>\n",
       "      <td>1.071164e+07</td>\n",
       "    </tr>\n",
       "    <tr>\n",
       "      <th>1</th>\n",
       "      <td>Row6</td>\n",
       "      <td>6.059100e+06</td>\n",
       "    </tr>\n",
       "    <tr>\n",
       "      <th>2</th>\n",
       "      <td>Row11</td>\n",
       "      <td>5.570781e+06</td>\n",
       "    </tr>\n",
       "    <tr>\n",
       "      <th>3</th>\n",
       "      <td>Row12</td>\n",
       "      <td>7.167149e+06</td>\n",
       "    </tr>\n",
       "    <tr>\n",
       "      <th>4</th>\n",
       "      <td>Row14</td>\n",
       "      <td>5.397304e+06</td>\n",
       "    </tr>\n",
       "    <tr>\n",
       "      <th>...</th>\n",
       "      <td>...</td>\n",
       "      <td>...</td>\n",
       "    </tr>\n",
       "    <tr>\n",
       "      <th>77784</th>\n",
       "      <td>Row18591dupl_228801</td>\n",
       "      <td>5.622014e+07</td>\n",
       "    </tr>\n",
       "    <tr>\n",
       "      <th>77785</th>\n",
       "      <td>Row18591dupl_228803</td>\n",
       "      <td>5.257353e+07</td>\n",
       "    </tr>\n",
       "    <tr>\n",
       "      <th>77786</th>\n",
       "      <td>Row18591dupl_228814</td>\n",
       "      <td>3.480000e+06</td>\n",
       "    </tr>\n",
       "    <tr>\n",
       "      <th>77787</th>\n",
       "      <td>Row18591dupl_228817</td>\n",
       "      <td>3.480000e+06</td>\n",
       "    </tr>\n",
       "    <tr>\n",
       "      <th>77788</th>\n",
       "      <td>Row18591dupl_228821</td>\n",
       "      <td>3.480000e+06</td>\n",
       "    </tr>\n",
       "  </tbody>\n",
       "</table>\n",
       "<p>77789 rows × 2 columns</p>\n",
       "</div>"
      ],
      "text/plain": [
       "                    row ID     price_doc\n",
       "0                     Row3  1.071164e+07\n",
       "1                     Row6  6.059100e+06\n",
       "2                    Row11  5.570781e+06\n",
       "3                    Row12  7.167149e+06\n",
       "4                    Row14  5.397304e+06\n",
       "...                    ...           ...\n",
       "77784  Row18591dupl_228801  5.622014e+07\n",
       "77785  Row18591dupl_228803  5.257353e+07\n",
       "77786  Row18591dupl_228814  3.480000e+06\n",
       "77787  Row18591dupl_228817  3.480000e+06\n",
       "77788  Row18591dupl_228821  3.480000e+06\n",
       "\n",
       "[77789 rows x 2 columns]"
      ]
     },
     "execution_count": 83,
     "metadata": {},
     "output_type": "execute_result"
    }
   ],
   "source": [
    "sample_data = pd.read_csv(r\"/kaggle/input/challenge2/sample_submission.csv\")\n",
    "\n",
    "\n",
    "\n",
    "\n",
    "\n",
    "\n",
    "\n",
    "sample_data['price_doc'] = test_prediction\n",
    "\n",
    "\n",
    "\n",
    "sample_data\n",
    "\n",
    "\n",
    "\n",
    "\n",
    "\n",
    "\n",
    "\n",
    "sample_data.to_csv(r\"/kaggle/working/knn1.csv\", index=False)\n",
    "\n",
    "\n",
    "\n",
    "sample_data\n"
   ]
  },
  {
   "cell_type": "code",
   "execution_count": null,
   "id": "a1702bc8-49ad-498d-b593-d54f811d9992",
   "metadata": {
    "execution": {
     "iopub.execute_input": "2024-11-30T22:22:38.392170Z",
     "iopub.status.busy": "2024-11-30T22:22:38.391695Z",
     "iopub.status.idle": "2024-11-30T22:22:38.401147Z",
     "shell.execute_reply": "2024-11-30T22:22:38.399997Z",
     "shell.execute_reply.started": "2024-11-30T22:22:38.392122Z"
    },
    "papermill": {
     "duration": 0.053693,
     "end_time": "2024-11-07T21:46:14.588137",
     "exception": false,
     "start_time": "2024-11-07T21:46:14.534444",
     "status": "completed"
    },
    "tags": [],
    "trusted": true
   },
   "outputs": [
    {
     "data": {
      "text/html": [
       "<style>#sk-container-id-7 {color: black;background-color: white;}#sk-container-id-7 pre{padding: 0;}#sk-container-id-7 div.sk-toggleable {background-color: white;}#sk-container-id-7 label.sk-toggleable__label {cursor: pointer;display: block;width: 100%;margin-bottom: 0;padding: 0.3em;box-sizing: border-box;text-align: center;}#sk-container-id-7 label.sk-toggleable__label-arrow:before {content: \"▸\";float: left;margin-right: 0.25em;color: #696969;}#sk-container-id-7 label.sk-toggleable__label-arrow:hover:before {color: black;}#sk-container-id-7 div.sk-estimator:hover label.sk-toggleable__label-arrow:before {color: black;}#sk-container-id-7 div.sk-toggleable__content {max-height: 0;max-width: 0;overflow: hidden;text-align: left;background-color: #f0f8ff;}#sk-container-id-7 div.sk-toggleable__content pre {margin: 0.2em;color: black;border-radius: 0.25em;background-color: #f0f8ff;}#sk-container-id-7 input.sk-toggleable__control:checked~div.sk-toggleable__content {max-height: 200px;max-width: 100%;overflow: auto;}#sk-container-id-7 input.sk-toggleable__control:checked~label.sk-toggleable__label-arrow:before {content: \"▾\";}#sk-container-id-7 div.sk-estimator input.sk-toggleable__control:checked~label.sk-toggleable__label {background-color: #d4ebff;}#sk-container-id-7 div.sk-label input.sk-toggleable__control:checked~label.sk-toggleable__label {background-color: #d4ebff;}#sk-container-id-7 input.sk-hidden--visually {border: 0;clip: rect(1px 1px 1px 1px);clip: rect(1px, 1px, 1px, 1px);height: 1px;margin: -1px;overflow: hidden;padding: 0;position: absolute;width: 1px;}#sk-container-id-7 div.sk-estimator {font-family: monospace;background-color: #f0f8ff;border: 1px dotted black;border-radius: 0.25em;box-sizing: border-box;margin-bottom: 0.5em;}#sk-container-id-7 div.sk-estimator:hover {background-color: #d4ebff;}#sk-container-id-7 div.sk-parallel-item::after {content: \"\";width: 100%;border-bottom: 1px solid gray;flex-grow: 1;}#sk-container-id-7 div.sk-label:hover label.sk-toggleable__label {background-color: #d4ebff;}#sk-container-id-7 div.sk-serial::before {content: \"\";position: absolute;border-left: 1px solid gray;box-sizing: border-box;top: 0;bottom: 0;left: 50%;z-index: 0;}#sk-container-id-7 div.sk-serial {display: flex;flex-direction: column;align-items: center;background-color: white;padding-right: 0.2em;padding-left: 0.2em;position: relative;}#sk-container-id-7 div.sk-item {position: relative;z-index: 1;}#sk-container-id-7 div.sk-parallel {display: flex;align-items: stretch;justify-content: center;background-color: white;position: relative;}#sk-container-id-7 div.sk-item::before, #sk-container-id-7 div.sk-parallel-item::before {content: \"\";position: absolute;border-left: 1px solid gray;box-sizing: border-box;top: 0;bottom: 0;left: 50%;z-index: -1;}#sk-container-id-7 div.sk-parallel-item {display: flex;flex-direction: column;z-index: 1;position: relative;background-color: white;}#sk-container-id-7 div.sk-parallel-item:first-child::after {align-self: flex-end;width: 50%;}#sk-container-id-7 div.sk-parallel-item:last-child::after {align-self: flex-start;width: 50%;}#sk-container-id-7 div.sk-parallel-item:only-child::after {width: 0;}#sk-container-id-7 div.sk-dashed-wrapped {border: 1px dashed gray;margin: 0 0.4em 0.5em 0.4em;box-sizing: border-box;padding-bottom: 0.4em;background-color: white;}#sk-container-id-7 div.sk-label label {font-family: monospace;font-weight: bold;display: inline-block;line-height: 1.2em;}#sk-container-id-7 div.sk-label-container {text-align: center;}#sk-container-id-7 div.sk-container {/* jupyter's `normalize.less` sets `[hidden] { display: none; }` but bootstrap.min.css set `[hidden] { display: none !important; }` so we also need the `!important` here to be able to override the default hidden behavior on the sphinx rendered scikit-learn.org. See: https://github.com/scikit-learn/scikit-learn/issues/21755 */display: inline-block !important;position: relative;}#sk-container-id-7 div.sk-text-repr-fallback {display: none;}</style><div id=\"sk-container-id-7\" class=\"sk-top-container\"><div class=\"sk-text-repr-fallback\"><pre>KNeighborsRegressor(metric=&#x27;euclidean&#x27;, n_jobs=-1, n_neighbors=67,\n",
       "                    weights=&#x27;distance&#x27;)</pre><b>In a Jupyter environment, please rerun this cell to show the HTML representation or trust the notebook. <br />On GitHub, the HTML representation is unable to render, please try loading this page with nbviewer.org.</b></div><div class=\"sk-container\" hidden><div class=\"sk-item\"><div class=\"sk-estimator sk-toggleable\"><input class=\"sk-toggleable__control sk-hidden--visually\" id=\"sk-estimator-id-7\" type=\"checkbox\" checked><label for=\"sk-estimator-id-7\" class=\"sk-toggleable__label sk-toggleable__label-arrow\">KNeighborsRegressor</label><div class=\"sk-toggleable__content\"><pre>KNeighborsRegressor(metric=&#x27;euclidean&#x27;, n_jobs=-1, n_neighbors=67,\n",
       "                    weights=&#x27;distance&#x27;)</pre></div></div></div></div></div>"
      ],
      "text/plain": [
       "KNeighborsRegressor(metric='euclidean', n_jobs=-1, n_neighbors=67,\n",
       "                    weights='distance')"
      ]
     },
     "execution_count": 84,
     "metadata": {},
     "output_type": "execute_result"
    }
   ],
   "source": [
    "model\n"
   ]
  }
 ],
 "metadata": {
  "kaggle": {
   "accelerator": "none",
   "dataSources": [
    {
     "datasetId": 6034234,
     "sourceId": 9837068,
     "sourceType": "datasetVersion"
    },
    {
     "datasetId": 6034286,
     "sourceId": 9837128,
     "sourceType": "datasetVersion"
    },
    {
     "datasetId": 6164648,
     "sourceId": 10013045,
     "sourceType": "datasetVersion"
    }
   ],
   "dockerImageVersionId": 30786,
   "isGpuEnabled": false,
   "isInternetEnabled": true,
   "language": "python",
   "sourceType": "notebook"
  },
  "kernelspec": {
   "display_name": "Python 3",
   "language": "python",
   "name": "python3"
  },
  "language_info": {
   "codemirror_mode": {
    "name": "ipython",
    "version": 3
   },
   "file_extension": ".py",
   "mimetype": "text/x-python",
   "name": "python",
   "nbconvert_exporter": "python",
   "pygments_lexer": "ipython3",
   "version": "3.12.7"
  },
  "papermill": {
   "default_parameters": {},
   "duration": 5193.546342,
   "end_time": "2024-11-07T21:46:17.332142",
   "environment_variables": {},
   "exception": null,
   "input_path": "__notebook__.ipynb",
   "output_path": "__notebook__.ipynb",
   "parameters": {},
   "start_time": "2024-11-07T20:19:43.785800",
   "version": "2.6.0"
  }
 },
 "nbformat": 4,
 "nbformat_minor": 5
}
