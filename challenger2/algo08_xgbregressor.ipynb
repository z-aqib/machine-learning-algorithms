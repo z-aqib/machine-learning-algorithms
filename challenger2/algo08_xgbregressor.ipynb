{
 "cells": [
  {
   "cell_type": "markdown",
   "metadata": {
    "papermill": {
     "duration": 0.013014,
     "end_time": "2024-11-07T20:19:46.538794",
     "exception": false,
     "start_time": "2024-11-07T20:19:46.525780",
     "status": "completed"
    },
    "tags": []
   },
   "source": [
    "# Importing Libraries\n",
    "in this part we will install all the necessary libraries on command prompt and then import the necessary functions from those libraries. "
   ]
  },
  {
   "cell_type": "code",
   "execution_count": 28,
   "id": "bd54b756",
   "metadata": {
    "execution": {
     "iopub.execute_input": "2024-11-09T20:34:42.226484Z",
     "iopub.status.busy": "2024-11-09T20:34:42.226112Z",
     "iopub.status.idle": "2024-11-09T20:34:46.885029Z",
     "shell.execute_reply": "2024-11-09T20:34:46.884194Z",
     "shell.execute_reply.started": "2024-11-09T20:34:42.226445Z"
    },
    "papermill": {
     "duration": 5.853121,
     "end_time": "2024-11-07T20:19:52.405091",
     "exception": false,
     "start_time": "2024-11-07T20:19:46.551970",
     "status": "completed"
    },
    "tags": [],
    "trusted": true
   },
   "outputs": [],
   "source": [
    "# importing all the necessary libraries\n",
    "import pandas as pd\n",
    "\n",
    "from numpy import mean\n",
    "import numpy as np\n",
    "import time\n",
    "\n",
    "# step 1: preprocessing\n",
    "from sklearn.impute import SimpleImputer # import some strategic imputer to fill in any missing values using mean\n",
    "from sklearn.preprocessing import MinMaxScaler, StandardScaler, MaxAbsScaler, RobustScaler, Normalizer # scale all the values to one range to avoid any biasness (this bias is seen in mostly naive bayes and knn etc)\n",
    "\n",
    "from sklearn.impute import KNNImputer # import some strategic imputer to fill missing values using KNN (finds the nearest neighbour and fills it with that value)\n",
    "\n",
    "from sklearn.feature_selection import SequentialFeatureSelector, SelectKBest, f_classif, VarianceThreshold\n",
    "from sklearn.feature_selection import f_regression\n",
    "from sklearn.decomposition import PCA\n",
    "from sklearn.compose import ColumnTransformer\n",
    "from sklearn.preprocessing import PolynomialFeatures, OneHotEncoder\n",
    "from sklearn.pipeline import Pipeline\n",
    "from sklearn.linear_model import Ridge, Lasso\n",
    "\n",
    "# step 2: data division\n",
    "from sklearn.model_selection import train_test_split, RepeatedKFold, cross_val_score, GridSearchCV, ParameterGrid # to divide the code into train/test using a specific percentage or with/without replacement\n",
    "\n",
    "# step 3: model\n",
    "from xgboost import XGBRegressor\n",
    "\n",
    "# step 4: displaying accuracy\n",
    "from sklearn.metrics import roc_auc_score, accuracy_score # to display the accuracy of our tree\n",
    "from sklearn.metrics import mean_squared_error, r2_score, mean_absolute_error, make_scorer\n",
    "\n",
    "# step 5: warning filter\n",
    "import warnings\n",
    "warnings.filterwarnings('ignore')"
   ]
  },
  {
   "cell_type": "code",
   "execution_count": 29,
   "id": "18014263",
   "metadata": {},
   "outputs": [],
   "source": [
    "from datetime import datetime\n",
    "\n",
    "# Function to get current date and time as a string\n",
    "def get_current_datetime():\n",
    "    return datetime.now().strftime(\"%Y-%m-%d %H:%M:%S\")"
   ]
  },
  {
   "cell_type": "markdown",
   "id": "3912ca3f",
   "metadata": {
    "papermill": {
     "duration": 0.011237,
     "end_time": "2024-11-07T20:19:52.458899",
     "exception": false,
     "start_time": "2024-11-07T20:19:52.447662",
     "status": "completed"
    },
    "tags": []
   },
   "source": [
    "# Data Loading\n",
    "data shall be loaded into variables as data sets using pandas and csv readers. they will be checked to see if they are loaded properly and will be loaded as 2 sets: train and test as per given in the kaggle data"
   ]
  },
  {
   "cell_type": "code",
   "execution_count": 30,
   "id": "d9125e82",
   "metadata": {
    "execution": {
     "iopub.execute_input": "2024-11-09T20:34:46.893155Z",
     "iopub.status.busy": "2024-11-09T20:34:46.892527Z",
     "iopub.status.idle": "2024-11-09T20:34:51.243865Z",
     "shell.execute_reply": "2024-11-09T20:34:51.242855Z",
     "shell.execute_reply.started": "2024-11-09T20:34:46.893109Z"
    },
    "papermill": {
     "duration": 4.591761,
     "end_time": "2024-11-07T20:19:57.062353",
     "exception": false,
     "start_time": "2024-11-07T20:19:52.470592",
     "status": "completed"
    },
    "tags": [],
    "trusted": true
   },
   "outputs": [
    {
     "data": {
      "text/html": [
       "<div>\n",
       "<style scoped>\n",
       "    .dataframe tbody tr th:only-of-type {\n",
       "        vertical-align: middle;\n",
       "    }\n",
       "\n",
       "    .dataframe tbody tr th {\n",
       "        vertical-align: top;\n",
       "    }\n",
       "\n",
       "    .dataframe thead th {\n",
       "        text-align: right;\n",
       "    }\n",
       "</style>\n",
       "<table border=\"1\" class=\"dataframe\">\n",
       "  <thead>\n",
       "    <tr style=\"text-align: right;\">\n",
       "      <th></th>\n",
       "      <th>full_sq</th>\n",
       "      <th>life_sq</th>\n",
       "      <th>floor</th>\n",
       "      <th>product_type</th>\n",
       "      <th>sub_area</th>\n",
       "      <th>area_m</th>\n",
       "      <th>raion_popul</th>\n",
       "      <th>green_zone_part</th>\n",
       "      <th>indust_part</th>\n",
       "      <th>children_preschool</th>\n",
       "      <th>...</th>\n",
       "      <th>cafe_count_5000_price_2500</th>\n",
       "      <th>cafe_count_5000_price_4000</th>\n",
       "      <th>cafe_count_5000_price_high</th>\n",
       "      <th>big_church_count_5000</th>\n",
       "      <th>church_count_5000</th>\n",
       "      <th>mosque_count_5000</th>\n",
       "      <th>leisure_count_5000</th>\n",
       "      <th>sport_count_5000</th>\n",
       "      <th>market_count_5000</th>\n",
       "      <th>price_doc</th>\n",
       "    </tr>\n",
       "  </thead>\n",
       "  <tbody>\n",
       "    <tr>\n",
       "      <th>0</th>\n",
       "      <td>43.0</td>\n",
       "      <td>27.0</td>\n",
       "      <td>4.0</td>\n",
       "      <td>Investment</td>\n",
       "      <td>Bibirevo</td>\n",
       "      <td>6407578.100</td>\n",
       "      <td>155572.0</td>\n",
       "      <td>0.189727</td>\n",
       "      <td>0.000070</td>\n",
       "      <td>9576.0</td>\n",
       "      <td>...</td>\n",
       "      <td>9.0</td>\n",
       "      <td>4.0</td>\n",
       "      <td>0.0</td>\n",
       "      <td>13.0</td>\n",
       "      <td>22.0</td>\n",
       "      <td>1.0</td>\n",
       "      <td>0.0</td>\n",
       "      <td>52.0</td>\n",
       "      <td>4.0</td>\n",
       "      <td>5850000.0</td>\n",
       "    </tr>\n",
       "    <tr>\n",
       "      <th>1</th>\n",
       "      <td>34.0</td>\n",
       "      <td>19.0</td>\n",
       "      <td>3.0</td>\n",
       "      <td>Investment</td>\n",
       "      <td>Nagatinskij Zaton</td>\n",
       "      <td>9589336.912</td>\n",
       "      <td>115352.0</td>\n",
       "      <td>0.372602</td>\n",
       "      <td>0.049637</td>\n",
       "      <td>6880.0</td>\n",
       "      <td>...</td>\n",
       "      <td>15.0</td>\n",
       "      <td>3.0</td>\n",
       "      <td>0.0</td>\n",
       "      <td>15.0</td>\n",
       "      <td>29.0</td>\n",
       "      <td>1.0</td>\n",
       "      <td>10.0</td>\n",
       "      <td>66.0</td>\n",
       "      <td>14.0</td>\n",
       "      <td>6000000.0</td>\n",
       "    </tr>\n",
       "    <tr>\n",
       "      <th>2</th>\n",
       "      <td>43.0</td>\n",
       "      <td>29.0</td>\n",
       "      <td>2.0</td>\n",
       "      <td>Investment</td>\n",
       "      <td>Tekstil'shhiki</td>\n",
       "      <td>4808269.831</td>\n",
       "      <td>101708.0</td>\n",
       "      <td>0.112560</td>\n",
       "      <td>0.118537</td>\n",
       "      <td>5879.0</td>\n",
       "      <td>...</td>\n",
       "      <td>10.0</td>\n",
       "      <td>3.0</td>\n",
       "      <td>0.0</td>\n",
       "      <td>11.0</td>\n",
       "      <td>27.0</td>\n",
       "      <td>0.0</td>\n",
       "      <td>4.0</td>\n",
       "      <td>67.0</td>\n",
       "      <td>10.0</td>\n",
       "      <td>5700000.0</td>\n",
       "    </tr>\n",
       "    <tr>\n",
       "      <th>3</th>\n",
       "      <td>77.0</td>\n",
       "      <td>77.0</td>\n",
       "      <td>4.0</td>\n",
       "      <td>Investment</td>\n",
       "      <td>Basmannoe</td>\n",
       "      <td>8398460.622</td>\n",
       "      <td>108171.0</td>\n",
       "      <td>0.015234</td>\n",
       "      <td>0.037316</td>\n",
       "      <td>5706.0</td>\n",
       "      <td>...</td>\n",
       "      <td>319.0</td>\n",
       "      <td>108.0</td>\n",
       "      <td>17.0</td>\n",
       "      <td>135.0</td>\n",
       "      <td>236.0</td>\n",
       "      <td>2.0</td>\n",
       "      <td>91.0</td>\n",
       "      <td>195.0</td>\n",
       "      <td>14.0</td>\n",
       "      <td>16331452.0</td>\n",
       "    </tr>\n",
       "    <tr>\n",
       "      <th>4</th>\n",
       "      <td>67.0</td>\n",
       "      <td>46.0</td>\n",
       "      <td>14.0</td>\n",
       "      <td>Investment</td>\n",
       "      <td>Nizhegorodskoe</td>\n",
       "      <td>7506452.020</td>\n",
       "      <td>43795.0</td>\n",
       "      <td>0.007670</td>\n",
       "      <td>0.486246</td>\n",
       "      <td>2418.0</td>\n",
       "      <td>...</td>\n",
       "      <td>62.0</td>\n",
       "      <td>14.0</td>\n",
       "      <td>1.0</td>\n",
       "      <td>53.0</td>\n",
       "      <td>78.0</td>\n",
       "      <td>1.0</td>\n",
       "      <td>20.0</td>\n",
       "      <td>113.0</td>\n",
       "      <td>17.0</td>\n",
       "      <td>9100000.0</td>\n",
       "    </tr>\n",
       "  </tbody>\n",
       "</table>\n",
       "<p>5 rows × 272 columns</p>\n",
       "</div>"
      ],
      "text/plain": [
       "   full_sq  life_sq  floor product_type           sub_area       area_m  \\\n",
       "0     43.0     27.0    4.0   Investment           Bibirevo  6407578.100   \n",
       "1     34.0     19.0    3.0   Investment  Nagatinskij Zaton  9589336.912   \n",
       "2     43.0     29.0    2.0   Investment     Tekstil'shhiki  4808269.831   \n",
       "3     77.0     77.0    4.0   Investment          Basmannoe  8398460.622   \n",
       "4     67.0     46.0   14.0   Investment     Nizhegorodskoe  7506452.020   \n",
       "\n",
       "   raion_popul  green_zone_part  indust_part  children_preschool  ...  \\\n",
       "0     155572.0         0.189727     0.000070              9576.0  ...   \n",
       "1     115352.0         0.372602     0.049637              6880.0  ...   \n",
       "2     101708.0         0.112560     0.118537              5879.0  ...   \n",
       "3     108171.0         0.015234     0.037316              5706.0  ...   \n",
       "4      43795.0         0.007670     0.486246              2418.0  ...   \n",
       "\n",
       "   cafe_count_5000_price_2500  cafe_count_5000_price_4000  \\\n",
       "0                         9.0                         4.0   \n",
       "1                        15.0                         3.0   \n",
       "2                        10.0                         3.0   \n",
       "3                       319.0                       108.0   \n",
       "4                        62.0                        14.0   \n",
       "\n",
       "   cafe_count_5000_price_high  big_church_count_5000  church_count_5000  \\\n",
       "0                         0.0                   13.0               22.0   \n",
       "1                         0.0                   15.0               29.0   \n",
       "2                         0.0                   11.0               27.0   \n",
       "3                        17.0                  135.0              236.0   \n",
       "4                         1.0                   53.0               78.0   \n",
       "\n",
       "   mosque_count_5000  leisure_count_5000  sport_count_5000 market_count_5000  \\\n",
       "0                1.0                 0.0              52.0               4.0   \n",
       "1                1.0                10.0              66.0              14.0   \n",
       "2                0.0                 4.0              67.0              10.0   \n",
       "3                2.0                91.0             195.0              14.0   \n",
       "4                1.0                20.0             113.0              17.0   \n",
       "\n",
       "    price_doc  \n",
       "0   5850000.0  \n",
       "1   6000000.0  \n",
       "2   5700000.0  \n",
       "3  16331452.0  \n",
       "4   9100000.0  \n",
       "\n",
       "[5 rows x 272 columns]"
      ]
     },
     "execution_count": 30,
     "metadata": {},
     "output_type": "execute_result"
    }
   ],
   "source": [
    "# lets load the training data set\n",
    "train_data = pd.read_csv(r\"D:\\Users\\DELL\\OneDrive - Institute of Business Administration\\IBA\\sem5\\machine learning\\ipynb notebooks\\challenger2\\iml-fall-2024-challenge-2\\train\\train.csv\")\n",
    "\n",
    "# lets also check it by getting the first few rows of the data, there should be x1 - x78 and one target variable Y\n",
    "train_data.head() "
   ]
  },
  {
   "cell_type": "code",
   "execution_count": 31,
   "id": "01f55297",
   "metadata": {
    "execution": {
     "iopub.execute_input": "2024-11-09T20:34:51.246483Z",
     "iopub.status.busy": "2024-11-09T20:34:51.246159Z",
     "iopub.status.idle": "2024-11-09T20:34:53.028096Z",
     "shell.execute_reply": "2024-11-09T20:34:53.027152Z",
     "shell.execute_reply.started": "2024-11-09T20:34:51.246449Z"
    },
    "papermill": {
     "duration": 1.948205,
     "end_time": "2024-11-07T20:19:59.023969",
     "exception": false,
     "start_time": "2024-11-07T20:19:57.075764",
     "status": "completed"
    },
    "tags": [],
    "trusted": true
   },
   "outputs": [
    {
     "data": {
      "text/html": [
       "<div>\n",
       "<style scoped>\n",
       "    .dataframe tbody tr th:only-of-type {\n",
       "        vertical-align: middle;\n",
       "    }\n",
       "\n",
       "    .dataframe tbody tr th {\n",
       "        vertical-align: top;\n",
       "    }\n",
       "\n",
       "    .dataframe thead th {\n",
       "        text-align: right;\n",
       "    }\n",
       "</style>\n",
       "<table border=\"1\" class=\"dataframe\">\n",
       "  <thead>\n",
       "    <tr style=\"text-align: right;\">\n",
       "      <th></th>\n",
       "      <th>row ID</th>\n",
       "      <th>full_sq</th>\n",
       "      <th>life_sq</th>\n",
       "      <th>floor</th>\n",
       "      <th>product_type</th>\n",
       "      <th>sub_area</th>\n",
       "      <th>area_m</th>\n",
       "      <th>raion_popul</th>\n",
       "      <th>green_zone_part</th>\n",
       "      <th>indust_part</th>\n",
       "      <th>...</th>\n",
       "      <th>cafe_count_5000_price_1500</th>\n",
       "      <th>cafe_count_5000_price_2500</th>\n",
       "      <th>cafe_count_5000_price_4000</th>\n",
       "      <th>cafe_count_5000_price_high</th>\n",
       "      <th>big_church_count_5000</th>\n",
       "      <th>church_count_5000</th>\n",
       "      <th>mosque_count_5000</th>\n",
       "      <th>leisure_count_5000</th>\n",
       "      <th>sport_count_5000</th>\n",
       "      <th>market_count_5000</th>\n",
       "    </tr>\n",
       "  </thead>\n",
       "  <tbody>\n",
       "    <tr>\n",
       "      <th>0</th>\n",
       "      <td>Row3</td>\n",
       "      <td>89.0</td>\n",
       "      <td>50.0</td>\n",
       "      <td>9.0</td>\n",
       "      <td>Investment</td>\n",
       "      <td>Mitino</td>\n",
       "      <td>1.258354e+07</td>\n",
       "      <td>178473.0</td>\n",
       "      <td>0.194703</td>\n",
       "      <td>0.069753</td>\n",
       "      <td>...</td>\n",
       "      <td>15.0</td>\n",
       "      <td>11.0</td>\n",
       "      <td>2.0</td>\n",
       "      <td>1.0</td>\n",
       "      <td>4.0</td>\n",
       "      <td>4.0</td>\n",
       "      <td>0.0</td>\n",
       "      <td>0.0</td>\n",
       "      <td>26.0</td>\n",
       "      <td>3.0</td>\n",
       "    </tr>\n",
       "    <tr>\n",
       "      <th>1</th>\n",
       "      <td>Row6</td>\n",
       "      <td>25.0</td>\n",
       "      <td>14.0</td>\n",
       "      <td>10.0</td>\n",
       "      <td>Investment</td>\n",
       "      <td>Sokol'niki</td>\n",
       "      <td>1.032047e+07</td>\n",
       "      <td>57405.0</td>\n",
       "      <td>0.523439</td>\n",
       "      <td>0.042307</td>\n",
       "      <td>...</td>\n",
       "      <td>144.0</td>\n",
       "      <td>81.0</td>\n",
       "      <td>16.0</td>\n",
       "      <td>3.0</td>\n",
       "      <td>38.0</td>\n",
       "      <td>80.0</td>\n",
       "      <td>1.0</td>\n",
       "      <td>27.0</td>\n",
       "      <td>127.0</td>\n",
       "      <td>8.0</td>\n",
       "    </tr>\n",
       "    <tr>\n",
       "      <th>2</th>\n",
       "      <td>Row11</td>\n",
       "      <td>38.0</td>\n",
       "      <td>19.0</td>\n",
       "      <td>11.0</td>\n",
       "      <td>Investment</td>\n",
       "      <td>Zapadnoe Degunino</td>\n",
       "      <td>7.632940e+06</td>\n",
       "      <td>78810.0</td>\n",
       "      <td>0.051844</td>\n",
       "      <td>0.437885</td>\n",
       "      <td>...</td>\n",
       "      <td>39.0</td>\n",
       "      <td>8.0</td>\n",
       "      <td>3.0</td>\n",
       "      <td>0.0</td>\n",
       "      <td>10.0</td>\n",
       "      <td>9.0</td>\n",
       "      <td>0.0</td>\n",
       "      <td>0.0</td>\n",
       "      <td>35.0</td>\n",
       "      <td>4.0</td>\n",
       "    </tr>\n",
       "    <tr>\n",
       "      <th>3</th>\n",
       "      <td>Row12</td>\n",
       "      <td>43.0</td>\n",
       "      <td>28.0</td>\n",
       "      <td>4.0</td>\n",
       "      <td>Investment</td>\n",
       "      <td>Kuncevo</td>\n",
       "      <td>5.235177e+07</td>\n",
       "      <td>142462.0</td>\n",
       "      <td>0.070662</td>\n",
       "      <td>0.035145</td>\n",
       "      <td>...</td>\n",
       "      <td>21.0</td>\n",
       "      <td>13.0</td>\n",
       "      <td>9.0</td>\n",
       "      <td>1.0</td>\n",
       "      <td>7.0</td>\n",
       "      <td>15.0</td>\n",
       "      <td>0.0</td>\n",
       "      <td>2.0</td>\n",
       "      <td>47.0</td>\n",
       "      <td>0.0</td>\n",
       "    </tr>\n",
       "    <tr>\n",
       "      <th>4</th>\n",
       "      <td>Row14</td>\n",
       "      <td>31.0</td>\n",
       "      <td>21.0</td>\n",
       "      <td>3.0</td>\n",
       "      <td>Investment</td>\n",
       "      <td>Lefortovo</td>\n",
       "      <td>8.993640e+06</td>\n",
       "      <td>89971.0</td>\n",
       "      <td>0.066941</td>\n",
       "      <td>0.306977</td>\n",
       "      <td>...</td>\n",
       "      <td>205.0</td>\n",
       "      <td>88.0</td>\n",
       "      <td>19.0</td>\n",
       "      <td>2.0</td>\n",
       "      <td>63.0</td>\n",
       "      <td>100.0</td>\n",
       "      <td>0.0</td>\n",
       "      <td>28.0</td>\n",
       "      <td>132.0</td>\n",
       "      <td>14.0</td>\n",
       "    </tr>\n",
       "  </tbody>\n",
       "</table>\n",
       "<p>5 rows × 272 columns</p>\n",
       "</div>"
      ],
      "text/plain": [
       "  row ID  full_sq  life_sq  floor product_type           sub_area  \\\n",
       "0   Row3     89.0     50.0    9.0   Investment             Mitino   \n",
       "1   Row6     25.0     14.0   10.0   Investment         Sokol'niki   \n",
       "2  Row11     38.0     19.0   11.0   Investment  Zapadnoe Degunino   \n",
       "3  Row12     43.0     28.0    4.0   Investment            Kuncevo   \n",
       "4  Row14     31.0     21.0    3.0   Investment          Lefortovo   \n",
       "\n",
       "         area_m  raion_popul  green_zone_part  indust_part  ...  \\\n",
       "0  1.258354e+07     178473.0         0.194703     0.069753  ...   \n",
       "1  1.032047e+07      57405.0         0.523439     0.042307  ...   \n",
       "2  7.632940e+06      78810.0         0.051844     0.437885  ...   \n",
       "3  5.235177e+07     142462.0         0.070662     0.035145  ...   \n",
       "4  8.993640e+06      89971.0         0.066941     0.306977  ...   \n",
       "\n",
       "   cafe_count_5000_price_1500  cafe_count_5000_price_2500  \\\n",
       "0                        15.0                        11.0   \n",
       "1                       144.0                        81.0   \n",
       "2                        39.0                         8.0   \n",
       "3                        21.0                        13.0   \n",
       "4                       205.0                        88.0   \n",
       "\n",
       "   cafe_count_5000_price_4000  cafe_count_5000_price_high  \\\n",
       "0                         2.0                         1.0   \n",
       "1                        16.0                         3.0   \n",
       "2                         3.0                         0.0   \n",
       "3                         9.0                         1.0   \n",
       "4                        19.0                         2.0   \n",
       "\n",
       "   big_church_count_5000  church_count_5000  mosque_count_5000  \\\n",
       "0                    4.0                4.0                0.0   \n",
       "1                   38.0               80.0                1.0   \n",
       "2                   10.0                9.0                0.0   \n",
       "3                    7.0               15.0                0.0   \n",
       "4                   63.0              100.0                0.0   \n",
       "\n",
       "   leisure_count_5000  sport_count_5000 market_count_5000  \n",
       "0                 0.0              26.0               3.0  \n",
       "1                27.0             127.0               8.0  \n",
       "2                 0.0              35.0               4.0  \n",
       "3                 2.0              47.0               0.0  \n",
       "4                28.0             132.0              14.0  \n",
       "\n",
       "[5 rows x 272 columns]"
      ]
     },
     "execution_count": 31,
     "metadata": {},
     "output_type": "execute_result"
    }
   ],
   "source": [
    "# lets load the test data\n",
    "test_data = pd.read_csv(r\"D:\\Users\\DELL\\OneDrive - Institute of Business Administration\\IBA\\sem5\\machine learning\\ipynb notebooks\\challenger2\\iml-fall-2024-challenge-2\\test\\test.csv\")\n",
    "\n",
    "# check if the data has been loaded by getting the first 5 rows - there should be x1 - x78 and no target variable Y as this is test data\n",
    "test_data.head() "
   ]
  },
  {
   "cell_type": "markdown",
   "id": "9db89cc8",
   "metadata": {
    "papermill": {
     "duration": 0.012664,
     "end_time": "2024-11-07T20:19:59.050712",
     "exception": false,
     "start_time": "2024-11-07T20:19:59.038048",
     "status": "completed"
    },
    "tags": []
   },
   "source": [
    "# Data Preprocessing\n",
    "before we start processing this data and using algorithms, we will fix this data first, this is called data preprocessing"
   ]
  },
  {
   "cell_type": "markdown",
   "id": "46a83e6e",
   "metadata": {},
   "source": [
    "## split data into categorical and numerical\n",
    "categorical will have one-hot and simple imputer of most frequent while numerical will have simple mean imputer and minmax scaler"
   ]
  },
  {
   "cell_type": "code",
   "execution_count": 32,
   "id": "306cc606",
   "metadata": {},
   "outputs": [],
   "source": [
    "categorical_cols = train_data.select_dtypes(include=[\"object\"]).columns\n",
    "numerical_cols = train_data.select_dtypes(exclude=[\"object\"]).drop(columns=['price_doc']).columns"
   ]
  },
  {
   "cell_type": "code",
   "execution_count": 33,
   "id": "1e90a6a2",
   "metadata": {},
   "outputs": [],
   "source": [
    "# num_transformer = Pipeline(steps=[\n",
    "#     (\"imputer\", SimpleImputer(strategy=\"mean\")),\n",
    "#     (\"scaler\", StandardScaler())\n",
    "# ])\n",
    "\n",
    "# cat_transformer = Pipeline(steps=[\n",
    "#     (\"imputer\", SimpleImputer(strategy=\"most_frequent\")),\n",
    "#     (\"onehot\", OneHotEncoder(handle_unknown=\"ignore\"))\n",
    "# ])"
   ]
  },
  {
   "cell_type": "code",
   "execution_count": 34,
   "id": "d0e20cc8",
   "metadata": {},
   "outputs": [],
   "source": [
    "# # Column transformer for preprocessing\n",
    "# preprocessor = ColumnTransformer(\n",
    "#     transformers=[\n",
    "#         (\"num\", num_transformer, numerical_cols),\n",
    "#         (\"cat\", cat_transformer, categorical_cols)\n",
    "#     ]\n",
    "# )"
   ]
  },
  {
   "cell_type": "markdown",
   "id": "4817cabc",
   "metadata": {},
   "source": [
    "# imputer"
   ]
  },
  {
   "cell_type": "code",
   "execution_count": 35,
   "id": "dfe144b4",
   "metadata": {},
   "outputs": [],
   "source": [
    "num_imputer = SimpleImputer(strategy=\"mean\")\n",
    "train_data[numerical_cols] = num_imputer.fit_transform(train_data[numerical_cols])\n",
    "test_data[numerical_cols] = num_imputer.transform(test_data[numerical_cols])\n",
    "\n",
    "cat_imputer = SimpleImputer(strategy=\"most_frequent\")\n",
    "train_data[categorical_cols] = cat_imputer.fit_transform(train_data[categorical_cols])\n",
    "test_data[categorical_cols] = cat_imputer.transform(test_data[categorical_cols])"
   ]
  },
  {
   "cell_type": "markdown",
   "id": "e22355b6",
   "metadata": {},
   "source": [
    "# scaler"
   ]
  },
  {
   "cell_type": "code",
   "execution_count": 36,
   "id": "a0c05fba",
   "metadata": {},
   "outputs": [],
   "source": [
    "scaler = StandardScaler()\n",
    "train_data[numerical_cols] = scaler.fit_transform(train_data[numerical_cols])\n",
    "test_data[numerical_cols] = scaler.transform(test_data[numerical_cols])"
   ]
  },
  {
   "cell_type": "markdown",
   "id": "8cf97280",
   "metadata": {},
   "source": [
    "# onehot"
   ]
  },
  {
   "cell_type": "code",
   "execution_count": 37,
   "id": "2cd1ec52",
   "metadata": {},
   "outputs": [],
   "source": [
    "train_data = pd.get_dummies(train_data, columns=categorical_cols, drop_first=True)\n",
    "test_data = pd.get_dummies(test_data, columns=categorical_cols, drop_first=True)\n",
    "# Align the test data with the training data columns\n",
    "test_data = test_data.reindex(columns=train_data.columns, fill_value=0)\n",
    "\n",
    "# test_data = test_data.drop(columns=['price_doc'], errors=\"ignore\")"
   ]
  },
  {
   "cell_type": "markdown",
   "id": "2a5e67cf",
   "metadata": {},
   "source": [
    "## correlation matrix\n",
    "i tried getting the correlation matrix but apparently a 2000 columns matrix is very computationally expensive as it performs pairs for all. so dont run it. it takes too long and then fails. i ran for 5 minutes. "
   ]
  },
  {
   "cell_type": "code",
   "execution_count": 38,
   "id": "aae908d1",
   "metadata": {},
   "outputs": [],
   "source": [
    "# # DONT RUN\n",
    "# corr_matrix = train_data.corr()\n",
    "# print(corr_matrix)"
   ]
  },
  {
   "cell_type": "markdown",
   "id": "908cd862",
   "metadata": {},
   "source": [
    "# variance"
   ]
  },
  {
   "cell_type": "code",
   "execution_count": 39,
   "id": "c6fad3ed",
   "metadata": {},
   "outputs": [],
   "source": [
    "train_features = train_data.drop(columns=['price_doc'])"
   ]
  },
  {
   "cell_type": "code",
   "execution_count": 40,
   "id": "21f577c3",
   "metadata": {},
   "outputs": [
    {
     "name": "stdout",
     "output_type": "stream",
     "text": [
      "count    2199.000000\n",
      "mean        0.117869\n",
      "std         0.320496\n",
      "min         0.000011\n",
      "25%         0.000055\n",
      "50%         0.000083\n",
      "75%         0.000160\n",
      "max         1.000006\n",
      "dtype: float64\n"
     ]
    }
   ],
   "source": [
    "feature_variances = train_features.var(axis=0)\n",
    "print(feature_variances.describe())"
   ]
  },
  {
   "cell_type": "code",
   "execution_count": 41,
   "id": "aca6a85d",
   "metadata": {},
   "outputs": [
    {
     "ename": "MemoryError",
     "evalue": "Unable to allocate 2.97 GiB for an array with shape (181507, 2199) and data type float64",
     "output_type": "error",
     "traceback": [
      "\u001b[1;31m---------------------------------------------------------------------------\u001b[0m",
      "\u001b[1;31mMemoryError\u001b[0m                               Traceback (most recent call last)",
      "Cell \u001b[1;32mIn[41], line 4\u001b[0m\n\u001b[0;32m      1\u001b[0m \u001b[38;5;28;01mfrom\u001b[39;00m \u001b[38;5;21;01msklearn\u001b[39;00m\u001b[38;5;21;01m.\u001b[39;00m\u001b[38;5;21;01mfeature_selection\u001b[39;00m \u001b[38;5;28;01mimport\u001b[39;00m VarianceThreshold\n\u001b[0;32m      3\u001b[0m selector \u001b[38;5;241m=\u001b[39m VarianceThreshold(threshold\u001b[38;5;241m=\u001b[39m\u001b[38;5;241m0.001\u001b[39m) \n\u001b[1;32m----> 4\u001b[0m train_features_reduced \u001b[38;5;241m=\u001b[39m \u001b[43mselector\u001b[49m\u001b[38;5;241;43m.\u001b[39;49m\u001b[43mfit_transform\u001b[49m\u001b[43m(\u001b[49m\u001b[43mtrain_features\u001b[49m\u001b[43m)\u001b[49m\n\u001b[0;32m      5\u001b[0m \u001b[38;5;28mprint\u001b[39m(train_features_reduced)\n\u001b[0;32m      6\u001b[0m \u001b[38;5;28mprint\u001b[39m(train_features_reduced\u001b[38;5;241m.\u001b[39mshape)\n",
      "File \u001b[1;32m~\\AppData\\Local\\Packages\\PythonSoftwareFoundation.Python.3.12_qbz5n2kfra8p0\\LocalCache\\local-packages\\Python312\\site-packages\\sklearn\\utils\\_set_output.py:316\u001b[0m, in \u001b[0;36m_wrap_method_output.<locals>.wrapped\u001b[1;34m(self, X, *args, **kwargs)\u001b[0m\n\u001b[0;32m    314\u001b[0m \u001b[38;5;129m@wraps\u001b[39m(f)\n\u001b[0;32m    315\u001b[0m \u001b[38;5;28;01mdef\u001b[39;00m \u001b[38;5;21mwrapped\u001b[39m(\u001b[38;5;28mself\u001b[39m, X, \u001b[38;5;241m*\u001b[39margs, \u001b[38;5;241m*\u001b[39m\u001b[38;5;241m*\u001b[39mkwargs):\n\u001b[1;32m--> 316\u001b[0m     data_to_wrap \u001b[38;5;241m=\u001b[39m \u001b[43mf\u001b[49m\u001b[43m(\u001b[49m\u001b[38;5;28;43mself\u001b[39;49m\u001b[43m,\u001b[49m\u001b[43m \u001b[49m\u001b[43mX\u001b[49m\u001b[43m,\u001b[49m\u001b[43m \u001b[49m\u001b[38;5;241;43m*\u001b[39;49m\u001b[43margs\u001b[49m\u001b[43m,\u001b[49m\u001b[43m \u001b[49m\u001b[38;5;241;43m*\u001b[39;49m\u001b[38;5;241;43m*\u001b[39;49m\u001b[43mkwargs\u001b[49m\u001b[43m)\u001b[49m\n\u001b[0;32m    317\u001b[0m     \u001b[38;5;28;01mif\u001b[39;00m \u001b[38;5;28misinstance\u001b[39m(data_to_wrap, \u001b[38;5;28mtuple\u001b[39m):\n\u001b[0;32m    318\u001b[0m         \u001b[38;5;66;03m# only wrap the first output for cross decomposition\u001b[39;00m\n\u001b[0;32m    319\u001b[0m         return_tuple \u001b[38;5;241m=\u001b[39m (\n\u001b[0;32m    320\u001b[0m             _wrap_data_with_container(method, data_to_wrap[\u001b[38;5;241m0\u001b[39m], X, \u001b[38;5;28mself\u001b[39m),\n\u001b[0;32m    321\u001b[0m             \u001b[38;5;241m*\u001b[39mdata_to_wrap[\u001b[38;5;241m1\u001b[39m:],\n\u001b[0;32m    322\u001b[0m         )\n",
      "File \u001b[1;32m~\\AppData\\Local\\Packages\\PythonSoftwareFoundation.Python.3.12_qbz5n2kfra8p0\\LocalCache\\local-packages\\Python312\\site-packages\\sklearn\\base.py:1098\u001b[0m, in \u001b[0;36mTransformerMixin.fit_transform\u001b[1;34m(self, X, y, **fit_params)\u001b[0m\n\u001b[0;32m   1083\u001b[0m         warnings\u001b[38;5;241m.\u001b[39mwarn(\n\u001b[0;32m   1084\u001b[0m             (\n\u001b[0;32m   1085\u001b[0m                 \u001b[38;5;124mf\u001b[39m\u001b[38;5;124m\"\u001b[39m\u001b[38;5;124mThis object (\u001b[39m\u001b[38;5;132;01m{\u001b[39;00m\u001b[38;5;28mself\u001b[39m\u001b[38;5;241m.\u001b[39m\u001b[38;5;18m__class__\u001b[39m\u001b[38;5;241m.\u001b[39m\u001b[38;5;18m__name__\u001b[39m\u001b[38;5;132;01m}\u001b[39;00m\u001b[38;5;124m) has a `transform`\u001b[39m\u001b[38;5;124m\"\u001b[39m\n\u001b[1;32m   (...)\u001b[0m\n\u001b[0;32m   1093\u001b[0m             \u001b[38;5;167;01mUserWarning\u001b[39;00m,\n\u001b[0;32m   1094\u001b[0m         )\n\u001b[0;32m   1096\u001b[0m \u001b[38;5;28;01mif\u001b[39;00m y \u001b[38;5;129;01mis\u001b[39;00m \u001b[38;5;28;01mNone\u001b[39;00m:\n\u001b[0;32m   1097\u001b[0m     \u001b[38;5;66;03m# fit method of arity 1 (unsupervised transformation)\u001b[39;00m\n\u001b[1;32m-> 1098\u001b[0m     \u001b[38;5;28;01mreturn\u001b[39;00m \u001b[38;5;28;43mself\u001b[39;49m\u001b[38;5;241;43m.\u001b[39;49m\u001b[43mfit\u001b[49m\u001b[43m(\u001b[49m\u001b[43mX\u001b[49m\u001b[43m,\u001b[49m\u001b[43m \u001b[49m\u001b[38;5;241;43m*\u001b[39;49m\u001b[38;5;241;43m*\u001b[39;49m\u001b[43mfit_params\u001b[49m\u001b[43m)\u001b[49m\u001b[38;5;241m.\u001b[39mtransform(X)\n\u001b[0;32m   1099\u001b[0m \u001b[38;5;28;01melse\u001b[39;00m:\n\u001b[0;32m   1100\u001b[0m     \u001b[38;5;66;03m# fit method of arity 2 (supervised transformation)\u001b[39;00m\n\u001b[0;32m   1101\u001b[0m     \u001b[38;5;28;01mreturn\u001b[39;00m \u001b[38;5;28mself\u001b[39m\u001b[38;5;241m.\u001b[39mfit(X, y, \u001b[38;5;241m*\u001b[39m\u001b[38;5;241m*\u001b[39mfit_params)\u001b[38;5;241m.\u001b[39mtransform(X)\n",
      "File \u001b[1;32m~\\AppData\\Local\\Packages\\PythonSoftwareFoundation.Python.3.12_qbz5n2kfra8p0\\LocalCache\\local-packages\\Python312\\site-packages\\sklearn\\base.py:1473\u001b[0m, in \u001b[0;36m_fit_context.<locals>.decorator.<locals>.wrapper\u001b[1;34m(estimator, *args, **kwargs)\u001b[0m\n\u001b[0;32m   1466\u001b[0m     estimator\u001b[38;5;241m.\u001b[39m_validate_params()\n\u001b[0;32m   1468\u001b[0m \u001b[38;5;28;01mwith\u001b[39;00m config_context(\n\u001b[0;32m   1469\u001b[0m     skip_parameter_validation\u001b[38;5;241m=\u001b[39m(\n\u001b[0;32m   1470\u001b[0m         prefer_skip_nested_validation \u001b[38;5;129;01mor\u001b[39;00m global_skip_validation\n\u001b[0;32m   1471\u001b[0m     )\n\u001b[0;32m   1472\u001b[0m ):\n\u001b[1;32m-> 1473\u001b[0m     \u001b[38;5;28;01mreturn\u001b[39;00m \u001b[43mfit_method\u001b[49m\u001b[43m(\u001b[49m\u001b[43mestimator\u001b[49m\u001b[43m,\u001b[49m\u001b[43m \u001b[49m\u001b[38;5;241;43m*\u001b[39;49m\u001b[43margs\u001b[49m\u001b[43m,\u001b[49m\u001b[43m \u001b[49m\u001b[38;5;241;43m*\u001b[39;49m\u001b[38;5;241;43m*\u001b[39;49m\u001b[43mkwargs\u001b[49m\u001b[43m)\u001b[49m\n",
      "File \u001b[1;32m~\\AppData\\Local\\Packages\\PythonSoftwareFoundation.Python.3.12_qbz5n2kfra8p0\\LocalCache\\local-packages\\Python312\\site-packages\\sklearn\\feature_selection\\_variance_threshold.py:112\u001b[0m, in \u001b[0;36mVarianceThreshold.fit\u001b[1;34m(self, X, y)\u001b[0m\n\u001b[0;32m    110\u001b[0m         peak_to_peaks \u001b[38;5;241m=\u001b[39m maxes \u001b[38;5;241m-\u001b[39m mins\n\u001b[0;32m    111\u001b[0m \u001b[38;5;28;01melse\u001b[39;00m:\n\u001b[1;32m--> 112\u001b[0m     \u001b[38;5;28mself\u001b[39m\u001b[38;5;241m.\u001b[39mvariances_ \u001b[38;5;241m=\u001b[39m \u001b[43mnp\u001b[49m\u001b[38;5;241;43m.\u001b[39;49m\u001b[43mnanvar\u001b[49m\u001b[43m(\u001b[49m\u001b[43mX\u001b[49m\u001b[43m,\u001b[49m\u001b[43m \u001b[49m\u001b[43maxis\u001b[49m\u001b[38;5;241;43m=\u001b[39;49m\u001b[38;5;241;43m0\u001b[39;49m\u001b[43m)\u001b[49m\n\u001b[0;32m    113\u001b[0m     \u001b[38;5;28;01mif\u001b[39;00m \u001b[38;5;28mself\u001b[39m\u001b[38;5;241m.\u001b[39mthreshold \u001b[38;5;241m==\u001b[39m \u001b[38;5;241m0\u001b[39m:\n\u001b[0;32m    114\u001b[0m         peak_to_peaks \u001b[38;5;241m=\u001b[39m np\u001b[38;5;241m.\u001b[39mptp(X, axis\u001b[38;5;241m=\u001b[39m\u001b[38;5;241m0\u001b[39m)\n",
      "File \u001b[1;32m~\\AppData\\Local\\Packages\\PythonSoftwareFoundation.Python.3.12_qbz5n2kfra8p0\\LocalCache\\local-packages\\Python312\\site-packages\\numpy\\lib\\nanfunctions.py:1713\u001b[0m, in \u001b[0;36mnanvar\u001b[1;34m(a, axis, dtype, out, ddof, keepdims, where)\u001b[0m\n\u001b[0;32m   1617\u001b[0m \u001b[38;5;129m@array_function_dispatch\u001b[39m(_nanvar_dispatcher)\n\u001b[0;32m   1618\u001b[0m \u001b[38;5;28;01mdef\u001b[39;00m \u001b[38;5;21mnanvar\u001b[39m(a, axis\u001b[38;5;241m=\u001b[39m\u001b[38;5;28;01mNone\u001b[39;00m, dtype\u001b[38;5;241m=\u001b[39m\u001b[38;5;28;01mNone\u001b[39;00m, out\u001b[38;5;241m=\u001b[39m\u001b[38;5;28;01mNone\u001b[39;00m, ddof\u001b[38;5;241m=\u001b[39m\u001b[38;5;241m0\u001b[39m, keepdims\u001b[38;5;241m=\u001b[39mnp\u001b[38;5;241m.\u001b[39m_NoValue,\n\u001b[0;32m   1619\u001b[0m            \u001b[38;5;241m*\u001b[39m, where\u001b[38;5;241m=\u001b[39mnp\u001b[38;5;241m.\u001b[39m_NoValue):\n\u001b[0;32m   1620\u001b[0m \u001b[38;5;250m    \u001b[39m\u001b[38;5;124;03m\"\"\"\u001b[39;00m\n\u001b[0;32m   1621\u001b[0m \u001b[38;5;124;03m    Compute the variance along the specified axis, while ignoring NaNs.\u001b[39;00m\n\u001b[0;32m   1622\u001b[0m \n\u001b[1;32m   (...)\u001b[0m\n\u001b[0;32m   1711\u001b[0m \n\u001b[0;32m   1712\u001b[0m \u001b[38;5;124;03m    \"\"\"\u001b[39;00m\n\u001b[1;32m-> 1713\u001b[0m     arr, mask \u001b[38;5;241m=\u001b[39m \u001b[43m_replace_nan\u001b[49m\u001b[43m(\u001b[49m\u001b[43ma\u001b[49m\u001b[43m,\u001b[49m\u001b[43m \u001b[49m\u001b[38;5;241;43m0\u001b[39;49m\u001b[43m)\u001b[49m\n\u001b[0;32m   1714\u001b[0m     \u001b[38;5;28;01mif\u001b[39;00m mask \u001b[38;5;129;01mis\u001b[39;00m \u001b[38;5;28;01mNone\u001b[39;00m:\n\u001b[0;32m   1715\u001b[0m         \u001b[38;5;28;01mreturn\u001b[39;00m np\u001b[38;5;241m.\u001b[39mvar(arr, axis\u001b[38;5;241m=\u001b[39maxis, dtype\u001b[38;5;241m=\u001b[39mdtype, out\u001b[38;5;241m=\u001b[39mout, ddof\u001b[38;5;241m=\u001b[39mddof,\n\u001b[0;32m   1716\u001b[0m                       keepdims\u001b[38;5;241m=\u001b[39mkeepdims, where\u001b[38;5;241m=\u001b[39mwhere)\n",
      "File \u001b[1;32m~\\AppData\\Local\\Packages\\PythonSoftwareFoundation.Python.3.12_qbz5n2kfra8p0\\LocalCache\\local-packages\\Python312\\site-packages\\numpy\\lib\\nanfunctions.py:107\u001b[0m, in \u001b[0;36m_replace_nan\u001b[1;34m(a, val)\u001b[0m\n\u001b[0;32m    104\u001b[0m     mask \u001b[38;5;241m=\u001b[39m \u001b[38;5;28;01mNone\u001b[39;00m\n\u001b[0;32m    106\u001b[0m \u001b[38;5;28;01mif\u001b[39;00m mask \u001b[38;5;129;01mis\u001b[39;00m \u001b[38;5;129;01mnot\u001b[39;00m \u001b[38;5;28;01mNone\u001b[39;00m:\n\u001b[1;32m--> 107\u001b[0m     a \u001b[38;5;241m=\u001b[39m \u001b[43mnp\u001b[49m\u001b[38;5;241;43m.\u001b[39;49m\u001b[43marray\u001b[49m\u001b[43m(\u001b[49m\u001b[43ma\u001b[49m\u001b[43m,\u001b[49m\u001b[43m \u001b[49m\u001b[43msubok\u001b[49m\u001b[38;5;241;43m=\u001b[39;49m\u001b[38;5;28;43;01mTrue\u001b[39;49;00m\u001b[43m,\u001b[49m\u001b[43m \u001b[49m\u001b[43mcopy\u001b[49m\u001b[38;5;241;43m=\u001b[39;49m\u001b[38;5;28;43;01mTrue\u001b[39;49;00m\u001b[43m)\u001b[49m\n\u001b[0;32m    108\u001b[0m     np\u001b[38;5;241m.\u001b[39mcopyto(a, val, where\u001b[38;5;241m=\u001b[39mmask)\n\u001b[0;32m    110\u001b[0m \u001b[38;5;28;01mreturn\u001b[39;00m a, mask\n",
      "\u001b[1;31mMemoryError\u001b[0m: Unable to allocate 2.97 GiB for an array with shape (181507, 2199) and data type float64"
     ]
    }
   ],
   "source": [
    "from sklearn.feature_selection import VarianceThreshold\n",
    "\n",
    "selector = VarianceThreshold(threshold=0.001) \n",
    "train_features_reduced = selector.fit_transform(train_features)\n",
    "print(train_features_reduced)\n",
    "print(train_features_reduced.shape)\n",
    "\n",
    "# test_features = selector.transform(test_data)"
   ]
  },
  {
   "cell_type": "markdown",
   "id": "463d5ca5",
   "metadata": {},
   "source": [
    "# PCA\n",
    "principal component analysis is applied"
   ]
  },
  {
   "cell_type": "code",
   "execution_count": null,
   "id": "68ef094f",
   "metadata": {},
   "outputs": [],
   "source": [
    "# plot an elbow graph to find the optimal number of components\n",
    "import matplotlib.pyplot as plt\n",
    "from sklearn.decomposition import PCA\n",
    "\n",
    "pca = PCA()\n",
    "pca.fit(train_features_reduced)  # Fit PCA to your dataset\n",
    "\n",
    "plt.plot(pca.explained_variance_ratio_)\n",
    "plt.xlabel('number of components')\n",
    "plt.ylabel('cumulative explained variance')\n",
    "pca.explained_variance_ratio_.round(3)\n",
    "cumulative_variance = np.cumsum(pca.explained_variance_ratio_)\n",
    "print(\"Cumulative explained variance: \", cumulative_variance)\n",
    "print(cumulative_variance)"
   ]
  },
  {
   "cell_type": "code",
   "execution_count": null,
   "id": "5bc26271",
   "metadata": {},
   "outputs": [],
   "source": [
    "print(\"Principal components shape:\", pca.components_.shape)\n",
    "print(\"Principal components:\\n\", pca.components_)\n",
    "\n",
    "# Preserve the target variable\n",
    "train_copy = train_data.copy()  # Backup original data\n",
    "test_copy = test_data.copy()\n",
    "\n",
    "# Separate target variable and features\n",
    "train_features = train_data.drop(columns=['price_doc'])  # Features for PCA\n",
    "train_target = train_data['price_doc']                  # Target variable\n",
    "\n",
    "test_features = test_data.drop(columns=['price_doc'])    # Features for PCA\n",
    "\n",
    "# Apply PCA transformation\n",
    "pca = PCA(n_components=0.95)\n",
    "train_features_pca = pca.fit_transform(train_features)  # Fit and transform train data\n",
    "print(\"train transformed\")\n",
    "test_features_pca = pca.transform(test_features)        # Transform test data\n",
    "\n",
    "print(train_features_pca.shape)\n",
    "print(test_features_pca.shape)"
   ]
  },
  {
   "cell_type": "code",
   "execution_count": null,
   "id": "a8c72abb",
   "metadata": {},
   "outputs": [],
   "source": [
    "# Reconstruct train_data and test_data with PCA-transformed features and target variable\n",
    "train_data = pd.DataFrame(train_features_pca)\n",
    "train_data['price_doc'] = train_target.reset_index(drop=True)\n",
    "\n",
    "test_data = pd.DataFrame(test_features_pca)\n",
    "test_data['price_doc'] = test_copy['price_doc'].reset_index(drop=True)"
   ]
  },
  {
   "cell_type": "code",
   "execution_count": null,
   "id": "75a7458a",
   "metadata": {},
   "outputs": [],
   "source": [
    "print(\"train shape: \", train_data.shape)\n",
    "print(\"test shape: \", test_data.shape)"
   ]
  },
  {
   "cell_type": "markdown",
   "id": "2bd65ed6",
   "metadata": {
    "papermill": {
     "duration": 0.012565,
     "end_time": "2024-11-07T20:19:59.480848",
     "exception": false,
     "start_time": "2024-11-07T20:19:59.468283",
     "status": "completed"
    },
    "tags": []
   },
   "source": [
    "## Data Splitting - festures and targets\n",
    "the data in train_data set is of x1 - x78 columns (79 variables) and one target variable (Y). we must split that data so that we can perform data preprocessing on the features variables (will be referred to as X)."
   ]
  },
  {
   "cell_type": "code",
   "execution_count": null,
   "id": "565fb08f",
   "metadata": {
    "execution": {
     "iopub.execute_input": "2024-11-09T20:34:53.346782Z",
     "iopub.status.busy": "2024-11-09T20:34:53.346374Z",
     "iopub.status.idle": "2024-11-09T20:34:53.470850Z",
     "shell.execute_reply": "2024-11-09T20:34:53.469954Z",
     "shell.execute_reply.started": "2024-11-09T20:34:53.346734Z"
    },
    "papermill": {
     "duration": 0.123675,
     "end_time": "2024-11-07T20:19:59.617410",
     "exception": false,
     "start_time": "2024-11-07T20:19:59.493735",
     "status": "completed"
    },
    "tags": [],
    "trusted": true
   },
   "outputs": [
    {
     "data": {
      "text/html": [
       "<div>\n",
       "<style scoped>\n",
       "    .dataframe tbody tr th:only-of-type {\n",
       "        vertical-align: middle;\n",
       "    }\n",
       "\n",
       "    .dataframe tbody tr th {\n",
       "        vertical-align: top;\n",
       "    }\n",
       "\n",
       "    .dataframe thead th {\n",
       "        text-align: right;\n",
       "    }\n",
       "</style>\n",
       "<table border=\"1\" class=\"dataframe\">\n",
       "  <thead>\n",
       "    <tr style=\"text-align: right;\">\n",
       "      <th></th>\n",
       "      <th>full_sq</th>\n",
       "      <th>life_sq</th>\n",
       "      <th>floor</th>\n",
       "      <th>product_type</th>\n",
       "      <th>sub_area</th>\n",
       "      <th>area_m</th>\n",
       "      <th>raion_popul</th>\n",
       "      <th>green_zone_part</th>\n",
       "      <th>indust_part</th>\n",
       "      <th>children_preschool</th>\n",
       "      <th>...</th>\n",
       "      <th>cafe_count_5000_price_1500</th>\n",
       "      <th>cafe_count_5000_price_2500</th>\n",
       "      <th>cafe_count_5000_price_4000</th>\n",
       "      <th>cafe_count_5000_price_high</th>\n",
       "      <th>big_church_count_5000</th>\n",
       "      <th>church_count_5000</th>\n",
       "      <th>mosque_count_5000</th>\n",
       "      <th>leisure_count_5000</th>\n",
       "      <th>sport_count_5000</th>\n",
       "      <th>market_count_5000</th>\n",
       "    </tr>\n",
       "  </thead>\n",
       "  <tbody>\n",
       "    <tr>\n",
       "      <th>0</th>\n",
       "      <td>43.0</td>\n",
       "      <td>27.0</td>\n",
       "      <td>4.0</td>\n",
       "      <td>Investment</td>\n",
       "      <td>Bibirevo</td>\n",
       "      <td>6.407578e+06</td>\n",
       "      <td>155572.0</td>\n",
       "      <td>0.189727</td>\n",
       "      <td>0.000070</td>\n",
       "      <td>9576.0</td>\n",
       "      <td>...</td>\n",
       "      <td>40.0</td>\n",
       "      <td>9.0</td>\n",
       "      <td>4.0</td>\n",
       "      <td>0.0</td>\n",
       "      <td>13.0</td>\n",
       "      <td>22.0</td>\n",
       "      <td>1.0</td>\n",
       "      <td>0.0</td>\n",
       "      <td>52.0</td>\n",
       "      <td>4.0</td>\n",
       "    </tr>\n",
       "    <tr>\n",
       "      <th>1</th>\n",
       "      <td>34.0</td>\n",
       "      <td>19.0</td>\n",
       "      <td>3.0</td>\n",
       "      <td>Investment</td>\n",
       "      <td>Nagatinskij Zaton</td>\n",
       "      <td>9.589337e+06</td>\n",
       "      <td>115352.0</td>\n",
       "      <td>0.372602</td>\n",
       "      <td>0.049637</td>\n",
       "      <td>6880.0</td>\n",
       "      <td>...</td>\n",
       "      <td>36.0</td>\n",
       "      <td>15.0</td>\n",
       "      <td>3.0</td>\n",
       "      <td>0.0</td>\n",
       "      <td>15.0</td>\n",
       "      <td>29.0</td>\n",
       "      <td>1.0</td>\n",
       "      <td>10.0</td>\n",
       "      <td>66.0</td>\n",
       "      <td>14.0</td>\n",
       "    </tr>\n",
       "    <tr>\n",
       "      <th>2</th>\n",
       "      <td>43.0</td>\n",
       "      <td>29.0</td>\n",
       "      <td>2.0</td>\n",
       "      <td>Investment</td>\n",
       "      <td>Tekstil'shhiki</td>\n",
       "      <td>4.808270e+06</td>\n",
       "      <td>101708.0</td>\n",
       "      <td>0.112560</td>\n",
       "      <td>0.118537</td>\n",
       "      <td>5879.0</td>\n",
       "      <td>...</td>\n",
       "      <td>25.0</td>\n",
       "      <td>10.0</td>\n",
       "      <td>3.0</td>\n",
       "      <td>0.0</td>\n",
       "      <td>11.0</td>\n",
       "      <td>27.0</td>\n",
       "      <td>0.0</td>\n",
       "      <td>4.0</td>\n",
       "      <td>67.0</td>\n",
       "      <td>10.0</td>\n",
       "    </tr>\n",
       "    <tr>\n",
       "      <th>3</th>\n",
       "      <td>77.0</td>\n",
       "      <td>77.0</td>\n",
       "      <td>4.0</td>\n",
       "      <td>Investment</td>\n",
       "      <td>Basmannoe</td>\n",
       "      <td>8.398461e+06</td>\n",
       "      <td>108171.0</td>\n",
       "      <td>0.015234</td>\n",
       "      <td>0.037316</td>\n",
       "      <td>5706.0</td>\n",
       "      <td>...</td>\n",
       "      <td>552.0</td>\n",
       "      <td>319.0</td>\n",
       "      <td>108.0</td>\n",
       "      <td>17.0</td>\n",
       "      <td>135.0</td>\n",
       "      <td>236.0</td>\n",
       "      <td>2.0</td>\n",
       "      <td>91.0</td>\n",
       "      <td>195.0</td>\n",
       "      <td>14.0</td>\n",
       "    </tr>\n",
       "    <tr>\n",
       "      <th>4</th>\n",
       "      <td>67.0</td>\n",
       "      <td>46.0</td>\n",
       "      <td>14.0</td>\n",
       "      <td>Investment</td>\n",
       "      <td>Nizhegorodskoe</td>\n",
       "      <td>7.506452e+06</td>\n",
       "      <td>43795.0</td>\n",
       "      <td>0.007670</td>\n",
       "      <td>0.486246</td>\n",
       "      <td>2418.0</td>\n",
       "      <td>...</td>\n",
       "      <td>155.0</td>\n",
       "      <td>62.0</td>\n",
       "      <td>14.0</td>\n",
       "      <td>1.0</td>\n",
       "      <td>53.0</td>\n",
       "      <td>78.0</td>\n",
       "      <td>1.0</td>\n",
       "      <td>20.0</td>\n",
       "      <td>113.0</td>\n",
       "      <td>17.0</td>\n",
       "    </tr>\n",
       "    <tr>\n",
       "      <th>...</th>\n",
       "      <td>...</td>\n",
       "      <td>...</td>\n",
       "      <td>...</td>\n",
       "      <td>...</td>\n",
       "      <td>...</td>\n",
       "      <td>...</td>\n",
       "      <td>...</td>\n",
       "      <td>...</td>\n",
       "      <td>...</td>\n",
       "      <td>...</td>\n",
       "      <td>...</td>\n",
       "      <td>...</td>\n",
       "      <td>...</td>\n",
       "      <td>...</td>\n",
       "      <td>...</td>\n",
       "      <td>...</td>\n",
       "      <td>...</td>\n",
       "      <td>...</td>\n",
       "      <td>...</td>\n",
       "      <td>...</td>\n",
       "      <td>...</td>\n",
       "    </tr>\n",
       "    <tr>\n",
       "      <th>181502</th>\n",
       "      <td>48.0</td>\n",
       "      <td>33.0</td>\n",
       "      <td>3.0</td>\n",
       "      <td>Investment</td>\n",
       "      <td>Poselenie Mihajlovo-Jarcevskoe</td>\n",
       "      <td>6.455617e+07</td>\n",
       "      <td>4949.0</td>\n",
       "      <td>0.586175</td>\n",
       "      <td>0.005819</td>\n",
       "      <td>346.0</td>\n",
       "      <td>...</td>\n",
       "      <td>0.0</td>\n",
       "      <td>0.0</td>\n",
       "      <td>0.0</td>\n",
       "      <td>0.0</td>\n",
       "      <td>0.0</td>\n",
       "      <td>2.0</td>\n",
       "      <td>0.0</td>\n",
       "      <td>0.0</td>\n",
       "      <td>0.0</td>\n",
       "      <td>0.0</td>\n",
       "    </tr>\n",
       "    <tr>\n",
       "      <th>181503</th>\n",
       "      <td>48.0</td>\n",
       "      <td>33.0</td>\n",
       "      <td>3.0</td>\n",
       "      <td>Investment</td>\n",
       "      <td>Poselenie Mihajlovo-Jarcevskoe</td>\n",
       "      <td>6.455617e+07</td>\n",
       "      <td>4949.0</td>\n",
       "      <td>0.586175</td>\n",
       "      <td>0.005819</td>\n",
       "      <td>346.0</td>\n",
       "      <td>...</td>\n",
       "      <td>0.0</td>\n",
       "      <td>0.0</td>\n",
       "      <td>0.0</td>\n",
       "      <td>0.0</td>\n",
       "      <td>0.0</td>\n",
       "      <td>2.0</td>\n",
       "      <td>0.0</td>\n",
       "      <td>0.0</td>\n",
       "      <td>0.0</td>\n",
       "      <td>0.0</td>\n",
       "    </tr>\n",
       "    <tr>\n",
       "      <th>181504</th>\n",
       "      <td>48.0</td>\n",
       "      <td>33.0</td>\n",
       "      <td>3.0</td>\n",
       "      <td>Investment</td>\n",
       "      <td>Poselenie Mihajlovo-Jarcevskoe</td>\n",
       "      <td>6.455617e+07</td>\n",
       "      <td>4949.0</td>\n",
       "      <td>0.586175</td>\n",
       "      <td>0.005819</td>\n",
       "      <td>346.0</td>\n",
       "      <td>...</td>\n",
       "      <td>0.0</td>\n",
       "      <td>0.0</td>\n",
       "      <td>0.0</td>\n",
       "      <td>0.0</td>\n",
       "      <td>0.0</td>\n",
       "      <td>2.0</td>\n",
       "      <td>0.0</td>\n",
       "      <td>0.0</td>\n",
       "      <td>0.0</td>\n",
       "      <td>0.0</td>\n",
       "    </tr>\n",
       "    <tr>\n",
       "      <th>181505</th>\n",
       "      <td>48.0</td>\n",
       "      <td>33.0</td>\n",
       "      <td>3.0</td>\n",
       "      <td>Investment</td>\n",
       "      <td>Poselenie Mihajlovo-Jarcevskoe</td>\n",
       "      <td>6.455617e+07</td>\n",
       "      <td>4949.0</td>\n",
       "      <td>0.586175</td>\n",
       "      <td>0.005819</td>\n",
       "      <td>346.0</td>\n",
       "      <td>...</td>\n",
       "      <td>0.0</td>\n",
       "      <td>0.0</td>\n",
       "      <td>0.0</td>\n",
       "      <td>0.0</td>\n",
       "      <td>0.0</td>\n",
       "      <td>2.0</td>\n",
       "      <td>0.0</td>\n",
       "      <td>0.0</td>\n",
       "      <td>0.0</td>\n",
       "      <td>0.0</td>\n",
       "    </tr>\n",
       "    <tr>\n",
       "      <th>181506</th>\n",
       "      <td>48.0</td>\n",
       "      <td>33.0</td>\n",
       "      <td>3.0</td>\n",
       "      <td>Investment</td>\n",
       "      <td>Poselenie Mihajlovo-Jarcevskoe</td>\n",
       "      <td>6.455617e+07</td>\n",
       "      <td>4949.0</td>\n",
       "      <td>0.586175</td>\n",
       "      <td>0.005819</td>\n",
       "      <td>346.0</td>\n",
       "      <td>...</td>\n",
       "      <td>0.0</td>\n",
       "      <td>0.0</td>\n",
       "      <td>0.0</td>\n",
       "      <td>0.0</td>\n",
       "      <td>0.0</td>\n",
       "      <td>2.0</td>\n",
       "      <td>0.0</td>\n",
       "      <td>0.0</td>\n",
       "      <td>0.0</td>\n",
       "      <td>0.0</td>\n",
       "    </tr>\n",
       "  </tbody>\n",
       "</table>\n",
       "<p>181507 rows × 271 columns</p>\n",
       "</div>"
      ],
      "text/plain": [
       "        full_sq  life_sq  floor product_type                        sub_area  \\\n",
       "0          43.0     27.0    4.0   Investment                        Bibirevo   \n",
       "1          34.0     19.0    3.0   Investment               Nagatinskij Zaton   \n",
       "2          43.0     29.0    2.0   Investment                  Tekstil'shhiki   \n",
       "3          77.0     77.0    4.0   Investment                       Basmannoe   \n",
       "4          67.0     46.0   14.0   Investment                  Nizhegorodskoe   \n",
       "...         ...      ...    ...          ...                             ...   \n",
       "181502     48.0     33.0    3.0   Investment  Poselenie Mihajlovo-Jarcevskoe   \n",
       "181503     48.0     33.0    3.0   Investment  Poselenie Mihajlovo-Jarcevskoe   \n",
       "181504     48.0     33.0    3.0   Investment  Poselenie Mihajlovo-Jarcevskoe   \n",
       "181505     48.0     33.0    3.0   Investment  Poselenie Mihajlovo-Jarcevskoe   \n",
       "181506     48.0     33.0    3.0   Investment  Poselenie Mihajlovo-Jarcevskoe   \n",
       "\n",
       "              area_m  raion_popul  green_zone_part  indust_part  \\\n",
       "0       6.407578e+06     155572.0         0.189727     0.000070   \n",
       "1       9.589337e+06     115352.0         0.372602     0.049637   \n",
       "2       4.808270e+06     101708.0         0.112560     0.118537   \n",
       "3       8.398461e+06     108171.0         0.015234     0.037316   \n",
       "4       7.506452e+06      43795.0         0.007670     0.486246   \n",
       "...              ...          ...              ...          ...   \n",
       "181502  6.455617e+07       4949.0         0.586175     0.005819   \n",
       "181503  6.455617e+07       4949.0         0.586175     0.005819   \n",
       "181504  6.455617e+07       4949.0         0.586175     0.005819   \n",
       "181505  6.455617e+07       4949.0         0.586175     0.005819   \n",
       "181506  6.455617e+07       4949.0         0.586175     0.005819   \n",
       "\n",
       "        children_preschool  ...  cafe_count_5000_price_1500  \\\n",
       "0                   9576.0  ...                        40.0   \n",
       "1                   6880.0  ...                        36.0   \n",
       "2                   5879.0  ...                        25.0   \n",
       "3                   5706.0  ...                       552.0   \n",
       "4                   2418.0  ...                       155.0   \n",
       "...                    ...  ...                         ...   \n",
       "181502               346.0  ...                         0.0   \n",
       "181503               346.0  ...                         0.0   \n",
       "181504               346.0  ...                         0.0   \n",
       "181505               346.0  ...                         0.0   \n",
       "181506               346.0  ...                         0.0   \n",
       "\n",
       "        cafe_count_5000_price_2500  cafe_count_5000_price_4000  \\\n",
       "0                              9.0                         4.0   \n",
       "1                             15.0                         3.0   \n",
       "2                             10.0                         3.0   \n",
       "3                            319.0                       108.0   \n",
       "4                             62.0                        14.0   \n",
       "...                            ...                         ...   \n",
       "181502                         0.0                         0.0   \n",
       "181503                         0.0                         0.0   \n",
       "181504                         0.0                         0.0   \n",
       "181505                         0.0                         0.0   \n",
       "181506                         0.0                         0.0   \n",
       "\n",
       "        cafe_count_5000_price_high  big_church_count_5000  church_count_5000  \\\n",
       "0                              0.0                   13.0               22.0   \n",
       "1                              0.0                   15.0               29.0   \n",
       "2                              0.0                   11.0               27.0   \n",
       "3                             17.0                  135.0              236.0   \n",
       "4                              1.0                   53.0               78.0   \n",
       "...                            ...                    ...                ...   \n",
       "181502                         0.0                    0.0                2.0   \n",
       "181503                         0.0                    0.0                2.0   \n",
       "181504                         0.0                    0.0                2.0   \n",
       "181505                         0.0                    0.0                2.0   \n",
       "181506                         0.0                    0.0                2.0   \n",
       "\n",
       "        mosque_count_5000  leisure_count_5000 sport_count_5000  \\\n",
       "0                     1.0                 0.0             52.0   \n",
       "1                     1.0                10.0             66.0   \n",
       "2                     0.0                 4.0             67.0   \n",
       "3                     2.0                91.0            195.0   \n",
       "4                     1.0                20.0            113.0   \n",
       "...                   ...                 ...              ...   \n",
       "181502                0.0                 0.0              0.0   \n",
       "181503                0.0                 0.0              0.0   \n",
       "181504                0.0                 0.0              0.0   \n",
       "181505                0.0                 0.0              0.0   \n",
       "181506                0.0                 0.0              0.0   \n",
       "\n",
       "        market_count_5000  \n",
       "0                     4.0  \n",
       "1                    14.0  \n",
       "2                    10.0  \n",
       "3                    14.0  \n",
       "4                    17.0  \n",
       "...                   ...  \n",
       "181502                0.0  \n",
       "181503                0.0  \n",
       "181504                0.0  \n",
       "181505                0.0  \n",
       "181506                0.0  \n",
       "\n",
       "[181507 rows x 271 columns]"
      ]
     },
     "execution_count": 10,
     "metadata": {},
     "output_type": "execute_result"
    }
   ],
   "source": [
    "# so in X, it is ALL the columns EXCEPT the last column known as 'Y' (we can confirm this using the train_data.head() we did earlier) so we must get all columns and DROP only the 'y' column\n",
    "X = train_data.drop(columns=['price_doc'])\n",
    "X # lets display X and see what it is now"
   ]
  },
  {
   "cell_type": "code",
   "execution_count": null,
   "id": "c5fd0e61",
   "metadata": {
    "execution": {
     "iopub.execute_input": "2024-11-09T20:34:53.472322Z",
     "iopub.status.busy": "2024-11-09T20:34:53.472034Z",
     "iopub.status.idle": "2024-11-09T20:34:53.479744Z",
     "shell.execute_reply": "2024-11-09T20:34:53.478930Z",
     "shell.execute_reply.started": "2024-11-09T20:34:53.472292Z"
    },
    "papermill": {
     "duration": 0.023643,
     "end_time": "2024-11-07T20:19:59.654979",
     "exception": false,
     "start_time": "2024-11-07T20:19:59.631336",
     "status": "completed"
    },
    "tags": [],
    "trusted": true
   },
   "outputs": [
    {
     "data": {
      "text/plain": [
       "0          5850000.0\n",
       "1          6000000.0\n",
       "2          5700000.0\n",
       "3         16331452.0\n",
       "4          9100000.0\n",
       "             ...    \n",
       "181502     3480000.0\n",
       "181503     3480000.0\n",
       "181504     3480000.0\n",
       "181505     3480000.0\n",
       "181506     3480000.0\n",
       "Name: price_doc, Length: 181507, dtype: float64"
      ]
     },
     "execution_count": 11,
     "metadata": {},
     "output_type": "execute_result"
    }
   ],
   "source": [
    "# so as per our X output, we can see that number of columns in train_data is 79 and number of columns in X is 78 meaning we have successfully performed our removal of target variable\n",
    "# now to get the target variable alone, we can just get it alone,\n",
    "Y = train_data['price_doc']\n",
    "Y # lets see what it is\n",
    "# as per our Y output, we can see it is of one column and 246k rows which means we have successfully extracted the target variable column"
   ]
  },
  {
   "cell_type": "markdown",
   "id": "b6e9cfd9",
   "metadata": {
    "papermill": {
     "duration": 0.013362,
     "end_time": "2024-11-07T20:20:00.756855",
     "exception": false,
     "start_time": "2024-11-07T20:20:00.743493",
     "status": "completed"
    },
    "tags": []
   },
   "source": [
    "# Filters\n",
    "there are two types of filters to filter out columns/features:\n",
    "- variance filter (a column which has same values throughout the column like all are sunny)\n",
    "- correlation filter (two columns which are same like weight in kg and weight in pounds)"
   ]
  },
  {
   "cell_type": "code",
   "execution_count": null,
   "id": "5934b338",
   "metadata": {
    "execution": {
     "iopub.execute_input": "2024-11-09T20:34:54.323862Z",
     "iopub.status.busy": "2024-11-09T20:34:54.323554Z",
     "iopub.status.idle": "2024-11-09T20:34:54.329537Z",
     "shell.execute_reply": "2024-11-09T20:34:54.328588Z",
     "shell.execute_reply.started": "2024-11-09T20:34:54.323829Z"
    },
    "papermill": {
     "duration": 0.02154,
     "end_time": "2024-11-07T20:20:00.791959",
     "exception": false,
     "start_time": "2024-11-07T20:20:00.770419",
     "status": "completed"
    },
    "tags": [],
    "trusted": true
   },
   "outputs": [],
   "source": [
    "# print(\"X : \", X.shape)\n",
    "# print(\"test data : \", test_data_processed.shape)"
   ]
  },
  {
   "cell_type": "code",
   "execution_count": null,
   "id": "f9c6b8a2",
   "metadata": {
    "execution": {
     "iopub.execute_input": "2024-11-09T20:34:54.331337Z",
     "iopub.status.busy": "2024-11-09T20:34:54.331052Z",
     "iopub.status.idle": "2024-11-09T20:34:54.339745Z",
     "shell.execute_reply": "2024-11-09T20:34:54.338759Z",
     "shell.execute_reply.started": "2024-11-09T20:34:54.331307Z"
    },
    "papermill": {
     "duration": 0.021917,
     "end_time": "2024-11-07T20:20:00.827296",
     "exception": false,
     "start_time": "2024-11-07T20:20:00.805379",
     "status": "completed"
    },
    "tags": [],
    "trusted": true
   },
   "outputs": [
    {
     "data": {
      "text/plain": [
       "(181507, 271)"
      ]
     },
     "execution_count": 13,
     "metadata": {},
     "output_type": "execute_result"
    }
   ],
   "source": [
    "# variance filter\n",
    "# ----------------------------- case  -----------------------------\n",
    "# variance_filter = VarianceThreshold(threshold=0.001)  # Adjust the threshold if needed\n",
    "# X = variance_filter.fit_transform(X)\n",
    "# test_data_processed = variance_filter.fit_transform(test_data_processed)\n",
    "X.shape"
   ]
  },
  {
   "cell_type": "code",
   "execution_count": null,
   "id": "f1604caf",
   "metadata": {
    "execution": {
     "iopub.execute_input": "2024-11-09T20:34:54.341918Z",
     "iopub.status.busy": "2024-11-09T20:34:54.341526Z",
     "iopub.status.idle": "2024-11-09T20:34:54.352761Z",
     "shell.execute_reply": "2024-11-09T20:34:54.351903Z",
     "shell.execute_reply.started": "2024-11-09T20:34:54.341864Z"
    },
    "papermill": {
     "duration": 0.026133,
     "end_time": "2024-11-07T20:20:00.868012",
     "exception": false,
     "start_time": "2024-11-07T20:20:00.841879",
     "status": "completed"
    },
    "tags": [],
    "trusted": true
   },
   "outputs": [],
   "source": [
    "# test_data_processed.shape"
   ]
  },
  {
   "cell_type": "code",
   "execution_count": null,
   "id": "dd97f036",
   "metadata": {
    "execution": {
     "iopub.execute_input": "2024-11-09T20:34:54.354559Z",
     "iopub.status.busy": "2024-11-09T20:34:54.354212Z",
     "iopub.status.idle": "2024-11-09T20:34:54.364098Z",
     "shell.execute_reply": "2024-11-09T20:34:54.362857Z",
     "shell.execute_reply.started": "2024-11-09T20:34:54.354519Z"
    },
    "papermill": {
     "duration": 0.023607,
     "end_time": "2024-11-07T20:20:00.905745",
     "exception": false,
     "start_time": "2024-11-07T20:20:00.882138",
     "status": "completed"
    },
    "tags": [],
    "trusted": true
   },
   "outputs": [
    {
     "data": {
      "text/plain": [
       "(181507, 271)"
      ]
     },
     "execution_count": 15,
     "metadata": {},
     "output_type": "execute_result"
    }
   ],
   "source": [
    "# # correlation filter\n",
    "# # ----------------------------- case  -----------------------------\n",
    "# corr_matrix = pd.DataFrame(X).corr().abs()\n",
    "# upper_tri = corr_matrix.where(np.triu(np.ones(corr_matrix.shape), k=1).astype(bool))\n",
    "# to_drop = [column for column in upper_tri.columns if any(upper_tri[column] > 0.9)]\n",
    "# X = pd.DataFrame(X).drop(columns=to_drop)\n",
    "# test_data_processed = pd.DataFrame(test_data_processed).drop(columns=to_drop)\n",
    "X.shape"
   ]
  },
  {
   "cell_type": "code",
   "execution_count": null,
   "id": "d523de93",
   "metadata": {
    "execution": {
     "iopub.execute_input": "2024-11-09T20:34:54.365730Z",
     "iopub.status.busy": "2024-11-09T20:34:54.365330Z",
     "iopub.status.idle": "2024-11-09T20:34:54.378456Z",
     "shell.execute_reply": "2024-11-09T20:34:54.377574Z",
     "shell.execute_reply.started": "2024-11-09T20:34:54.365688Z"
    },
    "papermill": {
     "duration": 0.023492,
     "end_time": "2024-11-07T20:20:00.943356",
     "exception": false,
     "start_time": "2024-11-07T20:20:00.919864",
     "status": "completed"
    },
    "tags": [],
    "trusted": true
   },
   "outputs": [],
   "source": [
    "# test_data_processed.shape"
   ]
  },
  {
   "cell_type": "markdown",
   "id": "5edcb49b",
   "metadata": {
    "papermill": {
     "duration": 0.016785,
     "end_time": "2024-11-07T20:20:00.974594",
     "exception": false,
     "start_time": "2024-11-07T20:20:00.957809",
     "status": "completed"
    },
    "tags": []
   },
   "source": [
    "## Data Splitting - train and validate\n",
    "now our test_data set is of rows with NO target variable whereas the train_data set is WITH target variable.\n",
    "our rules in machine learning is that we must train half or 70% of the data and then we must check its accuracy using the remaining half or 30% of the data - we can only check accuracy IF we have the answers i.e. the target variable. \n",
    "So, what we need to do is, is split the train_data set into 2, by a 70% and 30% ratio. we train the model using the 70% and then test the model using the 30% and then use that model to predict the test_data set."
   ]
  },
  {
   "cell_type": "code",
   "execution_count": null,
   "id": "237c64fd",
   "metadata": {
    "execution": {
     "iopub.execute_input": "2024-11-09T20:34:54.380121Z",
     "iopub.status.busy": "2024-11-09T20:34:54.379772Z",
     "iopub.status.idle": "2024-11-09T20:34:54.615792Z",
     "shell.execute_reply": "2024-11-09T20:34:54.614961Z",
     "shell.execute_reply.started": "2024-11-09T20:34:54.380082Z"
    },
    "papermill": {
     "duration": 0.273955,
     "end_time": "2024-11-07T20:20:01.264394",
     "exception": false,
     "start_time": "2024-11-07T20:20:00.990439",
     "status": "completed"
    },
    "tags": [],
    "trusted": true
   },
   "outputs": [],
   "source": [
    "# holdout method\n",
    "trainX, testX, trainY, testY = train_test_split(X, Y, test_size=0.2, random_state=42)"
   ]
  },
  {
   "cell_type": "markdown",
   "id": "b1485955",
   "metadata": {
    "papermill": {
     "duration": 0.013949,
     "end_time": "2024-11-07T20:20:01.292747",
     "exception": false,
     "start_time": "2024-11-07T20:20:01.278798",
     "status": "completed"
    },
    "tags": []
   },
   "source": [
    "# functions\n",
    "here we have defined functions like forward-backward selection, kbest selection & algorithm feature importance"
   ]
  },
  {
   "cell_type": "code",
   "execution_count": null,
   "id": "bc14528e",
   "metadata": {},
   "outputs": [],
   "source": [
    "class VerboseSequentialFeatureSelector(SequentialFeatureSelector):\n",
    "    def fit(self, X, y):\n",
    "        print(\"Starting feature selection...\")\n",
    "        selected_features = []\n",
    "        for i in range(1, self.n_features_to_select + 1):\n",
    "            print(f\"Selecting feature {i}/{self.n_features_to_select}\")\n",
    "            super().fit(X, y)\n",
    "            selected_features = self.get_support(indices=True)\n",
    "            print(f\"Features selected so far: {selected_features}\")\n",
    "        return self"
   ]
  },
  {
   "cell_type": "code",
   "execution_count": null,
   "id": "836da9a8",
   "metadata": {
    "execution": {
     "iopub.execute_input": "2024-11-09T20:34:54.617302Z",
     "iopub.status.busy": "2024-11-09T20:34:54.616979Z",
     "iopub.status.idle": "2024-11-09T20:34:54.625434Z",
     "shell.execute_reply": "2024-11-09T20:34:54.624603Z",
     "shell.execute_reply.started": "2024-11-09T20:34:54.617269Z"
    },
    "papermill": {
     "duration": 0.023729,
     "end_time": "2024-11-07T20:20:01.330428",
     "exception": false,
     "start_time": "2024-11-07T20:20:01.306699",
     "status": "completed"
    },
    "tags": [],
    "trusted": true
   },
   "outputs": [],
   "source": [
    "# forward backward selection\n",
    "\n",
    "def fbselection(direction, sample_model, features, sample_X, sample_Y, X, trainX, trainY, testX, test_data_processed):\n",
    "    print(\"starting\")\n",
    "    selection = VerboseSequentialFeatureSelector(sample_model, direction=direction, n_features_to_select=features, scoring='r2', n_jobs=-1)\n",
    "    return modelSelector(sample_model, selection, sample_X, sample_Y, X, trainX, trainY, testX, test_data_processed)\n",
    "\n",
    "def modelSelector(sample_model, selection, sample_X, sample_Y, X, trainX, trainY, testX, test_data_processed):\n",
    "\n",
    "    print(\"start extracting\")\n",
    "\n",
    "    sample_X = selection.fit_transform(sample_X, sample_Y)\n",
    "\n",
    "    print(\"extracted, transforming\")\n",
    "\n",
    "    trainX = selection.transform(trainX)\n",
    "\n",
    "    testX = selection.transform(testX)                                  # Ensure the test set is transformed similarly\n",
    "\n",
    "    test_data_processed = selection.transform(test_data_processed)      # test data is also transformed\n",
    "\n",
    "    X = selection.transform(X)                                          # full data transforming\n",
    "\n",
    "    print(\"transformed\")\n",
    "\n",
    "    return sample_model, X, trainX, trainY, testX, test_data_processed\n",
    "\n",
    "\n",
    "\n",
    "# kbest selection\n",
    "\n",
    "def kbest(sample_model, features, sample_X, sample_Y, X, trainX, trainY, testX, test_data_processed):\n",
    "\n",
    "    print(\"starting\")\n",
    "\n",
    "    selection = SelectKBest(score_func=f_classif, k=features)\n",
    "\n",
    "    return modelSelector(sample_model, selection, sample_X, sample_Y,X, trainX, trainY, testX, test_data_processed)"
   ]
  },
  {
   "cell_type": "code",
   "execution_count": null,
   "id": "0a0bc955",
   "metadata": {
    "execution": {
     "iopub.execute_input": "2024-11-09T20:34:54.626998Z",
     "iopub.status.busy": "2024-11-09T20:34:54.626670Z",
     "iopub.status.idle": "2024-11-09T20:34:54.637011Z",
     "shell.execute_reply": "2024-11-09T20:34:54.636252Z",
     "shell.execute_reply.started": "2024-11-09T20:34:54.626952Z"
    },
    "papermill": {
     "duration": 0.025235,
     "end_time": "2024-11-07T20:20:01.370030",
     "exception": false,
     "start_time": "2024-11-07T20:20:01.344795",
     "status": "completed"
    },
    "tags": [],
    "trusted": true
   },
   "outputs": [],
   "source": [
    "# feature importance function\n",
    "def featureImportance(sample_model, features, X, trainX, trainY, testX, test_data_processed):\n",
    "    print(\"fitting\")\n",
    "    \n",
    "    # fit the model\n",
    "    sample_model.fit(trainX, trainY)\n",
    "\n",
    "    print(\"extracting features\")\n",
    "\n",
    "    # extract all the feature names from data\n",
    "    importances = sample_model.feature_importances_\n",
    "    feature_names = train_data.drop(columns=['price_doc']).columns\n",
    "    print(feature_names)\n",
    "\n",
    "    # sort with respect to importance\n",
    "    feature_importance_df = pd.DataFrame({\n",
    "        'Feature': feature_names,\n",
    "        'Importance': importances\n",
    "    }).sort_values(by='Importance', ascending=False)\n",
    "\n",
    "    # extract the top ones\n",
    "    top_features = feature_importance_df['Feature'].head(features).values\n",
    "    print(top_features)\n",
    "\n",
    "    # change all data according to the top ones we have selected\n",
    "    trainX = pd.DataFrame(trainX, columns=feature_names)[top_features]\n",
    "    testX = pd.DataFrame(testX, columns=feature_names)[top_features]\n",
    "    X = pd.DataFrame(X, columns=feature_names)[top_features]\n",
    "    test_data_processed = pd.DataFrame(test_data_processed, columns=feature_names)[top_features]\n",
    "\n",
    "    print(\"features extracted\")\n",
    "    \n",
    "    # retrain the model\n",
    "    sample_model.fit(trainX, trainY)\n",
    "\n",
    "    print(\"features trained\")\n",
    "    \n",
    "    return sample_model, X, trainX, trainY, testX, test_data_processed"
   ]
  },
  {
   "cell_type": "markdown",
   "id": "fc6047d2",
   "metadata": {
    "papermill": {
     "duration": 0.013797,
     "end_time": "2024-11-07T20:20:01.398362",
     "exception": false,
     "start_time": "2024-11-07T20:20:01.384565",
     "status": "completed"
    },
    "tags": []
   },
   "source": [
    "## model intialization\n",
    "here model is intialized"
   ]
  },
  {
   "cell_type": "code",
   "execution_count": null,
   "id": "9b5ae546",
   "metadata": {},
   "outputs": [
    {
     "name": "stdout",
     "output_type": "stream",
     "text": [
      "trainX completed\n",
      "testX completed\n",
      "test data completed\n",
      "(181507, 2214)\n"
     ]
    }
   ],
   "source": [
    "# trainX = preprocessor.fit_transform(trainX)\n",
    "# print(\"trainX completed\")\n",
    "# testX = preprocessor.transform(testX)\n",
    "# print(\"testX completed\")\n",
    "# test_data = preprocessor.transform(test_data)\n",
    "# print(\"test data completed\")\n",
    "# X = preprocessor.transform(X)\n",
    "# print(X.shape)"
   ]
  },
  {
   "cell_type": "code",
   "execution_count": null,
   "id": "511dc0e2",
   "metadata": {
    "execution": {
     "iopub.execute_input": "2024-11-09T20:34:54.638616Z",
     "iopub.status.busy": "2024-11-09T20:34:54.638241Z",
     "iopub.status.idle": "2024-11-09T20:34:54.651652Z",
     "shell.execute_reply": "2024-11-09T20:34:54.650861Z",
     "shell.execute_reply.started": "2024-11-09T20:34:54.638557Z"
    },
    "papermill": {
     "duration": 0.021268,
     "end_time": "2024-11-07T20:20:01.433590",
     "exception": false,
     "start_time": "2024-11-07T20:20:01.412322",
     "status": "completed"
    },
    "tags": [],
    "trusted": true
   },
   "outputs": [],
   "source": [
    "# declare the model here\n",
    "model = XGBRegressor(max_depth=10, learning_rate=0.01, n_estimators=1600, subsample=0.85, reg_lambda=0.2, reg_alpha=0.8)"
   ]
  },
  {
   "cell_type": "code",
   "execution_count": null,
   "id": "585f7723",
   "metadata": {
    "execution": {
     "iopub.execute_input": "2024-11-09T21:05:03.767309Z",
     "iopub.status.busy": "2024-11-09T21:05:03.766992Z",
     "iopub.status.idle": "2024-11-09T21:05:03.776385Z",
     "shell.execute_reply": "2024-11-09T21:05:03.775476Z",
     "shell.execute_reply.started": "2024-11-09T21:05:03.767271Z"
    },
    "papermill": {
     "duration": 0.02329,
     "end_time": "2024-11-07T20:20:14.141486",
     "exception": false,
     "start_time": "2024-11-07T20:20:14.118196",
     "status": "completed"
    },
    "tags": [],
    "trusted": true
   },
   "outputs": [
    {
     "name": "stdout",
     "output_type": "stream",
     "text": [
      "X shape ->  (181507, 2214)\n",
      "trainX shape ->  (145205, 2214)\n",
      "testX shape ->  (36302, 2214)\n",
      "test_data_processed shape ->  (77789, 2214)\n"
     ]
    }
   ],
   "source": [
    "print(\"X shape -> \", X.shape)\n",
    "print(\"trainX shape -> \", trainX.shape)\n",
    "print(\"testX shape -> \", testX.shape)\n",
    "print(\"test_data_processed shape -> \", test_data.shape)"
   ]
  },
  {
   "cell_type": "markdown",
   "id": "34c9426d",
   "metadata": {},
   "source": [
    "# feature selection\n",
    "here we will apply feature selection and feature importance"
   ]
  },
  {
   "cell_type": "code",
   "execution_count": null,
   "id": "b5b232f3",
   "metadata": {},
   "outputs": [
    {
     "name": "stdout",
     "output_type": "stream",
     "text": [
      "            full_sq      life_sq      floor   product_type  \\\n",
      "43601     36.780986    18.796831   6.796831     Investment   \n",
      "52152     57.976420    32.000000  12.000000     Investment   \n",
      "70040     37.358033    22.255738   6.897705     Investment   \n",
      "130606   135.936543   116.250766   6.364551  OwnerOccupier   \n",
      "3358      46.000000    28.000000   3.000000     Investment   \n",
      "...             ...          ...        ...            ...   \n",
      "158989    48.725862   594.497944   4.274138  OwnerOccupier   \n",
      "146497  2389.878188  4695.568161  27.429445     Investment   \n",
      "149854  5284.500467  2687.934217  40.203793     Investment   \n",
      "125100    33.534503    20.511501   3.465497     Investment   \n",
      "68448   1135.743909  5214.521791  12.328227  OwnerOccupier   \n",
      "\n",
      "                      sub_area        area_m    raion_popul  green_zone_part  \\\n",
      "43601   Chertanovo Central'noe  6.879020e+06  112221.000000         0.061477   \n",
      "52152    Moskvorech'e-Saburovo  1.004686e+07   76156.000000         0.071056   \n",
      "70040                Izmajlovo  1.504557e+07  102828.000000         0.637399   \n",
      "130606          Krasnosel'skoe  4.996777e+06   47245.000000         0.011048   \n",
      "3358      Birjulevo Vostochnoe  1.479557e+07  145088.000000         0.308057   \n",
      "...                        ...           ...            ...              ...   \n",
      "158989  Poselenie Pervomajskoe  1.186638e+08    7538.000000         0.551883   \n",
      "146497          Mar'ina Rohsha  9.550500e+07  219323.140167         0.524273   \n",
      "149854            Altufe'vskoe  1.921493e+08  202939.591597         0.167554   \n",
      "125100             Savelovskoe  2.641243e+06   57995.000000         0.015900   \n",
      "68448                  Kurkion  1.008818e+08   30770.117740         0.682278   \n",
      "\n",
      "        indust_part  children_preschool  ...  cafe_count_5000_price_1500  \\\n",
      "43601      0.282798         7104.000000  ...                   29.812676   \n",
      "52152      0.246032         3816.000000  ...                   29.000000   \n",
      "70040      0.006076         4992.000000  ...                   34.948852   \n",
      "130606     0.246624         2287.000000  ...                  465.859955   \n",
      "3358       0.050900         9223.000000  ...                   22.000000   \n",
      "...             ...                 ...  ...                         ...   \n",
      "158989     0.014073          477.000000  ...                    0.000000   \n",
      "146497     0.245236         9537.016899  ...                  136.810328   \n",
      "149854     0.244367        14450.768743  ...                   65.946393   \n",
      "125100     0.051942         4119.000000  ...                  259.194939   \n",
      "68448      0.310512         4598.565356  ...                  123.804352   \n",
      "\n",
      "        cafe_count_5000_price_2500  cafe_count_5000_price_4000  \\\n",
      "43601                    11.000000                    0.000000   \n",
      "52152                    12.994105                    3.000000   \n",
      "70040                    12.982951                    2.000000   \n",
      "130606                  271.612253                   90.394748   \n",
      "3358                      8.000000                    3.000000   \n",
      "...                            ...                         ...   \n",
      "158989                    0.000000                    0.000000   \n",
      "146497                  192.065823                    5.225135   \n",
      "149854                   60.294510                   44.714969   \n",
      "125100                  181.470960                   66.166475   \n",
      "68448                    39.206439                   54.065176   \n",
      "\n",
      "        cafe_count_5000_price_high  big_church_count_5000  church_count_5000  \\\n",
      "43601                     0.000000               6.000000          24.593662   \n",
      "52152                     0.000000               6.000000          26.994105   \n",
      "70040                     0.000000              13.000000          18.000000   \n",
      "130606                   15.280963             112.582057         198.602188   \n",
      "3358                      0.000000               4.000000          11.000000   \n",
      "...                            ...                    ...                ...   \n",
      "158989                    0.000000               0.000000           3.000000   \n",
      "146497                    8.473547             128.214684         211.179162   \n",
      "149854                    6.977261              66.183726         169.290182   \n",
      "125100                   17.976998              42.373490          81.884991   \n",
      "68448                    29.154652              89.719368          95.345591   \n",
      "\n",
      "        mosque_count_5000  leisure_count_5000 sport_count_5000  \\\n",
      "43601            1.000000            1.203169        40.609507   \n",
      "52152            1.000000           10.000000        57.000000   \n",
      "70040            0.000000            3.000000        74.897705   \n",
      "130606           1.364551           75.842888       184.394748   \n",
      "3358             0.000000            2.000000        34.000000   \n",
      "...                   ...                 ...              ...   \n",
      "158989           0.000000            0.000000         0.000000   \n",
      "146497           1.955892           73.591008        66.154944   \n",
      "149854           0.350463           49.148639        75.599007   \n",
      "125100           1.000000           44.304485       141.465497   \n",
      "68448            0.123460            1.469218        15.688117   \n",
      "\n",
      "        market_count_5000  \n",
      "43601           13.203169  \n",
      "52152           13.000000  \n",
      "70040            8.982951  \n",
      "130606          13.000000  \n",
      "3358             6.000000  \n",
      "...                   ...  \n",
      "158989           0.000000  \n",
      "146497          19.891905  \n",
      "149854          19.649037  \n",
      "125100          13.000000  \n",
      "68448           16.839899  \n",
      "\n",
      "[18151 rows x 271 columns]\n",
      "(18151, 271)\n",
      "(18151,)\n"
     ]
    }
   ],
   "source": [
    "# sample_train = train_data.sample(frac=0.1)\n",
    "# sample_X = sample_train.drop(columns=['price_doc'])\n",
    "# sample_Y = sample_train['price_doc']\n",
    "# print(sample_X)\n",
    "# print(sample_X.shape)\n",
    "# print(sample_Y.shape)"
   ]
  },
  {
   "cell_type": "code",
   "execution_count": null,
   "id": "22776c45",
   "metadata": {},
   "outputs": [],
   "source": [
    "# sample_X = preprocessor.transform(sample_X)"
   ]
  },
  {
   "cell_type": "code",
   "execution_count": null,
   "id": "b543f060",
   "metadata": {},
   "outputs": [
    {
     "name": "stdout",
     "output_type": "stream",
     "text": [
      "starting\n",
      "start extracting\n",
      "Starting feature selection...\n",
      "Selecting feature 1/100\n"
     ]
    },
    {
     "ename": "KeyboardInterrupt",
     "evalue": "",
     "output_type": "error",
     "traceback": [
      "\u001b[1;31m---------------------------------------------------------------------------\u001b[0m",
      "\u001b[1;31mKeyboardInterrupt\u001b[0m                         Traceback (most recent call last)",
      "Cell \u001b[1;32mIn[27], line 2\u001b[0m\n\u001b[0;32m      1\u001b[0m \u001b[38;5;66;03m# Feature selection\u001b[39;00m\n\u001b[1;32m----> 2\u001b[0m model, X, trainX, trainY, testX, test_data \u001b[38;5;241m=\u001b[39m \u001b[43mfbselection\u001b[49m\u001b[43m(\u001b[49m\n\u001b[0;32m      3\u001b[0m \u001b[43m    \u001b[49m\u001b[38;5;124;43m\"\u001b[39;49m\u001b[38;5;124;43mforward\u001b[39;49m\u001b[38;5;124;43m\"\u001b[39;49m\u001b[43m,\u001b[49m\u001b[43m \u001b[49m\u001b[43mmodel\u001b[49m\u001b[43m,\u001b[49m\u001b[43m \u001b[49m\u001b[38;5;241;43m100\u001b[39;49m\u001b[43m,\u001b[49m\u001b[43m \u001b[49m\u001b[43msample_X\u001b[49m\u001b[43m,\u001b[49m\u001b[43m \u001b[49m\u001b[43msample_Y\u001b[49m\u001b[43m,\u001b[49m\u001b[43m \u001b[49m\u001b[43mX\u001b[49m\u001b[43m,\u001b[49m\u001b[43m \u001b[49m\u001b[43mtrainX\u001b[49m\u001b[43m,\u001b[49m\u001b[43m \u001b[49m\u001b[43mtrainY\u001b[49m\u001b[43m,\u001b[49m\u001b[43m \u001b[49m\u001b[43mtestX\u001b[49m\u001b[43m,\u001b[49m\u001b[43m \u001b[49m\u001b[43mtest_data\u001b[49m\n\u001b[0;32m      4\u001b[0m \u001b[43m)\u001b[49m\n",
      "Cell \u001b[1;32mIn[19], line 6\u001b[0m, in \u001b[0;36mfbselection\u001b[1;34m(direction, sample_model, features, sample_X, sample_Y, X, trainX, trainY, testX, test_data_processed)\u001b[0m\n\u001b[0;32m      4\u001b[0m \u001b[38;5;28mprint\u001b[39m(\u001b[38;5;124m\"\u001b[39m\u001b[38;5;124mstarting\u001b[39m\u001b[38;5;124m\"\u001b[39m)\n\u001b[0;32m      5\u001b[0m selection \u001b[38;5;241m=\u001b[39m VerboseSequentialFeatureSelector(sample_model, direction\u001b[38;5;241m=\u001b[39mdirection, n_features_to_select\u001b[38;5;241m=\u001b[39mfeatures, scoring\u001b[38;5;241m=\u001b[39m\u001b[38;5;124m'\u001b[39m\u001b[38;5;124mr2\u001b[39m\u001b[38;5;124m'\u001b[39m, n_jobs\u001b[38;5;241m=\u001b[39m\u001b[38;5;241m-\u001b[39m\u001b[38;5;241m1\u001b[39m)\n\u001b[1;32m----> 6\u001b[0m \u001b[38;5;28;01mreturn\u001b[39;00m \u001b[43mmodelSelector\u001b[49m\u001b[43m(\u001b[49m\u001b[43msample_model\u001b[49m\u001b[43m,\u001b[49m\u001b[43m \u001b[49m\u001b[43mselection\u001b[49m\u001b[43m,\u001b[49m\u001b[43m \u001b[49m\u001b[43msample_X\u001b[49m\u001b[43m,\u001b[49m\u001b[43m \u001b[49m\u001b[43msample_Y\u001b[49m\u001b[43m,\u001b[49m\u001b[43m \u001b[49m\u001b[43mX\u001b[49m\u001b[43m,\u001b[49m\u001b[43m \u001b[49m\u001b[43mtrainX\u001b[49m\u001b[43m,\u001b[49m\u001b[43m \u001b[49m\u001b[43mtrainY\u001b[49m\u001b[43m,\u001b[49m\u001b[43m \u001b[49m\u001b[43mtestX\u001b[49m\u001b[43m,\u001b[49m\u001b[43m \u001b[49m\u001b[43mtest_data_processed\u001b[49m\u001b[43m)\u001b[49m\n",
      "Cell \u001b[1;32mIn[19], line 12\u001b[0m, in \u001b[0;36mmodelSelector\u001b[1;34m(sample_model, selection, sample_X, sample_Y, X, trainX, trainY, testX, test_data_processed)\u001b[0m\n\u001b[0;32m      8\u001b[0m \u001b[38;5;28;01mdef\u001b[39;00m \u001b[38;5;21mmodelSelector\u001b[39m(sample_model, selection, sample_X, sample_Y, X, trainX, trainY, testX, test_data_processed):\n\u001b[0;32m     10\u001b[0m     \u001b[38;5;28mprint\u001b[39m(\u001b[38;5;124m\"\u001b[39m\u001b[38;5;124mstart extracting\u001b[39m\u001b[38;5;124m\"\u001b[39m)\n\u001b[1;32m---> 12\u001b[0m     sample_X \u001b[38;5;241m=\u001b[39m \u001b[43mselection\u001b[49m\u001b[38;5;241;43m.\u001b[39;49m\u001b[43mfit_transform\u001b[49m\u001b[43m(\u001b[49m\u001b[43msample_X\u001b[49m\u001b[43m,\u001b[49m\u001b[43m \u001b[49m\u001b[43msample_Y\u001b[49m\u001b[43m)\u001b[49m\n\u001b[0;32m     14\u001b[0m     \u001b[38;5;28mprint\u001b[39m(\u001b[38;5;124m\"\u001b[39m\u001b[38;5;124mextracted, transforming\u001b[39m\u001b[38;5;124m\"\u001b[39m)\n\u001b[0;32m     16\u001b[0m     trainX \u001b[38;5;241m=\u001b[39m selection\u001b[38;5;241m.\u001b[39mtransform(trainX)\n",
      "File \u001b[1;32m~\\AppData\\Local\\Packages\\PythonSoftwareFoundation.Python.3.12_qbz5n2kfra8p0\\LocalCache\\local-packages\\Python312\\site-packages\\sklearn\\utils\\_set_output.py:316\u001b[0m, in \u001b[0;36m_wrap_method_output.<locals>.wrapped\u001b[1;34m(self, X, *args, **kwargs)\u001b[0m\n\u001b[0;32m    314\u001b[0m \u001b[38;5;129m@wraps\u001b[39m(f)\n\u001b[0;32m    315\u001b[0m \u001b[38;5;28;01mdef\u001b[39;00m \u001b[38;5;21mwrapped\u001b[39m(\u001b[38;5;28mself\u001b[39m, X, \u001b[38;5;241m*\u001b[39margs, \u001b[38;5;241m*\u001b[39m\u001b[38;5;241m*\u001b[39mkwargs):\n\u001b[1;32m--> 316\u001b[0m     data_to_wrap \u001b[38;5;241m=\u001b[39m \u001b[43mf\u001b[49m\u001b[43m(\u001b[49m\u001b[38;5;28;43mself\u001b[39;49m\u001b[43m,\u001b[49m\u001b[43m \u001b[49m\u001b[43mX\u001b[49m\u001b[43m,\u001b[49m\u001b[43m \u001b[49m\u001b[38;5;241;43m*\u001b[39;49m\u001b[43margs\u001b[49m\u001b[43m,\u001b[49m\u001b[43m \u001b[49m\u001b[38;5;241;43m*\u001b[39;49m\u001b[38;5;241;43m*\u001b[39;49m\u001b[43mkwargs\u001b[49m\u001b[43m)\u001b[49m\n\u001b[0;32m    317\u001b[0m     \u001b[38;5;28;01mif\u001b[39;00m \u001b[38;5;28misinstance\u001b[39m(data_to_wrap, \u001b[38;5;28mtuple\u001b[39m):\n\u001b[0;32m    318\u001b[0m         \u001b[38;5;66;03m# only wrap the first output for cross decomposition\u001b[39;00m\n\u001b[0;32m    319\u001b[0m         return_tuple \u001b[38;5;241m=\u001b[39m (\n\u001b[0;32m    320\u001b[0m             _wrap_data_with_container(method, data_to_wrap[\u001b[38;5;241m0\u001b[39m], X, \u001b[38;5;28mself\u001b[39m),\n\u001b[0;32m    321\u001b[0m             \u001b[38;5;241m*\u001b[39mdata_to_wrap[\u001b[38;5;241m1\u001b[39m:],\n\u001b[0;32m    322\u001b[0m         )\n",
      "File \u001b[1;32m~\\AppData\\Local\\Packages\\PythonSoftwareFoundation.Python.3.12_qbz5n2kfra8p0\\LocalCache\\local-packages\\Python312\\site-packages\\sklearn\\base.py:1101\u001b[0m, in \u001b[0;36mTransformerMixin.fit_transform\u001b[1;34m(self, X, y, **fit_params)\u001b[0m\n\u001b[0;32m   1098\u001b[0m     \u001b[38;5;28;01mreturn\u001b[39;00m \u001b[38;5;28mself\u001b[39m\u001b[38;5;241m.\u001b[39mfit(X, \u001b[38;5;241m*\u001b[39m\u001b[38;5;241m*\u001b[39mfit_params)\u001b[38;5;241m.\u001b[39mtransform(X)\n\u001b[0;32m   1099\u001b[0m \u001b[38;5;28;01melse\u001b[39;00m:\n\u001b[0;32m   1100\u001b[0m     \u001b[38;5;66;03m# fit method of arity 2 (supervised transformation)\u001b[39;00m\n\u001b[1;32m-> 1101\u001b[0m     \u001b[38;5;28;01mreturn\u001b[39;00m \u001b[38;5;28;43mself\u001b[39;49m\u001b[38;5;241;43m.\u001b[39;49m\u001b[43mfit\u001b[49m\u001b[43m(\u001b[49m\u001b[43mX\u001b[49m\u001b[43m,\u001b[49m\u001b[43m \u001b[49m\u001b[43my\u001b[49m\u001b[43m,\u001b[49m\u001b[43m \u001b[49m\u001b[38;5;241;43m*\u001b[39;49m\u001b[38;5;241;43m*\u001b[39;49m\u001b[43mfit_params\u001b[49m\u001b[43m)\u001b[49m\u001b[38;5;241m.\u001b[39mtransform(X)\n",
      "Cell \u001b[1;32mIn[18], line 7\u001b[0m, in \u001b[0;36mVerboseSequentialFeatureSelector.fit\u001b[1;34m(self, X, y)\u001b[0m\n\u001b[0;32m      5\u001b[0m \u001b[38;5;28;01mfor\u001b[39;00m i \u001b[38;5;129;01min\u001b[39;00m \u001b[38;5;28mrange\u001b[39m(\u001b[38;5;241m1\u001b[39m, \u001b[38;5;28mself\u001b[39m\u001b[38;5;241m.\u001b[39mn_features_to_select \u001b[38;5;241m+\u001b[39m \u001b[38;5;241m1\u001b[39m):\n\u001b[0;32m      6\u001b[0m     \u001b[38;5;28mprint\u001b[39m(\u001b[38;5;124mf\u001b[39m\u001b[38;5;124m\"\u001b[39m\u001b[38;5;124mSelecting feature \u001b[39m\u001b[38;5;132;01m{\u001b[39;00mi\u001b[38;5;132;01m}\u001b[39;00m\u001b[38;5;124m/\u001b[39m\u001b[38;5;132;01m{\u001b[39;00m\u001b[38;5;28mself\u001b[39m\u001b[38;5;241m.\u001b[39mn_features_to_select\u001b[38;5;132;01m}\u001b[39;00m\u001b[38;5;124m\"\u001b[39m)\n\u001b[1;32m----> 7\u001b[0m     \u001b[38;5;28;43msuper\u001b[39;49m\u001b[43m(\u001b[49m\u001b[43m)\u001b[49m\u001b[38;5;241;43m.\u001b[39;49m\u001b[43mfit\u001b[49m\u001b[43m(\u001b[49m\u001b[43mX\u001b[49m\u001b[43m,\u001b[49m\u001b[43m \u001b[49m\u001b[43my\u001b[49m\u001b[43m)\u001b[49m\n\u001b[0;32m      8\u001b[0m     selected_features \u001b[38;5;241m=\u001b[39m \u001b[38;5;28mself\u001b[39m\u001b[38;5;241m.\u001b[39mget_support(indices\u001b[38;5;241m=\u001b[39m\u001b[38;5;28;01mTrue\u001b[39;00m)\n\u001b[0;32m      9\u001b[0m     \u001b[38;5;28mprint\u001b[39m(\u001b[38;5;124mf\u001b[39m\u001b[38;5;124m\"\u001b[39m\u001b[38;5;124mFeatures selected so far: \u001b[39m\u001b[38;5;132;01m{\u001b[39;00mselected_features\u001b[38;5;132;01m}\u001b[39;00m\u001b[38;5;124m\"\u001b[39m)\n",
      "File \u001b[1;32m~\\AppData\\Local\\Packages\\PythonSoftwareFoundation.Python.3.12_qbz5n2kfra8p0\\LocalCache\\local-packages\\Python312\\site-packages\\sklearn\\base.py:1473\u001b[0m, in \u001b[0;36m_fit_context.<locals>.decorator.<locals>.wrapper\u001b[1;34m(estimator, *args, **kwargs)\u001b[0m\n\u001b[0;32m   1466\u001b[0m     estimator\u001b[38;5;241m.\u001b[39m_validate_params()\n\u001b[0;32m   1468\u001b[0m \u001b[38;5;28;01mwith\u001b[39;00m config_context(\n\u001b[0;32m   1469\u001b[0m     skip_parameter_validation\u001b[38;5;241m=\u001b[39m(\n\u001b[0;32m   1470\u001b[0m         prefer_skip_nested_validation \u001b[38;5;129;01mor\u001b[39;00m global_skip_validation\n\u001b[0;32m   1471\u001b[0m     )\n\u001b[0;32m   1472\u001b[0m ):\n\u001b[1;32m-> 1473\u001b[0m     \u001b[38;5;28;01mreturn\u001b[39;00m \u001b[43mfit_method\u001b[49m\u001b[43m(\u001b[49m\u001b[43mestimator\u001b[49m\u001b[43m,\u001b[49m\u001b[43m \u001b[49m\u001b[38;5;241;43m*\u001b[39;49m\u001b[43margs\u001b[49m\u001b[43m,\u001b[49m\u001b[43m \u001b[49m\u001b[38;5;241;43m*\u001b[39;49m\u001b[38;5;241;43m*\u001b[39;49m\u001b[43mkwargs\u001b[49m\u001b[43m)\u001b[49m\n",
      "File \u001b[1;32m~\\AppData\\Local\\Packages\\PythonSoftwareFoundation.Python.3.12_qbz5n2kfra8p0\\LocalCache\\local-packages\\Python312\\site-packages\\sklearn\\feature_selection\\_sequential.py:255\u001b[0m, in \u001b[0;36mSequentialFeatureSelector.fit\u001b[1;34m(self, X, y)\u001b[0m\n\u001b[0;32m    253\u001b[0m is_auto_select \u001b[38;5;241m=\u001b[39m \u001b[38;5;28mself\u001b[39m\u001b[38;5;241m.\u001b[39mtol \u001b[38;5;129;01mis\u001b[39;00m \u001b[38;5;129;01mnot\u001b[39;00m \u001b[38;5;28;01mNone\u001b[39;00m \u001b[38;5;129;01mand\u001b[39;00m \u001b[38;5;28mself\u001b[39m\u001b[38;5;241m.\u001b[39mn_features_to_select \u001b[38;5;241m==\u001b[39m \u001b[38;5;124m\"\u001b[39m\u001b[38;5;124mauto\u001b[39m\u001b[38;5;124m\"\u001b[39m\n\u001b[0;32m    254\u001b[0m \u001b[38;5;28;01mfor\u001b[39;00m _ \u001b[38;5;129;01min\u001b[39;00m \u001b[38;5;28mrange\u001b[39m(n_iterations):\n\u001b[1;32m--> 255\u001b[0m     new_feature_idx, new_score \u001b[38;5;241m=\u001b[39m \u001b[38;5;28;43mself\u001b[39;49m\u001b[38;5;241;43m.\u001b[39;49m\u001b[43m_get_best_new_feature_score\u001b[49m\u001b[43m(\u001b[49m\n\u001b[0;32m    256\u001b[0m \u001b[43m        \u001b[49m\u001b[43mcloned_estimator\u001b[49m\u001b[43m,\u001b[49m\u001b[43m \u001b[49m\u001b[43mX\u001b[49m\u001b[43m,\u001b[49m\u001b[43m \u001b[49m\u001b[43my\u001b[49m\u001b[43m,\u001b[49m\u001b[43m \u001b[49m\u001b[43mcv\u001b[49m\u001b[43m,\u001b[49m\u001b[43m \u001b[49m\u001b[43mcurrent_mask\u001b[49m\n\u001b[0;32m    257\u001b[0m \u001b[43m    \u001b[49m\u001b[43m)\u001b[49m\n\u001b[0;32m    258\u001b[0m     \u001b[38;5;28;01mif\u001b[39;00m is_auto_select \u001b[38;5;129;01mand\u001b[39;00m ((new_score \u001b[38;5;241m-\u001b[39m old_score) \u001b[38;5;241m<\u001b[39m \u001b[38;5;28mself\u001b[39m\u001b[38;5;241m.\u001b[39mtol):\n\u001b[0;32m    259\u001b[0m         \u001b[38;5;28;01mbreak\u001b[39;00m\n",
      "File \u001b[1;32m~\\AppData\\Local\\Packages\\PythonSoftwareFoundation.Python.3.12_qbz5n2kfra8p0\\LocalCache\\local-packages\\Python312\\site-packages\\sklearn\\feature_selection\\_sequential.py:286\u001b[0m, in \u001b[0;36mSequentialFeatureSelector._get_best_new_feature_score\u001b[1;34m(self, estimator, X, y, cv, current_mask)\u001b[0m\n\u001b[0;32m    284\u001b[0m         candidate_mask \u001b[38;5;241m=\u001b[39m \u001b[38;5;241m~\u001b[39mcandidate_mask\n\u001b[0;32m    285\u001b[0m     X_new \u001b[38;5;241m=\u001b[39m X[:, candidate_mask]\n\u001b[1;32m--> 286\u001b[0m     scores[feature_idx] \u001b[38;5;241m=\u001b[39m \u001b[43mcross_val_score\u001b[49m\u001b[43m(\u001b[49m\n\u001b[0;32m    287\u001b[0m \u001b[43m        \u001b[49m\u001b[43mestimator\u001b[49m\u001b[43m,\u001b[49m\n\u001b[0;32m    288\u001b[0m \u001b[43m        \u001b[49m\u001b[43mX_new\u001b[49m\u001b[43m,\u001b[49m\n\u001b[0;32m    289\u001b[0m \u001b[43m        \u001b[49m\u001b[43my\u001b[49m\u001b[43m,\u001b[49m\n\u001b[0;32m    290\u001b[0m \u001b[43m        \u001b[49m\u001b[43mcv\u001b[49m\u001b[38;5;241;43m=\u001b[39;49m\u001b[43mcv\u001b[49m\u001b[43m,\u001b[49m\n\u001b[0;32m    291\u001b[0m \u001b[43m        \u001b[49m\u001b[43mscoring\u001b[49m\u001b[38;5;241;43m=\u001b[39;49m\u001b[38;5;28;43mself\u001b[39;49m\u001b[38;5;241;43m.\u001b[39;49m\u001b[43mscoring\u001b[49m\u001b[43m,\u001b[49m\n\u001b[0;32m    292\u001b[0m \u001b[43m        \u001b[49m\u001b[43mn_jobs\u001b[49m\u001b[38;5;241;43m=\u001b[39;49m\u001b[38;5;28;43mself\u001b[39;49m\u001b[38;5;241;43m.\u001b[39;49m\u001b[43mn_jobs\u001b[49m\u001b[43m,\u001b[49m\n\u001b[0;32m    293\u001b[0m \u001b[43m    \u001b[49m\u001b[43m)\u001b[49m\u001b[38;5;241m.\u001b[39mmean()\n\u001b[0;32m    294\u001b[0m new_feature_idx \u001b[38;5;241m=\u001b[39m \u001b[38;5;28mmax\u001b[39m(scores, key\u001b[38;5;241m=\u001b[39m\u001b[38;5;28;01mlambda\u001b[39;00m feature_idx: scores[feature_idx])\n\u001b[0;32m    295\u001b[0m \u001b[38;5;28;01mreturn\u001b[39;00m new_feature_idx, scores[new_feature_idx]\n",
      "File \u001b[1;32m~\\AppData\\Local\\Packages\\PythonSoftwareFoundation.Python.3.12_qbz5n2kfra8p0\\LocalCache\\local-packages\\Python312\\site-packages\\sklearn\\utils\\_param_validation.py:213\u001b[0m, in \u001b[0;36mvalidate_params.<locals>.decorator.<locals>.wrapper\u001b[1;34m(*args, **kwargs)\u001b[0m\n\u001b[0;32m    207\u001b[0m \u001b[38;5;28;01mtry\u001b[39;00m:\n\u001b[0;32m    208\u001b[0m     \u001b[38;5;28;01mwith\u001b[39;00m config_context(\n\u001b[0;32m    209\u001b[0m         skip_parameter_validation\u001b[38;5;241m=\u001b[39m(\n\u001b[0;32m    210\u001b[0m             prefer_skip_nested_validation \u001b[38;5;129;01mor\u001b[39;00m global_skip_validation\n\u001b[0;32m    211\u001b[0m         )\n\u001b[0;32m    212\u001b[0m     ):\n\u001b[1;32m--> 213\u001b[0m         \u001b[38;5;28;01mreturn\u001b[39;00m \u001b[43mfunc\u001b[49m\u001b[43m(\u001b[49m\u001b[38;5;241;43m*\u001b[39;49m\u001b[43margs\u001b[49m\u001b[43m,\u001b[49m\u001b[43m \u001b[49m\u001b[38;5;241;43m*\u001b[39;49m\u001b[38;5;241;43m*\u001b[39;49m\u001b[43mkwargs\u001b[49m\u001b[43m)\u001b[49m\n\u001b[0;32m    214\u001b[0m \u001b[38;5;28;01mexcept\u001b[39;00m InvalidParameterError \u001b[38;5;28;01mas\u001b[39;00m e:\n\u001b[0;32m    215\u001b[0m     \u001b[38;5;66;03m# When the function is just a wrapper around an estimator, we allow\u001b[39;00m\n\u001b[0;32m    216\u001b[0m     \u001b[38;5;66;03m# the function to delegate validation to the estimator, but we replace\u001b[39;00m\n\u001b[0;32m    217\u001b[0m     \u001b[38;5;66;03m# the name of the estimator by the name of the function in the error\u001b[39;00m\n\u001b[0;32m    218\u001b[0m     \u001b[38;5;66;03m# message to avoid confusion.\u001b[39;00m\n\u001b[0;32m    219\u001b[0m     msg \u001b[38;5;241m=\u001b[39m re\u001b[38;5;241m.\u001b[39msub(\n\u001b[0;32m    220\u001b[0m         \u001b[38;5;124mr\u001b[39m\u001b[38;5;124m\"\u001b[39m\u001b[38;5;124mparameter of \u001b[39m\u001b[38;5;124m\\\u001b[39m\u001b[38;5;124mw+ must be\u001b[39m\u001b[38;5;124m\"\u001b[39m,\n\u001b[0;32m    221\u001b[0m         \u001b[38;5;124mf\u001b[39m\u001b[38;5;124m\"\u001b[39m\u001b[38;5;124mparameter of \u001b[39m\u001b[38;5;132;01m{\u001b[39;00mfunc\u001b[38;5;241m.\u001b[39m\u001b[38;5;18m__qualname__\u001b[39m\u001b[38;5;132;01m}\u001b[39;00m\u001b[38;5;124m must be\u001b[39m\u001b[38;5;124m\"\u001b[39m,\n\u001b[0;32m    222\u001b[0m         \u001b[38;5;28mstr\u001b[39m(e),\n\u001b[0;32m    223\u001b[0m     )\n",
      "File \u001b[1;32m~\\AppData\\Local\\Packages\\PythonSoftwareFoundation.Python.3.12_qbz5n2kfra8p0\\LocalCache\\local-packages\\Python312\\site-packages\\sklearn\\model_selection\\_validation.py:712\u001b[0m, in \u001b[0;36mcross_val_score\u001b[1;34m(estimator, X, y, groups, scoring, cv, n_jobs, verbose, fit_params, params, pre_dispatch, error_score)\u001b[0m\n\u001b[0;32m    709\u001b[0m \u001b[38;5;66;03m# To ensure multimetric format is not supported\u001b[39;00m\n\u001b[0;32m    710\u001b[0m scorer \u001b[38;5;241m=\u001b[39m check_scoring(estimator, scoring\u001b[38;5;241m=\u001b[39mscoring)\n\u001b[1;32m--> 712\u001b[0m cv_results \u001b[38;5;241m=\u001b[39m \u001b[43mcross_validate\u001b[49m\u001b[43m(\u001b[49m\n\u001b[0;32m    713\u001b[0m \u001b[43m    \u001b[49m\u001b[43mestimator\u001b[49m\u001b[38;5;241;43m=\u001b[39;49m\u001b[43mestimator\u001b[49m\u001b[43m,\u001b[49m\n\u001b[0;32m    714\u001b[0m \u001b[43m    \u001b[49m\u001b[43mX\u001b[49m\u001b[38;5;241;43m=\u001b[39;49m\u001b[43mX\u001b[49m\u001b[43m,\u001b[49m\n\u001b[0;32m    715\u001b[0m \u001b[43m    \u001b[49m\u001b[43my\u001b[49m\u001b[38;5;241;43m=\u001b[39;49m\u001b[43my\u001b[49m\u001b[43m,\u001b[49m\n\u001b[0;32m    716\u001b[0m \u001b[43m    \u001b[49m\u001b[43mgroups\u001b[49m\u001b[38;5;241;43m=\u001b[39;49m\u001b[43mgroups\u001b[49m\u001b[43m,\u001b[49m\n\u001b[0;32m    717\u001b[0m \u001b[43m    \u001b[49m\u001b[43mscoring\u001b[49m\u001b[38;5;241;43m=\u001b[39;49m\u001b[43m{\u001b[49m\u001b[38;5;124;43m\"\u001b[39;49m\u001b[38;5;124;43mscore\u001b[39;49m\u001b[38;5;124;43m\"\u001b[39;49m\u001b[43m:\u001b[49m\u001b[43m \u001b[49m\u001b[43mscorer\u001b[49m\u001b[43m}\u001b[49m\u001b[43m,\u001b[49m\n\u001b[0;32m    718\u001b[0m \u001b[43m    \u001b[49m\u001b[43mcv\u001b[49m\u001b[38;5;241;43m=\u001b[39;49m\u001b[43mcv\u001b[49m\u001b[43m,\u001b[49m\n\u001b[0;32m    719\u001b[0m \u001b[43m    \u001b[49m\u001b[43mn_jobs\u001b[49m\u001b[38;5;241;43m=\u001b[39;49m\u001b[43mn_jobs\u001b[49m\u001b[43m,\u001b[49m\n\u001b[0;32m    720\u001b[0m \u001b[43m    \u001b[49m\u001b[43mverbose\u001b[49m\u001b[38;5;241;43m=\u001b[39;49m\u001b[43mverbose\u001b[49m\u001b[43m,\u001b[49m\n\u001b[0;32m    721\u001b[0m \u001b[43m    \u001b[49m\u001b[43mfit_params\u001b[49m\u001b[38;5;241;43m=\u001b[39;49m\u001b[43mfit_params\u001b[49m\u001b[43m,\u001b[49m\n\u001b[0;32m    722\u001b[0m \u001b[43m    \u001b[49m\u001b[43mparams\u001b[49m\u001b[38;5;241;43m=\u001b[39;49m\u001b[43mparams\u001b[49m\u001b[43m,\u001b[49m\n\u001b[0;32m    723\u001b[0m \u001b[43m    \u001b[49m\u001b[43mpre_dispatch\u001b[49m\u001b[38;5;241;43m=\u001b[39;49m\u001b[43mpre_dispatch\u001b[49m\u001b[43m,\u001b[49m\n\u001b[0;32m    724\u001b[0m \u001b[43m    \u001b[49m\u001b[43merror_score\u001b[49m\u001b[38;5;241;43m=\u001b[39;49m\u001b[43merror_score\u001b[49m\u001b[43m,\u001b[49m\n\u001b[0;32m    725\u001b[0m \u001b[43m\u001b[49m\u001b[43m)\u001b[49m\n\u001b[0;32m    726\u001b[0m \u001b[38;5;28;01mreturn\u001b[39;00m cv_results[\u001b[38;5;124m\"\u001b[39m\u001b[38;5;124mtest_score\u001b[39m\u001b[38;5;124m\"\u001b[39m]\n",
      "File \u001b[1;32m~\\AppData\\Local\\Packages\\PythonSoftwareFoundation.Python.3.12_qbz5n2kfra8p0\\LocalCache\\local-packages\\Python312\\site-packages\\sklearn\\utils\\_param_validation.py:213\u001b[0m, in \u001b[0;36mvalidate_params.<locals>.decorator.<locals>.wrapper\u001b[1;34m(*args, **kwargs)\u001b[0m\n\u001b[0;32m    207\u001b[0m \u001b[38;5;28;01mtry\u001b[39;00m:\n\u001b[0;32m    208\u001b[0m     \u001b[38;5;28;01mwith\u001b[39;00m config_context(\n\u001b[0;32m    209\u001b[0m         skip_parameter_validation\u001b[38;5;241m=\u001b[39m(\n\u001b[0;32m    210\u001b[0m             prefer_skip_nested_validation \u001b[38;5;129;01mor\u001b[39;00m global_skip_validation\n\u001b[0;32m    211\u001b[0m         )\n\u001b[0;32m    212\u001b[0m     ):\n\u001b[1;32m--> 213\u001b[0m         \u001b[38;5;28;01mreturn\u001b[39;00m \u001b[43mfunc\u001b[49m\u001b[43m(\u001b[49m\u001b[38;5;241;43m*\u001b[39;49m\u001b[43margs\u001b[49m\u001b[43m,\u001b[49m\u001b[43m \u001b[49m\u001b[38;5;241;43m*\u001b[39;49m\u001b[38;5;241;43m*\u001b[39;49m\u001b[43mkwargs\u001b[49m\u001b[43m)\u001b[49m\n\u001b[0;32m    214\u001b[0m \u001b[38;5;28;01mexcept\u001b[39;00m InvalidParameterError \u001b[38;5;28;01mas\u001b[39;00m e:\n\u001b[0;32m    215\u001b[0m     \u001b[38;5;66;03m# When the function is just a wrapper around an estimator, we allow\u001b[39;00m\n\u001b[0;32m    216\u001b[0m     \u001b[38;5;66;03m# the function to delegate validation to the estimator, but we replace\u001b[39;00m\n\u001b[0;32m    217\u001b[0m     \u001b[38;5;66;03m# the name of the estimator by the name of the function in the error\u001b[39;00m\n\u001b[0;32m    218\u001b[0m     \u001b[38;5;66;03m# message to avoid confusion.\u001b[39;00m\n\u001b[0;32m    219\u001b[0m     msg \u001b[38;5;241m=\u001b[39m re\u001b[38;5;241m.\u001b[39msub(\n\u001b[0;32m    220\u001b[0m         \u001b[38;5;124mr\u001b[39m\u001b[38;5;124m\"\u001b[39m\u001b[38;5;124mparameter of \u001b[39m\u001b[38;5;124m\\\u001b[39m\u001b[38;5;124mw+ must be\u001b[39m\u001b[38;5;124m\"\u001b[39m,\n\u001b[0;32m    221\u001b[0m         \u001b[38;5;124mf\u001b[39m\u001b[38;5;124m\"\u001b[39m\u001b[38;5;124mparameter of \u001b[39m\u001b[38;5;132;01m{\u001b[39;00mfunc\u001b[38;5;241m.\u001b[39m\u001b[38;5;18m__qualname__\u001b[39m\u001b[38;5;132;01m}\u001b[39;00m\u001b[38;5;124m must be\u001b[39m\u001b[38;5;124m\"\u001b[39m,\n\u001b[0;32m    222\u001b[0m         \u001b[38;5;28mstr\u001b[39m(e),\n\u001b[0;32m    223\u001b[0m     )\n",
      "File \u001b[1;32m~\\AppData\\Local\\Packages\\PythonSoftwareFoundation.Python.3.12_qbz5n2kfra8p0\\LocalCache\\local-packages\\Python312\\site-packages\\sklearn\\model_selection\\_validation.py:423\u001b[0m, in \u001b[0;36mcross_validate\u001b[1;34m(estimator, X, y, groups, scoring, cv, n_jobs, verbose, fit_params, params, pre_dispatch, return_train_score, return_estimator, return_indices, error_score)\u001b[0m\n\u001b[0;32m    420\u001b[0m \u001b[38;5;66;03m# We clone the estimator to make sure that all the folds are\u001b[39;00m\n\u001b[0;32m    421\u001b[0m \u001b[38;5;66;03m# independent, and that it is pickle-able.\u001b[39;00m\n\u001b[0;32m    422\u001b[0m parallel \u001b[38;5;241m=\u001b[39m Parallel(n_jobs\u001b[38;5;241m=\u001b[39mn_jobs, verbose\u001b[38;5;241m=\u001b[39mverbose, pre_dispatch\u001b[38;5;241m=\u001b[39mpre_dispatch)\n\u001b[1;32m--> 423\u001b[0m results \u001b[38;5;241m=\u001b[39m \u001b[43mparallel\u001b[49m\u001b[43m(\u001b[49m\n\u001b[0;32m    424\u001b[0m \u001b[43m    \u001b[49m\u001b[43mdelayed\u001b[49m\u001b[43m(\u001b[49m\u001b[43m_fit_and_score\u001b[49m\u001b[43m)\u001b[49m\u001b[43m(\u001b[49m\n\u001b[0;32m    425\u001b[0m \u001b[43m        \u001b[49m\u001b[43mclone\u001b[49m\u001b[43m(\u001b[49m\u001b[43mestimator\u001b[49m\u001b[43m)\u001b[49m\u001b[43m,\u001b[49m\n\u001b[0;32m    426\u001b[0m \u001b[43m        \u001b[49m\u001b[43mX\u001b[49m\u001b[43m,\u001b[49m\n\u001b[0;32m    427\u001b[0m \u001b[43m        \u001b[49m\u001b[43my\u001b[49m\u001b[43m,\u001b[49m\n\u001b[0;32m    428\u001b[0m \u001b[43m        \u001b[49m\u001b[43mscorer\u001b[49m\u001b[38;5;241;43m=\u001b[39;49m\u001b[43mscorers\u001b[49m\u001b[43m,\u001b[49m\n\u001b[0;32m    429\u001b[0m \u001b[43m        \u001b[49m\u001b[43mtrain\u001b[49m\u001b[38;5;241;43m=\u001b[39;49m\u001b[43mtrain\u001b[49m\u001b[43m,\u001b[49m\n\u001b[0;32m    430\u001b[0m \u001b[43m        \u001b[49m\u001b[43mtest\u001b[49m\u001b[38;5;241;43m=\u001b[39;49m\u001b[43mtest\u001b[49m\u001b[43m,\u001b[49m\n\u001b[0;32m    431\u001b[0m \u001b[43m        \u001b[49m\u001b[43mverbose\u001b[49m\u001b[38;5;241;43m=\u001b[39;49m\u001b[43mverbose\u001b[49m\u001b[43m,\u001b[49m\n\u001b[0;32m    432\u001b[0m \u001b[43m        \u001b[49m\u001b[43mparameters\u001b[49m\u001b[38;5;241;43m=\u001b[39;49m\u001b[38;5;28;43;01mNone\u001b[39;49;00m\u001b[43m,\u001b[49m\n\u001b[0;32m    433\u001b[0m \u001b[43m        \u001b[49m\u001b[43mfit_params\u001b[49m\u001b[38;5;241;43m=\u001b[39;49m\u001b[43mrouted_params\u001b[49m\u001b[38;5;241;43m.\u001b[39;49m\u001b[43mestimator\u001b[49m\u001b[38;5;241;43m.\u001b[39;49m\u001b[43mfit\u001b[49m\u001b[43m,\u001b[49m\n\u001b[0;32m    434\u001b[0m \u001b[43m        \u001b[49m\u001b[43mscore_params\u001b[49m\u001b[38;5;241;43m=\u001b[39;49m\u001b[43mrouted_params\u001b[49m\u001b[38;5;241;43m.\u001b[39;49m\u001b[43mscorer\u001b[49m\u001b[38;5;241;43m.\u001b[39;49m\u001b[43mscore\u001b[49m\u001b[43m,\u001b[49m\n\u001b[0;32m    435\u001b[0m \u001b[43m        \u001b[49m\u001b[43mreturn_train_score\u001b[49m\u001b[38;5;241;43m=\u001b[39;49m\u001b[43mreturn_train_score\u001b[49m\u001b[43m,\u001b[49m\n\u001b[0;32m    436\u001b[0m \u001b[43m        \u001b[49m\u001b[43mreturn_times\u001b[49m\u001b[38;5;241;43m=\u001b[39;49m\u001b[38;5;28;43;01mTrue\u001b[39;49;00m\u001b[43m,\u001b[49m\n\u001b[0;32m    437\u001b[0m \u001b[43m        \u001b[49m\u001b[43mreturn_estimator\u001b[49m\u001b[38;5;241;43m=\u001b[39;49m\u001b[43mreturn_estimator\u001b[49m\u001b[43m,\u001b[49m\n\u001b[0;32m    438\u001b[0m \u001b[43m        \u001b[49m\u001b[43merror_score\u001b[49m\u001b[38;5;241;43m=\u001b[39;49m\u001b[43merror_score\u001b[49m\u001b[43m,\u001b[49m\n\u001b[0;32m    439\u001b[0m \u001b[43m    \u001b[49m\u001b[43m)\u001b[49m\n\u001b[0;32m    440\u001b[0m \u001b[43m    \u001b[49m\u001b[38;5;28;43;01mfor\u001b[39;49;00m\u001b[43m \u001b[49m\u001b[43mtrain\u001b[49m\u001b[43m,\u001b[49m\u001b[43m \u001b[49m\u001b[43mtest\u001b[49m\u001b[43m \u001b[49m\u001b[38;5;129;43;01min\u001b[39;49;00m\u001b[43m \u001b[49m\u001b[43mindices\u001b[49m\n\u001b[0;32m    441\u001b[0m \u001b[43m\u001b[49m\u001b[43m)\u001b[49m\n\u001b[0;32m    443\u001b[0m _warn_or_raise_about_fit_failures(results, error_score)\n\u001b[0;32m    445\u001b[0m \u001b[38;5;66;03m# For callable scoring, the return type is only know after calling. If the\u001b[39;00m\n\u001b[0;32m    446\u001b[0m \u001b[38;5;66;03m# return type is a dictionary, the error scores can now be inserted with\u001b[39;00m\n\u001b[0;32m    447\u001b[0m \u001b[38;5;66;03m# the correct key.\u001b[39;00m\n",
      "File \u001b[1;32m~\\AppData\\Local\\Packages\\PythonSoftwareFoundation.Python.3.12_qbz5n2kfra8p0\\LocalCache\\local-packages\\Python312\\site-packages\\sklearn\\utils\\parallel.py:74\u001b[0m, in \u001b[0;36mParallel.__call__\u001b[1;34m(self, iterable)\u001b[0m\n\u001b[0;32m     69\u001b[0m config \u001b[38;5;241m=\u001b[39m get_config()\n\u001b[0;32m     70\u001b[0m iterable_with_config \u001b[38;5;241m=\u001b[39m (\n\u001b[0;32m     71\u001b[0m     (_with_config(delayed_func, config), args, kwargs)\n\u001b[0;32m     72\u001b[0m     \u001b[38;5;28;01mfor\u001b[39;00m delayed_func, args, kwargs \u001b[38;5;129;01min\u001b[39;00m iterable\n\u001b[0;32m     73\u001b[0m )\n\u001b[1;32m---> 74\u001b[0m \u001b[38;5;28;01mreturn\u001b[39;00m \u001b[38;5;28;43msuper\u001b[39;49m\u001b[43m(\u001b[49m\u001b[43m)\u001b[49m\u001b[38;5;241;43m.\u001b[39;49m\u001b[38;5;21;43m__call__\u001b[39;49m\u001b[43m(\u001b[49m\u001b[43miterable_with_config\u001b[49m\u001b[43m)\u001b[49m\n",
      "File \u001b[1;32m~\\AppData\\Local\\Packages\\PythonSoftwareFoundation.Python.3.12_qbz5n2kfra8p0\\LocalCache\\local-packages\\Python312\\site-packages\\joblib\\parallel.py:2007\u001b[0m, in \u001b[0;36mParallel.__call__\u001b[1;34m(self, iterable)\u001b[0m\n\u001b[0;32m   2001\u001b[0m \u001b[38;5;66;03m# The first item from the output is blank, but it makes the interpreter\u001b[39;00m\n\u001b[0;32m   2002\u001b[0m \u001b[38;5;66;03m# progress until it enters the Try/Except block of the generator and\u001b[39;00m\n\u001b[0;32m   2003\u001b[0m \u001b[38;5;66;03m# reaches the first `yield` statement. This starts the asynchronous\u001b[39;00m\n\u001b[0;32m   2004\u001b[0m \u001b[38;5;66;03m# dispatch of the tasks to the workers.\u001b[39;00m\n\u001b[0;32m   2005\u001b[0m \u001b[38;5;28mnext\u001b[39m(output)\n\u001b[1;32m-> 2007\u001b[0m \u001b[38;5;28;01mreturn\u001b[39;00m output \u001b[38;5;28;01mif\u001b[39;00m \u001b[38;5;28mself\u001b[39m\u001b[38;5;241m.\u001b[39mreturn_generator \u001b[38;5;28;01melse\u001b[39;00m \u001b[38;5;28;43mlist\u001b[39;49m\u001b[43m(\u001b[49m\u001b[43moutput\u001b[49m\u001b[43m)\u001b[49m\n",
      "File \u001b[1;32m~\\AppData\\Local\\Packages\\PythonSoftwareFoundation.Python.3.12_qbz5n2kfra8p0\\LocalCache\\local-packages\\Python312\\site-packages\\joblib\\parallel.py:1650\u001b[0m, in \u001b[0;36mParallel._get_outputs\u001b[1;34m(self, iterator, pre_dispatch)\u001b[0m\n\u001b[0;32m   1647\u001b[0m     \u001b[38;5;28;01myield\u001b[39;00m\n\u001b[0;32m   1649\u001b[0m     \u001b[38;5;28;01mwith\u001b[39;00m \u001b[38;5;28mself\u001b[39m\u001b[38;5;241m.\u001b[39m_backend\u001b[38;5;241m.\u001b[39mretrieval_context():\n\u001b[1;32m-> 1650\u001b[0m         \u001b[38;5;28;01myield from\u001b[39;00m \u001b[38;5;28mself\u001b[39m\u001b[38;5;241m.\u001b[39m_retrieve()\n\u001b[0;32m   1652\u001b[0m \u001b[38;5;28;01mexcept\u001b[39;00m \u001b[38;5;167;01mGeneratorExit\u001b[39;00m:\n\u001b[0;32m   1653\u001b[0m     \u001b[38;5;66;03m# The generator has been garbage collected before being fully\u001b[39;00m\n\u001b[0;32m   1654\u001b[0m     \u001b[38;5;66;03m# consumed. This aborts the remaining tasks if possible and warn\u001b[39;00m\n\u001b[0;32m   1655\u001b[0m     \u001b[38;5;66;03m# the user if necessary.\u001b[39;00m\n\u001b[0;32m   1656\u001b[0m     \u001b[38;5;28mself\u001b[39m\u001b[38;5;241m.\u001b[39m_exception \u001b[38;5;241m=\u001b[39m \u001b[38;5;28;01mTrue\u001b[39;00m\n",
      "File \u001b[1;32m~\\AppData\\Local\\Packages\\PythonSoftwareFoundation.Python.3.12_qbz5n2kfra8p0\\LocalCache\\local-packages\\Python312\\site-packages\\joblib\\parallel.py:1762\u001b[0m, in \u001b[0;36mParallel._retrieve\u001b[1;34m(self)\u001b[0m\n\u001b[0;32m   1757\u001b[0m \u001b[38;5;66;03m# If the next job is not ready for retrieval yet, we just wait for\u001b[39;00m\n\u001b[0;32m   1758\u001b[0m \u001b[38;5;66;03m# async callbacks to progress.\u001b[39;00m\n\u001b[0;32m   1759\u001b[0m \u001b[38;5;28;01mif\u001b[39;00m ((\u001b[38;5;28mlen\u001b[39m(\u001b[38;5;28mself\u001b[39m\u001b[38;5;241m.\u001b[39m_jobs) \u001b[38;5;241m==\u001b[39m \u001b[38;5;241m0\u001b[39m) \u001b[38;5;129;01mor\u001b[39;00m\n\u001b[0;32m   1760\u001b[0m     (\u001b[38;5;28mself\u001b[39m\u001b[38;5;241m.\u001b[39m_jobs[\u001b[38;5;241m0\u001b[39m]\u001b[38;5;241m.\u001b[39mget_status(\n\u001b[0;32m   1761\u001b[0m         timeout\u001b[38;5;241m=\u001b[39m\u001b[38;5;28mself\u001b[39m\u001b[38;5;241m.\u001b[39mtimeout) \u001b[38;5;241m==\u001b[39m TASK_PENDING)):\n\u001b[1;32m-> 1762\u001b[0m     \u001b[43mtime\u001b[49m\u001b[38;5;241;43m.\u001b[39;49m\u001b[43msleep\u001b[49m\u001b[43m(\u001b[49m\u001b[38;5;241;43m0.01\u001b[39;49m\u001b[43m)\u001b[49m\n\u001b[0;32m   1763\u001b[0m     \u001b[38;5;28;01mcontinue\u001b[39;00m\n\u001b[0;32m   1765\u001b[0m \u001b[38;5;66;03m# We need to be careful: the job list can be filling up as\u001b[39;00m\n\u001b[0;32m   1766\u001b[0m \u001b[38;5;66;03m# we empty it and Python list are not thread-safe by\u001b[39;00m\n\u001b[0;32m   1767\u001b[0m \u001b[38;5;66;03m# default hence the use of the lock\u001b[39;00m\n",
      "\u001b[1;31mKeyboardInterrupt\u001b[0m: "
     ]
    }
   ],
   "source": [
    "# # Feature selection\n",
    "# model, X, trainX, trainY, testX, test_data = fbselection(\n",
    "#     \"forward\", model, 100, sample_X, sample_Y, X, trainX, trainY, testX, test_data\n",
    "# )"
   ]
  },
  {
   "cell_type": "code",
   "execution_count": null,
   "id": "aabea5ef",
   "metadata": {},
   "outputs": [],
   "source": [
    "print(\"X shape -> \", X.shape)\n",
    "print(\"trainX shape -> \", trainX.shape)\n",
    "print(\"testX shape -> \", testX.shape)\n",
    "print(\"test_data_processed shape -> \", test_data.shape)"
   ]
  },
  {
   "cell_type": "markdown",
   "id": "58edd65e",
   "metadata": {},
   "source": [
    "# grid search"
   ]
  },
  {
   "cell_type": "code",
   "execution_count": null,
   "id": "61b8b917",
   "metadata": {},
   "outputs": [],
   "source": [
    "def gridsearch(param_grid, model, scorer, trainX, trainY):\n",
    "    print(\"starting grid search\")\n",
    "\n",
    "    # intialize grid search\n",
    "    grid_search = GridSearchCV(estimator=model, param_grid=param_grid, cv=3, scoring=scorer, verbose=3)\n",
    "    print(\"grid search is intialized\")\n",
    "\n",
    "    # fit the model\n",
    "    grid_search.fit(trainX, trainY)\n",
    "    print(\"grid search fitting completed\")\n",
    "\n",
    "    # display the best model grid search found\n",
    "    best_model = grid_search.best_estimator_\n",
    "    print(best_model)\n",
    "\n",
    "    # display the best parameters of the best model\n",
    "    best_parameters = grid_search.best_params_\n",
    "    print(best_parameters)\n",
    "\n",
    "    # display the best score of the best model\n",
    "    print(\"Best cross-validated score:\", grid_search.best_score_)\n",
    "\n",
    "    # assign the best model our model\n",
    "    model = best_model\n",
    "    print(\"model assigned, grid search completed\")\n",
    "\n",
    "    return model"
   ]
  },
  {
   "cell_type": "code",
   "execution_count": null,
   "id": "8896c271",
   "metadata": {},
   "outputs": [],
   "source": [
    "# # Define a scoring metric (e.g., negative mean squared error)\n",
    "# scorer = make_scorer(mean_squared_error, greater_is_better=False)"
   ]
  },
  {
   "cell_type": "code",
   "execution_count": null,
   "id": "58ba6d7b",
   "metadata": {},
   "outputs": [],
   "source": [
    "# # define hyper parameters of grid\n",
    "# param_grid = {\n",
    "#     'estimators': [10, 100, 200, 500, 1000, 2000, 3000], \n",
    "#     'learning_rate': [0.0001, 0.001, 0.01, 0.05, 0.1, 0.5],\n",
    "#     'max_depth': [1, 2, 3, 4, 5, 6, 7, 8, 9, 10]\n",
    "# }"
   ]
  },
  {
   "cell_type": "code",
   "execution_count": null,
   "id": "f13000df",
   "metadata": {},
   "outputs": [],
   "source": [
    "# sample from train_data\n",
    "# sample_train = train_data.sample(frac=0.5)\n",
    "# sample_X = sample_train.drop('price_doc', axis=1) \n",
    "# sample_Y = sample_train['price_doc']"
   ]
  },
  {
   "cell_type": "code",
   "execution_count": null,
   "id": "b969d8af",
   "metadata": {},
   "outputs": [],
   "source": [
    "# model = gridsearch(param_grid, model, scorer, trainX, trainY)"
   ]
  },
  {
   "cell_type": "markdown",
   "id": "df4c4143",
   "metadata": {
    "papermill": {
     "duration": 0.014144,
     "end_time": "2024-11-07T20:20:14.233534",
     "exception": false,
     "start_time": "2024-11-07T20:20:14.219390",
     "status": "completed"
    },
    "tags": []
   },
   "source": [
    "## model running\n",
    "here we run the model"
   ]
  },
  {
   "cell_type": "code",
   "execution_count": null,
   "id": "829d7189",
   "metadata": {},
   "outputs": [],
   "source": [
    "from datetime import datetime\n",
    "\n",
    "def get_current_datetime():\n",
    "    return datetime.now().strftime(\"%Y-%m-%d %H:%M:%S\")"
   ]
  },
  {
   "cell_type": "code",
   "execution_count": null,
   "id": "abb74356",
   "metadata": {},
   "outputs": [],
   "source": [
    "# compute this predictions metrics\n",
    "def metrics(y_pred, testY):\n",
    "    print(\"starting to compute metrics\")\n",
    "    \n",
    "    # display the mean squared error of this prediction\n",
    "    mse = mean_squared_error(testY, y_pred)\n",
    "    print(\"Mean squared error: %.2f\" % mse, \"   \")\n",
    "\n",
    "    # display the root mean squared error\n",
    "    rmse = np.sqrt(mse)  # Root Mean Squared Error\n",
    "    print(\"Root Mean squared error: %.2f\" % rmse, \"   \")\n",
    "\n",
    "    # display the mean absolute error of this prediction\n",
    "    mae = mean_absolute_error(testY, y_pred)\n",
    "    print(\"Mean absolute error: %.2f\" % mae, \"   \")\n",
    "\n",
    "    # display the coeffeicient of determination of this preduction\n",
    "    r2_Score = r2_score(testY, y_pred)\n",
    "    print(\"Coefficient of determination: %.2f\" % r2_Score, \"    \")\n",
    "    \n",
    "    return rmse"
   ]
  },
  {
   "cell_type": "code",
   "execution_count": null,
   "id": "e2bacd3a",
   "metadata": {},
   "outputs": [],
   "source": [
    "def run_model(model, trainX, trainY, testX, testY):\n",
    "    print(\"training model\")\n",
    "    model.fit(trainX, trainY)\n",
    "    print(\"computing score\")\n",
    "    print(\"model score: \", model.score(trainX, trainY))\n",
    "    y_pred = model.predict(testX)\n",
    "    rmse = metrics(y_pred, testY)\n",
    "    return model, rmse"
   ]
  },
  {
   "cell_type": "code",
   "execution_count": null,
   "id": "b3e82977",
   "metadata": {},
   "outputs": [],
   "source": [
    "def createFile(model, X, Y, test_data, file_name):\n",
    "    print(\"fitting on X Y \", get_current_datetime())\n",
    "    model.fit(X, Y)\n",
    "\n",
    "    print(\"scoring on X Y \", get_current_datetime())\n",
    "    score = model.score(X, Y)\n",
    "    print(\"model test score: \", score, \"    \")\n",
    "\n",
    "    print(\"predicting on test \", get_current_datetime())\n",
    "    test_prediction = model.predict(test_data)\n",
    "    print(test_prediction)\n",
    "\n",
    "    print(\"getting sample submission \", get_current_datetime())\n",
    "    sample_data = pd.read_csv(r\"D:\\Users\\DELL\\OneDrive - Institute of Business Administration\\IBA\\sem5\\machine learning\\ipynb notebooks\\challenger2\\iml-fall-2024-challenge-2\\sample_submission.csv\")\n",
    "    sample_data['price_doc'] = test_prediction\n",
    "\n",
    "    print(\"Saving submission \", get_current_datetime())\n",
    "    # Ensure the path ends with a backslash\n",
    "    base_path = r\"D:\\Users\\DELL\\OneDrive - Institute of Business Administration\\IBA\\sem5\\machine learning\\ipynb notebooks\\challenger2\\iml-fall-2024-challenge-2\\\\\"\n",
    "    full_path = base_path + file_name\n",
    "    sample_data.to_csv(full_path, index=False)\n",
    "    print(f\"File saved at: {full_path}\")"
   ]
  },
  {
   "cell_type": "code",
   "execution_count": null,
   "id": "85abfd51",
   "metadata": {},
   "outputs": [],
   "source": [
    "def create_submission(model, trainX, trainY, testX, testY, X, Y, test_data, file_name):\n",
    "    model, rmse = run_model(model, trainX, trainY, testX, testY)\n",
    "    createFile(model, X, Y, test_data, file_name)"
   ]
  },
  {
   "cell_type": "code",
   "execution_count": null,
   "id": "17da1c54",
   "metadata": {},
   "outputs": [],
   "source": [
    "model = XGBRegressor(\n",
    "    max_depth=18,               # Control tree depth\n",
    "    learning_rate=0.009,         # Step size\n",
    "    n_estimators=2000,          # Number of boosting rounds\n",
    "    subsample=0.85,              # Fraction of training data to grow trees\n",
    "    colsample_bytree=0.8,       # Fraction of features for each tree\n",
    "    reg_lambda=0.2,               # L2 regularization\n",
    "    reg_alpha=0.8,                # L1 regularization\n",
    "    device = 'cuda',\n",
    "    verbose = 2,\n",
    "    tree_method = 'gpu_hist',\n",
    "    predictor = 'gpu_predictor'\n",
    ")\n",
    "create_submission(model, trainX, trainY, testX, testY, X, Y, test_data, \"xgb1.csv\")"
   ]
  },
  {
   "cell_type": "code",
   "execution_count": null,
   "id": "e2ea7f5f",
   "metadata": {},
   "outputs": [],
   "source": [
    "# model = XGBRegressor(max_depth=10, learning_rate=0.01, n_estimators=1600, subsample=0.85, reg_lambda=0.2, reg_alpha=0.8)\n",
    "# create_submission(model, trainX, trainY, testX, testY, X, Y, test_data, \"xgb1.cxv\")"
   ]
  },
  {
   "cell_type": "code",
   "execution_count": null,
   "id": "c2d834bd",
   "metadata": {},
   "outputs": [],
   "source": [
    "# model = XGBRegressor(max_depth=10, learning_rate=0.001, n_estimators=1600, subsample=0.85, reg_lambda=0.2, reg_alpha=0.8)\n",
    "# create_submission(model, trainX, trainY, testX, testY, X, Y, test_data, \"xgb2.cxv\")"
   ]
  },
  {
   "cell_type": "code",
   "execution_count": null,
   "id": "d7d41b2c",
   "metadata": {},
   "outputs": [],
   "source": [
    "# model = XGBRegressor(max_depth=10, learning_rate=0.01, n_estimators=1700, subsample=0.85, reg_lambda=0.2, reg_alpha=0.8)\n",
    "# create_submission(model, trainX, trainY, testX, testY, X, Y, test_data, \"xgb3.cxv\")"
   ]
  },
  {
   "cell_type": "code",
   "execution_count": null,
   "id": "e3c4dc24",
   "metadata": {},
   "outputs": [],
   "source": [
    "# model = XGBRegressor(max_depth=11, learning_rate=0.01, n_estimators=1600, subsample=0.85, reg_lambda=0.2, reg_alpha=0.8)\n",
    "# create_submission(model, trainX, trainY, testX, testY, X, Y, test_data, \"xgb4.cxv\")"
   ]
  },
  {
   "cell_type": "markdown",
   "id": "937ae370",
   "metadata": {
    "papermill": {
     "duration": 0.019827,
     "end_time": "2024-11-07T20:55:49.286324",
     "exception": false,
     "start_time": "2024-11-07T20:55:49.266497",
     "status": "completed"
    },
    "tags": []
   },
   "source": [
    "## predict for test dataset\n",
    "fit the model and predict for test dataset"
   ]
  },
  {
   "cell_type": "code",
   "execution_count": null,
   "id": "8f6eb5c2",
   "metadata": {
    "execution": {
     "iopub.execute_input": "2024-11-09T21:14:20.527664Z",
     "iopub.status.busy": "2024-11-09T21:14:20.527257Z",
     "iopub.status.idle": "2024-11-09T21:23:34.864087Z",
     "shell.execute_reply": "2024-11-09T21:23:34.863102Z",
     "shell.execute_reply.started": "2024-11-09T21:14:20.527606Z"
    },
    "papermill": {
     "duration": 2249.874308,
     "end_time": "2024-11-07T21:33:19.180774",
     "exception": false,
     "start_time": "2024-11-07T20:55:49.306466",
     "status": "completed"
    },
    "tags": [],
    "trusted": true
   },
   "outputs": [],
   "source": [
    "# model.fit(X, Y)"
   ]
  },
  {
   "cell_type": "code",
   "execution_count": null,
   "id": "f18c11b3",
   "metadata": {},
   "outputs": [],
   "source": [
    "# # display information regarding the regression\n",
    "# print(\"model score: \", model.score(X, Y), \"    \")\n",
    "# # print(\"model coefficient: \", model.coef_)\n",
    "# # print(\"model intercept: \", model.intercept_)"
   ]
  },
  {
   "cell_type": "code",
   "execution_count": null,
   "id": "e9c93967",
   "metadata": {
    "execution": {
     "iopub.execute_input": "2024-11-09T21:23:34.865465Z",
     "iopub.status.busy": "2024-11-09T21:23:34.865173Z",
     "iopub.status.idle": "2024-11-09T21:28:34.563809Z",
     "shell.execute_reply": "2024-11-09T21:28:34.562789Z",
     "shell.execute_reply.started": "2024-11-09T21:23:34.865433Z"
    },
    "papermill": {
     "duration": 774.78282,
     "end_time": "2024-11-07T21:46:13.986713",
     "exception": false,
     "start_time": "2024-11-07T21:33:19.203893",
     "status": "completed"
    },
    "tags": [],
    "trusted": true
   },
   "outputs": [],
   "source": [
    "# test_prediction = model.predict(test_data)\n",
    "\n",
    "# # test_prediction=test_prediction[:, 1]\n",
    "\n",
    "# print(test_prediction)"
   ]
  },
  {
   "cell_type": "markdown",
   "id": "98c8bfcf",
   "metadata": {
    "papermill": {
     "duration": 0.02242,
     "end_time": "2024-11-07T21:46:14.032429",
     "exception": false,
     "start_time": "2024-11-07T21:46:14.010009",
     "status": "completed"
    },
    "tags": []
   },
   "source": [
    "## write into csv\n",
    "now we write the predictions into the csv file"
   ]
  },
  {
   "cell_type": "code",
   "execution_count": null,
   "id": "e0573bfc",
   "metadata": {
    "execution": {
     "iopub.execute_input": "2024-11-09T21:28:34.565559Z",
     "iopub.status.busy": "2024-11-09T21:28:34.565203Z",
     "iopub.status.idle": "2024-11-09T21:28:34.818446Z",
     "shell.execute_reply": "2024-11-09T21:28:34.817419Z",
     "shell.execute_reply.started": "2024-11-09T21:28:34.565526Z"
    },
    "papermill": {
     "duration": 0.455346,
     "end_time": "2024-11-07T21:46:14.510398",
     "exception": false,
     "start_time": "2024-11-07T21:46:14.055052",
     "status": "completed"
    },
    "tags": [],
    "trusted": true
   },
   "outputs": [],
   "source": [
    "# sample_data = pd.read_csv(r\"D:\\Users\\DELL\\OneDrive - Institute of Business Administration\\IBA\\sem5\\machine learning\\ipynb notebooks\\challenger2\\iml-fall-2024-challenge-2\\sample_submission.csv\")\n",
    "\n",
    "# sample_data['price_doc'] = test_prediction\n",
    "# sample_data\n",
    "\n",
    "# sample_data.to_csv(r\"D:\\Users\\DELL\\OneDrive - Institute of Business Administration\\IBA\\sem5\\machine learning\\ipynb notebooks\\challenger2\\iml-fall-2024-challenge-2\\xgb1.csv\", index=False)\n",
    "# sample_data"
   ]
  },
  {
   "cell_type": "code",
   "execution_count": null,
   "metadata": {
    "execution": {
     "iopub.execute_input": "2024-11-09T21:28:34.820725Z",
     "iopub.status.busy": "2024-11-09T21:28:34.819860Z",
     "iopub.status.idle": "2024-11-09T21:28:34.838790Z",
     "shell.execute_reply": "2024-11-09T21:28:34.837841Z",
     "shell.execute_reply.started": "2024-11-09T21:28:34.820679Z"
    },
    "papermill": {
     "duration": 0.053693,
     "end_time": "2024-11-07T21:46:14.588137",
     "exception": false,
     "start_time": "2024-11-07T21:46:14.534444",
     "status": "completed"
    },
    "tags": [],
    "trusted": true
   },
   "outputs": [],
   "source": [
    "model"
   ]
  }
 ],
 "metadata": {
  "kaggle": {
   "accelerator": "gpu",
   "dataSources": [
    {
     "datasetId": 6034234,
     "sourceId": 9837068,
     "sourceType": "datasetVersion"
    },
    {
     "datasetId": 6034286,
     "sourceId": 9837128,
     "sourceType": "datasetVersion"
    }
   ],
   "dockerImageVersionId": 30787,
   "isGpuEnabled": true,
   "isInternetEnabled": true,
   "language": "python",
   "sourceType": "notebook"
  },
  "kernelspec": {
   "display_name": "Python 3",
   "language": "python",
   "name": "python3"
  },
  "language_info": {
   "codemirror_mode": {
    "name": "ipython",
    "version": 3
   },
   "file_extension": ".py",
   "mimetype": "text/x-python",
   "name": "python",
   "nbconvert_exporter": "python",
   "pygments_lexer": "ipython3",
   "version": "3.12.7"
  },
  "papermill": {
   "default_parameters": {},
   "duration": 5193.546342,
   "end_time": "2024-11-07T21:46:17.332142",
   "environment_variables": {},
   "exception": null,
   "input_path": "__notebook__.ipynb",
   "output_path": "__notebook__.ipynb",
   "parameters": {},
   "start_time": "2024-11-07T20:19:43.785800",
   "version": "2.6.0"
  }
 },
 "nbformat": 4,
 "nbformat_minor": 5
}
