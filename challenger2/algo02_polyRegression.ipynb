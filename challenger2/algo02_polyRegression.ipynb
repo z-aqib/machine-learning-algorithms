{
 "cells": [
  {
   "cell_type": "markdown",
   "id": "42eb0480-4780-4c4e-97bb-c4fe3495e2e4",
   "metadata": {
    "papermill": {
     "duration": 0.013014,
     "end_time": "2024-11-07T20:19:46.538794",
     "exception": false,
     "start_time": "2024-11-07T20:19:46.525780",
     "status": "completed"
    },
    "tags": []
   },
   "source": [
    "# Importing Libraries\n",
    "\n",
    "in this part we will install all the necessary libraries on command prompt and then import the necessary functions from those libraries. "
   ]
  },
  {
   "cell_type": "code",
   "execution_count": null,
   "id": "bd54b756",
   "metadata": {
    "execution": {
     "iopub.execute_input": "2024-12-01T20:11:07.794744Z",
     "iopub.status.busy": "2024-12-01T20:11:07.794252Z",
     "iopub.status.idle": "2024-12-01T20:11:11.158727Z",
     "shell.execute_reply": "2024-12-01T20:11:11.157417Z",
     "shell.execute_reply.started": "2024-12-01T20:11:07.794694Z"
    },
    "papermill": {
     "duration": 5.853121,
     "end_time": "2024-11-07T20:19:52.405091",
     "exception": false,
     "start_time": "2024-11-07T20:19:46.551970",
     "status": "completed"
    },
    "tags": [],
    "trusted": true
   },
   "outputs": [],
   "source": [
    "# importing all the necessary libraries\n",
    "\n",
    "import pandas as pd\n",
    "\n",
    "\n",
    "\n",
    "from numpy import mean\n",
    "\n",
    "import numpy as np\n",
    "\n",
    "import time\n",
    "\n",
    "\n",
    "\n",
    "# step 1: preprocessing\n",
    "\n",
    "from sklearn.impute import SimpleImputer # import some strategic imputer to fill in any missing values using mean\n",
    "\n",
    "from sklearn.preprocessing import MinMaxScaler, StandardScaler, MaxAbsScaler, RobustScaler, Normalizer # scale all the values to one range to avoid any biasness (this bias is seen in mostly naive bayes and knn etc)\n",
    "\n",
    "\n",
    "\n",
    "from sklearn.impute import KNNImputer # import some strategic imputer to fill missing values using KNN (finds the nearest neighbour and fills it with that value)\n",
    "\n",
    "\n",
    "\n",
    "from sklearn.feature_selection import SequentialFeatureSelector, SelectKBest, f_classif, VarianceThreshold\n",
    "\n",
    "\n",
    "\n",
    "from sklearn.decomposition import PCA\n",
    "\n",
    "from sklearn.compose import ColumnTransformer\n",
    "\n",
    "from sklearn.preprocessing import PolynomialFeatures, OneHotEncoder, PolynomialFeatures\n",
    "\n",
    "from sklearn.pipeline import Pipeline\n",
    "\n",
    "from sklearn.linear_model import Ridge, Lasso\n",
    "\n",
    "\n",
    "\n",
    "# step 2: data division\n",
    "\n",
    "from sklearn.model_selection import train_test_split, RepeatedKFold, cross_val_score, GridSearchCV, ParameterGrid # to divide the code into train/test using a specific percentage or with/without replacement\n",
    "\n",
    "\n",
    "\n",
    "# step 3: model\n",
    "\n",
    "from sklearn.linear_model import LinearRegression\n",
    "from sklearn.ensemble import RandomForestRegressor\n",
    "from sklearn.tree import DecisionTreeRegressor\n",
    "from xgboost import XGBRegressor\n",
    "\n",
    "from sklearn.tree import DecisionTreeRegressor\n",
    "\n",
    "from sklearn.ensemble import RandomForestRegressor, StackingRegressor\n",
    "\n",
    "from sklearn.ensemble import GradientBoostingRegressor\n",
    "\n",
    "from sklearn.ensemble import AdaBoostRegressor\n",
    "\n",
    "from sklearn.pipeline import Pipeline\n",
    "\n",
    "from sklearn.neighbors import KNeighborsRegressor\n",
    "\n",
    "\n",
    "# step 4: displaying accuracy\n",
    "\n",
    "from sklearn.metrics import roc_auc_score, accuracy_score # to display the accuracy of our tree\n",
    "\n",
    "from sklearn.metrics import mean_squared_error, r2_score, mean_absolute_error, make_scorer\n",
    "\n",
    "\n",
    "\n",
    "# step 5: warning filter\n",
    "\n",
    "import warnings\n",
    "\n",
    "warnings.filterwarnings('ignore')\n"
   ]
  },
  {
   "cell_type": "markdown",
   "id": "3912ca3f",
   "metadata": {
    "papermill": {
     "duration": 0.011237,
     "end_time": "2024-11-07T20:19:52.458899",
     "exception": false,
     "start_time": "2024-11-07T20:19:52.447662",
     "status": "completed"
    },
    "tags": []
   },
   "source": [
    "# Data Loading\n",
    "\n",
    "data shall be loaded into variables as data sets using pandas and csv readers. they will be checked to see if they are loaded properly and will be loaded as 2 sets: train and test as per given in the kaggle data"
   ]
  },
  {
   "cell_type": "code",
   "execution_count": null,
   "id": "d9125e82",
   "metadata": {
    "execution": {
     "iopub.execute_input": "2024-12-01T20:11:11.161612Z",
     "iopub.status.busy": "2024-12-01T20:11:11.160926Z",
     "iopub.status.idle": "2024-12-01T20:11:27.267235Z",
     "shell.execute_reply": "2024-12-01T20:11:27.266047Z",
     "shell.execute_reply.started": "2024-12-01T20:11:11.161559Z"
    },
    "papermill": {
     "duration": 4.591761,
     "end_time": "2024-11-07T20:19:57.062353",
     "exception": false,
     "start_time": "2024-11-07T20:19:52.470592",
     "status": "completed"
    },
    "tags": [],
    "trusted": true
   },
   "outputs": [
    {
     "data": {
      "text/html": [
       "<div>\n",
       "<style scoped>\n",
       "    .dataframe tbody tr th:only-of-type {\n",
       "        vertical-align: middle;\n",
       "    }\n",
       "\n",
       "    .dataframe tbody tr th {\n",
       "        vertical-align: top;\n",
       "    }\n",
       "\n",
       "    .dataframe thead th {\n",
       "        text-align: right;\n",
       "    }\n",
       "</style>\n",
       "<table border=\"1\" class=\"dataframe\">\n",
       "  <thead>\n",
       "    <tr style=\"text-align: right;\">\n",
       "      <th></th>\n",
       "      <th>full_sq</th>\n",
       "      <th>life_sq</th>\n",
       "      <th>floor</th>\n",
       "      <th>product_type</th>\n",
       "      <th>sub_area</th>\n",
       "      <th>area_m</th>\n",
       "      <th>raion_popul</th>\n",
       "      <th>green_zone_part</th>\n",
       "      <th>indust_part</th>\n",
       "      <th>children_preschool</th>\n",
       "      <th>...</th>\n",
       "      <th>cafe_count_5000_price_2500</th>\n",
       "      <th>cafe_count_5000_price_4000</th>\n",
       "      <th>cafe_count_5000_price_high</th>\n",
       "      <th>big_church_count_5000</th>\n",
       "      <th>church_count_5000</th>\n",
       "      <th>mosque_count_5000</th>\n",
       "      <th>leisure_count_5000</th>\n",
       "      <th>sport_count_5000</th>\n",
       "      <th>market_count_5000</th>\n",
       "      <th>price_doc</th>\n",
       "    </tr>\n",
       "  </thead>\n",
       "  <tbody>\n",
       "    <tr>\n",
       "      <th>0</th>\n",
       "      <td>43.0</td>\n",
       "      <td>27.0</td>\n",
       "      <td>4.0</td>\n",
       "      <td>Investment</td>\n",
       "      <td>Bibirevo</td>\n",
       "      <td>6407578.100</td>\n",
       "      <td>155572.0</td>\n",
       "      <td>0.189727</td>\n",
       "      <td>0.000070</td>\n",
       "      <td>9576.0</td>\n",
       "      <td>...</td>\n",
       "      <td>9.0</td>\n",
       "      <td>4.0</td>\n",
       "      <td>0.0</td>\n",
       "      <td>13.0</td>\n",
       "      <td>22.0</td>\n",
       "      <td>1.0</td>\n",
       "      <td>0.0</td>\n",
       "      <td>52.0</td>\n",
       "      <td>4.0</td>\n",
       "      <td>5850000.0</td>\n",
       "    </tr>\n",
       "    <tr>\n",
       "      <th>1</th>\n",
       "      <td>34.0</td>\n",
       "      <td>19.0</td>\n",
       "      <td>3.0</td>\n",
       "      <td>Investment</td>\n",
       "      <td>Nagatinskij Zaton</td>\n",
       "      <td>9589336.912</td>\n",
       "      <td>115352.0</td>\n",
       "      <td>0.372602</td>\n",
       "      <td>0.049637</td>\n",
       "      <td>6880.0</td>\n",
       "      <td>...</td>\n",
       "      <td>15.0</td>\n",
       "      <td>3.0</td>\n",
       "      <td>0.0</td>\n",
       "      <td>15.0</td>\n",
       "      <td>29.0</td>\n",
       "      <td>1.0</td>\n",
       "      <td>10.0</td>\n",
       "      <td>66.0</td>\n",
       "      <td>14.0</td>\n",
       "      <td>6000000.0</td>\n",
       "    </tr>\n",
       "    <tr>\n",
       "      <th>2</th>\n",
       "      <td>43.0</td>\n",
       "      <td>29.0</td>\n",
       "      <td>2.0</td>\n",
       "      <td>Investment</td>\n",
       "      <td>Tekstil'shhiki</td>\n",
       "      <td>4808269.831</td>\n",
       "      <td>101708.0</td>\n",
       "      <td>0.112560</td>\n",
       "      <td>0.118537</td>\n",
       "      <td>5879.0</td>\n",
       "      <td>...</td>\n",
       "      <td>10.0</td>\n",
       "      <td>3.0</td>\n",
       "      <td>0.0</td>\n",
       "      <td>11.0</td>\n",
       "      <td>27.0</td>\n",
       "      <td>0.0</td>\n",
       "      <td>4.0</td>\n",
       "      <td>67.0</td>\n",
       "      <td>10.0</td>\n",
       "      <td>5700000.0</td>\n",
       "    </tr>\n",
       "    <tr>\n",
       "      <th>3</th>\n",
       "      <td>77.0</td>\n",
       "      <td>77.0</td>\n",
       "      <td>4.0</td>\n",
       "      <td>Investment</td>\n",
       "      <td>Basmannoe</td>\n",
       "      <td>8398460.622</td>\n",
       "      <td>108171.0</td>\n",
       "      <td>0.015234</td>\n",
       "      <td>0.037316</td>\n",
       "      <td>5706.0</td>\n",
       "      <td>...</td>\n",
       "      <td>319.0</td>\n",
       "      <td>108.0</td>\n",
       "      <td>17.0</td>\n",
       "      <td>135.0</td>\n",
       "      <td>236.0</td>\n",
       "      <td>2.0</td>\n",
       "      <td>91.0</td>\n",
       "      <td>195.0</td>\n",
       "      <td>14.0</td>\n",
       "      <td>16331452.0</td>\n",
       "    </tr>\n",
       "    <tr>\n",
       "      <th>4</th>\n",
       "      <td>67.0</td>\n",
       "      <td>46.0</td>\n",
       "      <td>14.0</td>\n",
       "      <td>Investment</td>\n",
       "      <td>Nizhegorodskoe</td>\n",
       "      <td>7506452.020</td>\n",
       "      <td>43795.0</td>\n",
       "      <td>0.007670</td>\n",
       "      <td>0.486246</td>\n",
       "      <td>2418.0</td>\n",
       "      <td>...</td>\n",
       "      <td>62.0</td>\n",
       "      <td>14.0</td>\n",
       "      <td>1.0</td>\n",
       "      <td>53.0</td>\n",
       "      <td>78.0</td>\n",
       "      <td>1.0</td>\n",
       "      <td>20.0</td>\n",
       "      <td>113.0</td>\n",
       "      <td>17.0</td>\n",
       "      <td>9100000.0</td>\n",
       "    </tr>\n",
       "  </tbody>\n",
       "</table>\n",
       "<p>5 rows × 272 columns</p>\n",
       "</div>"
      ],
      "text/plain": [
       "   full_sq  life_sq  floor product_type           sub_area       area_m  \\\n",
       "0     43.0     27.0    4.0   Investment           Bibirevo  6407578.100   \n",
       "1     34.0     19.0    3.0   Investment  Nagatinskij Zaton  9589336.912   \n",
       "2     43.0     29.0    2.0   Investment     Tekstil'shhiki  4808269.831   \n",
       "3     77.0     77.0    4.0   Investment          Basmannoe  8398460.622   \n",
       "4     67.0     46.0   14.0   Investment     Nizhegorodskoe  7506452.020   \n",
       "\n",
       "   raion_popul  green_zone_part  indust_part  children_preschool  ...  \\\n",
       "0     155572.0         0.189727     0.000070              9576.0  ...   \n",
       "1     115352.0         0.372602     0.049637              6880.0  ...   \n",
       "2     101708.0         0.112560     0.118537              5879.0  ...   \n",
       "3     108171.0         0.015234     0.037316              5706.0  ...   \n",
       "4      43795.0         0.007670     0.486246              2418.0  ...   \n",
       "\n",
       "   cafe_count_5000_price_2500  cafe_count_5000_price_4000  \\\n",
       "0                         9.0                         4.0   \n",
       "1                        15.0                         3.0   \n",
       "2                        10.0                         3.0   \n",
       "3                       319.0                       108.0   \n",
       "4                        62.0                        14.0   \n",
       "\n",
       "   cafe_count_5000_price_high  big_church_count_5000  church_count_5000  \\\n",
       "0                         0.0                   13.0               22.0   \n",
       "1                         0.0                   15.0               29.0   \n",
       "2                         0.0                   11.0               27.0   \n",
       "3                        17.0                  135.0              236.0   \n",
       "4                         1.0                   53.0               78.0   \n",
       "\n",
       "   mosque_count_5000  leisure_count_5000  sport_count_5000 market_count_5000  \\\n",
       "0                1.0                 0.0              52.0               4.0   \n",
       "1                1.0                10.0              66.0              14.0   \n",
       "2                0.0                 4.0              67.0              10.0   \n",
       "3                2.0                91.0             195.0              14.0   \n",
       "4                1.0                20.0             113.0              17.0   \n",
       "\n",
       "    price_doc  \n",
       "0   5850000.0  \n",
       "1   6000000.0  \n",
       "2   5700000.0  \n",
       "3  16331452.0  \n",
       "4   9100000.0  \n",
       "\n",
       "[5 rows x 272 columns]"
      ]
     },
     "execution_count": 2,
     "metadata": {},
     "output_type": "execute_result"
    }
   ],
   "source": [
    "# lets load the training data set\n",
    "\n",
    "# train_data = pd.read_csv(r\"D:\\Users\\DELL\\OneDrive - Institute of Business Administration\\IBA\\sem5\\machine learning\\ipynb notebooks\\challenger2\\iml-fall-2024-challenge-2\\train\\train.csv\")\n",
    "\n",
    "train_data = pd.read_csv(r\"/kaggle/input/challenge2/train.csv\")\n",
    "\n",
    "# lets also check it by getting the first few rows of the data, there should be x1 - x78 and one target variable Y\n",
    "\n",
    "train_data.head() \n"
   ]
  },
  {
   "cell_type": "code",
   "execution_count": null,
   "id": "01f55297",
   "metadata": {
    "execution": {
     "iopub.execute_input": "2024-12-01T20:11:27.269196Z",
     "iopub.status.busy": "2024-12-01T20:11:27.268832Z",
     "iopub.status.idle": "2024-12-01T20:11:33.682903Z",
     "shell.execute_reply": "2024-12-01T20:11:33.681762Z",
     "shell.execute_reply.started": "2024-12-01T20:11:27.269163Z"
    },
    "papermill": {
     "duration": 1.948205,
     "end_time": "2024-11-07T20:19:59.023969",
     "exception": false,
     "start_time": "2024-11-07T20:19:57.075764",
     "status": "completed"
    },
    "tags": [],
    "trusted": true
   },
   "outputs": [
    {
     "data": {
      "text/html": [
       "<div>\n",
       "<style scoped>\n",
       "    .dataframe tbody tr th:only-of-type {\n",
       "        vertical-align: middle;\n",
       "    }\n",
       "\n",
       "    .dataframe tbody tr th {\n",
       "        vertical-align: top;\n",
       "    }\n",
       "\n",
       "    .dataframe thead th {\n",
       "        text-align: right;\n",
       "    }\n",
       "</style>\n",
       "<table border=\"1\" class=\"dataframe\">\n",
       "  <thead>\n",
       "    <tr style=\"text-align: right;\">\n",
       "      <th></th>\n",
       "      <th>row ID</th>\n",
       "      <th>full_sq</th>\n",
       "      <th>life_sq</th>\n",
       "      <th>floor</th>\n",
       "      <th>product_type</th>\n",
       "      <th>sub_area</th>\n",
       "      <th>area_m</th>\n",
       "      <th>raion_popul</th>\n",
       "      <th>green_zone_part</th>\n",
       "      <th>indust_part</th>\n",
       "      <th>...</th>\n",
       "      <th>cafe_count_5000_price_1500</th>\n",
       "      <th>cafe_count_5000_price_2500</th>\n",
       "      <th>cafe_count_5000_price_4000</th>\n",
       "      <th>cafe_count_5000_price_high</th>\n",
       "      <th>big_church_count_5000</th>\n",
       "      <th>church_count_5000</th>\n",
       "      <th>mosque_count_5000</th>\n",
       "      <th>leisure_count_5000</th>\n",
       "      <th>sport_count_5000</th>\n",
       "      <th>market_count_5000</th>\n",
       "    </tr>\n",
       "  </thead>\n",
       "  <tbody>\n",
       "    <tr>\n",
       "      <th>0</th>\n",
       "      <td>Row3</td>\n",
       "      <td>89.0</td>\n",
       "      <td>50.0</td>\n",
       "      <td>9.0</td>\n",
       "      <td>Investment</td>\n",
       "      <td>Mitino</td>\n",
       "      <td>1.258354e+07</td>\n",
       "      <td>178473.0</td>\n",
       "      <td>0.194703</td>\n",
       "      <td>0.069753</td>\n",
       "      <td>...</td>\n",
       "      <td>15.0</td>\n",
       "      <td>11.0</td>\n",
       "      <td>2.0</td>\n",
       "      <td>1.0</td>\n",
       "      <td>4.0</td>\n",
       "      <td>4.0</td>\n",
       "      <td>0.0</td>\n",
       "      <td>0.0</td>\n",
       "      <td>26.0</td>\n",
       "      <td>3.0</td>\n",
       "    </tr>\n",
       "    <tr>\n",
       "      <th>1</th>\n",
       "      <td>Row6</td>\n",
       "      <td>25.0</td>\n",
       "      <td>14.0</td>\n",
       "      <td>10.0</td>\n",
       "      <td>Investment</td>\n",
       "      <td>Sokol'niki</td>\n",
       "      <td>1.032047e+07</td>\n",
       "      <td>57405.0</td>\n",
       "      <td>0.523439</td>\n",
       "      <td>0.042307</td>\n",
       "      <td>...</td>\n",
       "      <td>144.0</td>\n",
       "      <td>81.0</td>\n",
       "      <td>16.0</td>\n",
       "      <td>3.0</td>\n",
       "      <td>38.0</td>\n",
       "      <td>80.0</td>\n",
       "      <td>1.0</td>\n",
       "      <td>27.0</td>\n",
       "      <td>127.0</td>\n",
       "      <td>8.0</td>\n",
       "    </tr>\n",
       "    <tr>\n",
       "      <th>2</th>\n",
       "      <td>Row11</td>\n",
       "      <td>38.0</td>\n",
       "      <td>19.0</td>\n",
       "      <td>11.0</td>\n",
       "      <td>Investment</td>\n",
       "      <td>Zapadnoe Degunino</td>\n",
       "      <td>7.632940e+06</td>\n",
       "      <td>78810.0</td>\n",
       "      <td>0.051844</td>\n",
       "      <td>0.437885</td>\n",
       "      <td>...</td>\n",
       "      <td>39.0</td>\n",
       "      <td>8.0</td>\n",
       "      <td>3.0</td>\n",
       "      <td>0.0</td>\n",
       "      <td>10.0</td>\n",
       "      <td>9.0</td>\n",
       "      <td>0.0</td>\n",
       "      <td>0.0</td>\n",
       "      <td>35.0</td>\n",
       "      <td>4.0</td>\n",
       "    </tr>\n",
       "    <tr>\n",
       "      <th>3</th>\n",
       "      <td>Row12</td>\n",
       "      <td>43.0</td>\n",
       "      <td>28.0</td>\n",
       "      <td>4.0</td>\n",
       "      <td>Investment</td>\n",
       "      <td>Kuncevo</td>\n",
       "      <td>5.235177e+07</td>\n",
       "      <td>142462.0</td>\n",
       "      <td>0.070662</td>\n",
       "      <td>0.035145</td>\n",
       "      <td>...</td>\n",
       "      <td>21.0</td>\n",
       "      <td>13.0</td>\n",
       "      <td>9.0</td>\n",
       "      <td>1.0</td>\n",
       "      <td>7.0</td>\n",
       "      <td>15.0</td>\n",
       "      <td>0.0</td>\n",
       "      <td>2.0</td>\n",
       "      <td>47.0</td>\n",
       "      <td>0.0</td>\n",
       "    </tr>\n",
       "    <tr>\n",
       "      <th>4</th>\n",
       "      <td>Row14</td>\n",
       "      <td>31.0</td>\n",
       "      <td>21.0</td>\n",
       "      <td>3.0</td>\n",
       "      <td>Investment</td>\n",
       "      <td>Lefortovo</td>\n",
       "      <td>8.993640e+06</td>\n",
       "      <td>89971.0</td>\n",
       "      <td>0.066941</td>\n",
       "      <td>0.306977</td>\n",
       "      <td>...</td>\n",
       "      <td>205.0</td>\n",
       "      <td>88.0</td>\n",
       "      <td>19.0</td>\n",
       "      <td>2.0</td>\n",
       "      <td>63.0</td>\n",
       "      <td>100.0</td>\n",
       "      <td>0.0</td>\n",
       "      <td>28.0</td>\n",
       "      <td>132.0</td>\n",
       "      <td>14.0</td>\n",
       "    </tr>\n",
       "  </tbody>\n",
       "</table>\n",
       "<p>5 rows × 272 columns</p>\n",
       "</div>"
      ],
      "text/plain": [
       "  row ID  full_sq  life_sq  floor product_type           sub_area  \\\n",
       "0   Row3     89.0     50.0    9.0   Investment             Mitino   \n",
       "1   Row6     25.0     14.0   10.0   Investment         Sokol'niki   \n",
       "2  Row11     38.0     19.0   11.0   Investment  Zapadnoe Degunino   \n",
       "3  Row12     43.0     28.0    4.0   Investment            Kuncevo   \n",
       "4  Row14     31.0     21.0    3.0   Investment          Lefortovo   \n",
       "\n",
       "         area_m  raion_popul  green_zone_part  indust_part  ...  \\\n",
       "0  1.258354e+07     178473.0         0.194703     0.069753  ...   \n",
       "1  1.032047e+07      57405.0         0.523439     0.042307  ...   \n",
       "2  7.632940e+06      78810.0         0.051844     0.437885  ...   \n",
       "3  5.235177e+07     142462.0         0.070662     0.035145  ...   \n",
       "4  8.993640e+06      89971.0         0.066941     0.306977  ...   \n",
       "\n",
       "   cafe_count_5000_price_1500  cafe_count_5000_price_2500  \\\n",
       "0                        15.0                        11.0   \n",
       "1                       144.0                        81.0   \n",
       "2                        39.0                         8.0   \n",
       "3                        21.0                        13.0   \n",
       "4                       205.0                        88.0   \n",
       "\n",
       "   cafe_count_5000_price_4000  cafe_count_5000_price_high  \\\n",
       "0                         2.0                         1.0   \n",
       "1                        16.0                         3.0   \n",
       "2                         3.0                         0.0   \n",
       "3                         9.0                         1.0   \n",
       "4                        19.0                         2.0   \n",
       "\n",
       "   big_church_count_5000  church_count_5000  mosque_count_5000  \\\n",
       "0                    4.0                4.0                0.0   \n",
       "1                   38.0               80.0                1.0   \n",
       "2                   10.0                9.0                0.0   \n",
       "3                    7.0               15.0                0.0   \n",
       "4                   63.0              100.0                0.0   \n",
       "\n",
       "   leisure_count_5000  sport_count_5000 market_count_5000  \n",
       "0                 0.0              26.0               3.0  \n",
       "1                27.0             127.0               8.0  \n",
       "2                 0.0              35.0               4.0  \n",
       "3                 2.0              47.0               0.0  \n",
       "4                28.0             132.0              14.0  \n",
       "\n",
       "[5 rows x 272 columns]"
      ]
     },
     "execution_count": 3,
     "metadata": {},
     "output_type": "execute_result"
    }
   ],
   "source": [
    "# lets load the test data\n",
    "\n",
    "# test_data = pd.read_csv(r\"D:\\Users\\DELL\\OneDrive - Institute of Business Administration\\IBA\\sem5\\machine learning\\ipynb notebooks\\challenger2\\iml-fall-2024-challenge-2\\test\\test.csv\")\n",
    "\n",
    "test_data = pd.read_csv(r\"/kaggle/input/challenge2/test.csv\")\n",
    "\n",
    "# check if the data has been loaded by getting the first 5 rows - there should be x1 - x78 and no target variable Y as this is test data\n",
    "\n",
    "test_data.head() \n"
   ]
  },
  {
   "cell_type": "markdown",
   "id": "9db89cc8",
   "metadata": {
    "papermill": {
     "duration": 0.012664,
     "end_time": "2024-11-07T20:19:59.050712",
     "exception": false,
     "start_time": "2024-11-07T20:19:59.038048",
     "status": "completed"
    },
    "tags": []
   },
   "source": [
    "# Data Preprocessing\n",
    "\n",
    "before we start processing this data and using algorithms, we will fix this data first, this is called data preprocessing"
   ]
  },
  {
   "cell_type": "markdown",
   "id": "46a83e6e",
   "metadata": {},
   "source": [
    "## split data into categorical and numerical\n",
    "\n",
    "categorical will have one-hot and simple imputer of most frequent while numerical will have simple mean imputer and minmax scaler"
   ]
  },
  {
   "cell_type": "code",
   "execution_count": null,
   "id": "306cc606",
   "metadata": {
    "execution": {
     "iopub.execute_input": "2024-12-01T20:11:33.685891Z",
     "iopub.status.busy": "2024-12-01T20:11:33.685462Z",
     "iopub.status.idle": "2024-12-01T20:11:33.991047Z",
     "shell.execute_reply": "2024-12-01T20:11:33.989950Z",
     "shell.execute_reply.started": "2024-12-01T20:11:33.685845Z"
    },
    "trusted": true
   },
   "outputs": [],
   "source": [
    "categorical_cols = train_data.select_dtypes(include=[\"object\"]).columns\n",
    "\n",
    "numerical_cols = train_data.select_dtypes(exclude=[\"object\"]).drop(columns=['price_doc']).columns\n"
   ]
  },
  {
   "cell_type": "code",
   "execution_count": null,
   "id": "1e90a6a2",
   "metadata": {
    "execution": {
     "iopub.execute_input": "2024-12-01T20:11:33.992818Z",
     "iopub.status.busy": "2024-12-01T20:11:33.992442Z",
     "iopub.status.idle": "2024-12-01T20:11:33.997655Z",
     "shell.execute_reply": "2024-12-01T20:11:33.996562Z",
     "shell.execute_reply.started": "2024-12-01T20:11:33.992785Z"
    },
    "trusted": true
   },
   "outputs": [],
   "source": [
    "# num_transformer = Pipeline(steps=[\n",
    "\n",
    "#     (\"imputer\", SimpleImputer(strategy=\"median\")),\n",
    "\n",
    "#     (\"scaler\", MinMaxScaler())\n",
    "\n",
    "# ])\n",
    "\n",
    "\n",
    "\n",
    "# cat_transformer = Pipeline(steps=[\n",
    "\n",
    "#     (\"imputer\", SimpleImputer(strategy=\"most_frequent\")),\n",
    "\n",
    "#     (\"onehot\", OneHotEncoder(handle_unknown=\"ignore\"))\n",
    "\n",
    "# ])\n"
   ]
  },
  {
   "cell_type": "code",
   "execution_count": null,
   "id": "d0e20cc8",
   "metadata": {
    "execution": {
     "iopub.execute_input": "2024-12-01T20:11:33.999431Z",
     "iopub.status.busy": "2024-12-01T20:11:33.999099Z",
     "iopub.status.idle": "2024-12-01T20:11:34.016236Z",
     "shell.execute_reply": "2024-12-01T20:11:34.015006Z",
     "shell.execute_reply.started": "2024-12-01T20:11:33.999398Z"
    },
    "trusted": true
   },
   "outputs": [],
   "source": [
    "# # Column transformer for preprocessing\n",
    "\n",
    "# preprocessor = ColumnTransformer(\n",
    "\n",
    "#     transformers=[\n",
    "\n",
    "#         (\"num\", num_transformer, numerical_cols),\n",
    "\n",
    "#         (\"cat\", cat_transformer, categorical_cols)\n",
    "\n",
    "#     ]\n",
    "\n",
    "# )\n"
   ]
  },
  {
   "cell_type": "code",
   "execution_count": null,
   "id": "2f907bc8",
   "metadata": {
    "execution": {
     "iopub.execute_input": "2024-12-01T20:11:34.018449Z",
     "iopub.status.busy": "2024-12-01T20:11:34.018060Z",
     "iopub.status.idle": "2024-12-01T20:11:35.873865Z",
     "shell.execute_reply": "2024-12-01T20:11:35.872470Z",
     "shell.execute_reply.started": "2024-12-01T20:11:34.018414Z"
    },
    "trusted": true
   },
   "outputs": [],
   "source": [
    "num_imputer = SimpleImputer(strategy=\"mean\")\n",
    "\n",
    "train_data[numerical_cols] = num_imputer.fit_transform(train_data[numerical_cols])\n",
    "\n",
    "test_data[numerical_cols] = num_imputer.transform(test_data[numerical_cols])\n",
    "\n",
    "\n",
    "\n",
    "cat_imputer = SimpleImputer(strategy=\"most_frequent\")\n",
    "\n",
    "train_data[categorical_cols] = cat_imputer.fit_transform(train_data[categorical_cols])\n",
    "\n",
    "test_data[categorical_cols] = cat_imputer.transform(test_data[categorical_cols])\n"
   ]
  },
  {
   "cell_type": "code",
   "execution_count": null,
   "id": "ea0f2229",
   "metadata": {
    "execution": {
     "iopub.execute_input": "2024-12-01T20:11:35.875686Z",
     "iopub.status.busy": "2024-12-01T20:11:35.875280Z",
     "iopub.status.idle": "2024-12-01T20:11:37.804516Z",
     "shell.execute_reply": "2024-12-01T20:11:37.803323Z",
     "shell.execute_reply.started": "2024-12-01T20:11:35.875648Z"
    },
    "trusted": true
   },
   "outputs": [],
   "source": [
    "scaler = StandardScaler()\n",
    "\n",
    "train_data[numerical_cols] = scaler.fit_transform(train_data[numerical_cols])\n",
    "\n",
    "test_data[numerical_cols] = scaler.transform(test_data[numerical_cols])\n"
   ]
  },
  {
   "cell_type": "code",
   "execution_count": null,
   "id": "bd208832",
   "metadata": {
    "execution": {
     "iopub.execute_input": "2024-12-01T20:11:37.806412Z",
     "iopub.status.busy": "2024-12-01T20:11:37.806051Z",
     "iopub.status.idle": "2024-12-01T20:11:40.165343Z",
     "shell.execute_reply": "2024-12-01T20:11:40.164188Z",
     "shell.execute_reply.started": "2024-12-01T20:11:37.806376Z"
    },
    "trusted": true
   },
   "outputs": [],
   "source": [
    "train_data = pd.get_dummies(train_data, columns=categorical_cols, drop_first=True)\n",
    "\n",
    "test_data = pd.get_dummies(test_data, columns=categorical_cols, drop_first=True)\n",
    "\n",
    "# Align the test data with the training data columns\n",
    "\n",
    "test_data = test_data.reindex(columns=train_data.columns, fill_value=0)\n",
    "\n",
    "\n",
    "\n",
    "test_data = test_data.drop(columns=['price_doc'], errors=\"ignore\")\n"
   ]
  },
  {
   "cell_type": "markdown",
   "id": "2a5e67cf",
   "metadata": {},
   "source": [
    "## correlation matrix\n",
    "\n",
    "i tried getting the correlation matrix but apparently a 2000 columns matrix is very computationally expensive as it performs pairs for all. so dont run it. it takes too long and then fails. i ran for 5 minutes. "
   ]
  },
  {
   "cell_type": "code",
   "execution_count": null,
   "id": "aae908d1",
   "metadata": {
    "execution": {
     "iopub.execute_input": "2024-12-01T20:11:40.169340Z",
     "iopub.status.busy": "2024-12-01T20:11:40.168968Z",
     "iopub.status.idle": "2024-12-01T20:11:40.174165Z",
     "shell.execute_reply": "2024-12-01T20:11:40.172984Z",
     "shell.execute_reply.started": "2024-12-01T20:11:40.169303Z"
    },
    "trusted": true
   },
   "outputs": [],
   "source": [
    "# # DONT RUN\n",
    "\n",
    "# corr_matrix = train_data.corr()\n",
    "\n",
    "# print(corr_matrix)\n"
   ]
  },
  {
   "cell_type": "markdown",
   "id": "463d5ca5",
   "metadata": {},
   "source": [
    "# PCA\n",
    "\n",
    "principal component analysis is applied"
   ]
  },
  {
   "cell_type": "code",
   "execution_count": null,
   "id": "68ef094f",
   "metadata": {
    "execution": {
     "iopub.execute_input": "2024-12-01T20:11:40.175837Z",
     "iopub.status.busy": "2024-12-01T20:11:40.175484Z",
     "iopub.status.idle": "2024-12-01T20:11:40.188205Z",
     "shell.execute_reply": "2024-12-01T20:11:40.186763Z",
     "shell.execute_reply.started": "2024-12-01T20:11:40.175806Z"
    },
    "trusted": true
   },
   "outputs": [],
   "source": [
    "# # -------------------------- case  --------------------------\n",
    "\n",
    "# pca = PCA(n_components=33)                                 \n",
    "\n",
    "# X = pca.fit_transform(X)\n",
    "\n",
    "# test_data_processed = pca.transform(test_data_processed)\n"
   ]
  },
  {
   "cell_type": "markdown",
   "id": "2bd65ed6",
   "metadata": {
    "papermill": {
     "duration": 0.012565,
     "end_time": "2024-11-07T20:19:59.480848",
     "exception": false,
     "start_time": "2024-11-07T20:19:59.468283",
     "status": "completed"
    },
    "tags": []
   },
   "source": [
    "## Data Splitting - festures and targets\n",
    "\n",
    "the data in train_data set is of x1 - x78 columns (79 variables) and one target variable (Y). we must split that data so that we can perform data preprocessing on the features variables (will be referred to as X)."
   ]
  },
  {
   "cell_type": "code",
   "execution_count": null,
   "id": "565fb08f",
   "metadata": {
    "execution": {
     "iopub.execute_input": "2024-12-01T20:11:40.190172Z",
     "iopub.status.busy": "2024-12-01T20:11:40.189808Z",
     "iopub.status.idle": "2024-12-01T20:11:40.470650Z",
     "shell.execute_reply": "2024-12-01T20:11:40.469462Z",
     "shell.execute_reply.started": "2024-12-01T20:11:40.190140Z"
    },
    "papermill": {
     "duration": 0.123675,
     "end_time": "2024-11-07T20:19:59.617410",
     "exception": false,
     "start_time": "2024-11-07T20:19:59.493735",
     "status": "completed"
    },
    "tags": [],
    "trusted": true
   },
   "outputs": [
    {
     "data": {
      "text/html": [
       "<div>\n",
       "<style scoped>\n",
       "    .dataframe tbody tr th:only-of-type {\n",
       "        vertical-align: middle;\n",
       "    }\n",
       "\n",
       "    .dataframe tbody tr th {\n",
       "        vertical-align: top;\n",
       "    }\n",
       "\n",
       "    .dataframe thead th {\n",
       "        text-align: right;\n",
       "    }\n",
       "</style>\n",
       "<table border=\"1\" class=\"dataframe\">\n",
       "  <thead>\n",
       "    <tr style=\"text-align: right;\">\n",
       "      <th></th>\n",
       "      <th>full_sq</th>\n",
       "      <th>life_sq</th>\n",
       "      <th>floor</th>\n",
       "      <th>area_m</th>\n",
       "      <th>raion_popul</th>\n",
       "      <th>green_zone_part</th>\n",
       "      <th>indust_part</th>\n",
       "      <th>children_preschool</th>\n",
       "      <th>preschool_education_centers_raion</th>\n",
       "      <th>children_school</th>\n",
       "      <th>...</th>\n",
       "      <th>big_market_raion_yes</th>\n",
       "      <th>nuclear_reactor_raion_yes</th>\n",
       "      <th>detention_facility_raion_yes</th>\n",
       "      <th>water_1line_yes</th>\n",
       "      <th>big_road1_1line_yes</th>\n",
       "      <th>railroad_1line_yes</th>\n",
       "      <th>ecology_good</th>\n",
       "      <th>ecology_no data</th>\n",
       "      <th>ecology_poor</th>\n",
       "      <th>ecology_satisfactory</th>\n",
       "    </tr>\n",
       "  </thead>\n",
       "  <tbody>\n",
       "    <tr>\n",
       "      <th>0</th>\n",
       "      <td>-0.364709</td>\n",
       "      <td>-0.375224</td>\n",
       "      <td>-0.515142</td>\n",
       "      <td>-0.508697</td>\n",
       "      <td>1.231182</td>\n",
       "      <td>-0.241006</td>\n",
       "      <td>-1.014459</td>\n",
       "      <td>1.029869</td>\n",
       "      <td>0.260435</td>\n",
       "      <td>1.149999</td>\n",
       "      <td>...</td>\n",
       "      <td>False</td>\n",
       "      <td>False</td>\n",
       "      <td>False</td>\n",
       "      <td>False</td>\n",
       "      <td>False</td>\n",
       "      <td>False</td>\n",
       "      <td>True</td>\n",
       "      <td>False</td>\n",
       "      <td>False</td>\n",
       "      <td>False</td>\n",
       "    </tr>\n",
       "    <tr>\n",
       "      <th>1</th>\n",
       "      <td>-0.372807</td>\n",
       "      <td>-0.380537</td>\n",
       "      <td>-0.582855</td>\n",
       "      <td>-0.441569</td>\n",
       "      <td>0.506751</td>\n",
       "      <td>0.615637</td>\n",
       "      <td>-0.663081</td>\n",
       "      <td>0.351778</td>\n",
       "      <td>0.260435</td>\n",
       "      <td>0.519889</td>\n",
       "      <td>...</td>\n",
       "      <td>False</td>\n",
       "      <td>False</td>\n",
       "      <td>False</td>\n",
       "      <td>False</td>\n",
       "      <td>False</td>\n",
       "      <td>False</td>\n",
       "      <td>False</td>\n",
       "      <td>False</td>\n",
       "      <td>False</td>\n",
       "      <td>False</td>\n",
       "    </tr>\n",
       "    <tr>\n",
       "      <th>2</th>\n",
       "      <td>-0.364709</td>\n",
       "      <td>-0.373896</td>\n",
       "      <td>-0.650567</td>\n",
       "      <td>-0.542440</td>\n",
       "      <td>0.260999</td>\n",
       "      <td>-0.602482</td>\n",
       "      <td>-0.174655</td>\n",
       "      <td>0.100009</td>\n",
       "      <td>-0.080357</td>\n",
       "      <td>0.136387</td>\n",
       "      <td>...</td>\n",
       "      <td>False</td>\n",
       "      <td>False</td>\n",
       "      <td>False</td>\n",
       "      <td>False</td>\n",
       "      <td>False</td>\n",
       "      <td>False</td>\n",
       "      <td>False</td>\n",
       "      <td>False</td>\n",
       "      <td>True</td>\n",
       "      <td>False</td>\n",
       "    </tr>\n",
       "    <tr>\n",
       "      <th>3</th>\n",
       "      <td>-0.334116</td>\n",
       "      <td>-0.342017</td>\n",
       "      <td>-0.515142</td>\n",
       "      <td>-0.466694</td>\n",
       "      <td>0.377409</td>\n",
       "      <td>-1.058387</td>\n",
       "      <td>-0.750422</td>\n",
       "      <td>0.056496</td>\n",
       "      <td>0.942019</td>\n",
       "      <td>0.270070</td>\n",
       "      <td>...</td>\n",
       "      <td>False</td>\n",
       "      <td>False</td>\n",
       "      <td>False</td>\n",
       "      <td>False</td>\n",
       "      <td>False</td>\n",
       "      <td>True</td>\n",
       "      <td>False</td>\n",
       "      <td>False</td>\n",
       "      <td>False</td>\n",
       "      <td>False</td>\n",
       "    </tr>\n",
       "    <tr>\n",
       "      <th>4</th>\n",
       "      <td>-0.343114</td>\n",
       "      <td>-0.362605</td>\n",
       "      <td>0.161979</td>\n",
       "      <td>-0.485513</td>\n",
       "      <td>-0.782113</td>\n",
       "      <td>-1.093817</td>\n",
       "      <td>2.431993</td>\n",
       "      <td>-0.770494</td>\n",
       "      <td>-0.761941</td>\n",
       "      <td>-0.776160</td>\n",
       "      <td>...</td>\n",
       "      <td>False</td>\n",
       "      <td>False</td>\n",
       "      <td>False</td>\n",
       "      <td>False</td>\n",
       "      <td>False</td>\n",
       "      <td>False</td>\n",
       "      <td>False</td>\n",
       "      <td>False</td>\n",
       "      <td>True</td>\n",
       "      <td>False</td>\n",
       "    </tr>\n",
       "    <tr>\n",
       "      <th>...</th>\n",
       "      <td>...</td>\n",
       "      <td>...</td>\n",
       "      <td>...</td>\n",
       "      <td>...</td>\n",
       "      <td>...</td>\n",
       "      <td>...</td>\n",
       "      <td>...</td>\n",
       "      <td>...</td>\n",
       "      <td>...</td>\n",
       "      <td>...</td>\n",
       "      <td>...</td>\n",
       "      <td>...</td>\n",
       "      <td>...</td>\n",
       "      <td>...</td>\n",
       "      <td>...</td>\n",
       "      <td>...</td>\n",
       "      <td>...</td>\n",
       "      <td>...</td>\n",
       "      <td>...</td>\n",
       "      <td>...</td>\n",
       "      <td>...</td>\n",
       "    </tr>\n",
       "    <tr>\n",
       "      <th>181502</th>\n",
       "      <td>-0.360210</td>\n",
       "      <td>-0.371239</td>\n",
       "      <td>-0.582855</td>\n",
       "      <td>0.718121</td>\n",
       "      <td>-1.481796</td>\n",
       "      <td>1.616080</td>\n",
       "      <td>-0.973703</td>\n",
       "      <td>-1.291638</td>\n",
       "      <td>-1.443525</td>\n",
       "      <td>-1.312865</td>\n",
       "      <td>...</td>\n",
       "      <td>False</td>\n",
       "      <td>False</td>\n",
       "      <td>False</td>\n",
       "      <td>False</td>\n",
       "      <td>False</td>\n",
       "      <td>False</td>\n",
       "      <td>False</td>\n",
       "      <td>True</td>\n",
       "      <td>False</td>\n",
       "      <td>False</td>\n",
       "    </tr>\n",
       "    <tr>\n",
       "      <th>181503</th>\n",
       "      <td>-0.360210</td>\n",
       "      <td>-0.371239</td>\n",
       "      <td>-0.582855</td>\n",
       "      <td>0.718121</td>\n",
       "      <td>-1.481796</td>\n",
       "      <td>1.616080</td>\n",
       "      <td>-0.973703</td>\n",
       "      <td>-1.291638</td>\n",
       "      <td>-1.443525</td>\n",
       "      <td>-1.312865</td>\n",
       "      <td>...</td>\n",
       "      <td>False</td>\n",
       "      <td>False</td>\n",
       "      <td>False</td>\n",
       "      <td>False</td>\n",
       "      <td>False</td>\n",
       "      <td>False</td>\n",
       "      <td>False</td>\n",
       "      <td>True</td>\n",
       "      <td>False</td>\n",
       "      <td>False</td>\n",
       "    </tr>\n",
       "    <tr>\n",
       "      <th>181504</th>\n",
       "      <td>-0.360210</td>\n",
       "      <td>-0.371239</td>\n",
       "      <td>-0.582855</td>\n",
       "      <td>0.718121</td>\n",
       "      <td>-1.481796</td>\n",
       "      <td>1.616080</td>\n",
       "      <td>-0.973703</td>\n",
       "      <td>-1.291638</td>\n",
       "      <td>-1.443525</td>\n",
       "      <td>-1.312865</td>\n",
       "      <td>...</td>\n",
       "      <td>False</td>\n",
       "      <td>False</td>\n",
       "      <td>False</td>\n",
       "      <td>False</td>\n",
       "      <td>False</td>\n",
       "      <td>False</td>\n",
       "      <td>False</td>\n",
       "      <td>True</td>\n",
       "      <td>False</td>\n",
       "      <td>False</td>\n",
       "    </tr>\n",
       "    <tr>\n",
       "      <th>181505</th>\n",
       "      <td>-0.360210</td>\n",
       "      <td>-0.371239</td>\n",
       "      <td>-0.582855</td>\n",
       "      <td>0.718121</td>\n",
       "      <td>-1.481796</td>\n",
       "      <td>1.616080</td>\n",
       "      <td>-0.973703</td>\n",
       "      <td>-1.291638</td>\n",
       "      <td>-1.443525</td>\n",
       "      <td>-1.312865</td>\n",
       "      <td>...</td>\n",
       "      <td>False</td>\n",
       "      <td>False</td>\n",
       "      <td>False</td>\n",
       "      <td>False</td>\n",
       "      <td>False</td>\n",
       "      <td>False</td>\n",
       "      <td>False</td>\n",
       "      <td>True</td>\n",
       "      <td>False</td>\n",
       "      <td>False</td>\n",
       "    </tr>\n",
       "    <tr>\n",
       "      <th>181506</th>\n",
       "      <td>-0.360210</td>\n",
       "      <td>-0.371239</td>\n",
       "      <td>-0.582855</td>\n",
       "      <td>0.718121</td>\n",
       "      <td>-1.481796</td>\n",
       "      <td>1.616080</td>\n",
       "      <td>-0.973703</td>\n",
       "      <td>-1.291638</td>\n",
       "      <td>-1.443525</td>\n",
       "      <td>-1.312865</td>\n",
       "      <td>...</td>\n",
       "      <td>False</td>\n",
       "      <td>False</td>\n",
       "      <td>False</td>\n",
       "      <td>False</td>\n",
       "      <td>False</td>\n",
       "      <td>False</td>\n",
       "      <td>False</td>\n",
       "      <td>True</td>\n",
       "      <td>False</td>\n",
       "      <td>False</td>\n",
       "    </tr>\n",
       "  </tbody>\n",
       "</table>\n",
       "<p>181507 rows × 2199 columns</p>\n",
       "</div>"
      ],
      "text/plain": [
       "         full_sq   life_sq     floor    area_m  raion_popul  green_zone_part  \\\n",
       "0      -0.364709 -0.375224 -0.515142 -0.508697     1.231182        -0.241006   \n",
       "1      -0.372807 -0.380537 -0.582855 -0.441569     0.506751         0.615637   \n",
       "2      -0.364709 -0.373896 -0.650567 -0.542440     0.260999        -0.602482   \n",
       "3      -0.334116 -0.342017 -0.515142 -0.466694     0.377409        -1.058387   \n",
       "4      -0.343114 -0.362605  0.161979 -0.485513    -0.782113        -1.093817   \n",
       "...          ...       ...       ...       ...          ...              ...   \n",
       "181502 -0.360210 -0.371239 -0.582855  0.718121    -1.481796         1.616080   \n",
       "181503 -0.360210 -0.371239 -0.582855  0.718121    -1.481796         1.616080   \n",
       "181504 -0.360210 -0.371239 -0.582855  0.718121    -1.481796         1.616080   \n",
       "181505 -0.360210 -0.371239 -0.582855  0.718121    -1.481796         1.616080   \n",
       "181506 -0.360210 -0.371239 -0.582855  0.718121    -1.481796         1.616080   \n",
       "\n",
       "        indust_part  children_preschool  preschool_education_centers_raion  \\\n",
       "0         -1.014459            1.029869                           0.260435   \n",
       "1         -0.663081            0.351778                           0.260435   \n",
       "2         -0.174655            0.100009                          -0.080357   \n",
       "3         -0.750422            0.056496                           0.942019   \n",
       "4          2.431993           -0.770494                          -0.761941   \n",
       "...             ...                 ...                                ...   \n",
       "181502    -0.973703           -1.291638                          -1.443525   \n",
       "181503    -0.973703           -1.291638                          -1.443525   \n",
       "181504    -0.973703           -1.291638                          -1.443525   \n",
       "181505    -0.973703           -1.291638                          -1.443525   \n",
       "181506    -0.973703           -1.291638                          -1.443525   \n",
       "\n",
       "        children_school  ...  big_market_raion_yes  nuclear_reactor_raion_yes  \\\n",
       "0              1.149999  ...                 False                      False   \n",
       "1              0.519889  ...                 False                      False   \n",
       "2              0.136387  ...                 False                      False   \n",
       "3              0.270070  ...                 False                      False   \n",
       "4             -0.776160  ...                 False                      False   \n",
       "...                 ...  ...                   ...                        ...   \n",
       "181502        -1.312865  ...                 False                      False   \n",
       "181503        -1.312865  ...                 False                      False   \n",
       "181504        -1.312865  ...                 False                      False   \n",
       "181505        -1.312865  ...                 False                      False   \n",
       "181506        -1.312865  ...                 False                      False   \n",
       "\n",
       "        detention_facility_raion_yes  water_1line_yes  big_road1_1line_yes  \\\n",
       "0                              False            False                False   \n",
       "1                              False            False                False   \n",
       "2                              False            False                False   \n",
       "3                              False            False                False   \n",
       "4                              False            False                False   \n",
       "...                              ...              ...                  ...   \n",
       "181502                         False            False                False   \n",
       "181503                         False            False                False   \n",
       "181504                         False            False                False   \n",
       "181505                         False            False                False   \n",
       "181506                         False            False                False   \n",
       "\n",
       "        railroad_1line_yes  ecology_good  ecology_no data  ecology_poor  \\\n",
       "0                    False          True            False         False   \n",
       "1                    False         False            False         False   \n",
       "2                    False         False            False          True   \n",
       "3                     True         False            False         False   \n",
       "4                    False         False            False          True   \n",
       "...                    ...           ...              ...           ...   \n",
       "181502               False         False             True         False   \n",
       "181503               False         False             True         False   \n",
       "181504               False         False             True         False   \n",
       "181505               False         False             True         False   \n",
       "181506               False         False             True         False   \n",
       "\n",
       "        ecology_satisfactory  \n",
       "0                      False  \n",
       "1                      False  \n",
       "2                      False  \n",
       "3                      False  \n",
       "4                      False  \n",
       "...                      ...  \n",
       "181502                 False  \n",
       "181503                 False  \n",
       "181504                 False  \n",
       "181505                 False  \n",
       "181506                 False  \n",
       "\n",
       "[181507 rows x 2199 columns]"
      ]
     },
     "execution_count": 12,
     "metadata": {},
     "output_type": "execute_result"
    }
   ],
   "source": [
    "# so in X, it is ALL the columns EXCEPT the last column known as 'Y' (we can confirm this using the train_data.head() we did earlier) so we must get all columns and DROP only the 'y' column\n",
    "\n",
    "X = train_data.drop(columns=['price_doc'])\n",
    "\n",
    "X # lets display X and see what it is now\n"
   ]
  },
  {
   "cell_type": "code",
   "execution_count": null,
   "id": "c5fd0e61",
   "metadata": {
    "execution": {
     "iopub.execute_input": "2024-12-01T20:11:40.472623Z",
     "iopub.status.busy": "2024-12-01T20:11:40.472231Z",
     "iopub.status.idle": "2024-12-01T20:11:40.482863Z",
     "shell.execute_reply": "2024-12-01T20:11:40.481616Z",
     "shell.execute_reply.started": "2024-12-01T20:11:40.472576Z"
    },
    "papermill": {
     "duration": 0.023643,
     "end_time": "2024-11-07T20:19:59.654979",
     "exception": false,
     "start_time": "2024-11-07T20:19:59.631336",
     "status": "completed"
    },
    "tags": [],
    "trusted": true
   },
   "outputs": [
    {
     "data": {
      "text/plain": [
       "0          5850000.0\n",
       "1          6000000.0\n",
       "2          5700000.0\n",
       "3         16331452.0\n",
       "4          9100000.0\n",
       "             ...    \n",
       "181502     3480000.0\n",
       "181503     3480000.0\n",
       "181504     3480000.0\n",
       "181505     3480000.0\n",
       "181506     3480000.0\n",
       "Name: price_doc, Length: 181507, dtype: float64"
      ]
     },
     "execution_count": 13,
     "metadata": {},
     "output_type": "execute_result"
    }
   ],
   "source": [
    "# so as per our X output, we can see that number of columns in train_data is 79 and number of columns in X is 78 meaning we have successfully performed our removal of target variable\n",
    "\n",
    "# now to get the target variable alone, we can just get it alone,\n",
    "\n",
    "Y = train_data['price_doc']\n",
    "\n",
    "Y # lets see what it is\n",
    "\n",
    "# as per our Y output, we can see it is of one column and 246k rows which means we have successfully extracted the target variable column\n"
   ]
  },
  {
   "cell_type": "markdown",
   "id": "b6e9cfd9",
   "metadata": {
    "papermill": {
     "duration": 0.013362,
     "end_time": "2024-11-07T20:20:00.756855",
     "exception": false,
     "start_time": "2024-11-07T20:20:00.743493",
     "status": "completed"
    },
    "tags": []
   },
   "source": [
    "# Filters\n",
    "\n",
    "there are two types of filters to filter out columns/features:\n",
    "\n",
    "- variance filter (a column which has same values throughout the column like all are sunny)\n",
    "\n",
    "- correlation filter (two columns which are same like weight in kg and weight in pounds)"
   ]
  },
  {
   "cell_type": "code",
   "execution_count": null,
   "id": "5934b338",
   "metadata": {
    "execution": {
     "iopub.execute_input": "2024-12-01T20:11:40.484908Z",
     "iopub.status.busy": "2024-12-01T20:11:40.484404Z",
     "iopub.status.idle": "2024-12-01T20:11:40.496453Z",
     "shell.execute_reply": "2024-12-01T20:11:40.495216Z",
     "shell.execute_reply.started": "2024-12-01T20:11:40.484859Z"
    },
    "papermill": {
     "duration": 0.02154,
     "end_time": "2024-11-07T20:20:00.791959",
     "exception": false,
     "start_time": "2024-11-07T20:20:00.770419",
     "status": "completed"
    },
    "tags": [],
    "trusted": true
   },
   "outputs": [],
   "source": [
    "# print(\"X : \", X.shape)\n",
    "\n",
    "# print(\"test data : \", test_data_processed.shape)\n"
   ]
  },
  {
   "cell_type": "code",
   "execution_count": null,
   "id": "f9c6b8a2",
   "metadata": {
    "execution": {
     "iopub.execute_input": "2024-12-01T20:11:40.498405Z",
     "iopub.status.busy": "2024-12-01T20:11:40.498043Z",
     "iopub.status.idle": "2024-12-01T20:11:40.513469Z",
     "shell.execute_reply": "2024-12-01T20:11:40.512305Z",
     "shell.execute_reply.started": "2024-12-01T20:11:40.498369Z"
    },
    "papermill": {
     "duration": 0.021917,
     "end_time": "2024-11-07T20:20:00.827296",
     "exception": false,
     "start_time": "2024-11-07T20:20:00.805379",
     "status": "completed"
    },
    "tags": [],
    "trusted": true
   },
   "outputs": [
    {
     "data": {
      "text/plain": [
       "(181507, 2199)"
      ]
     },
     "execution_count": 15,
     "metadata": {},
     "output_type": "execute_result"
    }
   ],
   "source": [
    "# variance filter\n",
    "\n",
    "# ----------------------------- case  -----------------------------\n",
    "\n",
    "# variance_filter = VarianceThreshold(threshold=0.001)  # Adjust the threshold if needed\n",
    "\n",
    "# X = variance_filter.fit_transform(X)\n",
    "\n",
    "# test_data_processed = variance_filter.fit_transform(test_data_processed)\n",
    "\n",
    "X.shape\n"
   ]
  },
  {
   "cell_type": "code",
   "execution_count": null,
   "id": "f1604caf",
   "metadata": {
    "execution": {
     "iopub.execute_input": "2024-12-01T20:11:40.515560Z",
     "iopub.status.busy": "2024-12-01T20:11:40.515071Z",
     "iopub.status.idle": "2024-12-01T20:11:40.528414Z",
     "shell.execute_reply": "2024-12-01T20:11:40.527189Z",
     "shell.execute_reply.started": "2024-12-01T20:11:40.515511Z"
    },
    "papermill": {
     "duration": 0.026133,
     "end_time": "2024-11-07T20:20:00.868012",
     "exception": false,
     "start_time": "2024-11-07T20:20:00.841879",
     "status": "completed"
    },
    "tags": [],
    "trusted": true
   },
   "outputs": [],
   "source": [
    "# test_data_processed.shape\n"
   ]
  },
  {
   "cell_type": "code",
   "execution_count": null,
   "id": "dd97f036",
   "metadata": {
    "execution": {
     "iopub.execute_input": "2024-12-01T20:11:40.530419Z",
     "iopub.status.busy": "2024-12-01T20:11:40.529995Z",
     "iopub.status.idle": "2024-12-01T20:11:40.545059Z",
     "shell.execute_reply": "2024-12-01T20:11:40.543320Z",
     "shell.execute_reply.started": "2024-12-01T20:11:40.530381Z"
    },
    "papermill": {
     "duration": 0.023607,
     "end_time": "2024-11-07T20:20:00.905745",
     "exception": false,
     "start_time": "2024-11-07T20:20:00.882138",
     "status": "completed"
    },
    "tags": [],
    "trusted": true
   },
   "outputs": [
    {
     "data": {
      "text/plain": [
       "(181507, 2199)"
      ]
     },
     "execution_count": 17,
     "metadata": {},
     "output_type": "execute_result"
    }
   ],
   "source": [
    "# # correlation filter\n",
    "\n",
    "# # ----------------------------- case  -----------------------------\n",
    "\n",
    "# corr_matrix = pd.DataFrame(X).corr().abs()\n",
    "\n",
    "# upper_tri = corr_matrix.where(np.triu(np.ones(corr_matrix.shape), k=1).astype(bool))\n",
    "\n",
    "# to_drop = [column for column in upper_tri.columns if any(upper_tri[column] > 0.9)]\n",
    "\n",
    "# X = pd.DataFrame(X).drop(columns=to_drop)\n",
    "\n",
    "# test_data_processed = pd.DataFrame(test_data_processed).drop(columns=to_drop)\n",
    "\n",
    "X.shape\n"
   ]
  },
  {
   "cell_type": "code",
   "execution_count": null,
   "id": "d523de93",
   "metadata": {
    "execution": {
     "iopub.execute_input": "2024-12-01T20:11:40.547104Z",
     "iopub.status.busy": "2024-12-01T20:11:40.546714Z",
     "iopub.status.idle": "2024-12-01T20:11:40.555716Z",
     "shell.execute_reply": "2024-12-01T20:11:40.554563Z",
     "shell.execute_reply.started": "2024-12-01T20:11:40.547067Z"
    },
    "papermill": {
     "duration": 0.023492,
     "end_time": "2024-11-07T20:20:00.943356",
     "exception": false,
     "start_time": "2024-11-07T20:20:00.919864",
     "status": "completed"
    },
    "tags": [],
    "trusted": true
   },
   "outputs": [],
   "source": [
    "# test_data_processed.shape\n"
   ]
  },
  {
   "cell_type": "markdown",
   "id": "103b2dac",
   "metadata": {},
   "source": [
    "# functions"
   ]
  },
  {
   "cell_type": "code",
   "execution_count": null,
   "id": "b63db296",
   "metadata": {
    "execution": {
     "iopub.execute_input": "2024-12-01T20:11:40.557680Z",
     "iopub.status.busy": "2024-12-01T20:11:40.557224Z",
     "iopub.status.idle": "2024-12-01T20:11:40.569404Z",
     "shell.execute_reply": "2024-12-01T20:11:40.568364Z",
     "shell.execute_reply.started": "2024-12-01T20:11:40.557599Z"
    },
    "trusted": true
   },
   "outputs": [],
   "source": [
    "from datetime import datetime\n",
    "\n",
    "\n",
    "\n",
    "def get_current_datetime():\n",
    "\n",
    "    return datetime.now().strftime(\"%Y-%m-%d %H:%M:%S\")\n"
   ]
  },
  {
   "cell_type": "markdown",
   "id": "e83c7b27",
   "metadata": {},
   "source": [
    "# Polynomial Features"
   ]
  },
  {
   "cell_type": "code",
   "execution_count": null,
   "id": "2ccfe161",
   "metadata": {
    "execution": {
     "iopub.execute_input": "2024-12-01T20:11:40.571180Z",
     "iopub.status.busy": "2024-12-01T20:11:40.570838Z",
     "iopub.status.idle": "2024-12-01T20:11:40.582179Z",
     "shell.execute_reply": "2024-12-01T20:11:40.581037Z",
     "shell.execute_reply.started": "2024-12-01T20:11:40.571148Z"
    },
    "trusted": true
   },
   "outputs": [],
   "source": [
    "# preprocessor.fit(train_data)\n",
    "\n",
    "# X = preprocessor.transform(X)\n"
   ]
  },
  {
   "cell_type": "code",
   "execution_count": null,
   "id": "10d05b61",
   "metadata": {
    "execution": {
     "iopub.execute_input": "2024-12-01T20:11:40.584167Z",
     "iopub.status.busy": "2024-12-01T20:11:40.583702Z",
     "iopub.status.idle": "2024-12-01T20:11:40.597655Z",
     "shell.execute_reply": "2024-12-01T20:11:40.596418Z",
     "shell.execute_reply.started": "2024-12-01T20:11:40.584117Z"
    },
    "trusted": true
   },
   "outputs": [
    {
     "data": {
      "text/plain": [
       "(181507, 2199)"
      ]
     },
     "execution_count": 21,
     "metadata": {},
     "output_type": "execute_result"
    }
   ],
   "source": [
    "X.shape\n"
   ]
  },
  {
   "cell_type": "code",
   "execution_count": null,
   "id": "315d7970",
   "metadata": {
    "execution": {
     "iopub.execute_input": "2024-12-01T20:11:40.599685Z",
     "iopub.status.busy": "2024-12-01T20:11:40.599187Z",
     "iopub.status.idle": "2024-12-01T20:11:40.613846Z",
     "shell.execute_reply": "2024-12-01T20:11:40.612719Z",
     "shell.execute_reply.started": "2024-12-01T20:11:40.599627Z"
    },
    "trusted": true
   },
   "outputs": [
    {
     "name": "stdout",
     "output_type": "stream",
     "text": [
      "PolynomialFeatures(include_bias=False)\n"
     ]
    }
   ],
   "source": [
    "poly = PolynomialFeatures(degree=2, include_bias=False)\n",
    "\n",
    "print(poly)\n"
   ]
  },
  {
   "cell_type": "code",
   "execution_count": null,
   "id": "dbd97c4d",
   "metadata": {
    "execution": {
     "iopub.execute_input": "2024-12-01T20:11:40.615597Z",
     "iopub.status.busy": "2024-12-01T20:11:40.615185Z",
     "iopub.status.idle": "2024-12-01T20:11:40.845956Z",
     "shell.execute_reply": "2024-12-01T20:11:40.844268Z",
     "shell.execute_reply.started": "2024-12-01T20:11:40.615562Z"
    },
    "trusted": true
   },
   "outputs": [],
   "source": [
    "sample_train = train_data.sample(frac=0.1)\n",
    "\n",
    "X = sample_train.drop(columns=['price_doc'])\n",
    "\n",
    "Y = sample_train['price_doc']\n"
   ]
  },
  {
   "cell_type": "code",
   "execution_count": null,
   "id": "fbaefa64",
   "metadata": {
    "execution": {
     "iopub.execute_input": "2024-12-01T20:11:40.847907Z",
     "iopub.status.busy": "2024-12-01T20:11:40.847515Z",
     "iopub.status.idle": "2024-12-01T20:11:40.868347Z",
     "shell.execute_reply": "2024-12-01T20:11:40.867172Z",
     "shell.execute_reply.started": "2024-12-01T20:11:40.847871Z"
    },
    "trusted": true
   },
   "outputs": [
    {
     "name": "stdout",
     "output_type": "stream",
     "text": [
      "         full_sq   life_sq     floor    area_m  raion_popul  green_zone_part  \\\n",
      "158908 -0.386206  0.001681  3.266300  2.705272     0.942604         1.176263   \n",
      "102087 -0.368809 -0.370696 -0.355631 -0.480359    -0.196931        -0.686232   \n",
      "129730 -0.368719 -0.377938 -0.515142 -0.533457    -0.158494        -0.923292   \n",
      "95213   1.344680  4.517693  1.893532  3.335562     2.577519         0.120008   \n",
      "5405   -0.380005 -0.365926  0.568252  0.764880    -1.398870         0.445011   \n",
      "...          ...       ...       ...       ...          ...              ...   \n",
      "128227 -0.372501 -0.379760 -0.461706 -0.550182    -0.484560        -0.483425   \n",
      "37313  -0.360298 -0.372701 -0.636804 -0.475429     0.991104         0.616259   \n",
      "105312 -0.364460 -0.376293 -0.523705 -0.477099    -0.022721        -1.059833   \n",
      "131937 -0.365517 -0.375318 -0.430979 -0.559530    -0.412477         0.082143   \n",
      "63760  -0.363991 -0.374619 -0.695126 -0.325413     2.384597         0.276878   \n",
      "\n",
      "        indust_part  children_preschool  preschool_education_centers_raion  \\\n",
      "158908     1.418743            0.148475                           2.157419   \n",
      "102087     1.210426           -0.137424                          -0.080357   \n",
      "129730     0.403866           -0.432706                          -0.421149   \n",
      "95213      0.745683            1.190135                           2.234401   \n",
      "5405      -0.503437           -1.213668                          -1.443525   \n",
      "...             ...                 ...                                ...   \n",
      "128227     0.253369           -0.449557                          -1.102733   \n",
      "37313     -1.007899            0.571352                           1.282811   \n",
      "105312     1.252143           -0.307953                          -0.080357   \n",
      "131937    -0.912711           -0.378378                          -1.102733   \n",
      "63760     -0.777522            1.178516                           1.964396   \n",
      "\n",
      "        children_school  ...  big_market_raion_yes  nuclear_reactor_raion_yes  \\\n",
      "158908         1.535552  ...                 False                      False   \n",
      "102087        -0.254528  ...                 False                      False   \n",
      "129730        -0.415144  ...                 False                      False   \n",
      "95213          2.586779  ...                  True                      False   \n",
      "5405          -1.241947  ...                  True                      False   \n",
      "...                 ...  ...                   ...                        ...   \n",
      "128227        -0.509290  ...                 False                      False   \n",
      "37313          0.493202  ...                 False                      False   \n",
      "105312        -0.222157  ...                 False                      False   \n",
      "131937        -0.456904  ...                 False                      False   \n",
      "63760          1.215234  ...                 False                      False   \n",
      "\n",
      "        detention_facility_raion_yes  water_1line_yes  big_road1_1line_yes  \\\n",
      "158908                          True            False                 True   \n",
      "102087                         False            False                False   \n",
      "129730                         False            False                False   \n",
      "95213                          False             True                 True   \n",
      "5405                           False            False                False   \n",
      "...                              ...              ...                  ...   \n",
      "128227                         False            False                False   \n",
      "37313                          False            False                False   \n",
      "105312                         False            False                False   \n",
      "131937                         False            False                False   \n",
      "63760                          False            False                False   \n",
      "\n",
      "        railroad_1line_yes  ecology_good  ecology_no data  ecology_poor  \\\n",
      "158908                True         False             True         False   \n",
      "102087               False         False            False         False   \n",
      "129730               False         False            False          True   \n",
      "95213                False          True            False         False   \n",
      "5405                 False         False             True         False   \n",
      "...                    ...           ...              ...           ...   \n",
      "128227               False         False            False          True   \n",
      "37313                False         False            False          True   \n",
      "105312               False         False            False         False   \n",
      "131937               False         False            False          True   \n",
      "63760                False         False            False          True   \n",
      "\n",
      "        ecology_satisfactory  \n",
      "158908                 False  \n",
      "102087                 False  \n",
      "129730                 False  \n",
      "95213                  False  \n",
      "5405                   False  \n",
      "...                      ...  \n",
      "128227                 False  \n",
      "37313                  False  \n",
      "105312                 False  \n",
      "131937                 False  \n",
      "63760                  False  \n",
      "\n",
      "[18151 rows x 2199 columns]\n",
      "(18151, 2199)\n",
      "(18151,)\n"
     ]
    }
   ],
   "source": [
    "print(X)\n",
    "\n",
    "print(X.shape)\n",
    "\n",
    "print(Y.shape)\n"
   ]
  },
  {
   "cell_type": "code",
   "execution_count": null,
   "id": "c388365c",
   "metadata": {
    "execution": {
     "iopub.execute_input": "2024-12-01T20:11:40.870387Z",
     "iopub.status.busy": "2024-12-01T20:11:40.870034Z",
     "iopub.status.idle": "2024-12-01T20:11:42.561181Z",
     "shell.execute_reply": "2024-12-01T20:11:42.559736Z",
     "shell.execute_reply.started": "2024-12-01T20:11:40.870354Z"
    },
    "trusted": true
   },
   "outputs": [],
   "source": [
    "# because there is too much columns. lets reduce them and then put in polyfeatures\n",
    "\n",
    "from sklearn.feature_selection import VarianceThreshold\n",
    "\n",
    "selector = VarianceThreshold(threshold=0.999)\n",
    "\n",
    "X = selector.fit_transform(X)\n",
    "test_data = selector.transform(test_data)\n"
   ]
  },
  {
   "cell_type": "code",
   "execution_count": null,
   "id": "70415e04-c2ab-4c7d-a9a7-fc9808fc2dc0",
   "metadata": {
    "execution": {
     "iopub.execute_input": "2024-12-01T20:11:42.563561Z",
     "iopub.status.busy": "2024-12-01T20:11:42.563033Z",
     "iopub.status.idle": "2024-12-01T20:11:42.572218Z",
     "shell.execute_reply": "2024-12-01T20:11:42.570672Z",
     "shell.execute_reply.started": "2024-12-01T20:11:42.563474Z"
    },
    "trusted": true
   },
   "outputs": [
    {
     "name": "stdout",
     "output_type": "stream",
     "text": [
      "(18151, 173)\n",
      "(77789, 173)\n"
     ]
    }
   ],
   "source": [
    "print(X.shape)\n",
    "print(test_data.shape)\n"
   ]
  },
  {
   "cell_type": "code",
   "execution_count": null,
   "id": "99f75108-f2c5-415a-848e-8f236aa75a11",
   "metadata": {
    "execution": {
     "iopub.execute_input": "2024-12-01T20:11:42.574862Z",
     "iopub.status.busy": "2024-12-01T20:11:42.574267Z",
     "iopub.status.idle": "2024-12-01T20:11:42.588015Z",
     "shell.execute_reply": "2024-12-01T20:11:42.586437Z",
     "shell.execute_reply.started": "2024-12-01T20:11:42.574809Z"
    },
    "trusted": true
   },
   "outputs": [],
   "source": [
    "X = pd.DataFrame(X)\n"
   ]
  },
  {
   "cell_type": "code",
   "execution_count": null,
   "id": "88fc5245-cef0-4c34-aeda-cfb4c8d6ed92",
   "metadata": {
    "execution": {
     "iopub.execute_input": "2024-12-01T20:11:42.598005Z",
     "iopub.status.busy": "2024-12-01T20:11:42.597616Z",
     "iopub.status.idle": "2024-12-01T20:11:42.603772Z",
     "shell.execute_reply": "2024-12-01T20:11:42.602318Z",
     "shell.execute_reply.started": "2024-12-01T20:11:42.597973Z"
    },
    "trusted": true
   },
   "outputs": [
    {
     "name": "stdout",
     "output_type": "stream",
     "text": [
      "RangeIndex(start=0, stop=173, step=1)\n"
     ]
    }
   ],
   "source": [
    "print(X.columns)\n"
   ]
  },
  {
   "cell_type": "code",
   "execution_count": null,
   "id": "771643bc",
   "metadata": {
    "execution": {
     "iopub.execute_input": "2024-12-01T20:11:42.605813Z",
     "iopub.status.busy": "2024-12-01T20:11:42.605409Z",
     "iopub.status.idle": "2024-12-01T20:11:44.552724Z",
     "shell.execute_reply": "2024-12-01T20:11:44.551316Z",
     "shell.execute_reply.started": "2024-12-01T20:11:42.605779Z"
    },
    "scrolled": true,
    "trusted": true
   },
   "outputs": [
    {
     "name": "stdout",
     "output_type": "stream",
     "text": [
      "sample fitting  2024-12-01 20:11:42\n",
      "(18151, 15224)\n",
      "['x0' 'x1' 'x2' ... 'x171^2' 'x171 x172' 'x172^2']\n"
     ]
    }
   ],
   "source": [
    "print(\"sample fitting \", get_current_datetime())\n",
    "\n",
    "X = poly.fit_transform(X)\n",
    "\n",
    "print(X.shape)\n",
    "\n",
    "print(poly.get_feature_names_out())\n"
   ]
  },
  {
   "cell_type": "code",
   "execution_count": null,
   "id": "0579dcb5",
   "metadata": {
    "execution": {
     "iopub.execute_input": "2024-12-01T20:11:44.554407Z",
     "iopub.status.busy": "2024-12-01T20:11:44.554050Z",
     "iopub.status.idle": "2024-12-01T20:11:52.393488Z",
     "shell.execute_reply": "2024-12-01T20:11:52.392107Z",
     "shell.execute_reply.started": "2024-12-01T20:11:44.554374Z"
    },
    "trusted": true
   },
   "outputs": [
    {
     "name": "stdout",
     "output_type": "stream",
     "text": [
      "(18151, 15224)\n",
      "['x0' 'x1' 'x2' ... 'x171^2' 'x171 x172' 'x172^2']\n"
     ]
    }
   ],
   "source": [
    "test_data = poly.transform(test_data)\n",
    "\n",
    "print(X.shape)\n",
    "\n",
    "print(poly.get_feature_names_out())\n"
   ]
  },
  {
   "cell_type": "markdown",
   "id": "5edcb49b",
   "metadata": {
    "papermill": {
     "duration": 0.016785,
     "end_time": "2024-11-07T20:20:00.974594",
     "exception": false,
     "start_time": "2024-11-07T20:20:00.957809",
     "status": "completed"
    },
    "tags": []
   },
   "source": [
    "## Data Splitting - train and validate\n",
    "\n",
    "now our test_data set is of rows with NO target variable whereas the train_data set is WITH target variable.\n",
    "\n",
    "our rules in machine learning is that we must train half or 70% of the data and then we must check its accuracy using the remaining half or 30% of the data - we can only check accuracy IF we have the answers i.e. the target variable. \n",
    "\n",
    "So, what we need to do is, is split the train_data set into 2, by a 70% and 30% ratio. we train the model using the 70% and then test the model using the 30% and then use that model to predict the test_data set."
   ]
  },
  {
   "cell_type": "code",
   "execution_count": null,
   "id": "237c64fd",
   "metadata": {
    "execution": {
     "iopub.execute_input": "2024-12-01T20:11:52.395448Z",
     "iopub.status.busy": "2024-12-01T20:11:52.394992Z",
     "iopub.status.idle": "2024-12-01T20:11:53.100413Z",
     "shell.execute_reply": "2024-12-01T20:11:53.099182Z",
     "shell.execute_reply.started": "2024-12-01T20:11:52.395408Z"
    },
    "papermill": {
     "duration": 0.273955,
     "end_time": "2024-11-07T20:20:01.264394",
     "exception": false,
     "start_time": "2024-11-07T20:20:00.990439",
     "status": "completed"
    },
    "tags": [],
    "trusted": true
   },
   "outputs": [],
   "source": [
    "# holdout method\n",
    "\n",
    "trainX, testX, trainY, testY = train_test_split(X, Y, test_size=0.3, random_state=2)\n"
   ]
  },
  {
   "cell_type": "markdown",
   "id": "b1485955",
   "metadata": {
    "papermill": {
     "duration": 0.013949,
     "end_time": "2024-11-07T20:20:01.292747",
     "exception": false,
     "start_time": "2024-11-07T20:20:01.278798",
     "status": "completed"
    },
    "tags": []
   },
   "source": [
    "# functions\n",
    "\n",
    "here we have defined functions like forward-backward selection, kbest selection & algorithm feature importance"
   ]
  },
  {
   "cell_type": "code",
   "execution_count": null,
   "id": "836da9a8",
   "metadata": {
    "execution": {
     "iopub.execute_input": "2024-12-01T20:11:53.102764Z",
     "iopub.status.busy": "2024-12-01T20:11:53.102226Z",
     "iopub.status.idle": "2024-12-01T20:11:53.112536Z",
     "shell.execute_reply": "2024-12-01T20:11:53.111040Z",
     "shell.execute_reply.started": "2024-12-01T20:11:53.102711Z"
    },
    "papermill": {
     "duration": 0.023729,
     "end_time": "2024-11-07T20:20:01.330428",
     "exception": false,
     "start_time": "2024-11-07T20:20:01.306699",
     "status": "completed"
    },
    "tags": [],
    "trusted": true
   },
   "outputs": [],
   "source": [
    "# forward backward selection\n",
    "\n",
    "def fbselection(direction, sample_model, features, X, trainX, trainY, testX, test_data_processed):\n",
    "\n",
    "    print(\"starting\")\n",
    "\n",
    "    selection = SequentialFeatureSelector(sample_model, direction=direction, n_features_to_select=features, scoring='roc_auc')\n",
    "\n",
    "    return modelSelector(sample_model, selection, X, trainX, trainY, testX, test_data_processed)\n",
    "\n",
    "\n",
    "\n",
    "def modelSelector(sample_model, selection, X, trainX, trainY, testX, test_data_processed):\n",
    "\n",
    "    print(\"start extracting\")\n",
    "\n",
    "    trainX = selection.fit_transform(trainX, trainY)\n",
    "\n",
    "    print(\"extracted, transforming\")\n",
    "\n",
    "    testX = selection.transform(testX)                                  # Ensure the test set is transformed similarly\n",
    "\n",
    "    test_data_processed = selection.transform(test_data_processed)      # test data is also transformed\n",
    "\n",
    "    X = selection.transform(X)                                          # full data transforming\n",
    "\n",
    "    print(\"transformed\")\n",
    "\n",
    "    return sample_model, X, trainX, trainY, testX, test_data_processed\n",
    "\n",
    "\n",
    "\n",
    "# kbest selection\n",
    "\n",
    "def kbest(sample_model, features, X, trainX, trainY, testX, test_data_processed):\n",
    "\n",
    "    print(\"starting\")\n",
    "\n",
    "    selection = SelectKBest(score_func=f_classif, k=features)\n",
    "\n",
    "    return modelSelector(sample_model, selection, X, trainX, trainY, testX, test_data_processed)\n"
   ]
  },
  {
   "cell_type": "code",
   "execution_count": null,
   "id": "0a0bc955",
   "metadata": {
    "execution": {
     "iopub.execute_input": "2024-12-01T20:11:53.114245Z",
     "iopub.status.busy": "2024-12-01T20:11:53.113919Z",
     "iopub.status.idle": "2024-12-01T20:11:53.127660Z",
     "shell.execute_reply": "2024-12-01T20:11:53.126222Z",
     "shell.execute_reply.started": "2024-12-01T20:11:53.114215Z"
    },
    "papermill": {
     "duration": 0.025235,
     "end_time": "2024-11-07T20:20:01.370030",
     "exception": false,
     "start_time": "2024-11-07T20:20:01.344795",
     "status": "completed"
    },
    "tags": [],
    "trusted": true
   },
   "outputs": [],
   "source": [
    "# feature importance function\n",
    "\n",
    "def featureImportance(sample_model, features, X, trainX, trainY, testX, test_data_processed):\n",
    "\n",
    "    print(\"fitting\")\n",
    "\n",
    "    \n",
    "\n",
    "    # fit the model\n",
    "\n",
    "    sample_model.fit(trainX, trainY)\n",
    "\n",
    "\n",
    "\n",
    "    print(\"extracting features\")\n",
    "\n",
    "\n",
    "\n",
    "    # extract all the feature names from data\n",
    "\n",
    "    importances = sample_model.feature_importances_\n",
    "\n",
    "    feature_names = train_data_processed.drop(columns=['Y']).columns\n",
    "\n",
    "    print(feature_names)\n",
    "\n",
    "\n",
    "\n",
    "    # sort with respect to importance\n",
    "\n",
    "    feature_importance_df = pd.DataFrame({\n",
    "\n",
    "        'Feature': feature_names,\n",
    "\n",
    "        'Importance': importances\n",
    "\n",
    "    }).sort_values(by='Importance', ascending=False)\n",
    "\n",
    "\n",
    "\n",
    "    # extract the top ones\n",
    "\n",
    "    top_features = feature_importance_df['Feature'].head(features).values\n",
    "\n",
    "    print(top_features)\n",
    "\n",
    "\n",
    "\n",
    "    # change all data according to the top ones we have selected\n",
    "\n",
    "    trainX = pd.DataFrame(trainX, columns=feature_names)[top_features]\n",
    "\n",
    "    testX = pd.DataFrame(testX, columns=feature_names)[top_features]\n",
    "\n",
    "    X = pd.DataFrame(X, columns=feature_names)[top_features]\n",
    "\n",
    "    test_data_processed = pd.DataFrame(test_data_processed, columns=feature_names)[top_features]\n",
    "\n",
    "\n",
    "\n",
    "    print(\"features extracted\")\n",
    "\n",
    "    \n",
    "\n",
    "    # retrain the model\n",
    "\n",
    "    sample_model.fit(trainX, trainY)\n",
    "\n",
    "\n",
    "\n",
    "    print(\"features trained\")\n",
    "\n",
    "    \n",
    "\n",
    "    return sample_model, X, trainX, trainY, testX, test_data_processed\n"
   ]
  },
  {
   "cell_type": "markdown",
   "id": "fc6047d2",
   "metadata": {
    "papermill": {
     "duration": 0.013797,
     "end_time": "2024-11-07T20:20:01.398362",
     "exception": false,
     "start_time": "2024-11-07T20:20:01.384565",
     "status": "completed"
    },
    "tags": []
   },
   "source": [
    "## model intialization\n",
    "\n",
    "here model is intialized"
   ]
  },
  {
   "cell_type": "code",
   "execution_count": null,
   "id": "511dc0e2",
   "metadata": {
    "execution": {
     "iopub.execute_input": "2024-12-01T20:11:53.130546Z",
     "iopub.status.busy": "2024-12-01T20:11:53.129362Z",
     "iopub.status.idle": "2024-12-01T20:11:53.151194Z",
     "shell.execute_reply": "2024-12-01T20:11:53.149945Z",
     "shell.execute_reply.started": "2024-12-01T20:11:53.130469Z"
    },
    "papermill": {
     "duration": 0.021268,
     "end_time": "2024-11-07T20:20:01.433590",
     "exception": false,
     "start_time": "2024-11-07T20:20:01.412322",
     "status": "completed"
    },
    "tags": [],
    "trusted": true
   },
   "outputs": [],
   "source": [
    "# declare the model here\n",
    "\n",
    "# model = Pipeline(steps=[\n",
    "\n",
    "#     (\"preprocessor\", preprocessor),\n",
    "\n",
    "#     (\"model\", LinearRegression())\n",
    "\n",
    "# ])\n",
    "\n",
    "model = KNeighborsRegressor( n_neighbors=50, algorithm='auto', leaf_size=70, p=2, metric='minkowski', n_jobs=-1, weights=\"uniform\" )\n",
    "\n",
    "# ridge best: (\"model\", Ridge(alpha=100, solver='lsqr', tol=0.001))\n"
   ]
  },
  {
   "cell_type": "code",
   "execution_count": null,
   "id": "585f7723",
   "metadata": {
    "execution": {
     "iopub.execute_input": "2024-12-01T20:11:53.153042Z",
     "iopub.status.busy": "2024-12-01T20:11:53.152612Z",
     "iopub.status.idle": "2024-12-01T20:11:53.167297Z",
     "shell.execute_reply": "2024-12-01T20:11:53.165864Z",
     "shell.execute_reply.started": "2024-12-01T20:11:53.153005Z"
    },
    "papermill": {
     "duration": 0.02329,
     "end_time": "2024-11-07T20:20:14.141486",
     "exception": false,
     "start_time": "2024-11-07T20:20:14.118196",
     "status": "completed"
    },
    "tags": [],
    "trusted": true
   },
   "outputs": [
    {
     "name": "stdout",
     "output_type": "stream",
     "text": [
      "X shape ->  (18151, 15224)\n",
      "trainX shape ->  (12705, 15224)\n",
      "testX shape ->  (5446, 15224)\n",
      "test_data_processed shape ->  (77789, 15224)\n"
     ]
    }
   ],
   "source": [
    "print(\"X shape -> \", X.shape)\n",
    "\n",
    "print(\"trainX shape -> \", trainX.shape)\n",
    "\n",
    "print(\"testX shape -> \", testX.shape)\n",
    "\n",
    "print(\"test_data_processed shape -> \", test_data.shape)\n"
   ]
  },
  {
   "cell_type": "markdown",
   "id": "34c9426d",
   "metadata": {},
   "source": [
    "# feature selection\n",
    "\n",
    "here we will apply feature selection and feature importance"
   ]
  },
  {
   "cell_type": "code",
   "execution_count": null,
   "id": "b543f060",
   "metadata": {
    "execution": {
     "iopub.execute_input": "2024-12-01T20:11:53.169306Z",
     "iopub.status.busy": "2024-12-01T20:11:53.168790Z",
     "iopub.status.idle": "2024-12-01T20:11:53.181354Z",
     "shell.execute_reply": "2024-12-01T20:11:53.179833Z",
     "shell.execute_reply.started": "2024-12-01T20:11:53.169269Z"
    },
    "trusted": true
   },
   "outputs": [],
   "source": [
    "# apply feature selection here\n",
    "\n",
    "# features_selected = SelectFromModel(model)\n"
   ]
  },
  {
   "cell_type": "markdown",
   "id": "58edd65e",
   "metadata": {},
   "source": [
    "# grid search"
   ]
  },
  {
   "cell_type": "code",
   "execution_count": null,
   "id": "61b8b917",
   "metadata": {
    "execution": {
     "iopub.execute_input": "2024-12-01T20:11:53.183137Z",
     "iopub.status.busy": "2024-12-01T20:11:53.182737Z",
     "iopub.status.idle": "2024-12-01T20:11:53.197150Z",
     "shell.execute_reply": "2024-12-01T20:11:53.196072Z",
     "shell.execute_reply.started": "2024-12-01T20:11:53.183092Z"
    },
    "trusted": true
   },
   "outputs": [],
   "source": [
    "def gridsearch(param_grid, model, scorer, trainX, trainY):\n",
    "\n",
    "    print(\"starting grid search\")\n",
    "\n",
    "\n",
    "\n",
    "    # intialize grid search\n",
    "\n",
    "    grid_search = GridSearchCV(estimator=model, param_grid=param_grid, cv=3, scoring=scorer, verbose=3)\n",
    "\n",
    "    print(\"grid search is intialized\")\n",
    "\n",
    "\n",
    "\n",
    "    # fit the model\n",
    "\n",
    "    grid_search.fit(trainX, trainY)\n",
    "\n",
    "    print(\"grid search fitting completed\")\n",
    "\n",
    "\n",
    "\n",
    "    # display the best model grid search found\n",
    "\n",
    "    best_model = grid_search.best_estimator_\n",
    "\n",
    "    print(best_model)\n",
    "\n",
    "\n",
    "\n",
    "    # display the best parameters of the best model\n",
    "\n",
    "    best_parameters = grid_search.best_params_\n",
    "\n",
    "    print(best_parameters)\n",
    "\n",
    "\n",
    "\n",
    "    # display the best score of the best model\n",
    "\n",
    "    print(\"Best cross-validated score:\", grid_search.best_score_)\n",
    "\n",
    "\n",
    "\n",
    "    # assign the best model our model\n",
    "\n",
    "    model = best_model\n",
    "\n",
    "    print(\"model assigned, grid search completed\")\n",
    "\n",
    "\n",
    "\n",
    "    return model\n"
   ]
  },
  {
   "cell_type": "code",
   "execution_count": null,
   "id": "8896c271",
   "metadata": {
    "execution": {
     "iopub.execute_input": "2024-12-01T20:11:53.199152Z",
     "iopub.status.busy": "2024-12-01T20:11:53.198676Z",
     "iopub.status.idle": "2024-12-01T20:11:53.218355Z",
     "shell.execute_reply": "2024-12-01T20:11:53.217098Z",
     "shell.execute_reply.started": "2024-12-01T20:11:53.199103Z"
    },
    "trusted": true
   },
   "outputs": [],
   "source": [
    "# Define a scoring metric (e.g., negative mean squared error)\n",
    "\n",
    "# scorer = make_scorer(mean_squared_error, greater_is_better=False)\n"
   ]
  },
  {
   "cell_type": "code",
   "execution_count": null,
   "id": "58ba6d7b",
   "metadata": {
    "execution": {
     "iopub.execute_input": "2024-12-01T20:11:53.220434Z",
     "iopub.status.busy": "2024-12-01T20:11:53.220009Z",
     "iopub.status.idle": "2024-12-01T20:11:53.233414Z",
     "shell.execute_reply": "2024-12-01T20:11:53.232163Z",
     "shell.execute_reply.started": "2024-12-01T20:11:53.220397Z"
    },
    "trusted": true
   },
   "outputs": [],
   "source": [
    "# define hyper parameters of grid\n",
    "\n",
    "# param_grid = {\n",
    "\n",
    "#     'model__tol': [1e-1, 1e-2, 1e-3, 1e-4, 1e-5]\n",
    "\n",
    "# }\n"
   ]
  },
  {
   "cell_type": "code",
   "execution_count": null,
   "id": "b969d8af",
   "metadata": {
    "execution": {
     "iopub.execute_input": "2024-12-01T20:11:53.235283Z",
     "iopub.status.busy": "2024-12-01T20:11:53.234950Z",
     "iopub.status.idle": "2024-12-01T20:11:53.248342Z",
     "shell.execute_reply": "2024-12-01T20:11:53.246660Z",
     "shell.execute_reply.started": "2024-12-01T20:11:53.235251Z"
    },
    "trusted": true
   },
   "outputs": [],
   "source": [
    "# model = gridsearch(param_grid, model, scorer, trainX, trainY)\n"
   ]
  },
  {
   "cell_type": "markdown",
   "id": "5040e3f0",
   "metadata": {
    "papermill": {
     "duration": 0.014003,
     "end_time": "2024-11-07T20:20:14.169733",
     "exception": false,
     "start_time": "2024-11-07T20:20:14.155730",
     "status": "completed"
    },
    "tags": []
   },
   "source": [
    "## Bagging intialization\n",
    "\n",
    "here we will introduce and intialize bagging"
   ]
  },
  {
   "cell_type": "code",
   "execution_count": null,
   "id": "25ad23ba",
   "metadata": {
    "execution": {
     "iopub.execute_input": "2024-12-01T20:11:53.251331Z",
     "iopub.status.busy": "2024-12-01T20:11:53.250758Z",
     "iopub.status.idle": "2024-12-01T20:11:53.264061Z",
     "shell.execute_reply": "2024-12-01T20:11:53.262785Z",
     "shell.execute_reply.started": "2024-12-01T20:11:53.251278Z"
    },
    "papermill": {
     "duration": 0.020997,
     "end_time": "2024-11-07T20:20:14.205105",
     "exception": false,
     "start_time": "2024-11-07T20:20:14.184108",
     "status": "completed"
    },
    "tags": [],
    "trusted": true
   },
   "outputs": [],
   "source": [
    "# ----------------- case -----------------\n",
    "\n",
    "# model = BaggingClassifier(estimator=model, n_estimators=10, verbose=2)\n"
   ]
  },
  {
   "cell_type": "markdown",
   "id": "df4c4143",
   "metadata": {
    "papermill": {
     "duration": 0.014144,
     "end_time": "2024-11-07T20:20:14.233534",
     "exception": false,
     "start_time": "2024-11-07T20:20:14.219390",
     "status": "completed"
    },
    "tags": []
   },
   "source": [
    "## model running\n",
    "\n",
    "here we run the model"
   ]
  },
  {
   "cell_type": "code",
   "execution_count": null,
   "id": "cad49c9d",
   "metadata": {
    "execution": {
     "iopub.execute_input": "2024-12-01T20:11:53.266169Z",
     "iopub.status.busy": "2024-12-01T20:11:53.265713Z",
     "iopub.status.idle": "2024-12-01T20:11:53.420748Z",
     "shell.execute_reply": "2024-12-01T20:11:53.419569Z",
     "shell.execute_reply.started": "2024-12-01T20:11:53.266109Z"
    },
    "papermill": {
     "duration": 1652.161599,
     "end_time": "2024-11-07T20:47:46.409387",
     "exception": false,
     "start_time": "2024-11-07T20:20:14.247788",
     "status": "completed"
    },
    "tags": [],
    "trusted": true
   },
   "outputs": [
    {
     "data": {
      "text/html": [
       "<style>#sk-container-id-1 {color: black;background-color: white;}#sk-container-id-1 pre{padding: 0;}#sk-container-id-1 div.sk-toggleable {background-color: white;}#sk-container-id-1 label.sk-toggleable__label {cursor: pointer;display: block;width: 100%;margin-bottom: 0;padding: 0.3em;box-sizing: border-box;text-align: center;}#sk-container-id-1 label.sk-toggleable__label-arrow:before {content: \"▸\";float: left;margin-right: 0.25em;color: #696969;}#sk-container-id-1 label.sk-toggleable__label-arrow:hover:before {color: black;}#sk-container-id-1 div.sk-estimator:hover label.sk-toggleable__label-arrow:before {color: black;}#sk-container-id-1 div.sk-toggleable__content {max-height: 0;max-width: 0;overflow: hidden;text-align: left;background-color: #f0f8ff;}#sk-container-id-1 div.sk-toggleable__content pre {margin: 0.2em;color: black;border-radius: 0.25em;background-color: #f0f8ff;}#sk-container-id-1 input.sk-toggleable__control:checked~div.sk-toggleable__content {max-height: 200px;max-width: 100%;overflow: auto;}#sk-container-id-1 input.sk-toggleable__control:checked~label.sk-toggleable__label-arrow:before {content: \"▾\";}#sk-container-id-1 div.sk-estimator input.sk-toggleable__control:checked~label.sk-toggleable__label {background-color: #d4ebff;}#sk-container-id-1 div.sk-label input.sk-toggleable__control:checked~label.sk-toggleable__label {background-color: #d4ebff;}#sk-container-id-1 input.sk-hidden--visually {border: 0;clip: rect(1px 1px 1px 1px);clip: rect(1px, 1px, 1px, 1px);height: 1px;margin: -1px;overflow: hidden;padding: 0;position: absolute;width: 1px;}#sk-container-id-1 div.sk-estimator {font-family: monospace;background-color: #f0f8ff;border: 1px dotted black;border-radius: 0.25em;box-sizing: border-box;margin-bottom: 0.5em;}#sk-container-id-1 div.sk-estimator:hover {background-color: #d4ebff;}#sk-container-id-1 div.sk-parallel-item::after {content: \"\";width: 100%;border-bottom: 1px solid gray;flex-grow: 1;}#sk-container-id-1 div.sk-label:hover label.sk-toggleable__label {background-color: #d4ebff;}#sk-container-id-1 div.sk-serial::before {content: \"\";position: absolute;border-left: 1px solid gray;box-sizing: border-box;top: 0;bottom: 0;left: 50%;z-index: 0;}#sk-container-id-1 div.sk-serial {display: flex;flex-direction: column;align-items: center;background-color: white;padding-right: 0.2em;padding-left: 0.2em;position: relative;}#sk-container-id-1 div.sk-item {position: relative;z-index: 1;}#sk-container-id-1 div.sk-parallel {display: flex;align-items: stretch;justify-content: center;background-color: white;position: relative;}#sk-container-id-1 div.sk-item::before, #sk-container-id-1 div.sk-parallel-item::before {content: \"\";position: absolute;border-left: 1px solid gray;box-sizing: border-box;top: 0;bottom: 0;left: 50%;z-index: -1;}#sk-container-id-1 div.sk-parallel-item {display: flex;flex-direction: column;z-index: 1;position: relative;background-color: white;}#sk-container-id-1 div.sk-parallel-item:first-child::after {align-self: flex-end;width: 50%;}#sk-container-id-1 div.sk-parallel-item:last-child::after {align-self: flex-start;width: 50%;}#sk-container-id-1 div.sk-parallel-item:only-child::after {width: 0;}#sk-container-id-1 div.sk-dashed-wrapped {border: 1px dashed gray;margin: 0 0.4em 0.5em 0.4em;box-sizing: border-box;padding-bottom: 0.4em;background-color: white;}#sk-container-id-1 div.sk-label label {font-family: monospace;font-weight: bold;display: inline-block;line-height: 1.2em;}#sk-container-id-1 div.sk-label-container {text-align: center;}#sk-container-id-1 div.sk-container {/* jupyter's `normalize.less` sets `[hidden] { display: none; }` but bootstrap.min.css set `[hidden] { display: none !important; }` so we also need the `!important` here to be able to override the default hidden behavior on the sphinx rendered scikit-learn.org. See: https://github.com/scikit-learn/scikit-learn/issues/21755 */display: inline-block !important;position: relative;}#sk-container-id-1 div.sk-text-repr-fallback {display: none;}</style><div id=\"sk-container-id-1\" class=\"sk-top-container\"><div class=\"sk-text-repr-fallback\"><pre>KNeighborsRegressor(leaf_size=70, n_jobs=-1, n_neighbors=50)</pre><b>In a Jupyter environment, please rerun this cell to show the HTML representation or trust the notebook. <br />On GitHub, the HTML representation is unable to render, please try loading this page with nbviewer.org.</b></div><div class=\"sk-container\" hidden><div class=\"sk-item\"><div class=\"sk-estimator sk-toggleable\"><input class=\"sk-toggleable__control sk-hidden--visually\" id=\"sk-estimator-id-1\" type=\"checkbox\" checked><label for=\"sk-estimator-id-1\" class=\"sk-toggleable__label sk-toggleable__label-arrow\">KNeighborsRegressor</label><div class=\"sk-toggleable__content\"><pre>KNeighborsRegressor(leaf_size=70, n_jobs=-1, n_neighbors=50)</pre></div></div></div></div></div>"
      ],
      "text/plain": [
       "KNeighborsRegressor(leaf_size=70, n_jobs=-1, n_neighbors=50)"
      ]
     },
     "execution_count": 42,
     "metadata": {},
     "output_type": "execute_result"
    }
   ],
   "source": [
    "# fit the model\n",
    "\n",
    "model.fit(trainX, trainY)\n"
   ]
  },
  {
   "cell_type": "code",
   "execution_count": null,
   "id": "329dff96",
   "metadata": {
    "execution": {
     "iopub.execute_input": "2024-12-01T20:11:53.422539Z",
     "iopub.status.busy": "2024-12-01T20:11:53.422165Z",
     "iopub.status.idle": "2024-12-01T20:13:16.732232Z",
     "shell.execute_reply": "2024-12-01T20:13:16.729650Z",
     "shell.execute_reply.started": "2024-12-01T20:11:53.422482Z"
    },
    "trusted": true
   },
   "outputs": [
    {
     "name": "stdout",
     "output_type": "stream",
     "text": [
      "model score:  -0.07078931196498628\n"
     ]
    }
   ],
   "source": [
    "# display information regarding the regression\n",
    "\n",
    "print(\"model score: \", model.score(trainX, trainY))\n",
    "\n",
    "# print(\"model coefficient: \", model.coef_)\n",
    "\n",
    "# print(\"model intercept: \", model.intercept_)\n"
   ]
  },
  {
   "cell_type": "code",
   "execution_count": null,
   "id": "01ee7e3b",
   "metadata": {
    "execution": {
     "iopub.execute_input": "2024-12-01T20:13:16.734019Z",
     "iopub.status.busy": "2024-12-01T20:13:16.733655Z",
     "iopub.status.idle": "2024-12-01T20:13:16.745722Z",
     "shell.execute_reply": "2024-12-01T20:13:16.744392Z",
     "shell.execute_reply.started": "2024-12-01T20:13:16.733984Z"
    },
    "trusted": true
   },
   "outputs": [],
   "source": [
    "# compute this predictions metrics\n",
    "\n",
    "def metrics(y_pred, testY):\n",
    "\n",
    "    print(\"starting to compute metrics\")\n",
    "\n",
    "    \n",
    "\n",
    "    # # display the accuracy of this prediction\n",
    "\n",
    "    # accuracy = accuracy_score(testY, y_pred)\n",
    "\n",
    "    # print(\"model accuracy = \", accuracy, \"   \")\n",
    "\n",
    "\n",
    "\n",
    "    # # now lets calculate the ROC AUC score according to this prediction\n",
    "\n",
    "    # roc_score = roc_auc_score(testY, y_pred)\n",
    "\n",
    "    # print(\"roc score = \", roc_score, \"   \")\n",
    "\n",
    "\n",
    "\n",
    "    # display the mean squared error of this prediction\n",
    "\n",
    "    mse = mean_squared_error(testY, y_pred)\n",
    "\n",
    "    print(\"Mean squared error: %.2f\" % mse, \"   \")\n",
    "\n",
    "\n",
    "\n",
    "    # display the root mean squared error\n",
    "\n",
    "    rmse = np.sqrt(mse)  # Root Mean Squared Error\n",
    "\n",
    "    print(\"Root Mean squared error: %.2f\" % rmse, \"   \")\n",
    "\n",
    "\n",
    "\n",
    "    # display the mean absolute error of this prediction\n",
    "\n",
    "    mae = mean_absolute_error(testY, y_pred)\n",
    "\n",
    "    print(\"Mean absolute error: %.2f\" % mae, \"   \")\n",
    "\n",
    "\n",
    "\n",
    "    # display the coeffeicient of determination of this preduction\n",
    "\n",
    "    r2_Score = r2_score(testY, y_pred)\n",
    "\n",
    "    print(\"Coefficient of determination: %.2f\" % r2_Score, \"    \")\n"
   ]
  },
  {
   "cell_type": "code",
   "execution_count": null,
   "id": "8275492e",
   "metadata": {
    "execution": {
     "iopub.execute_input": "2024-12-01T20:13:16.747454Z",
     "iopub.status.busy": "2024-12-01T20:13:16.747097Z",
     "iopub.status.idle": "2024-12-01T20:13:52.692250Z",
     "shell.execute_reply": "2024-12-01T20:13:52.689617Z",
     "shell.execute_reply.started": "2024-12-01T20:13:16.747422Z"
    },
    "trusted": true
   },
   "outputs": [
    {
     "name": "stdout",
     "output_type": "stream",
     "text": [
      "successfully predicted\n",
      "starting to compute metrics\n",
      "Mean squared error: 545826372861946.94    \n",
      "Root Mean squared error: 23362927.32    \n",
      "Mean absolute error: 9904841.71    \n",
      "Coefficient of determination: -0.12     \n"
     ]
    }
   ],
   "source": [
    "# predict using this model USING PREDICT\n",
    "\n",
    "y_pred = model.predict(testX)\n",
    "\n",
    "print(\"successfully predicted\")\n",
    "\n",
    "metrics(y_pred, testY)\n"
   ]
  },
  {
   "cell_type": "code",
   "execution_count": null,
   "id": "f8ee212f",
   "metadata": {
    "execution": {
     "iopub.execute_input": "2024-12-01T20:13:52.693800Z",
     "iopub.status.busy": "2024-12-01T20:13:52.693439Z",
     "iopub.status.idle": "2024-12-01T20:13:52.701392Z",
     "shell.execute_reply": "2024-12-01T20:13:52.699073Z",
     "shell.execute_reply.started": "2024-12-01T20:13:52.693767Z"
    },
    "trusted": true
   },
   "outputs": [],
   "source": [
    "# # predict using thus model USING PREDICTPROBA\n",
    "\n",
    "# y_pred_proba = model.predict_proba(testX)[:, 1]\n",
    "\n",
    "# print(\"successfully predicted\")\n",
    "\n",
    "# metrics(y_pred_proba, testY)\n"
   ]
  },
  {
   "cell_type": "markdown",
   "id": "937ae370",
   "metadata": {
    "papermill": {
     "duration": 0.019827,
     "end_time": "2024-11-07T20:55:49.286324",
     "exception": false,
     "start_time": "2024-11-07T20:55:49.266497",
     "status": "completed"
    },
    "tags": []
   },
   "source": [
    "## predict for test dataset\n",
    "\n",
    "fit the model and predict for test dataset"
   ]
  },
  {
   "cell_type": "code",
   "execution_count": null,
   "id": "8f6eb5c2",
   "metadata": {
    "execution": {
     "iopub.execute_input": "2024-12-01T20:13:52.703328Z",
     "iopub.status.busy": "2024-12-01T20:13:52.702984Z",
     "iopub.status.idle": "2024-12-01T20:13:52.939108Z",
     "shell.execute_reply": "2024-12-01T20:13:52.937827Z",
     "shell.execute_reply.started": "2024-12-01T20:13:52.703292Z"
    },
    "papermill": {
     "duration": 2249.874308,
     "end_time": "2024-11-07T21:33:19.180774",
     "exception": false,
     "start_time": "2024-11-07T20:55:49.306466",
     "status": "completed"
    },
    "tags": [],
    "trusted": true
   },
   "outputs": [
    {
     "data": {
      "text/html": [
       "<style>#sk-container-id-2 {color: black;background-color: white;}#sk-container-id-2 pre{padding: 0;}#sk-container-id-2 div.sk-toggleable {background-color: white;}#sk-container-id-2 label.sk-toggleable__label {cursor: pointer;display: block;width: 100%;margin-bottom: 0;padding: 0.3em;box-sizing: border-box;text-align: center;}#sk-container-id-2 label.sk-toggleable__label-arrow:before {content: \"▸\";float: left;margin-right: 0.25em;color: #696969;}#sk-container-id-2 label.sk-toggleable__label-arrow:hover:before {color: black;}#sk-container-id-2 div.sk-estimator:hover label.sk-toggleable__label-arrow:before {color: black;}#sk-container-id-2 div.sk-toggleable__content {max-height: 0;max-width: 0;overflow: hidden;text-align: left;background-color: #f0f8ff;}#sk-container-id-2 div.sk-toggleable__content pre {margin: 0.2em;color: black;border-radius: 0.25em;background-color: #f0f8ff;}#sk-container-id-2 input.sk-toggleable__control:checked~div.sk-toggleable__content {max-height: 200px;max-width: 100%;overflow: auto;}#sk-container-id-2 input.sk-toggleable__control:checked~label.sk-toggleable__label-arrow:before {content: \"▾\";}#sk-container-id-2 div.sk-estimator input.sk-toggleable__control:checked~label.sk-toggleable__label {background-color: #d4ebff;}#sk-container-id-2 div.sk-label input.sk-toggleable__control:checked~label.sk-toggleable__label {background-color: #d4ebff;}#sk-container-id-2 input.sk-hidden--visually {border: 0;clip: rect(1px 1px 1px 1px);clip: rect(1px, 1px, 1px, 1px);height: 1px;margin: -1px;overflow: hidden;padding: 0;position: absolute;width: 1px;}#sk-container-id-2 div.sk-estimator {font-family: monospace;background-color: #f0f8ff;border: 1px dotted black;border-radius: 0.25em;box-sizing: border-box;margin-bottom: 0.5em;}#sk-container-id-2 div.sk-estimator:hover {background-color: #d4ebff;}#sk-container-id-2 div.sk-parallel-item::after {content: \"\";width: 100%;border-bottom: 1px solid gray;flex-grow: 1;}#sk-container-id-2 div.sk-label:hover label.sk-toggleable__label {background-color: #d4ebff;}#sk-container-id-2 div.sk-serial::before {content: \"\";position: absolute;border-left: 1px solid gray;box-sizing: border-box;top: 0;bottom: 0;left: 50%;z-index: 0;}#sk-container-id-2 div.sk-serial {display: flex;flex-direction: column;align-items: center;background-color: white;padding-right: 0.2em;padding-left: 0.2em;position: relative;}#sk-container-id-2 div.sk-item {position: relative;z-index: 1;}#sk-container-id-2 div.sk-parallel {display: flex;align-items: stretch;justify-content: center;background-color: white;position: relative;}#sk-container-id-2 div.sk-item::before, #sk-container-id-2 div.sk-parallel-item::before {content: \"\";position: absolute;border-left: 1px solid gray;box-sizing: border-box;top: 0;bottom: 0;left: 50%;z-index: -1;}#sk-container-id-2 div.sk-parallel-item {display: flex;flex-direction: column;z-index: 1;position: relative;background-color: white;}#sk-container-id-2 div.sk-parallel-item:first-child::after {align-self: flex-end;width: 50%;}#sk-container-id-2 div.sk-parallel-item:last-child::after {align-self: flex-start;width: 50%;}#sk-container-id-2 div.sk-parallel-item:only-child::after {width: 0;}#sk-container-id-2 div.sk-dashed-wrapped {border: 1px dashed gray;margin: 0 0.4em 0.5em 0.4em;box-sizing: border-box;padding-bottom: 0.4em;background-color: white;}#sk-container-id-2 div.sk-label label {font-family: monospace;font-weight: bold;display: inline-block;line-height: 1.2em;}#sk-container-id-2 div.sk-label-container {text-align: center;}#sk-container-id-2 div.sk-container {/* jupyter's `normalize.less` sets `[hidden] { display: none; }` but bootstrap.min.css set `[hidden] { display: none !important; }` so we also need the `!important` here to be able to override the default hidden behavior on the sphinx rendered scikit-learn.org. See: https://github.com/scikit-learn/scikit-learn/issues/21755 */display: inline-block !important;position: relative;}#sk-container-id-2 div.sk-text-repr-fallback {display: none;}</style><div id=\"sk-container-id-2\" class=\"sk-top-container\"><div class=\"sk-text-repr-fallback\"><pre>KNeighborsRegressor(leaf_size=70, n_jobs=-1, n_neighbors=50)</pre><b>In a Jupyter environment, please rerun this cell to show the HTML representation or trust the notebook. <br />On GitHub, the HTML representation is unable to render, please try loading this page with nbviewer.org.</b></div><div class=\"sk-container\" hidden><div class=\"sk-item\"><div class=\"sk-estimator sk-toggleable\"><input class=\"sk-toggleable__control sk-hidden--visually\" id=\"sk-estimator-id-2\" type=\"checkbox\" checked><label for=\"sk-estimator-id-2\" class=\"sk-toggleable__label sk-toggleable__label-arrow\">KNeighborsRegressor</label><div class=\"sk-toggleable__content\"><pre>KNeighborsRegressor(leaf_size=70, n_jobs=-1, n_neighbors=50)</pre></div></div></div></div></div>"
      ],
      "text/plain": [
       "KNeighborsRegressor(leaf_size=70, n_jobs=-1, n_neighbors=50)"
      ]
     },
     "execution_count": 47,
     "metadata": {},
     "output_type": "execute_result"
    }
   ],
   "source": [
    "model.fit(X, Y)\n"
   ]
  },
  {
   "cell_type": "code",
   "execution_count": null,
   "id": "f18c11b3",
   "metadata": {
    "execution": {
     "iopub.execute_input": "2024-12-01T20:13:52.940925Z",
     "iopub.status.busy": "2024-12-01T20:13:52.940576Z",
     "iopub.status.idle": "2024-12-01T20:16:41.561377Z",
     "shell.execute_reply": "2024-12-01T20:16:41.560432Z",
     "shell.execute_reply.started": "2024-12-01T20:13:52.940893Z"
    },
    "trusted": true
   },
   "outputs": [
    {
     "name": "stdout",
     "output_type": "stream",
     "text": [
      "model score:  -0.06714449369575992     \n"
     ]
    }
   ],
   "source": [
    "# display information regarding the regression\n",
    "\n",
    "print(\"model score: \", model.score(X, Y), \"    \")\n",
    "\n",
    "# print(\"model coefficient: \", model.coef_)\n",
    "\n",
    "# print(\"model intercept: \", model.intercept_)\n"
   ]
  },
  {
   "cell_type": "code",
   "execution_count": null,
   "id": "e9c93967",
   "metadata": {
    "execution": {
     "iopub.execute_input": "2024-12-01T20:16:41.562767Z",
     "iopub.status.busy": "2024-12-01T20:16:41.562419Z",
     "iopub.status.idle": "2024-12-01T20:28:46.515229Z",
     "shell.execute_reply": "2024-12-01T20:28:46.513815Z",
     "shell.execute_reply.started": "2024-12-01T20:16:41.562731Z"
    },
    "papermill": {
     "duration": 774.78282,
     "end_time": "2024-11-07T21:46:13.986713",
     "exception": false,
     "start_time": "2024-11-07T21:33:19.203893",
     "status": "completed"
    },
    "tags": [],
    "trusted": true
   },
   "outputs": [
    {
     "name": "stdout",
     "output_type": "stream",
     "text": [
      "[9892431.9540396  9624468.05886041 4749833.23183701 ... 3480000.\n",
      " 3480000.         3480000.        ]\n"
     ]
    }
   ],
   "source": [
    "test_prediction = model.predict(test_data)\n",
    "\n",
    "\n",
    "\n",
    "# test_prediction=test_prediction[:, 1]\n",
    "\n",
    "\n",
    "\n",
    "print(test_prediction)\n"
   ]
  },
  {
   "cell_type": "markdown",
   "id": "98c8bfcf",
   "metadata": {
    "papermill": {
     "duration": 0.02242,
     "end_time": "2024-11-07T21:46:14.032429",
     "exception": false,
     "start_time": "2024-11-07T21:46:14.010009",
     "status": "completed"
    },
    "tags": []
   },
   "source": [
    "## write into csv\n",
    "\n",
    "now we write the predictions into the csv file"
   ]
  },
  {
   "cell_type": "code",
   "execution_count": null,
   "id": "e0573bfc",
   "metadata": {
    "execution": {
     "iopub.execute_input": "2024-12-01T20:28:46.517391Z",
     "iopub.status.busy": "2024-12-01T20:28:46.517003Z",
     "iopub.status.idle": "2024-12-01T20:28:46.862572Z",
     "shell.execute_reply": "2024-12-01T20:28:46.861348Z",
     "shell.execute_reply.started": "2024-12-01T20:28:46.517355Z"
    },
    "papermill": {
     "duration": 0.455346,
     "end_time": "2024-11-07T21:46:14.510398",
     "exception": false,
     "start_time": "2024-11-07T21:46:14.055052",
     "status": "completed"
    },
    "tags": [],
    "trusted": true
   },
   "outputs": [
    {
     "data": {
      "text/html": [
       "<div>\n",
       "<style scoped>\n",
       "    .dataframe tbody tr th:only-of-type {\n",
       "        vertical-align: middle;\n",
       "    }\n",
       "\n",
       "    .dataframe tbody tr th {\n",
       "        vertical-align: top;\n",
       "    }\n",
       "\n",
       "    .dataframe thead th {\n",
       "        text-align: right;\n",
       "    }\n",
       "</style>\n",
       "<table border=\"1\" class=\"dataframe\">\n",
       "  <thead>\n",
       "    <tr style=\"text-align: right;\">\n",
       "      <th></th>\n",
       "      <th>row ID</th>\n",
       "      <th>price_doc</th>\n",
       "    </tr>\n",
       "  </thead>\n",
       "  <tbody>\n",
       "    <tr>\n",
       "      <th>0</th>\n",
       "      <td>Row3</td>\n",
       "      <td>9.892432e+06</td>\n",
       "    </tr>\n",
       "    <tr>\n",
       "      <th>1</th>\n",
       "      <td>Row6</td>\n",
       "      <td>9.624468e+06</td>\n",
       "    </tr>\n",
       "    <tr>\n",
       "      <th>2</th>\n",
       "      <td>Row11</td>\n",
       "      <td>4.749833e+06</td>\n",
       "    </tr>\n",
       "    <tr>\n",
       "      <th>3</th>\n",
       "      <td>Row12</td>\n",
       "      <td>9.145661e+06</td>\n",
       "    </tr>\n",
       "    <tr>\n",
       "      <th>4</th>\n",
       "      <td>Row14</td>\n",
       "      <td>6.273990e+06</td>\n",
       "    </tr>\n",
       "    <tr>\n",
       "      <th>...</th>\n",
       "      <td>...</td>\n",
       "      <td>...</td>\n",
       "    </tr>\n",
       "    <tr>\n",
       "      <th>77784</th>\n",
       "      <td>Row18591dupl_228801</td>\n",
       "      <td>5.457536e+06</td>\n",
       "    </tr>\n",
       "    <tr>\n",
       "      <th>77785</th>\n",
       "      <td>Row18591dupl_228803</td>\n",
       "      <td>7.390169e+06</td>\n",
       "    </tr>\n",
       "    <tr>\n",
       "      <th>77786</th>\n",
       "      <td>Row18591dupl_228814</td>\n",
       "      <td>3.480000e+06</td>\n",
       "    </tr>\n",
       "    <tr>\n",
       "      <th>77787</th>\n",
       "      <td>Row18591dupl_228817</td>\n",
       "      <td>3.480000e+06</td>\n",
       "    </tr>\n",
       "    <tr>\n",
       "      <th>77788</th>\n",
       "      <td>Row18591dupl_228821</td>\n",
       "      <td>3.480000e+06</td>\n",
       "    </tr>\n",
       "  </tbody>\n",
       "</table>\n",
       "<p>77789 rows × 2 columns</p>\n",
       "</div>"
      ],
      "text/plain": [
       "                    row ID     price_doc\n",
       "0                     Row3  9.892432e+06\n",
       "1                     Row6  9.624468e+06\n",
       "2                    Row11  4.749833e+06\n",
       "3                    Row12  9.145661e+06\n",
       "4                    Row14  6.273990e+06\n",
       "...                    ...           ...\n",
       "77784  Row18591dupl_228801  5.457536e+06\n",
       "77785  Row18591dupl_228803  7.390169e+06\n",
       "77786  Row18591dupl_228814  3.480000e+06\n",
       "77787  Row18591dupl_228817  3.480000e+06\n",
       "77788  Row18591dupl_228821  3.480000e+06\n",
       "\n",
       "[77789 rows x 2 columns]"
      ]
     },
     "execution_count": 50,
     "metadata": {},
     "output_type": "execute_result"
    }
   ],
   "source": [
    "# sample_data = pd.read_csv(r\"D:\\Users\\DELL\\OneDrive - Institute of Business Administration\\IBA\\sem5\\machine learning\\ipynb notebooks\\challenger2\\iml-fall-2024-challenge-2\\sample_submission.csv\")\n",
    "\n",
    "sample_data = pd.read_csv(r\"/kaggle/input/challenge2/sample_submission.csv\")\n",
    "\n",
    "sample_data['price_doc'] = test_prediction\n",
    "\n",
    "sample_data\n",
    "\n",
    "\n",
    "\n",
    "# sample_data.to_csv(r\"D:\\Users\\DELL\\OneDrive - Institute of Business Administration\\IBA\\sem5\\machine learning\\ipynb notebooks\\challenger2\\iml-fall-2024-challenge-2\\polyLinear1.csv\", index=False)\n",
    "\n",
    "sample_data.to_csv(r\"/kaggle/working/polyReg.csv\")\n",
    "\n",
    "sample_data\n"
   ]
  },
  {
   "cell_type": "raw",
   "id": "845a263d-2915-4afb-bf0c-7fa208245ccc",
   "metadata": {
    "papermill": {
     "duration": 0.053693,
     "end_time": "2024-11-07T21:46:14.588137",
     "exception": false,
     "start_time": "2024-11-07T21:46:14.534444",
     "status": "completed"
    },
    "tags": [],
    "vscode": {
     "languageId": "raw"
    }
   },
   "source": [
    "model\n"
   ]
  }
 ],
 "metadata": {
  "kaggle": {
   "accelerator": "none",
   "dataSources": [
    {
     "datasetId": 6034234,
     "sourceId": 9837068,
     "sourceType": "datasetVersion"
    },
    {
     "datasetId": 6034286,
     "sourceId": 9837128,
     "sourceType": "datasetVersion"
    },
    {
     "datasetId": 6164648,
     "sourceId": 10013045,
     "sourceType": "datasetVersion"
    }
   ],
   "dockerImageVersionId": 30786,
   "isGpuEnabled": false,
   "isInternetEnabled": true,
   "language": "python",
   "sourceType": "notebook"
  },
  "kernelspec": {
   "display_name": "Python 3",
   "language": "python",
   "name": "python3"
  },
  "language_info": {
   "codemirror_mode": {
    "name": "ipython",
    "version": 3
   },
   "file_extension": ".py",
   "mimetype": "text/x-python",
   "name": "python",
   "nbconvert_exporter": "python",
   "pygments_lexer": "ipython3",
   "version": "3.12.7"
  },
  "papermill": {
   "default_parameters": {},
   "duration": 5193.546342,
   "end_time": "2024-11-07T21:46:17.332142",
   "environment_variables": {},
   "exception": null,
   "input_path": "__notebook__.ipynb",
   "output_path": "__notebook__.ipynb",
   "parameters": {},
   "start_time": "2024-11-07T20:19:43.785800",
   "version": "2.6.0"
  }
 },
 "nbformat": 4,
 "nbformat_minor": 5
}
